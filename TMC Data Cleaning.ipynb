{
 "cells": [
  {
   "cell_type": "markdown",
   "metadata": {},
   "source": [
    "# Analysis of Transaction Log presented to us by The Math Company"
   ]
  },
  {
   "cell_type": "code",
   "execution_count": 1,
   "metadata": {},
   "outputs": [],
   "source": [
    "import pandas as pd\n",
    "import seaborn as sn\n",
    "import pandas_profiling as pp\n",
    "import numpy as np"
   ]
  },
  {
   "cell_type": "code",
   "execution_count": 2,
   "metadata": {},
   "outputs": [],
   "source": [
    "product = pd.read_csv(\"product_dataset.csv\")\n",
    "transact = pd.read_csv(\"transaction_dataset.csv\")\n",
    "store = pd.read_csv(\"store_dataset.csv\")"
   ]
  },
  {
   "cell_type": "code",
   "execution_count": 3,
   "metadata": {},
   "outputs": [],
   "source": [
    "pp.ProfileReport(product).to_file(outputfile=\"./product_profile.html\")\n",
    "pp.ProfileReport(store).to_file(outputfile=\"./store_profile.html\")\n",
    "pp.ProfileReport(transact).to_file(outputfile=\"./transact_profile.html\")"
   ]
  },
  {
   "cell_type": "markdown",
   "metadata": {},
   "source": [
    "### Clean product data"
   ]
  },
  {
   "cell_type": "markdown",
   "metadata": {},
   "source": [
    "#### Based on the product data set profile we identify several features which can be cleaned\n",
    "-  Missing values in DBSKU, 7.2% or 2110, these need to be removed.\n",
    "-  duplicated department/department name columns\n",
    "-  duplicated class/class name columnss\n",
    "-  class value of 99/class name of 6 which seems to be a test class"
   ]
  },
  {
   "cell_type": "code",
   "execution_count": 18,
   "metadata": {},
   "outputs": [
    {
     "data": {
      "text/plain": [
       "DBSKU              24292\n",
       "DEPARTMENT             2\n",
       "CLASS                  6\n",
       "SUBCLASS              15\n",
       "DEPARTMENT_NAME        2\n",
       "CLASS_NAME             6\n",
       "SUBCLASS_NAME          8\n",
       "dtype: int64"
      ]
     },
     "execution_count": 18,
     "metadata": {},
     "output_type": "execute_result"
    }
   ],
   "source": [
    "product.nunique()"
   ]
  },
  {
   "cell_type": "code",
   "execution_count": 19,
   "metadata": {},
   "outputs": [
    {
     "data": {
      "text/plain": [
       "(29342, 7)"
      ]
     },
     "execution_count": 19,
     "metadata": {},
     "output_type": "execute_result"
    }
   ],
   "source": [
    "product.shape"
   ]
  },
  {
   "cell_type": "code",
   "execution_count": 20,
   "metadata": {},
   "outputs": [],
   "source": [
    "#remove blanks\n",
    "product1= product.dropna()\n",
    "\n",
    "#drop redundant department name, class name\n",
    "product1 =product1.drop([\"DEPARTMENT_NAME\",\"CLASS_NAME\"], axis=1)"
   ]
  },
  {
   "cell_type": "code",
   "execution_count": 21,
   "metadata": {},
   "outputs": [
    {
     "data": {
      "text/plain": [
       "DBSKU            24292\n",
       "DEPARTMENT           2\n",
       "CLASS                6\n",
       "SUBCLASS            15\n",
       "SUBCLASS_NAME        8\n",
       "dtype: int64"
      ]
     },
     "execution_count": 21,
     "metadata": {},
     "output_type": "execute_result"
    }
   ],
   "source": [
    "product1.nunique()"
   ]
  },
  {
   "cell_type": "code",
   "execution_count": 22,
   "metadata": {},
   "outputs": [
    {
     "data": {
      "text/plain": [
       "(27232, 5)"
      ]
     },
     "execution_count": 22,
     "metadata": {},
     "output_type": "execute_result"
    }
   ],
   "source": [
    "product1.shape"
   ]
  },
  {
   "cell_type": "code",
   "execution_count": 23,
   "metadata": {},
   "outputs": [
    {
     "data": {
      "text/html": [
       "<div>\n",
       "<style scoped>\n",
       "    .dataframe tbody tr th:only-of-type {\n",
       "        vertical-align: middle;\n",
       "    }\n",
       "\n",
       "    .dataframe tbody tr th {\n",
       "        vertical-align: top;\n",
       "    }\n",
       "\n",
       "    .dataframe thead th {\n",
       "        text-align: right;\n",
       "    }\n",
       "</style>\n",
       "<table border=\"1\" class=\"dataframe\">\n",
       "  <thead>\n",
       "    <tr style=\"text-align: right;\">\n",
       "      <th></th>\n",
       "      <th>DBSKU</th>\n",
       "      <th>DEPARTMENT</th>\n",
       "      <th>CLASS</th>\n",
       "      <th>SUBCLASS</th>\n",
       "      <th>SUBCLASS_NAME</th>\n",
       "    </tr>\n",
       "  </thead>\n",
       "  <tbody>\n",
       "    <tr>\n",
       "      <th>0</th>\n",
       "      <td>2182204.0</td>\n",
       "      <td>12</td>\n",
       "      <td>3</td>\n",
       "      <td>32</td>\n",
       "      <td>1</td>\n",
       "    </tr>\n",
       "    <tr>\n",
       "      <th>1</th>\n",
       "      <td>2860882.0</td>\n",
       "      <td>12</td>\n",
       "      <td>3</td>\n",
       "      <td>31</td>\n",
       "      <td>2</td>\n",
       "    </tr>\n",
       "    <tr>\n",
       "      <th>2</th>\n",
       "      <td>2695858.0</td>\n",
       "      <td>12</td>\n",
       "      <td>5</td>\n",
       "      <td>50</td>\n",
       "      <td>3</td>\n",
       "    </tr>\n",
       "    <tr>\n",
       "      <th>3</th>\n",
       "      <td>675793.0</td>\n",
       "      <td>10</td>\n",
       "      <td>4</td>\n",
       "      <td>41</td>\n",
       "      <td>2</td>\n",
       "    </tr>\n",
       "    <tr>\n",
       "      <th>4</th>\n",
       "      <td>2864173.0</td>\n",
       "      <td>12</td>\n",
       "      <td>4</td>\n",
       "      <td>40</td>\n",
       "      <td>4</td>\n",
       "    </tr>\n",
       "  </tbody>\n",
       "</table>\n",
       "</div>"
      ],
      "text/plain": [
       "       DBSKU  DEPARTMENT  CLASS  SUBCLASS  SUBCLASS_NAME\n",
       "0  2182204.0          12      3        32              1\n",
       "1  2860882.0          12      3        31              2\n",
       "2  2695858.0          12      5        50              3\n",
       "3   675793.0          10      4        41              2\n",
       "4  2864173.0          12      4        40              4"
      ]
     },
     "execution_count": 23,
     "metadata": {},
     "output_type": "execute_result"
    }
   ],
   "source": [
    "product1.head()"
   ]
  },
  {
   "cell_type": "markdown",
   "metadata": {},
   "source": [
    "#### We can drop class 99, seeing that this is specified as a test case.\n",
    "#### We will also introduce a new department and subclass concatenation, based on the pattern we see in subclass de-anonymizing methods."
   ]
  },
  {
   "cell_type": "code",
   "execution_count": 24,
   "metadata": {},
   "outputs": [],
   "source": [
    "product1=product1[product1.CLASS!=99]"
   ]
  },
  {
   "cell_type": "code",
   "execution_count": 25,
   "metadata": {},
   "outputs": [
    {
     "data": {
      "text/plain": [
       "DBSKU            24284\n",
       "DEPARTMENT           2\n",
       "CLASS                5\n",
       "SUBCLASS            14\n",
       "SUBCLASS_NAME        7\n",
       "dtype: int64"
      ]
     },
     "execution_count": 25,
     "metadata": {},
     "output_type": "execute_result"
    }
   ],
   "source": [
    "product1.nunique()"
   ]
  },
  {
   "cell_type": "code",
   "execution_count": 26,
   "metadata": {},
   "outputs": [
    {
     "data": {
      "text/plain": [
       "(27224, 5)"
      ]
     },
     "execution_count": 26,
     "metadata": {},
     "output_type": "execute_result"
    }
   ],
   "source": [
    "product1.shape"
   ]
  },
  {
   "cell_type": "code",
   "execution_count": 28,
   "metadata": {},
   "outputs": [],
   "source": [
    "product1['DSUBCLASS']=product1['DEPARTMENT'].astype(str)+product1['SUBCLASS'].astype(str)"
   ]
  },
  {
   "cell_type": "code",
   "execution_count": 29,
   "metadata": {},
   "outputs": [
    {
     "data": {
      "text/html": [
       "<div>\n",
       "<style scoped>\n",
       "    .dataframe tbody tr th:only-of-type {\n",
       "        vertical-align: middle;\n",
       "    }\n",
       "\n",
       "    .dataframe tbody tr th {\n",
       "        vertical-align: top;\n",
       "    }\n",
       "\n",
       "    .dataframe thead th {\n",
       "        text-align: right;\n",
       "    }\n",
       "</style>\n",
       "<table border=\"1\" class=\"dataframe\">\n",
       "  <thead>\n",
       "    <tr style=\"text-align: right;\">\n",
       "      <th></th>\n",
       "      <th>DBSKU</th>\n",
       "      <th>DEPARTMENT</th>\n",
       "      <th>CLASS</th>\n",
       "      <th>SUBCLASS</th>\n",
       "      <th>SUBCLASS_NAME</th>\n",
       "      <th>DSUBCLASS</th>\n",
       "    </tr>\n",
       "  </thead>\n",
       "  <tbody>\n",
       "    <tr>\n",
       "      <th>0</th>\n",
       "      <td>2182204.0</td>\n",
       "      <td>12</td>\n",
       "      <td>3</td>\n",
       "      <td>32</td>\n",
       "      <td>1</td>\n",
       "      <td>1232</td>\n",
       "    </tr>\n",
       "    <tr>\n",
       "      <th>1</th>\n",
       "      <td>2860882.0</td>\n",
       "      <td>12</td>\n",
       "      <td>3</td>\n",
       "      <td>31</td>\n",
       "      <td>2</td>\n",
       "      <td>1231</td>\n",
       "    </tr>\n",
       "    <tr>\n",
       "      <th>2</th>\n",
       "      <td>2695858.0</td>\n",
       "      <td>12</td>\n",
       "      <td>5</td>\n",
       "      <td>50</td>\n",
       "      <td>3</td>\n",
       "      <td>1250</td>\n",
       "    </tr>\n",
       "    <tr>\n",
       "      <th>3</th>\n",
       "      <td>675793.0</td>\n",
       "      <td>10</td>\n",
       "      <td>4</td>\n",
       "      <td>41</td>\n",
       "      <td>2</td>\n",
       "      <td>1041</td>\n",
       "    </tr>\n",
       "    <tr>\n",
       "      <th>4</th>\n",
       "      <td>2864173.0</td>\n",
       "      <td>12</td>\n",
       "      <td>4</td>\n",
       "      <td>40</td>\n",
       "      <td>4</td>\n",
       "      <td>1240</td>\n",
       "    </tr>\n",
       "  </tbody>\n",
       "</table>\n",
       "</div>"
      ],
      "text/plain": [
       "       DBSKU  DEPARTMENT  CLASS  SUBCLASS  SUBCLASS_NAME DSUBCLASS\n",
       "0  2182204.0          12      3        32              1      1232\n",
       "1  2860882.0          12      3        31              2      1231\n",
       "2  2695858.0          12      5        50              3      1250\n",
       "3   675793.0          10      4        41              2      1041\n",
       "4  2864173.0          12      4        40              4      1240"
      ]
     },
     "execution_count": 29,
     "metadata": {},
     "output_type": "execute_result"
    }
   ],
   "source": [
    "product1.head()"
   ]
  },
  {
   "cell_type": "markdown",
   "metadata": {},
   "source": [
    "#### We also have to remove duplicate SKUs, take DBSKU=818336 for example."
   ]
  },
  {
   "cell_type": "code",
   "execution_count": 30,
   "metadata": {},
   "outputs": [
    {
     "data": {
      "text/html": [
       "<div>\n",
       "<style scoped>\n",
       "    .dataframe tbody tr th:only-of-type {\n",
       "        vertical-align: middle;\n",
       "    }\n",
       "\n",
       "    .dataframe tbody tr th {\n",
       "        vertical-align: top;\n",
       "    }\n",
       "\n",
       "    .dataframe thead th {\n",
       "        text-align: right;\n",
       "    }\n",
       "</style>\n",
       "<table border=\"1\" class=\"dataframe\">\n",
       "  <thead>\n",
       "    <tr style=\"text-align: right;\">\n",
       "      <th></th>\n",
       "      <th>DBSKU</th>\n",
       "      <th>DEPARTMENT</th>\n",
       "      <th>CLASS</th>\n",
       "      <th>SUBCLASS</th>\n",
       "      <th>SUBCLASS_NAME</th>\n",
       "      <th>DSUBCLASS</th>\n",
       "    </tr>\n",
       "  </thead>\n",
       "  <tbody>\n",
       "    <tr>\n",
       "      <th>7023</th>\n",
       "      <td>818336.0</td>\n",
       "      <td>10</td>\n",
       "      <td>2</td>\n",
       "      <td>21</td>\n",
       "      <td>2</td>\n",
       "      <td>1021</td>\n",
       "    </tr>\n",
       "    <tr>\n",
       "      <th>7089</th>\n",
       "      <td>818336.0</td>\n",
       "      <td>10</td>\n",
       "      <td>2</td>\n",
       "      <td>21</td>\n",
       "      <td>2</td>\n",
       "      <td>1021</td>\n",
       "    </tr>\n",
       "    <tr>\n",
       "      <th>9618</th>\n",
       "      <td>818336.0</td>\n",
       "      <td>10</td>\n",
       "      <td>2</td>\n",
       "      <td>21</td>\n",
       "      <td>2</td>\n",
       "      <td>1021</td>\n",
       "    </tr>\n",
       "    <tr>\n",
       "      <th>12549</th>\n",
       "      <td>818336.0</td>\n",
       "      <td>10</td>\n",
       "      <td>2</td>\n",
       "      <td>21</td>\n",
       "      <td>2</td>\n",
       "      <td>1021</td>\n",
       "    </tr>\n",
       "    <tr>\n",
       "      <th>18439</th>\n",
       "      <td>818336.0</td>\n",
       "      <td>10</td>\n",
       "      <td>2</td>\n",
       "      <td>21</td>\n",
       "      <td>2</td>\n",
       "      <td>1021</td>\n",
       "    </tr>\n",
       "    <tr>\n",
       "      <th>19657</th>\n",
       "      <td>818336.0</td>\n",
       "      <td>10</td>\n",
       "      <td>2</td>\n",
       "      <td>21</td>\n",
       "      <td>2</td>\n",
       "      <td>1021</td>\n",
       "    </tr>\n",
       "    <tr>\n",
       "      <th>23658</th>\n",
       "      <td>818336.0</td>\n",
       "      <td>10</td>\n",
       "      <td>2</td>\n",
       "      <td>21</td>\n",
       "      <td>2</td>\n",
       "      <td>1021</td>\n",
       "    </tr>\n",
       "    <tr>\n",
       "      <th>28733</th>\n",
       "      <td>818336.0</td>\n",
       "      <td>10</td>\n",
       "      <td>2</td>\n",
       "      <td>21</td>\n",
       "      <td>2</td>\n",
       "      <td>1021</td>\n",
       "    </tr>\n",
       "  </tbody>\n",
       "</table>\n",
       "</div>"
      ],
      "text/plain": [
       "          DBSKU  DEPARTMENT  CLASS  SUBCLASS  SUBCLASS_NAME DSUBCLASS\n",
       "7023   818336.0          10      2        21              2      1021\n",
       "7089   818336.0          10      2        21              2      1021\n",
       "9618   818336.0          10      2        21              2      1021\n",
       "12549  818336.0          10      2        21              2      1021\n",
       "18439  818336.0          10      2        21              2      1021\n",
       "19657  818336.0          10      2        21              2      1021\n",
       "23658  818336.0          10      2        21              2      1021\n",
       "28733  818336.0          10      2        21              2      1021"
      ]
     },
     "execution_count": 30,
     "metadata": {},
     "output_type": "execute_result"
    }
   ],
   "source": [
    "product1[product1['DBSKU']==818336.0]"
   ]
  },
  {
   "cell_type": "code",
   "execution_count": 31,
   "metadata": {},
   "outputs": [
    {
     "data": {
      "text/plain": [
       "(27224, 6)"
      ]
     },
     "execution_count": 31,
     "metadata": {},
     "output_type": "execute_result"
    }
   ],
   "source": [
    "product1.shape"
   ]
  },
  {
   "cell_type": "code",
   "execution_count": 32,
   "metadata": {},
   "outputs": [],
   "source": [
    "product1=product1.drop_duplicates()"
   ]
  },
  {
   "cell_type": "code",
   "execution_count": 33,
   "metadata": {},
   "outputs": [
    {
     "data": {
      "text/plain": [
       "(24284, 6)"
      ]
     },
     "execution_count": 33,
     "metadata": {},
     "output_type": "execute_result"
    }
   ],
   "source": [
    "product1.shape"
   ]
  },
  {
   "cell_type": "code",
   "execution_count": 34,
   "metadata": {},
   "outputs": [
    {
     "data": {
      "text/plain": [
       "DBSKU            24284\n",
       "DEPARTMENT           2\n",
       "CLASS                5\n",
       "SUBCLASS            14\n",
       "SUBCLASS_NAME        7\n",
       "DSUBCLASS           27\n",
       "dtype: int64"
      ]
     },
     "execution_count": 34,
     "metadata": {},
     "output_type": "execute_result"
    }
   ],
   "source": [
    "product1.nunique()"
   ]
  },
  {
   "cell_type": "code",
   "execution_count": 35,
   "metadata": {},
   "outputs": [],
   "source": [
    "pp.ProfileReport(product1).to_file(outputfile=\"./cleaned_product_profile.html\")"
   ]
  },
  {
   "cell_type": "markdown",
   "metadata": {},
   "source": [
    "### Clean Store Data"
   ]
  },
  {
   "cell_type": "code",
   "execution_count": 10,
   "metadata": {},
   "outputs": [
    {
     "data": {
      "text/plain": [
       "(1303, 6)"
      ]
     },
     "execution_count": 10,
     "metadata": {},
     "output_type": "execute_result"
    }
   ],
   "source": [
    "store.shape"
   ]
  },
  {
   "cell_type": "code",
   "execution_count": null,
   "metadata": {},
   "outputs": [],
   "source": [
    "store.nunique()"
   ]
  },
  {
   "cell_type": "markdown",
   "metadata": {},
   "source": [
    "#### Drop missing store types(n=33) and missing store size  (n=184)"
   ]
  },
  {
   "cell_type": "code",
   "execution_count": 36,
   "metadata": {},
   "outputs": [
    {
     "data": {
      "text/plain": [
       "(1303, 6)"
      ]
     },
     "execution_count": 36,
     "metadata": {},
     "output_type": "execute_result"
    }
   ],
   "source": [
    "store.shape"
   ]
  },
  {
   "cell_type": "code",
   "execution_count": 38,
   "metadata": {},
   "outputs": [
    {
     "data": {
      "text/plain": [
       "LOC_IDNT      1303\n",
       "CITY           926\n",
       "STATE           50\n",
       "STORE_TYPE      14\n",
       "POSTAL_CD      983\n",
       "STORE_SIZE     829\n",
       "dtype: int64"
      ]
     },
     "execution_count": 38,
     "metadata": {},
     "output_type": "execute_result"
    }
   ],
   "source": [
    "store.nunique()"
   ]
  },
  {
   "cell_type": "markdown",
   "metadata": {},
   "source": [
    "#### From our profile we see that\n",
    "-  STORE_SIZE has missing = 14.1%, n=184\n",
    "-  STORE_TYPE has missing = 2.5%, n=33 \n",
    "\n",
    "which we remove with dropna()"
   ]
  },
  {
   "cell_type": "code",
   "execution_count": 41,
   "metadata": {},
   "outputs": [],
   "source": [
    "store1=store.dropna()"
   ]
  },
  {
   "cell_type": "code",
   "execution_count": 42,
   "metadata": {},
   "outputs": [
    {
     "data": {
      "text/plain": [
       "(1118, 6)"
      ]
     },
     "execution_count": 42,
     "metadata": {},
     "output_type": "execute_result"
    }
   ],
   "source": [
    "store1.shape"
   ]
  },
  {
   "cell_type": "code",
   "execution_count": 43,
   "metadata": {},
   "outputs": [
    {
     "data": {
      "text/html": [
       "<div>\n",
       "<style scoped>\n",
       "    .dataframe tbody tr th:only-of-type {\n",
       "        vertical-align: middle;\n",
       "    }\n",
       "\n",
       "    .dataframe tbody tr th {\n",
       "        vertical-align: top;\n",
       "    }\n",
       "\n",
       "    .dataframe thead th {\n",
       "        text-align: right;\n",
       "    }\n",
       "</style>\n",
       "<table border=\"1\" class=\"dataframe\">\n",
       "  <thead>\n",
       "    <tr style=\"text-align: right;\">\n",
       "      <th></th>\n",
       "      <th>LOC_IDNT</th>\n",
       "      <th>CITY</th>\n",
       "      <th>STATE</th>\n",
       "      <th>STORE_TYPE</th>\n",
       "      <th>POSTAL_CD</th>\n",
       "      <th>STORE_SIZE</th>\n",
       "    </tr>\n",
       "  </thead>\n",
       "  <tbody>\n",
       "    <tr>\n",
       "      <th>0</th>\n",
       "      <td>249</td>\n",
       "      <td>ST LOUIS</td>\n",
       "      <td>MO</td>\n",
       "      <td>Strip Store</td>\n",
       "      <td>63119</td>\n",
       "      <td>3963.0</td>\n",
       "    </tr>\n",
       "    <tr>\n",
       "      <th>1</th>\n",
       "      <td>401</td>\n",
       "      <td>PATCHOGUE</td>\n",
       "      <td>NY</td>\n",
       "      <td>Power Strip</td>\n",
       "      <td>11772</td>\n",
       "      <td>3378.0</td>\n",
       "    </tr>\n",
       "    <tr>\n",
       "      <th>2</th>\n",
       "      <td>644</td>\n",
       "      <td>NAPLES</td>\n",
       "      <td>FL</td>\n",
       "      <td>Outlet Strip</td>\n",
       "      <td>34114</td>\n",
       "      <td>3652.0</td>\n",
       "    </tr>\n",
       "    <tr>\n",
       "      <th>4</th>\n",
       "      <td>1270</td>\n",
       "      <td>CONCORD</td>\n",
       "      <td>NH</td>\n",
       "      <td>Regional Mall</td>\n",
       "      <td>3301</td>\n",
       "      <td>2535.0</td>\n",
       "    </tr>\n",
       "    <tr>\n",
       "      <th>6</th>\n",
       "      <td>403</td>\n",
       "      <td>BELLPORT</td>\n",
       "      <td>NY</td>\n",
       "      <td>Outlet Strip</td>\n",
       "      <td>11713</td>\n",
       "      <td>3068.0</td>\n",
       "    </tr>\n",
       "  </tbody>\n",
       "</table>\n",
       "</div>"
      ],
      "text/plain": [
       "   LOC_IDNT             CITY STATE     STORE_TYPE  POSTAL_CD  STORE_SIZE\n",
       "0       249  ST LOUIS           MO    Strip Store      63119      3963.0\n",
       "1       401  PATCHOGUE          NY    Power Strip      11772      3378.0\n",
       "2       644           NAPLES    FL   Outlet Strip      34114      3652.0\n",
       "4      1270          CONCORD    NH  Regional Mall       3301      2535.0\n",
       "6       403  BELLPORT           NY   Outlet Strip      11713      3068.0"
      ]
     },
     "execution_count": 43,
     "metadata": {},
     "output_type": "execute_result"
    }
   ],
   "source": [
    "store1.head()"
   ]
  },
  {
   "cell_type": "markdown",
   "metadata": {},
   "source": [
    "#### Of interest from the profile, we see that there are stores with size 1, which can be excluded based on TMC input\n",
    " Also of interest, is the significant number of different types of stores, in a singular ZIP CODE: Suffern New York, we are not sure why this is, but this may be test data which could be dropped when a join is made with the transaction log"
   ]
  },
  {
   "cell_type": "code",
   "execution_count": 74,
   "metadata": {},
   "outputs": [
    {
     "data": {
      "text/plain": [
       "(40, 6)"
      ]
     },
     "execution_count": 74,
     "metadata": {},
     "output_type": "execute_result"
    }
   ],
   "source": [
    "store1[store1['CITY'].str.match(\"SUFFERN\")].shape"
   ]
  },
  {
   "cell_type": "code",
   "execution_count": 75,
   "metadata": {},
   "outputs": [
    {
     "data": {
      "text/html": [
       "<div>\n",
       "<style scoped>\n",
       "    .dataframe tbody tr th:only-of-type {\n",
       "        vertical-align: middle;\n",
       "    }\n",
       "\n",
       "    .dataframe tbody tr th {\n",
       "        vertical-align: top;\n",
       "    }\n",
       "\n",
       "    .dataframe thead th {\n",
       "        text-align: right;\n",
       "    }\n",
       "</style>\n",
       "<table border=\"1\" class=\"dataframe\">\n",
       "  <thead>\n",
       "    <tr style=\"text-align: right;\">\n",
       "      <th></th>\n",
       "      <th>LOC_IDNT</th>\n",
       "      <th>CITY</th>\n",
       "      <th>STATE</th>\n",
       "      <th>STORE_TYPE</th>\n",
       "      <th>POSTAL_CD</th>\n",
       "      <th>STORE_SIZE</th>\n",
       "    </tr>\n",
       "  </thead>\n",
       "  <tbody>\n",
       "    <tr>\n",
       "      <th>437</th>\n",
       "      <td>2870</td>\n",
       "      <td>PARSIPPANY</td>\n",
       "      <td>NJ</td>\n",
       "      <td>Strip Store</td>\n",
       "      <td>7054</td>\n",
       "      <td>1.0</td>\n",
       "    </tr>\n",
       "    <tr>\n",
       "      <th>454</th>\n",
       "      <td>2885</td>\n",
       "      <td>FORT WASHINGTON</td>\n",
       "      <td>MD</td>\n",
       "      <td>Mini Mall</td>\n",
       "      <td>20744</td>\n",
       "      <td>1.0</td>\n",
       "    </tr>\n",
       "    <tr>\n",
       "      <th>493</th>\n",
       "      <td>2865</td>\n",
       "      <td>BALA CYNWYD</td>\n",
       "      <td>PA</td>\n",
       "      <td>Strip Store</td>\n",
       "      <td>19004</td>\n",
       "      <td>1.0</td>\n",
       "    </tr>\n",
       "    <tr>\n",
       "      <th>526</th>\n",
       "      <td>2906</td>\n",
       "      <td>TROUTDALE</td>\n",
       "      <td>OR</td>\n",
       "      <td>Outlet Strip</td>\n",
       "      <td>97060</td>\n",
       "      <td>1.0</td>\n",
       "    </tr>\n",
       "    <tr>\n",
       "      <th>543</th>\n",
       "      <td>2942</td>\n",
       "      <td>WASHINGTON</td>\n",
       "      <td>DC</td>\n",
       "      <td>Downtown Store</td>\n",
       "      <td>20006</td>\n",
       "      <td>1.0</td>\n",
       "    </tr>\n",
       "  </tbody>\n",
       "</table>\n",
       "</div>"
      ],
      "text/plain": [
       "     LOC_IDNT             CITY STATE      STORE_TYPE  POSTAL_CD  STORE_SIZE\n",
       "437      2870  PARSIPPANY         NJ     Strip Store       7054         1.0\n",
       "454      2885  FORT WASHINGTON    MD       Mini Mall      20744         1.0\n",
       "493      2865  BALA CYNWYD        PA     Strip Store      19004         1.0\n",
       "526      2906  TROUTDALE          OR    Outlet Strip      97060         1.0\n",
       "543      2942       WASHINGTON    DC  Downtown Store      20006         1.0"
      ]
     },
     "execution_count": 75,
     "metadata": {},
     "output_type": "execute_result"
    }
   ],
   "source": [
    "store1[store1[\"STORE_SIZE\"]<=55].head()"
   ]
  },
  {
   "cell_type": "code",
   "execution_count": 76,
   "metadata": {},
   "outputs": [
    {
     "data": {
      "text/plain": [
       "180"
      ]
     },
     "execution_count": 76,
     "metadata": {},
     "output_type": "execute_result"
    }
   ],
   "source": [
    "store1[store1[\"STORE_SIZE\"]<=55].size"
   ]
  },
  {
   "cell_type": "code",
   "execution_count": 77,
   "metadata": {},
   "outputs": [],
   "source": [
    "store1=store1[store1['STORE_SIZE']>1]"
   ]
  },
  {
   "cell_type": "markdown",
   "metadata": {},
   "source": [
    "#### TO note, there is a single store with size = 55 sq feet"
   ]
  },
  {
   "cell_type": "code",
   "execution_count": 19,
   "metadata": {},
   "outputs": [
    {
     "data": {
      "text/html": [
       "<div>\n",
       "<style scoped>\n",
       "    .dataframe tbody tr th:only-of-type {\n",
       "        vertical-align: middle;\n",
       "    }\n",
       "\n",
       "    .dataframe tbody tr th {\n",
       "        vertical-align: top;\n",
       "    }\n",
       "\n",
       "    .dataframe thead th {\n",
       "        text-align: right;\n",
       "    }\n",
       "</style>\n",
       "<table border=\"1\" class=\"dataframe\">\n",
       "  <thead>\n",
       "    <tr style=\"text-align: right;\">\n",
       "      <th></th>\n",
       "      <th>LOC_IDNT</th>\n",
       "      <th>CITY</th>\n",
       "      <th>STATE</th>\n",
       "      <th>STORE_TYPE</th>\n",
       "      <th>POSTAL_CD</th>\n",
       "      <th>STORE_SIZE</th>\n",
       "    </tr>\n",
       "  </thead>\n",
       "  <tbody>\n",
       "    <tr>\n",
       "      <th>970</th>\n",
       "      <td>2946</td>\n",
       "      <td>CHICAGO</td>\n",
       "      <td>IL</td>\n",
       "      <td>Downtown Store</td>\n",
       "      <td>60601</td>\n",
       "      <td>55.0</td>\n",
       "    </tr>\n",
       "  </tbody>\n",
       "</table>\n",
       "</div>"
      ],
      "text/plain": [
       "     LOC_IDNT     CITY STATE      STORE_TYPE  POSTAL_CD  STORE_SIZE\n",
       "970      2946  CHICAGO    IL  Downtown Store      60601        55.0"
      ]
     },
     "execution_count": 19,
     "metadata": {},
     "output_type": "execute_result"
    }
   ],
   "source": [
    "store1[store1['STORE_SIZE']<=55]"
   ]
  },
  {
   "cell_type": "markdown",
   "metadata": {},
   "source": [
    "#### We also check to ensure that STORE_TYPE = NOT APPLICABLE, is not present"
   ]
  },
  {
   "cell_type": "code",
   "execution_count": 78,
   "metadata": {},
   "outputs": [
    {
     "data": {
      "text/plain": [
       "array(['Strip Store', 'Power Strip', 'Outlet Strip', 'Regional Mall',\n",
       "       'Mega Outlet Mall', 'Outlet Mall', 'Tourist Outlet Mall',\n",
       "       'Downtown Store', 'Tourist Outlet Strip', 'Freestanding Store',\n",
       "       'Mini Mall', 'Lifestyle Center'], dtype=object)"
      ]
     },
     "execution_count": 78,
     "metadata": {},
     "output_type": "execute_result"
    }
   ],
   "source": [
    "store1['STORE_TYPE'].unique()"
   ]
  },
  {
   "cell_type": "code",
   "execution_count": 79,
   "metadata": {},
   "outputs": [
    {
     "data": {
      "text/plain": [
       "(1089, 6)"
      ]
     },
     "execution_count": 79,
     "metadata": {},
     "output_type": "execute_result"
    }
   ],
   "source": [
    "store1.shape"
   ]
  },
  {
   "cell_type": "code",
   "execution_count": 1,
   "metadata": {
    "collapsed": true
   },
   "outputs": [
    {
     "ename": "NameError",
     "evalue": "name 'pp' is not defined",
     "output_type": "error",
     "traceback": [
      "\u001b[1;31m---------------------------------------------------------------------------\u001b[0m",
      "\u001b[1;31mNameError\u001b[0m                                 Traceback (most recent call last)",
      "\u001b[1;32m<ipython-input-1-707fc221885e>\u001b[0m in \u001b[0;36m<module>\u001b[1;34m()\u001b[0m\n\u001b[1;32m----> 1\u001b[1;33m \u001b[0mpp\u001b[0m\u001b[1;33m.\u001b[0m\u001b[0mProfileReport\u001b[0m\u001b[1;33m(\u001b[0m\u001b[0mstore1\u001b[0m\u001b[1;33m)\u001b[0m\u001b[1;33m.\u001b[0m\u001b[0mto_file\u001b[0m\u001b[1;33m(\u001b[0m\u001b[0moutputfile\u001b[0m\u001b[1;33m=\u001b[0m\u001b[1;34m\"./cleaned_store_profile.html\"\u001b[0m\u001b[1;33m)\u001b[0m\u001b[1;33m\u001b[0m\u001b[0m\n\u001b[0m",
      "\u001b[1;31mNameError\u001b[0m: name 'pp' is not defined"
     ]
    }
   ],
   "source": [
    "pp.ProfileReport(store1).to_file(outputfile=\"./cleaned_store_profile.html\")"
   ]
  },
  {
   "cell_type": "markdown",
   "metadata": {},
   "source": [
    "#### AT this point we have removed NA, not applicable stores, stores with sqft less than 55\n",
    "\n",
    "#### It is important to acknowledge that at this point, we should ensure that zip code is treated as a 5 digit string, and in cases where the length is less than 6, we must pad it with a 0. "
   ]
  },
  {
   "cell_type": "code",
   "execution_count": 81,
   "metadata": {},
   "outputs": [
    {
     "data": {
      "text/html": [
       "<div>\n",
       "<style scoped>\n",
       "    .dataframe tbody tr th:only-of-type {\n",
       "        vertical-align: middle;\n",
       "    }\n",
       "\n",
       "    .dataframe tbody tr th {\n",
       "        vertical-align: top;\n",
       "    }\n",
       "\n",
       "    .dataframe thead th {\n",
       "        text-align: right;\n",
       "    }\n",
       "</style>\n",
       "<table border=\"1\" class=\"dataframe\">\n",
       "  <thead>\n",
       "    <tr style=\"text-align: right;\">\n",
       "      <th></th>\n",
       "      <th>LOC_IDNT</th>\n",
       "      <th>CITY</th>\n",
       "      <th>STATE</th>\n",
       "      <th>STORE_TYPE</th>\n",
       "      <th>POSTAL_CD</th>\n",
       "      <th>STORE_SIZE</th>\n",
       "    </tr>\n",
       "  </thead>\n",
       "  <tbody>\n",
       "    <tr>\n",
       "      <th>4</th>\n",
       "      <td>1270</td>\n",
       "      <td>CONCORD</td>\n",
       "      <td>NH</td>\n",
       "      <td>Regional Mall</td>\n",
       "      <td>3301</td>\n",
       "      <td>2535.0</td>\n",
       "    </tr>\n",
       "    <tr>\n",
       "      <th>11</th>\n",
       "      <td>385</td>\n",
       "      <td>W SPRINGFIELD</td>\n",
       "      <td>MA</td>\n",
       "      <td>Strip Store</td>\n",
       "      <td>1089</td>\n",
       "      <td>4814.0</td>\n",
       "    </tr>\n",
       "    <tr>\n",
       "      <th>18</th>\n",
       "      <td>660</td>\n",
       "      <td>FLEMINGTON</td>\n",
       "      <td>NJ</td>\n",
       "      <td>Strip Store</td>\n",
       "      <td>8822</td>\n",
       "      <td>3470.0</td>\n",
       "    </tr>\n",
       "    <tr>\n",
       "      <th>24</th>\n",
       "      <td>240</td>\n",
       "      <td>WESTBROOK</td>\n",
       "      <td>CT</td>\n",
       "      <td>Outlet Strip</td>\n",
       "      <td>6498</td>\n",
       "      <td>3824.0</td>\n",
       "    </tr>\n",
       "    <tr>\n",
       "      <th>25</th>\n",
       "      <td>392</td>\n",
       "      <td>SHREWSBURY</td>\n",
       "      <td>MA</td>\n",
       "      <td>Strip Store</td>\n",
       "      <td>1545</td>\n",
       "      <td>4290.0</td>\n",
       "    </tr>\n",
       "  </tbody>\n",
       "</table>\n",
       "</div>"
      ],
      "text/plain": [
       "    LOC_IDNT             CITY STATE     STORE_TYPE  POSTAL_CD  STORE_SIZE\n",
       "4       1270          CONCORD    NH  Regional Mall       3301      2535.0\n",
       "11       385  W SPRINGFIELD      MA    Strip Store       1089      4814.0\n",
       "18       660  FLEMINGTON         NJ    Strip Store       8822      3470.0\n",
       "24       240  WESTBROOK          CT   Outlet Strip       6498      3824.0\n",
       "25       392       SHREWSBURY    MA    Strip Store       1545      4290.0"
      ]
     },
     "execution_count": 81,
     "metadata": {},
     "output_type": "execute_result"
    }
   ],
   "source": [
    "store1[store1['POSTAL_CD']<9999].head()"
   ]
  },
  {
   "cell_type": "code",
   "execution_count": 82,
   "metadata": {},
   "outputs": [
    {
     "data": {
      "text/plain": [
       "(140, 6)"
      ]
     },
     "execution_count": 82,
     "metadata": {},
     "output_type": "execute_result"
    }
   ],
   "source": [
    "store1[store1['POSTAL_CD']<9999].shape"
   ]
  },
  {
   "cell_type": "markdown",
   "metadata": {},
   "source": [
    "#### We will apply a formatting change for convenience at this stage and ensure the column is padded with a leading 0"
   ]
  },
  {
   "cell_type": "code",
   "execution_count": 83,
   "metadata": {},
   "outputs": [],
   "source": [
    "store1['POSTAL_CD']=store1['POSTAL_CD'].apply(lambda x: '{0:0>5}'.format(x))"
   ]
  },
  {
   "cell_type": "code",
   "execution_count": 84,
   "metadata": {},
   "outputs": [
    {
     "data": {
      "text/html": [
       "<div>\n",
       "<style scoped>\n",
       "    .dataframe tbody tr th:only-of-type {\n",
       "        vertical-align: middle;\n",
       "    }\n",
       "\n",
       "    .dataframe tbody tr th {\n",
       "        vertical-align: top;\n",
       "    }\n",
       "\n",
       "    .dataframe thead th {\n",
       "        text-align: right;\n",
       "    }\n",
       "</style>\n",
       "<table border=\"1\" class=\"dataframe\">\n",
       "  <thead>\n",
       "    <tr style=\"text-align: right;\">\n",
       "      <th></th>\n",
       "      <th>LOC_IDNT</th>\n",
       "      <th>CITY</th>\n",
       "      <th>STATE</th>\n",
       "      <th>STORE_TYPE</th>\n",
       "      <th>POSTAL_CD</th>\n",
       "      <th>STORE_SIZE</th>\n",
       "    </tr>\n",
       "  </thead>\n",
       "  <tbody>\n",
       "    <tr>\n",
       "      <th>0</th>\n",
       "      <td>249</td>\n",
       "      <td>ST LOUIS</td>\n",
       "      <td>MO</td>\n",
       "      <td>Strip Store</td>\n",
       "      <td>63119</td>\n",
       "      <td>3963.0</td>\n",
       "    </tr>\n",
       "    <tr>\n",
       "      <th>1</th>\n",
       "      <td>401</td>\n",
       "      <td>PATCHOGUE</td>\n",
       "      <td>NY</td>\n",
       "      <td>Power Strip</td>\n",
       "      <td>11772</td>\n",
       "      <td>3378.0</td>\n",
       "    </tr>\n",
       "    <tr>\n",
       "      <th>2</th>\n",
       "      <td>644</td>\n",
       "      <td>NAPLES</td>\n",
       "      <td>FL</td>\n",
       "      <td>Outlet Strip</td>\n",
       "      <td>34114</td>\n",
       "      <td>3652.0</td>\n",
       "    </tr>\n",
       "    <tr>\n",
       "      <th>4</th>\n",
       "      <td>1270</td>\n",
       "      <td>CONCORD</td>\n",
       "      <td>NH</td>\n",
       "      <td>Regional Mall</td>\n",
       "      <td>03301</td>\n",
       "      <td>2535.0</td>\n",
       "    </tr>\n",
       "    <tr>\n",
       "      <th>6</th>\n",
       "      <td>403</td>\n",
       "      <td>BELLPORT</td>\n",
       "      <td>NY</td>\n",
       "      <td>Outlet Strip</td>\n",
       "      <td>11713</td>\n",
       "      <td>3068.0</td>\n",
       "    </tr>\n",
       "  </tbody>\n",
       "</table>\n",
       "</div>"
      ],
      "text/plain": [
       "   LOC_IDNT             CITY STATE     STORE_TYPE POSTAL_CD  STORE_SIZE\n",
       "0       249  ST LOUIS           MO    Strip Store     63119      3963.0\n",
       "1       401  PATCHOGUE          NY    Power Strip     11772      3378.0\n",
       "2       644           NAPLES    FL   Outlet Strip     34114      3652.0\n",
       "4      1270          CONCORD    NH  Regional Mall     03301      2535.0\n",
       "6       403  BELLPORT           NY   Outlet Strip     11713      3068.0"
      ]
     },
     "execution_count": 84,
     "metadata": {},
     "output_type": "execute_result"
    }
   ],
   "source": [
    "store1.head()"
   ]
  },
  {
   "cell_type": "markdown",
   "metadata": {},
   "source": [
    "## Transaction data cleaning"
   ]
  },
  {
   "cell_type": "code",
   "execution_count": 85,
   "metadata": {},
   "outputs": [],
   "source": [
    "transact.rename(columns={\"LOC_INDT\":\"LOC_IDNT\"},inplace=True)"
   ]
  },
  {
   "cell_type": "code",
   "execution_count": 335,
   "metadata": {},
   "outputs": [
    {
     "data": {
      "text/plain": [
       "(13053149, 9)"
      ]
     },
     "execution_count": 335,
     "metadata": {},
     "output_type": "execute_result"
    }
   ],
   "source": [
    "transact.shape"
   ]
  },
  {
   "cell_type": "code",
   "execution_count": 446,
   "metadata": {
    "scrolled": true
   },
   "outputs": [
    {
     "data": {
      "text/plain": [
       "DAY_DT              0.00\n",
       "LOC_IDNT            0.00\n",
       "DBSKU               0.01\n",
       "ONLINE_FLAG         0.00\n",
       "FULL_PRICE_IND      0.00\n",
       "TOTAL_SALES         0.00\n",
       "TOTAL_UNITS         0.00\n",
       "TOTAL_SALES_PRFT    0.00\n",
       "TOTAL_COST          0.00\n",
       "dtype: float64"
      ]
     },
     "execution_count": 446,
     "metadata": {},
     "output_type": "execute_result"
    }
   ],
   "source": [
    "round(100*(transact.isnull().sum()/len(transact.index)), 2)"
   ]
  },
  {
   "cell_type": "code",
   "execution_count": 447,
   "metadata": {},
   "outputs": [
    {
     "data": {
      "text/plain": [
       "DAY_DT                0\n",
       "LOC_IDNT              0\n",
       "DBSKU               804\n",
       "ONLINE_FLAG           0\n",
       "FULL_PRICE_IND        0\n",
       "TOTAL_SALES           0\n",
       "TOTAL_UNITS           0\n",
       "TOTAL_SALES_PRFT      0\n",
       "TOTAL_COST            0\n",
       "dtype: int64"
      ]
     },
     "execution_count": 447,
     "metadata": {},
     "output_type": "execute_result"
    }
   ],
   "source": [
    "transact.isnull().sum()"
   ]
  },
  {
   "cell_type": "markdown",
   "metadata": {},
   "source": [
    "#### From analysis with open refine, we know that there are \"NA\"/\"NAN\" values in the DBSKU column, however DBSKU profile shows no missing values. We will remove these values first\n",
    "\n",
    "\n",
    "\n",
    "#### In addition we need to \n",
    "-  remove 0 unit, or negative unit transactions\n",
    "-  Isolate and identify fractional unit transactions\n",
    "-  remove 0 value transactions (TOTAL_SALES == 0)\n",
    "\n",
    "\n",
    "\n",
    "-  Add a column for unit sales price\n",
    "-  change day_dt to type date time\n",
    "-  Visualize transaction volume over time, and identify months to be truncated \n",
    "\n",
    "#### We could additionally split date to month, day of week, and year, but this will be done later.\n",
    "\n",
    "#### Treatment for transactions where TOTAL_SALES = 0, needs to be confirmed. However for our project, we choose to drop such transactions during data cleaning\n",
    "\n",
    "#### We had initially hoped to round the cost and price columns - however this causes significant shifts to the number of transactions which are profitable. Since this has significant downstream impacts, we are leaving these fields as is."
   ]
  },
  {
   "cell_type": "code",
   "execution_count": 448,
   "metadata": {},
   "outputs": [],
   "source": [
    "transact1=transact.dropna()"
   ]
  },
  {
   "cell_type": "code",
   "execution_count": 449,
   "metadata": {},
   "outputs": [
    {
     "data": {
      "text/plain": [
       "(13052345, 9)"
      ]
     },
     "execution_count": 449,
     "metadata": {},
     "output_type": "execute_result"
    }
   ],
   "source": [
    "transact1.shape"
   ]
  },
  {
   "cell_type": "code",
   "execution_count": 450,
   "metadata": {},
   "outputs": [
    {
     "data": {
      "text/html": [
       "<div>\n",
       "<style scoped>\n",
       "    .dataframe tbody tr th:only-of-type {\n",
       "        vertical-align: middle;\n",
       "    }\n",
       "\n",
       "    .dataframe tbody tr th {\n",
       "        vertical-align: top;\n",
       "    }\n",
       "\n",
       "    .dataframe thead th {\n",
       "        text-align: right;\n",
       "    }\n",
       "</style>\n",
       "<table border=\"1\" class=\"dataframe\">\n",
       "  <thead>\n",
       "    <tr style=\"text-align: right;\">\n",
       "      <th></th>\n",
       "      <th>DAY_DT</th>\n",
       "      <th>LOC_IDNT</th>\n",
       "      <th>DBSKU</th>\n",
       "      <th>ONLINE_FLAG</th>\n",
       "      <th>FULL_PRICE_IND</th>\n",
       "      <th>TOTAL_SALES</th>\n",
       "      <th>TOTAL_UNITS</th>\n",
       "      <th>TOTAL_SALES_PRFT</th>\n",
       "      <th>TOTAL_COST</th>\n",
       "    </tr>\n",
       "  </thead>\n",
       "  <tbody>\n",
       "    <tr>\n",
       "      <th>0</th>\n",
       "      <td>2015-09-26</td>\n",
       "      <td>1218</td>\n",
       "      <td>466896.0</td>\n",
       "      <td>0</td>\n",
       "      <td>NFP</td>\n",
       "      <td>16.80</td>\n",
       "      <td>1.0</td>\n",
       "      <td>1.3000</td>\n",
       "      <td>15.5000</td>\n",
       "    </tr>\n",
       "    <tr>\n",
       "      <th>1</th>\n",
       "      <td>2015-08-02</td>\n",
       "      <td>1218</td>\n",
       "      <td>412445.0</td>\n",
       "      <td>0</td>\n",
       "      <td>NFP</td>\n",
       "      <td>29.99</td>\n",
       "      <td>1.0</td>\n",
       "      <td>12.9900</td>\n",
       "      <td>17.0000</td>\n",
       "    </tr>\n",
       "    <tr>\n",
       "      <th>2</th>\n",
       "      <td>2015-10-21</td>\n",
       "      <td>1218</td>\n",
       "      <td>491738.0</td>\n",
       "      <td>0</td>\n",
       "      <td>FP</td>\n",
       "      <td>44.00</td>\n",
       "      <td>1.0</td>\n",
       "      <td>28.2500</td>\n",
       "      <td>15.7500</td>\n",
       "    </tr>\n",
       "    <tr>\n",
       "      <th>3</th>\n",
       "      <td>2015-08-02</td>\n",
       "      <td>1218</td>\n",
       "      <td>414979.0</td>\n",
       "      <td>0</td>\n",
       "      <td>NFP</td>\n",
       "      <td>24.00</td>\n",
       "      <td>1.0</td>\n",
       "      <td>6.9936</td>\n",
       "      <td>17.0064</td>\n",
       "    </tr>\n",
       "    <tr>\n",
       "      <th>4</th>\n",
       "      <td>2015-07-26</td>\n",
       "      <td>1218</td>\n",
       "      <td>458372.0</td>\n",
       "      <td>0</td>\n",
       "      <td>FP</td>\n",
       "      <td>48.00</td>\n",
       "      <td>1.0</td>\n",
       "      <td>30.0000</td>\n",
       "      <td>18.0000</td>\n",
       "    </tr>\n",
       "  </tbody>\n",
       "</table>\n",
       "</div>"
      ],
      "text/plain": [
       "       DAY_DT  LOC_IDNT     DBSKU  ONLINE_FLAG FULL_PRICE_IND  TOTAL_SALES  \\\n",
       "0  2015-09-26      1218  466896.0            0            NFP        16.80   \n",
       "1  2015-08-02      1218  412445.0            0            NFP        29.99   \n",
       "2  2015-10-21      1218  491738.0            0             FP        44.00   \n",
       "3  2015-08-02      1218  414979.0            0            NFP        24.00   \n",
       "4  2015-07-26      1218  458372.0            0             FP        48.00   \n",
       "\n",
       "   TOTAL_UNITS  TOTAL_SALES_PRFT  TOTAL_COST  \n",
       "0          1.0            1.3000     15.5000  \n",
       "1          1.0           12.9900     17.0000  \n",
       "2          1.0           28.2500     15.7500  \n",
       "3          1.0            6.9936     17.0064  \n",
       "4          1.0           30.0000     18.0000  "
      ]
     },
     "execution_count": 450,
     "metadata": {},
     "output_type": "execute_result"
    }
   ],
   "source": [
    "transact1.head()"
   ]
  },
  {
   "cell_type": "code",
   "execution_count": 451,
   "metadata": {},
   "outputs": [
    {
     "data": {
      "text/plain": [
       "(4505, 9)"
      ]
     },
     "execution_count": 451,
     "metadata": {},
     "output_type": "execute_result"
    }
   ],
   "source": [
    "transact1[transact1['TOTAL_UNITS']<1].shape"
   ]
  },
  {
   "cell_type": "markdown",
   "metadata": {},
   "source": [
    "#### NOTE: \n",
    "-  0 unit transactions: 4497\n",
    "-  Less than 0 unit transactions: 4\n",
    "- 0.5 unit transactions: 8\n",
    "\n"
   ]
  },
  {
   "cell_type": "markdown",
   "metadata": {},
   "source": [
    "#### Remove TOTAL_UNITS <1"
   ]
  },
  {
   "cell_type": "code",
   "execution_count": 452,
   "metadata": {},
   "outputs": [],
   "source": [
    "transact1=transact1[transact1['TOTAL_UNITS']>=1]"
   ]
  },
  {
   "cell_type": "code",
   "execution_count": 453,
   "metadata": {},
   "outputs": [
    {
     "data": {
      "text/plain": [
       "(13047840, 9)"
      ]
     },
     "execution_count": 453,
     "metadata": {},
     "output_type": "execute_result"
    }
   ],
   "source": [
    "transact1.shape"
   ]
  },
  {
   "cell_type": "markdown",
   "metadata": {},
   "source": [
    "#### Identify fractional transactions"
   ]
  },
  {
   "cell_type": "code",
   "execution_count": 454,
   "metadata": {},
   "outputs": [
    {
     "data": {
      "text/html": [
       "<div>\n",
       "<style scoped>\n",
       "    .dataframe tbody tr th:only-of-type {\n",
       "        vertical-align: middle;\n",
       "    }\n",
       "\n",
       "    .dataframe tbody tr th {\n",
       "        vertical-align: top;\n",
       "    }\n",
       "\n",
       "    .dataframe thead th {\n",
       "        text-align: right;\n",
       "    }\n",
       "</style>\n",
       "<table border=\"1\" class=\"dataframe\">\n",
       "  <thead>\n",
       "    <tr style=\"text-align: right;\">\n",
       "      <th></th>\n",
       "      <th>DAY_DT</th>\n",
       "      <th>LOC_IDNT</th>\n",
       "      <th>DBSKU</th>\n",
       "      <th>ONLINE_FLAG</th>\n",
       "      <th>FULL_PRICE_IND</th>\n",
       "      <th>TOTAL_SALES</th>\n",
       "      <th>TOTAL_UNITS</th>\n",
       "      <th>TOTAL_SALES_PRFT</th>\n",
       "      <th>TOTAL_COST</th>\n",
       "    </tr>\n",
       "  </thead>\n",
       "  <tbody>\n",
       "    <tr>\n",
       "      <th>7756481</th>\n",
       "      <td>2017-05-27</td>\n",
       "      <td>716</td>\n",
       "      <td>590356.0</td>\n",
       "      <td>0</td>\n",
       "      <td>NFP</td>\n",
       "      <td>50.200</td>\n",
       "      <td>1.5</td>\n",
       "      <td>46.40</td>\n",
       "      <td>3.800</td>\n",
       "    </tr>\n",
       "    <tr>\n",
       "      <th>8271192</th>\n",
       "      <td>2017-05-27</td>\n",
       "      <td>491</td>\n",
       "      <td>2154872.0</td>\n",
       "      <td>0</td>\n",
       "      <td>NFP</td>\n",
       "      <td>61.110</td>\n",
       "      <td>1.5</td>\n",
       "      <td>65.97</td>\n",
       "      <td>-4.860</td>\n",
       "    </tr>\n",
       "    <tr>\n",
       "      <th>8523946</th>\n",
       "      <td>2017-05-27</td>\n",
       "      <td>532</td>\n",
       "      <td>604520.0</td>\n",
       "      <td>0</td>\n",
       "      <td>NFP</td>\n",
       "      <td>59.830</td>\n",
       "      <td>1.5</td>\n",
       "      <td>58.16</td>\n",
       "      <td>1.670</td>\n",
       "    </tr>\n",
       "    <tr>\n",
       "      <th>8774271</th>\n",
       "      <td>2017-05-27</td>\n",
       "      <td>635</td>\n",
       "      <td>631440.0</td>\n",
       "      <td>0</td>\n",
       "      <td>NFP</td>\n",
       "      <td>52.430</td>\n",
       "      <td>1.5</td>\n",
       "      <td>53.86</td>\n",
       "      <td>-1.430</td>\n",
       "    </tr>\n",
       "    <tr>\n",
       "      <th>9142926</th>\n",
       "      <td>2017-05-27</td>\n",
       "      <td>685</td>\n",
       "      <td>626267.0</td>\n",
       "      <td>0</td>\n",
       "      <td>FP</td>\n",
       "      <td>73.500</td>\n",
       "      <td>1.5</td>\n",
       "      <td>64.50</td>\n",
       "      <td>9.000</td>\n",
       "    </tr>\n",
       "    <tr>\n",
       "      <th>9439391</th>\n",
       "      <td>2017-05-27</td>\n",
       "      <td>1365</td>\n",
       "      <td>626317.0</td>\n",
       "      <td>0</td>\n",
       "      <td>NFP</td>\n",
       "      <td>44.725</td>\n",
       "      <td>1.5</td>\n",
       "      <td>41.45</td>\n",
       "      <td>3.275</td>\n",
       "    </tr>\n",
       "  </tbody>\n",
       "</table>\n",
       "</div>"
      ],
      "text/plain": [
       "             DAY_DT  LOC_IDNT      DBSKU  ONLINE_FLAG FULL_PRICE_IND  \\\n",
       "7756481  2017-05-27       716   590356.0            0            NFP   \n",
       "8271192  2017-05-27       491  2154872.0            0            NFP   \n",
       "8523946  2017-05-27       532   604520.0            0            NFP   \n",
       "8774271  2017-05-27       635   631440.0            0            NFP   \n",
       "9142926  2017-05-27       685   626267.0            0             FP   \n",
       "9439391  2017-05-27      1365   626317.0            0            NFP   \n",
       "\n",
       "         TOTAL_SALES  TOTAL_UNITS  TOTAL_SALES_PRFT  TOTAL_COST  \n",
       "7756481       50.200          1.5             46.40       3.800  \n",
       "8271192       61.110          1.5             65.97      -4.860  \n",
       "8523946       59.830          1.5             58.16       1.670  \n",
       "8774271       52.430          1.5             53.86      -1.430  \n",
       "9142926       73.500          1.5             64.50       9.000  \n",
       "9439391       44.725          1.5             41.45       3.275  "
      ]
     },
     "execution_count": 454,
     "metadata": {},
     "output_type": "execute_result"
    }
   ],
   "source": [
    "transact1[transact1['TOTAL_UNITS']%1!=0]"
   ]
  },
  {
   "cell_type": "markdown",
   "metadata": {},
   "source": [
    "#### For now, we will work with whole values of units sold, and these 6 rows will be dropped"
   ]
  },
  {
   "cell_type": "code",
   "execution_count": 455,
   "metadata": {},
   "outputs": [],
   "source": [
    "transact1=transact1[transact1['TOTAL_UNITS']%1==0]"
   ]
  },
  {
   "cell_type": "code",
   "execution_count": 456,
   "metadata": {},
   "outputs": [
    {
     "data": {
      "text/plain": [
       "(13047834, 9)"
      ]
     },
     "execution_count": 456,
     "metadata": {},
     "output_type": "execute_result"
    }
   ],
   "source": [
    "transact1.shape"
   ]
  },
  {
   "cell_type": "markdown",
   "metadata": {},
   "source": [
    "### Look at outliers in total units sold (max units sold)\n",
    "\n",
    "we use a threshold of 25 units in a transaction"
   ]
  },
  {
   "cell_type": "code",
   "execution_count": 457,
   "metadata": {},
   "outputs": [
    {
     "data": {
      "text/plain": [
       "(7813, 9)"
      ]
     },
     "execution_count": 457,
     "metadata": {},
     "output_type": "execute_result"
    }
   ],
   "source": [
    "transact1[transact1['TOTAL_UNITS']>=25].shape"
   ]
  },
  {
   "cell_type": "code",
   "execution_count": 458,
   "metadata": {
    "scrolled": true
   },
   "outputs": [
    {
     "data": {
      "text/html": [
       "<div>\n",
       "<style scoped>\n",
       "    .dataframe tbody tr th:only-of-type {\n",
       "        vertical-align: middle;\n",
       "    }\n",
       "\n",
       "    .dataframe tbody tr th {\n",
       "        vertical-align: top;\n",
       "    }\n",
       "\n",
       "    .dataframe thead th {\n",
       "        text-align: right;\n",
       "    }\n",
       "</style>\n",
       "<table border=\"1\" class=\"dataframe\">\n",
       "  <thead>\n",
       "    <tr style=\"text-align: right;\">\n",
       "      <th></th>\n",
       "      <th>DAY_DT</th>\n",
       "      <th>LOC_IDNT</th>\n",
       "      <th>DBSKU</th>\n",
       "      <th>ONLINE_FLAG</th>\n",
       "      <th>FULL_PRICE_IND</th>\n",
       "      <th>TOTAL_SALES</th>\n",
       "      <th>TOTAL_UNITS</th>\n",
       "      <th>TOTAL_SALES_PRFT</th>\n",
       "      <th>TOTAL_COST</th>\n",
       "    </tr>\n",
       "  </thead>\n",
       "  <tbody>\n",
       "    <tr>\n",
       "      <th>460421</th>\n",
       "      <td>2015-08-03</td>\n",
       "      <td>4150</td>\n",
       "      <td>2999797.0</td>\n",
       "      <td>1</td>\n",
       "      <td>NFP</td>\n",
       "      <td>1166.81</td>\n",
       "      <td>36.0</td>\n",
       "      <td>410.8100</td>\n",
       "      <td>756.0000</td>\n",
       "    </tr>\n",
       "    <tr>\n",
       "      <th>479725</th>\n",
       "      <td>2015-11-04</td>\n",
       "      <td>4150</td>\n",
       "      <td>485011.0</td>\n",
       "      <td>1</td>\n",
       "      <td>FP</td>\n",
       "      <td>962.63</td>\n",
       "      <td>25.0</td>\n",
       "      <td>600.1300</td>\n",
       "      <td>362.5000</td>\n",
       "    </tr>\n",
       "    <tr>\n",
       "      <th>483414</th>\n",
       "      <td>2015-09-10</td>\n",
       "      <td>4150</td>\n",
       "      <td>2105114.0</td>\n",
       "      <td>1</td>\n",
       "      <td>NFP</td>\n",
       "      <td>1025.36</td>\n",
       "      <td>27.0</td>\n",
       "      <td>498.8600</td>\n",
       "      <td>526.5000</td>\n",
       "    </tr>\n",
       "    <tr>\n",
       "      <th>490945</th>\n",
       "      <td>2015-11-05</td>\n",
       "      <td>4150</td>\n",
       "      <td>483107.0</td>\n",
       "      <td>1</td>\n",
       "      <td>FP</td>\n",
       "      <td>1906.61</td>\n",
       "      <td>39.0</td>\n",
       "      <td>1087.6100</td>\n",
       "      <td>819.0000</td>\n",
       "    </tr>\n",
       "    <tr>\n",
       "      <th>495160</th>\n",
       "      <td>2015-11-02</td>\n",
       "      <td>4150</td>\n",
       "      <td>486621.0</td>\n",
       "      <td>1</td>\n",
       "      <td>FP</td>\n",
       "      <td>1558.90</td>\n",
       "      <td>37.0</td>\n",
       "      <td>726.4000</td>\n",
       "      <td>832.5000</td>\n",
       "    </tr>\n",
       "    <tr>\n",
       "      <th>503098</th>\n",
       "      <td>2015-09-01</td>\n",
       "      <td>4150</td>\n",
       "      <td>2105437.0</td>\n",
       "      <td>1</td>\n",
       "      <td>FP</td>\n",
       "      <td>1176.88</td>\n",
       "      <td>26.0</td>\n",
       "      <td>672.7400</td>\n",
       "      <td>504.1400</td>\n",
       "    </tr>\n",
       "    <tr>\n",
       "      <th>503158</th>\n",
       "      <td>2015-09-14</td>\n",
       "      <td>4150</td>\n",
       "      <td>2108233.0</td>\n",
       "      <td>1</td>\n",
       "      <td>FP</td>\n",
       "      <td>1324.02</td>\n",
       "      <td>26.0</td>\n",
       "      <td>778.0200</td>\n",
       "      <td>546.0000</td>\n",
       "    </tr>\n",
       "    <tr>\n",
       "      <th>503259</th>\n",
       "      <td>2015-11-03</td>\n",
       "      <td>4150</td>\n",
       "      <td>487025.0</td>\n",
       "      <td>1</td>\n",
       "      <td>FP</td>\n",
       "      <td>1326.85</td>\n",
       "      <td>31.0</td>\n",
       "      <td>629.3500</td>\n",
       "      <td>697.5000</td>\n",
       "    </tr>\n",
       "    <tr>\n",
       "      <th>508075</th>\n",
       "      <td>2015-08-04</td>\n",
       "      <td>4150</td>\n",
       "      <td>2999797.0</td>\n",
       "      <td>1</td>\n",
       "      <td>NFP</td>\n",
       "      <td>913.20</td>\n",
       "      <td>30.0</td>\n",
       "      <td>283.2000</td>\n",
       "      <td>630.0000</td>\n",
       "    </tr>\n",
       "    <tr>\n",
       "      <th>1080880</th>\n",
       "      <td>2015-10-06</td>\n",
       "      <td>4150</td>\n",
       "      <td>485011.0</td>\n",
       "      <td>1</td>\n",
       "      <td>FP</td>\n",
       "      <td>1333.20</td>\n",
       "      <td>35.0</td>\n",
       "      <td>825.7000</td>\n",
       "      <td>507.5000</td>\n",
       "    </tr>\n",
       "    <tr>\n",
       "      <th>1143360</th>\n",
       "      <td>2015-08-03</td>\n",
       "      <td>4150</td>\n",
       "      <td>2998336.0</td>\n",
       "      <td>1</td>\n",
       "      <td>NFP</td>\n",
       "      <td>864.96</td>\n",
       "      <td>27.0</td>\n",
       "      <td>108.9600</td>\n",
       "      <td>756.0000</td>\n",
       "    </tr>\n",
       "    <tr>\n",
       "      <th>1143422</th>\n",
       "      <td>2015-11-04</td>\n",
       "      <td>4150</td>\n",
       "      <td>502559.0</td>\n",
       "      <td>1</td>\n",
       "      <td>FP</td>\n",
       "      <td>1601.68</td>\n",
       "      <td>55.0</td>\n",
       "      <td>667.5656</td>\n",
       "      <td>934.1144</td>\n",
       "    </tr>\n",
       "    <tr>\n",
       "      <th>1152993</th>\n",
       "      <td>2015-11-04</td>\n",
       "      <td>4150</td>\n",
       "      <td>2109918.0</td>\n",
       "      <td>1</td>\n",
       "      <td>NFP</td>\n",
       "      <td>1230.88</td>\n",
       "      <td>34.0</td>\n",
       "      <td>630.7800</td>\n",
       "      <td>600.1000</td>\n",
       "    </tr>\n",
       "    <tr>\n",
       "      <th>1163682</th>\n",
       "      <td>2015-07-27</td>\n",
       "      <td>4150</td>\n",
       "      <td>2100438.0</td>\n",
       "      <td>1</td>\n",
       "      <td>NFP</td>\n",
       "      <td>1089.65</td>\n",
       "      <td>32.0</td>\n",
       "      <td>497.6500</td>\n",
       "      <td>592.0000</td>\n",
       "    </tr>\n",
       "    <tr>\n",
       "      <th>1180655</th>\n",
       "      <td>2015-11-04</td>\n",
       "      <td>4150</td>\n",
       "      <td>487017.0</td>\n",
       "      <td>1</td>\n",
       "      <td>FP</td>\n",
       "      <td>2081.35</td>\n",
       "      <td>46.0</td>\n",
       "      <td>1046.3500</td>\n",
       "      <td>1035.0000</td>\n",
       "    </tr>\n",
       "    <tr>\n",
       "      <th>1189013</th>\n",
       "      <td>2015-10-14</td>\n",
       "      <td>4150</td>\n",
       "      <td>2107847.0</td>\n",
       "      <td>1</td>\n",
       "      <td>FP</td>\n",
       "      <td>1523.85</td>\n",
       "      <td>30.0</td>\n",
       "      <td>972.1500</td>\n",
       "      <td>551.7000</td>\n",
       "    </tr>\n",
       "    <tr>\n",
       "      <th>1207820</th>\n",
       "      <td>2015-08-03</td>\n",
       "      <td>4150</td>\n",
       "      <td>2100438.0</td>\n",
       "      <td>1</td>\n",
       "      <td>NFP</td>\n",
       "      <td>914.43</td>\n",
       "      <td>28.0</td>\n",
       "      <td>396.4300</td>\n",
       "      <td>518.0000</td>\n",
       "    </tr>\n",
       "    <tr>\n",
       "      <th>1207875</th>\n",
       "      <td>2015-08-17</td>\n",
       "      <td>4150</td>\n",
       "      <td>2107698.0</td>\n",
       "      <td>1</td>\n",
       "      <td>NFP</td>\n",
       "      <td>552.01</td>\n",
       "      <td>25.0</td>\n",
       "      <td>127.0100</td>\n",
       "      <td>425.0000</td>\n",
       "    </tr>\n",
       "    <tr>\n",
       "      <th>1279008</th>\n",
       "      <td>2015-11-02</td>\n",
       "      <td>4150</td>\n",
       "      <td>479360.0</td>\n",
       "      <td>1</td>\n",
       "      <td>NFP</td>\n",
       "      <td>1125.06</td>\n",
       "      <td>30.0</td>\n",
       "      <td>585.0600</td>\n",
       "      <td>540.0000</td>\n",
       "    </tr>\n",
       "    <tr>\n",
       "      <th>1282770</th>\n",
       "      <td>2015-10-12</td>\n",
       "      <td>4150</td>\n",
       "      <td>503078.0</td>\n",
       "      <td>1</td>\n",
       "      <td>FP</td>\n",
       "      <td>686.42</td>\n",
       "      <td>25.0</td>\n",
       "      <td>236.5400</td>\n",
       "      <td>449.8800</td>\n",
       "    </tr>\n",
       "    <tr>\n",
       "      <th>1285011</th>\n",
       "      <td>2015-10-12</td>\n",
       "      <td>4150</td>\n",
       "      <td>436774.0</td>\n",
       "      <td>1</td>\n",
       "      <td>NFP</td>\n",
       "      <td>570.07</td>\n",
       "      <td>35.0</td>\n",
       "      <td>13.5700</td>\n",
       "      <td>556.5000</td>\n",
       "    </tr>\n",
       "    <tr>\n",
       "      <th>1295497</th>\n",
       "      <td>2015-11-04</td>\n",
       "      <td>4150</td>\n",
       "      <td>2105130.0</td>\n",
       "      <td>1</td>\n",
       "      <td>NFP</td>\n",
       "      <td>926.24</td>\n",
       "      <td>26.0</td>\n",
       "      <td>458.2400</td>\n",
       "      <td>468.0000</td>\n",
       "    </tr>\n",
       "    <tr>\n",
       "      <th>1300707</th>\n",
       "      <td>2015-08-11</td>\n",
       "      <td>4150</td>\n",
       "      <td>435727.0</td>\n",
       "      <td>1</td>\n",
       "      <td>NFP</td>\n",
       "      <td>1024.31</td>\n",
       "      <td>36.0</td>\n",
       "      <td>545.5100</td>\n",
       "      <td>478.8000</td>\n",
       "    </tr>\n",
       "    <tr>\n",
       "      <th>1300715</th>\n",
       "      <td>2015-08-04</td>\n",
       "      <td>4150</td>\n",
       "      <td>2984625.0</td>\n",
       "      <td>1</td>\n",
       "      <td>NFP</td>\n",
       "      <td>1321.32</td>\n",
       "      <td>41.0</td>\n",
       "      <td>460.3200</td>\n",
       "      <td>861.0000</td>\n",
       "    </tr>\n",
       "    <tr>\n",
       "      <th>1300746</th>\n",
       "      <td>2015-09-29</td>\n",
       "      <td>4150</td>\n",
       "      <td>486621.0</td>\n",
       "      <td>1</td>\n",
       "      <td>FP</td>\n",
       "      <td>1321.14</td>\n",
       "      <td>28.0</td>\n",
       "      <td>691.1400</td>\n",
       "      <td>630.0000</td>\n",
       "    </tr>\n",
       "    <tr>\n",
       "      <th>1307932</th>\n",
       "      <td>2015-08-04</td>\n",
       "      <td>4150</td>\n",
       "      <td>2107698.0</td>\n",
       "      <td>1</td>\n",
       "      <td>NFP</td>\n",
       "      <td>595.54</td>\n",
       "      <td>27.0</td>\n",
       "      <td>136.5400</td>\n",
       "      <td>459.0000</td>\n",
       "    </tr>\n",
       "    <tr>\n",
       "      <th>1308180</th>\n",
       "      <td>2015-08-18</td>\n",
       "      <td>4150</td>\n",
       "      <td>446039.0</td>\n",
       "      <td>1</td>\n",
       "      <td>NFP</td>\n",
       "      <td>496.25</td>\n",
       "      <td>29.0</td>\n",
       "      <td>142.4500</td>\n",
       "      <td>353.8000</td>\n",
       "    </tr>\n",
       "    <tr>\n",
       "      <th>1311407</th>\n",
       "      <td>2015-09-01</td>\n",
       "      <td>4150</td>\n",
       "      <td>479428.0</td>\n",
       "      <td>1</td>\n",
       "      <td>FP</td>\n",
       "      <td>1345.42</td>\n",
       "      <td>37.0</td>\n",
       "      <td>716.4200</td>\n",
       "      <td>629.0000</td>\n",
       "    </tr>\n",
       "    <tr>\n",
       "      <th>1311430</th>\n",
       "      <td>2015-08-17</td>\n",
       "      <td>4150</td>\n",
       "      <td>473959.0</td>\n",
       "      <td>1</td>\n",
       "      <td>FP</td>\n",
       "      <td>1375.41</td>\n",
       "      <td>26.0</td>\n",
       "      <td>751.4100</td>\n",
       "      <td>624.0000</td>\n",
       "    </tr>\n",
       "    <tr>\n",
       "      <th>1311507</th>\n",
       "      <td>2015-10-27</td>\n",
       "      <td>4150</td>\n",
       "      <td>502559.0</td>\n",
       "      <td>1</td>\n",
       "      <td>FP</td>\n",
       "      <td>970.41</td>\n",
       "      <td>28.0</td>\n",
       "      <td>494.5836</td>\n",
       "      <td>475.8264</td>\n",
       "    </tr>\n",
       "    <tr>\n",
       "      <th>...</th>\n",
       "      <td>...</td>\n",
       "      <td>...</td>\n",
       "      <td>...</td>\n",
       "      <td>...</td>\n",
       "      <td>...</td>\n",
       "      <td>...</td>\n",
       "      <td>...</td>\n",
       "      <td>...</td>\n",
       "      <td>...</td>\n",
       "    </tr>\n",
       "    <tr>\n",
       "      <th>12932147</th>\n",
       "      <td>2018-05-29</td>\n",
       "      <td>4150</td>\n",
       "      <td>2168849.0</td>\n",
       "      <td>1</td>\n",
       "      <td>NFP</td>\n",
       "      <td>729.37</td>\n",
       "      <td>35.0</td>\n",
       "      <td>99.3700</td>\n",
       "      <td>630.0000</td>\n",
       "    </tr>\n",
       "    <tr>\n",
       "      <th>12932228</th>\n",
       "      <td>2018-06-27</td>\n",
       "      <td>4150</td>\n",
       "      <td>693754.0</td>\n",
       "      <td>1</td>\n",
       "      <td>FP</td>\n",
       "      <td>942.78</td>\n",
       "      <td>33.0</td>\n",
       "      <td>480.7800</td>\n",
       "      <td>462.0000</td>\n",
       "    </tr>\n",
       "    <tr>\n",
       "      <th>12932236</th>\n",
       "      <td>2018-07-05</td>\n",
       "      <td>4150</td>\n",
       "      <td>717397.0</td>\n",
       "      <td>1</td>\n",
       "      <td>FP</td>\n",
       "      <td>686.40</td>\n",
       "      <td>26.0</td>\n",
       "      <td>322.4000</td>\n",
       "      <td>364.0000</td>\n",
       "    </tr>\n",
       "    <tr>\n",
       "      <th>12933824</th>\n",
       "      <td>2018-07-03</td>\n",
       "      <td>4150</td>\n",
       "      <td>688598.0</td>\n",
       "      <td>1</td>\n",
       "      <td>FP</td>\n",
       "      <td>733.07</td>\n",
       "      <td>26.0</td>\n",
       "      <td>359.2623</td>\n",
       "      <td>373.8077</td>\n",
       "    </tr>\n",
       "    <tr>\n",
       "      <th>12934834</th>\n",
       "      <td>2018-07-02</td>\n",
       "      <td>4150</td>\n",
       "      <td>669416.0</td>\n",
       "      <td>1</td>\n",
       "      <td>NFP</td>\n",
       "      <td>476.86</td>\n",
       "      <td>57.0</td>\n",
       "      <td>-349.6400</td>\n",
       "      <td>826.5000</td>\n",
       "    </tr>\n",
       "    <tr>\n",
       "      <th>12934977</th>\n",
       "      <td>2018-06-22</td>\n",
       "      <td>4150</td>\n",
       "      <td>688598.0</td>\n",
       "      <td>1</td>\n",
       "      <td>FP</td>\n",
       "      <td>975.30</td>\n",
       "      <td>33.0</td>\n",
       "      <td>501.3193</td>\n",
       "      <td>473.9807</td>\n",
       "    </tr>\n",
       "    <tr>\n",
       "      <th>12934979</th>\n",
       "      <td>2018-06-25</td>\n",
       "      <td>4150</td>\n",
       "      <td>688663.0</td>\n",
       "      <td>1</td>\n",
       "      <td>FP</td>\n",
       "      <td>950.40</td>\n",
       "      <td>36.0</td>\n",
       "      <td>486.7200</td>\n",
       "      <td>463.6800</td>\n",
       "    </tr>\n",
       "    <tr>\n",
       "      <th>12935393</th>\n",
       "      <td>2018-07-06</td>\n",
       "      <td>4150</td>\n",
       "      <td>660506.0</td>\n",
       "      <td>1</td>\n",
       "      <td>NFP</td>\n",
       "      <td>543.72</td>\n",
       "      <td>28.0</td>\n",
       "      <td>39.7200</td>\n",
       "      <td>504.0000</td>\n",
       "    </tr>\n",
       "    <tr>\n",
       "      <th>12935686</th>\n",
       "      <td>2018-05-22</td>\n",
       "      <td>4150</td>\n",
       "      <td>2173385.0</td>\n",
       "      <td>1</td>\n",
       "      <td>FP</td>\n",
       "      <td>1630.64</td>\n",
       "      <td>68.0</td>\n",
       "      <td>406.6400</td>\n",
       "      <td>1224.0000</td>\n",
       "    </tr>\n",
       "    <tr>\n",
       "      <th>12938888</th>\n",
       "      <td>2018-05-23</td>\n",
       "      <td>4150</td>\n",
       "      <td>672568.0</td>\n",
       "      <td>1</td>\n",
       "      <td>FP</td>\n",
       "      <td>1102.50</td>\n",
       "      <td>45.0</td>\n",
       "      <td>517.5000</td>\n",
       "      <td>585.0000</td>\n",
       "    </tr>\n",
       "    <tr>\n",
       "      <th>12940629</th>\n",
       "      <td>2018-06-27</td>\n",
       "      <td>4150</td>\n",
       "      <td>660563.0</td>\n",
       "      <td>1</td>\n",
       "      <td>NFP</td>\n",
       "      <td>425.07</td>\n",
       "      <td>47.0</td>\n",
       "      <td>-256.4300</td>\n",
       "      <td>681.5000</td>\n",
       "    </tr>\n",
       "    <tr>\n",
       "      <th>12942337</th>\n",
       "      <td>2018-07-03</td>\n",
       "      <td>4150</td>\n",
       "      <td>659607.0</td>\n",
       "      <td>1</td>\n",
       "      <td>NFP</td>\n",
       "      <td>274.36</td>\n",
       "      <td>32.0</td>\n",
       "      <td>-203.4000</td>\n",
       "      <td>477.7600</td>\n",
       "    </tr>\n",
       "    <tr>\n",
       "      <th>12944068</th>\n",
       "      <td>2018-06-18</td>\n",
       "      <td>4150</td>\n",
       "      <td>2168849.0</td>\n",
       "      <td>1</td>\n",
       "      <td>NFP</td>\n",
       "      <td>831.61</td>\n",
       "      <td>84.0</td>\n",
       "      <td>-680.3900</td>\n",
       "      <td>1512.0000</td>\n",
       "    </tr>\n",
       "    <tr>\n",
       "      <th>12944161</th>\n",
       "      <td>2018-06-12</td>\n",
       "      <td>4150</td>\n",
       "      <td>716050.0</td>\n",
       "      <td>1</td>\n",
       "      <td>FP</td>\n",
       "      <td>958.81</td>\n",
       "      <td>26.0</td>\n",
       "      <td>555.8100</td>\n",
       "      <td>403.0000</td>\n",
       "    </tr>\n",
       "    <tr>\n",
       "      <th>12947122</th>\n",
       "      <td>2018-05-18</td>\n",
       "      <td>4150</td>\n",
       "      <td>2171728.0</td>\n",
       "      <td>1</td>\n",
       "      <td>FP</td>\n",
       "      <td>1466.60</td>\n",
       "      <td>59.0</td>\n",
       "      <td>286.6000</td>\n",
       "      <td>1180.0000</td>\n",
       "    </tr>\n",
       "    <tr>\n",
       "      <th>12947203</th>\n",
       "      <td>2018-06-27</td>\n",
       "      <td>4150</td>\n",
       "      <td>755843.0</td>\n",
       "      <td>1</td>\n",
       "      <td>FP</td>\n",
       "      <td>809.10</td>\n",
       "      <td>32.0</td>\n",
       "      <td>441.1000</td>\n",
       "      <td>368.0000</td>\n",
       "    </tr>\n",
       "    <tr>\n",
       "      <th>12948946</th>\n",
       "      <td>2018-07-05</td>\n",
       "      <td>4150</td>\n",
       "      <td>718643.0</td>\n",
       "      <td>1</td>\n",
       "      <td>FP</td>\n",
       "      <td>1210.30</td>\n",
       "      <td>41.0</td>\n",
       "      <td>595.3000</td>\n",
       "      <td>615.0000</td>\n",
       "    </tr>\n",
       "    <tr>\n",
       "      <th>12949791</th>\n",
       "      <td>2018-06-25</td>\n",
       "      <td>4150</td>\n",
       "      <td>2181149.0</td>\n",
       "      <td>1</td>\n",
       "      <td>FP</td>\n",
       "      <td>1451.40</td>\n",
       "      <td>42.0</td>\n",
       "      <td>646.6800</td>\n",
       "      <td>804.7200</td>\n",
       "    </tr>\n",
       "    <tr>\n",
       "      <th>12950603</th>\n",
       "      <td>2018-07-05</td>\n",
       "      <td>4150</td>\n",
       "      <td>2169904.0</td>\n",
       "      <td>1</td>\n",
       "      <td>NFP</td>\n",
       "      <td>499.74</td>\n",
       "      <td>26.0</td>\n",
       "      <td>-124.2600</td>\n",
       "      <td>624.0000</td>\n",
       "    </tr>\n",
       "    <tr>\n",
       "      <th>12951329</th>\n",
       "      <td>2018-06-27</td>\n",
       "      <td>4150</td>\n",
       "      <td>714147.0</td>\n",
       "      <td>1</td>\n",
       "      <td>FP</td>\n",
       "      <td>946.92</td>\n",
       "      <td>36.0</td>\n",
       "      <td>478.9200</td>\n",
       "      <td>468.0000</td>\n",
       "    </tr>\n",
       "    <tr>\n",
       "      <th>12952369</th>\n",
       "      <td>2018-07-02</td>\n",
       "      <td>4150</td>\n",
       "      <td>677583.0</td>\n",
       "      <td>1</td>\n",
       "      <td>NFP</td>\n",
       "      <td>467.47</td>\n",
       "      <td>29.0</td>\n",
       "      <td>61.4700</td>\n",
       "      <td>406.0000</td>\n",
       "    </tr>\n",
       "    <tr>\n",
       "      <th>12953057</th>\n",
       "      <td>2018-06-19</td>\n",
       "      <td>4150</td>\n",
       "      <td>696062.0</td>\n",
       "      <td>1</td>\n",
       "      <td>FP</td>\n",
       "      <td>890.10</td>\n",
       "      <td>29.0</td>\n",
       "      <td>339.1000</td>\n",
       "      <td>551.0000</td>\n",
       "    </tr>\n",
       "    <tr>\n",
       "      <th>12959967</th>\n",
       "      <td>2018-07-05</td>\n",
       "      <td>4150</td>\n",
       "      <td>659607.0</td>\n",
       "      <td>1</td>\n",
       "      <td>NFP</td>\n",
       "      <td>493.96</td>\n",
       "      <td>52.0</td>\n",
       "      <td>-282.4000</td>\n",
       "      <td>776.3600</td>\n",
       "    </tr>\n",
       "    <tr>\n",
       "      <th>12960290</th>\n",
       "      <td>2018-07-05</td>\n",
       "      <td>4150</td>\n",
       "      <td>717579.0</td>\n",
       "      <td>1</td>\n",
       "      <td>FP</td>\n",
       "      <td>1018.60</td>\n",
       "      <td>25.0</td>\n",
       "      <td>690.7900</td>\n",
       "      <td>327.8100</td>\n",
       "    </tr>\n",
       "    <tr>\n",
       "      <th>12960501</th>\n",
       "      <td>2018-07-05</td>\n",
       "      <td>4150</td>\n",
       "      <td>720821.0</td>\n",
       "      <td>1</td>\n",
       "      <td>FP</td>\n",
       "      <td>1780.20</td>\n",
       "      <td>43.0</td>\n",
       "      <td>791.2000</td>\n",
       "      <td>989.0000</td>\n",
       "    </tr>\n",
       "    <tr>\n",
       "      <th>12967437</th>\n",
       "      <td>2018-06-27</td>\n",
       "      <td>4150</td>\n",
       "      <td>2181339.0</td>\n",
       "      <td>1</td>\n",
       "      <td>FP</td>\n",
       "      <td>882.00</td>\n",
       "      <td>30.0</td>\n",
       "      <td>402.0000</td>\n",
       "      <td>480.0000</td>\n",
       "    </tr>\n",
       "    <tr>\n",
       "      <th>12967442</th>\n",
       "      <td>2018-06-25</td>\n",
       "      <td>4150</td>\n",
       "      <td>678474.0</td>\n",
       "      <td>1</td>\n",
       "      <td>NFP</td>\n",
       "      <td>533.73</td>\n",
       "      <td>27.0</td>\n",
       "      <td>178.9500</td>\n",
       "      <td>354.7800</td>\n",
       "    </tr>\n",
       "    <tr>\n",
       "      <th>12967446</th>\n",
       "      <td>2018-06-25</td>\n",
       "      <td>4150</td>\n",
       "      <td>720821.0</td>\n",
       "      <td>1</td>\n",
       "      <td>FP</td>\n",
       "      <td>2060.47</td>\n",
       "      <td>50.0</td>\n",
       "      <td>910.4700</td>\n",
       "      <td>1150.0000</td>\n",
       "    </tr>\n",
       "    <tr>\n",
       "      <th>12967449</th>\n",
       "      <td>2018-06-27</td>\n",
       "      <td>4150</td>\n",
       "      <td>712794.0</td>\n",
       "      <td>1</td>\n",
       "      <td>FP</td>\n",
       "      <td>1250.15</td>\n",
       "      <td>32.0</td>\n",
       "      <td>642.1500</td>\n",
       "      <td>608.0000</td>\n",
       "    </tr>\n",
       "    <tr>\n",
       "      <th>12969828</th>\n",
       "      <td>2018-06-25</td>\n",
       "      <td>4150</td>\n",
       "      <td>721944.0</td>\n",
       "      <td>1</td>\n",
       "      <td>FP</td>\n",
       "      <td>960.00</td>\n",
       "      <td>25.0</td>\n",
       "      <td>435.0000</td>\n",
       "      <td>525.0000</td>\n",
       "    </tr>\n",
       "  </tbody>\n",
       "</table>\n",
       "<p>7813 rows × 9 columns</p>\n",
       "</div>"
      ],
      "text/plain": [
       "              DAY_DT  LOC_IDNT      DBSKU  ONLINE_FLAG FULL_PRICE_IND  \\\n",
       "460421    2015-08-03      4150  2999797.0            1            NFP   \n",
       "479725    2015-11-04      4150   485011.0            1             FP   \n",
       "483414    2015-09-10      4150  2105114.0            1            NFP   \n",
       "490945    2015-11-05      4150   483107.0            1             FP   \n",
       "495160    2015-11-02      4150   486621.0            1             FP   \n",
       "503098    2015-09-01      4150  2105437.0            1             FP   \n",
       "503158    2015-09-14      4150  2108233.0            1             FP   \n",
       "503259    2015-11-03      4150   487025.0            1             FP   \n",
       "508075    2015-08-04      4150  2999797.0            1            NFP   \n",
       "1080880   2015-10-06      4150   485011.0            1             FP   \n",
       "1143360   2015-08-03      4150  2998336.0            1            NFP   \n",
       "1143422   2015-11-04      4150   502559.0            1             FP   \n",
       "1152993   2015-11-04      4150  2109918.0            1            NFP   \n",
       "1163682   2015-07-27      4150  2100438.0            1            NFP   \n",
       "1180655   2015-11-04      4150   487017.0            1             FP   \n",
       "1189013   2015-10-14      4150  2107847.0            1             FP   \n",
       "1207820   2015-08-03      4150  2100438.0            1            NFP   \n",
       "1207875   2015-08-17      4150  2107698.0            1            NFP   \n",
       "1279008   2015-11-02      4150   479360.0            1            NFP   \n",
       "1282770   2015-10-12      4150   503078.0            1             FP   \n",
       "1285011   2015-10-12      4150   436774.0            1            NFP   \n",
       "1295497   2015-11-04      4150  2105130.0            1            NFP   \n",
       "1300707   2015-08-11      4150   435727.0            1            NFP   \n",
       "1300715   2015-08-04      4150  2984625.0            1            NFP   \n",
       "1300746   2015-09-29      4150   486621.0            1             FP   \n",
       "1307932   2015-08-04      4150  2107698.0            1            NFP   \n",
       "1308180   2015-08-18      4150   446039.0            1            NFP   \n",
       "1311407   2015-09-01      4150   479428.0            1             FP   \n",
       "1311430   2015-08-17      4150   473959.0            1             FP   \n",
       "1311507   2015-10-27      4150   502559.0            1             FP   \n",
       "...              ...       ...        ...          ...            ...   \n",
       "12932147  2018-05-29      4150  2168849.0            1            NFP   \n",
       "12932228  2018-06-27      4150   693754.0            1             FP   \n",
       "12932236  2018-07-05      4150   717397.0            1             FP   \n",
       "12933824  2018-07-03      4150   688598.0            1             FP   \n",
       "12934834  2018-07-02      4150   669416.0            1            NFP   \n",
       "12934977  2018-06-22      4150   688598.0            1             FP   \n",
       "12934979  2018-06-25      4150   688663.0            1             FP   \n",
       "12935393  2018-07-06      4150   660506.0            1            NFP   \n",
       "12935686  2018-05-22      4150  2173385.0            1             FP   \n",
       "12938888  2018-05-23      4150   672568.0            1             FP   \n",
       "12940629  2018-06-27      4150   660563.0            1            NFP   \n",
       "12942337  2018-07-03      4150   659607.0            1            NFP   \n",
       "12944068  2018-06-18      4150  2168849.0            1            NFP   \n",
       "12944161  2018-06-12      4150   716050.0            1             FP   \n",
       "12947122  2018-05-18      4150  2171728.0            1             FP   \n",
       "12947203  2018-06-27      4150   755843.0            1             FP   \n",
       "12948946  2018-07-05      4150   718643.0            1             FP   \n",
       "12949791  2018-06-25      4150  2181149.0            1             FP   \n",
       "12950603  2018-07-05      4150  2169904.0            1            NFP   \n",
       "12951329  2018-06-27      4150   714147.0            1             FP   \n",
       "12952369  2018-07-02      4150   677583.0            1            NFP   \n",
       "12953057  2018-06-19      4150   696062.0            1             FP   \n",
       "12959967  2018-07-05      4150   659607.0            1            NFP   \n",
       "12960290  2018-07-05      4150   717579.0            1             FP   \n",
       "12960501  2018-07-05      4150   720821.0            1             FP   \n",
       "12967437  2018-06-27      4150  2181339.0            1             FP   \n",
       "12967442  2018-06-25      4150   678474.0            1            NFP   \n",
       "12967446  2018-06-25      4150   720821.0            1             FP   \n",
       "12967449  2018-06-27      4150   712794.0            1             FP   \n",
       "12969828  2018-06-25      4150   721944.0            1             FP   \n",
       "\n",
       "          TOTAL_SALES  TOTAL_UNITS  TOTAL_SALES_PRFT  TOTAL_COST  \n",
       "460421        1166.81         36.0          410.8100    756.0000  \n",
       "479725         962.63         25.0          600.1300    362.5000  \n",
       "483414        1025.36         27.0          498.8600    526.5000  \n",
       "490945        1906.61         39.0         1087.6100    819.0000  \n",
       "495160        1558.90         37.0          726.4000    832.5000  \n",
       "503098        1176.88         26.0          672.7400    504.1400  \n",
       "503158        1324.02         26.0          778.0200    546.0000  \n",
       "503259        1326.85         31.0          629.3500    697.5000  \n",
       "508075         913.20         30.0          283.2000    630.0000  \n",
       "1080880       1333.20         35.0          825.7000    507.5000  \n",
       "1143360        864.96         27.0          108.9600    756.0000  \n",
       "1143422       1601.68         55.0          667.5656    934.1144  \n",
       "1152993       1230.88         34.0          630.7800    600.1000  \n",
       "1163682       1089.65         32.0          497.6500    592.0000  \n",
       "1180655       2081.35         46.0         1046.3500   1035.0000  \n",
       "1189013       1523.85         30.0          972.1500    551.7000  \n",
       "1207820        914.43         28.0          396.4300    518.0000  \n",
       "1207875        552.01         25.0          127.0100    425.0000  \n",
       "1279008       1125.06         30.0          585.0600    540.0000  \n",
       "1282770        686.42         25.0          236.5400    449.8800  \n",
       "1285011        570.07         35.0           13.5700    556.5000  \n",
       "1295497        926.24         26.0          458.2400    468.0000  \n",
       "1300707       1024.31         36.0          545.5100    478.8000  \n",
       "1300715       1321.32         41.0          460.3200    861.0000  \n",
       "1300746       1321.14         28.0          691.1400    630.0000  \n",
       "1307932        595.54         27.0          136.5400    459.0000  \n",
       "1308180        496.25         29.0          142.4500    353.8000  \n",
       "1311407       1345.42         37.0          716.4200    629.0000  \n",
       "1311430       1375.41         26.0          751.4100    624.0000  \n",
       "1311507        970.41         28.0          494.5836    475.8264  \n",
       "...               ...          ...               ...         ...  \n",
       "12932147       729.37         35.0           99.3700    630.0000  \n",
       "12932228       942.78         33.0          480.7800    462.0000  \n",
       "12932236       686.40         26.0          322.4000    364.0000  \n",
       "12933824       733.07         26.0          359.2623    373.8077  \n",
       "12934834       476.86         57.0         -349.6400    826.5000  \n",
       "12934977       975.30         33.0          501.3193    473.9807  \n",
       "12934979       950.40         36.0          486.7200    463.6800  \n",
       "12935393       543.72         28.0           39.7200    504.0000  \n",
       "12935686      1630.64         68.0          406.6400   1224.0000  \n",
       "12938888      1102.50         45.0          517.5000    585.0000  \n",
       "12940629       425.07         47.0         -256.4300    681.5000  \n",
       "12942337       274.36         32.0         -203.4000    477.7600  \n",
       "12944068       831.61         84.0         -680.3900   1512.0000  \n",
       "12944161       958.81         26.0          555.8100    403.0000  \n",
       "12947122      1466.60         59.0          286.6000   1180.0000  \n",
       "12947203       809.10         32.0          441.1000    368.0000  \n",
       "12948946      1210.30         41.0          595.3000    615.0000  \n",
       "12949791      1451.40         42.0          646.6800    804.7200  \n",
       "12950603       499.74         26.0         -124.2600    624.0000  \n",
       "12951329       946.92         36.0          478.9200    468.0000  \n",
       "12952369       467.47         29.0           61.4700    406.0000  \n",
       "12953057       890.10         29.0          339.1000    551.0000  \n",
       "12959967       493.96         52.0         -282.4000    776.3600  \n",
       "12960290      1018.60         25.0          690.7900    327.8100  \n",
       "12960501      1780.20         43.0          791.2000    989.0000  \n",
       "12967437       882.00         30.0          402.0000    480.0000  \n",
       "12967442       533.73         27.0          178.9500    354.7800  \n",
       "12967446      2060.47         50.0          910.4700   1150.0000  \n",
       "12967449      1250.15         32.0          642.1500    608.0000  \n",
       "12969828       960.00         25.0          435.0000    525.0000  \n",
       "\n",
       "[7813 rows x 9 columns]"
      ]
     },
     "execution_count": 458,
     "metadata": {},
     "output_type": "execute_result"
    }
   ],
   "source": [
    "transact1[transact1['TOTAL_UNITS']>=25]"
   ]
  },
  {
   "cell_type": "code",
   "execution_count": 459,
   "metadata": {},
   "outputs": [
    {
     "data": {
      "text/plain": [
       "(7812, 9)"
      ]
     },
     "execution_count": 459,
     "metadata": {},
     "output_type": "execute_result"
    }
   ],
   "source": [
    "transact1[(transact1['TOTAL_UNITS']>=25)&(transact1['ONLINE_FLAG']==1)].shape"
   ]
  },
  {
   "cell_type": "markdown",
   "metadata": {},
   "source": [
    "#### We see that there is a high overlap with online transactions for the large quantities ordered in a single transaction\n",
    "\n",
    "#### We will be treating online transactions separately, so we leave max transactions at this point\n",
    "\n"
   ]
  },
  {
   "cell_type": "markdown",
   "metadata": {},
   "source": [
    "#### Remove TOTAL_SALES=0"
   ]
  },
  {
   "cell_type": "code",
   "execution_count": 460,
   "metadata": {},
   "outputs": [
    {
     "data": {
      "text/html": [
       "<div>\n",
       "<style scoped>\n",
       "    .dataframe tbody tr th:only-of-type {\n",
       "        vertical-align: middle;\n",
       "    }\n",
       "\n",
       "    .dataframe tbody tr th {\n",
       "        vertical-align: top;\n",
       "    }\n",
       "\n",
       "    .dataframe thead th {\n",
       "        text-align: right;\n",
       "    }\n",
       "</style>\n",
       "<table border=\"1\" class=\"dataframe\">\n",
       "  <thead>\n",
       "    <tr style=\"text-align: right;\">\n",
       "      <th></th>\n",
       "      <th>DAY_DT</th>\n",
       "      <th>LOC_IDNT</th>\n",
       "      <th>DBSKU</th>\n",
       "      <th>ONLINE_FLAG</th>\n",
       "      <th>FULL_PRICE_IND</th>\n",
       "      <th>TOTAL_SALES</th>\n",
       "      <th>TOTAL_UNITS</th>\n",
       "      <th>TOTAL_SALES_PRFT</th>\n",
       "      <th>TOTAL_COST</th>\n",
       "    </tr>\n",
       "  </thead>\n",
       "  <tbody>\n",
       "    <tr>\n",
       "      <th>4555</th>\n",
       "      <td>2015-08-24</td>\n",
       "      <td>254</td>\n",
       "      <td>2962365.0</td>\n",
       "      <td>0</td>\n",
       "      <td>NFP</td>\n",
       "      <td>0.0</td>\n",
       "      <td>1.0</td>\n",
       "      <td>-16.50</td>\n",
       "      <td>16.50</td>\n",
       "    </tr>\n",
       "    <tr>\n",
       "      <th>9326</th>\n",
       "      <td>2015-10-28</td>\n",
       "      <td>1287</td>\n",
       "      <td>447417.0</td>\n",
       "      <td>0</td>\n",
       "      <td>NFP</td>\n",
       "      <td>0.0</td>\n",
       "      <td>1.0</td>\n",
       "      <td>-11.54</td>\n",
       "      <td>11.54</td>\n",
       "    </tr>\n",
       "    <tr>\n",
       "      <th>10376</th>\n",
       "      <td>2015-09-11</td>\n",
       "      <td>375</td>\n",
       "      <td>450163.0</td>\n",
       "      <td>0</td>\n",
       "      <td>NFP</td>\n",
       "      <td>0.0</td>\n",
       "      <td>1.0</td>\n",
       "      <td>-24.00</td>\n",
       "      <td>24.00</td>\n",
       "    </tr>\n",
       "    <tr>\n",
       "      <th>10632</th>\n",
       "      <td>2015-11-02</td>\n",
       "      <td>1218</td>\n",
       "      <td>451781.0</td>\n",
       "      <td>0</td>\n",
       "      <td>NFP</td>\n",
       "      <td>0.0</td>\n",
       "      <td>1.0</td>\n",
       "      <td>-23.00</td>\n",
       "      <td>23.00</td>\n",
       "    </tr>\n",
       "    <tr>\n",
       "      <th>21391</th>\n",
       "      <td>2015-09-14</td>\n",
       "      <td>375</td>\n",
       "      <td>450163.0</td>\n",
       "      <td>0</td>\n",
       "      <td>NFP</td>\n",
       "      <td>0.0</td>\n",
       "      <td>1.0</td>\n",
       "      <td>-24.00</td>\n",
       "      <td>24.00</td>\n",
       "    </tr>\n",
       "  </tbody>\n",
       "</table>\n",
       "</div>"
      ],
      "text/plain": [
       "           DAY_DT  LOC_IDNT      DBSKU  ONLINE_FLAG FULL_PRICE_IND  \\\n",
       "4555   2015-08-24       254  2962365.0            0            NFP   \n",
       "9326   2015-10-28      1287   447417.0            0            NFP   \n",
       "10376  2015-09-11       375   450163.0            0            NFP   \n",
       "10632  2015-11-02      1218   451781.0            0            NFP   \n",
       "21391  2015-09-14       375   450163.0            0            NFP   \n",
       "\n",
       "       TOTAL_SALES  TOTAL_UNITS  TOTAL_SALES_PRFT  TOTAL_COST  \n",
       "4555           0.0          1.0            -16.50       16.50  \n",
       "9326           0.0          1.0            -11.54       11.54  \n",
       "10376          0.0          1.0            -24.00       24.00  \n",
       "10632          0.0          1.0            -23.00       23.00  \n",
       "21391          0.0          1.0            -24.00       24.00  "
      ]
     },
     "execution_count": 460,
     "metadata": {},
     "output_type": "execute_result"
    }
   ],
   "source": [
    "transact1[transact1['TOTAL_SALES']==0].head()"
   ]
  },
  {
   "cell_type": "code",
   "execution_count": 461,
   "metadata": {},
   "outputs": [
    {
     "data": {
      "text/plain": [
       "(3220, 9)"
      ]
     },
     "execution_count": 461,
     "metadata": {},
     "output_type": "execute_result"
    }
   ],
   "source": [
    "transact1[transact1['TOTAL_SALES']==0].shape"
   ]
  },
  {
   "cell_type": "code",
   "execution_count": 462,
   "metadata": {},
   "outputs": [],
   "source": [
    "transact1=transact1[transact1['TOTAL_SALES']>0]"
   ]
  },
  {
   "cell_type": "code",
   "execution_count": 463,
   "metadata": {},
   "outputs": [
    {
     "data": {
      "text/plain": [
       "(13044614, 9)"
      ]
     },
     "execution_count": 463,
     "metadata": {},
     "output_type": "execute_result"
    }
   ],
   "source": [
    "transact1.shape"
   ]
  },
  {
   "cell_type": "markdown",
   "metadata": {},
   "source": [
    "#### We obseve that there are costs which are negative\n",
    "\n",
    "This field needs to be examined closely"
   ]
  },
  {
   "cell_type": "code",
   "execution_count": 477,
   "metadata": {},
   "outputs": [
    {
     "data": {
      "text/plain": [
       "6696"
      ]
     },
     "execution_count": 477,
     "metadata": {},
     "output_type": "execute_result"
    }
   ],
   "source": [
    "transact1[transact1['TOTAL_COST']<=0].size"
   ]
  },
  {
   "cell_type": "code",
   "execution_count": 478,
   "metadata": {},
   "outputs": [
    {
     "data": {
      "text/html": [
       "<div>\n",
       "<style scoped>\n",
       "    .dataframe tbody tr th:only-of-type {\n",
       "        vertical-align: middle;\n",
       "    }\n",
       "\n",
       "    .dataframe tbody tr th {\n",
       "        vertical-align: top;\n",
       "    }\n",
       "\n",
       "    .dataframe thead th {\n",
       "        text-align: right;\n",
       "    }\n",
       "</style>\n",
       "<table border=\"1\" class=\"dataframe\">\n",
       "  <thead>\n",
       "    <tr style=\"text-align: right;\">\n",
       "      <th></th>\n",
       "      <th>DAY_DT</th>\n",
       "      <th>LOC_IDNT</th>\n",
       "      <th>DBSKU</th>\n",
       "      <th>ONLINE_FLAG</th>\n",
       "      <th>FULL_PRICE_IND</th>\n",
       "      <th>TOTAL_SALES</th>\n",
       "      <th>TOTAL_UNITS</th>\n",
       "      <th>TOTAL_SALES_PRFT</th>\n",
       "      <th>TOTAL_COST</th>\n",
       "    </tr>\n",
       "  </thead>\n",
       "  <tbody>\n",
       "    <tr>\n",
       "      <th>1140823</th>\n",
       "      <td>2015-08-07</td>\n",
       "      <td>1146</td>\n",
       "      <td>292144.0</td>\n",
       "      <td>0</td>\n",
       "      <td>FP</td>\n",
       "      <td>40.00</td>\n",
       "      <td>1.0</td>\n",
       "      <td>40.00</td>\n",
       "      <td>0.00</td>\n",
       "    </tr>\n",
       "    <tr>\n",
       "      <th>1287500</th>\n",
       "      <td>2015-09-07</td>\n",
       "      <td>1146</td>\n",
       "      <td>292144.0</td>\n",
       "      <td>0</td>\n",
       "      <td>NFP</td>\n",
       "      <td>32.00</td>\n",
       "      <td>1.0</td>\n",
       "      <td>32.00</td>\n",
       "      <td>0.00</td>\n",
       "    </tr>\n",
       "    <tr>\n",
       "      <th>7462944</th>\n",
       "      <td>2017-05-27</td>\n",
       "      <td>419</td>\n",
       "      <td>546002.0</td>\n",
       "      <td>0</td>\n",
       "      <td>NFP</td>\n",
       "      <td>28.29</td>\n",
       "      <td>1.0</td>\n",
       "      <td>29.38</td>\n",
       "      <td>-1.09</td>\n",
       "    </tr>\n",
       "    <tr>\n",
       "      <th>7463202</th>\n",
       "      <td>2017-05-27</td>\n",
       "      <td>636</td>\n",
       "      <td>622159.0</td>\n",
       "      <td>0</td>\n",
       "      <td>NFP</td>\n",
       "      <td>49.48</td>\n",
       "      <td>1.0</td>\n",
       "      <td>51.96</td>\n",
       "      <td>-2.48</td>\n",
       "    </tr>\n",
       "    <tr>\n",
       "      <th>7463531</th>\n",
       "      <td>2017-05-27</td>\n",
       "      <td>1229</td>\n",
       "      <td>2152702.0</td>\n",
       "      <td>0</td>\n",
       "      <td>NFP</td>\n",
       "      <td>44.68</td>\n",
       "      <td>1.0</td>\n",
       "      <td>50.48</td>\n",
       "      <td>-5.80</td>\n",
       "    </tr>\n",
       "  </tbody>\n",
       "</table>\n",
       "</div>"
      ],
      "text/plain": [
       "             DAY_DT  LOC_IDNT      DBSKU  ONLINE_FLAG FULL_PRICE_IND  \\\n",
       "1140823  2015-08-07      1146   292144.0            0             FP   \n",
       "1287500  2015-09-07      1146   292144.0            0            NFP   \n",
       "7462944  2017-05-27       419   546002.0            0            NFP   \n",
       "7463202  2017-05-27       636   622159.0            0            NFP   \n",
       "7463531  2017-05-27      1229  2152702.0            0            NFP   \n",
       "\n",
       "         TOTAL_SALES  TOTAL_UNITS  TOTAL_SALES_PRFT  TOTAL_COST  \n",
       "1140823        40.00          1.0             40.00        0.00  \n",
       "1287500        32.00          1.0             32.00        0.00  \n",
       "7462944        28.29          1.0             29.38       -1.09  \n",
       "7463202        49.48          1.0             51.96       -2.48  \n",
       "7463531        44.68          1.0             50.48       -5.80  "
      ]
     },
     "execution_count": 478,
     "metadata": {},
     "output_type": "execute_result"
    }
   ],
   "source": [
    "transact1[transact1['TOTAL_COST']<=0].head()"
   ]
  },
  {
   "cell_type": "markdown",
   "metadata": {},
   "source": [
    "#### These negative cost transactions, result in unusual higher profit results (profit of more than sales value) and will be removed"
   ]
  },
  {
   "cell_type": "code",
   "execution_count": 479,
   "metadata": {},
   "outputs": [],
   "source": [
    "transact1 = transact1[transact1['TOTAL_COST']>0]"
   ]
  },
  {
   "cell_type": "markdown",
   "metadata": {},
   "source": [
    "### NOTE: There are many transactions at low cost (cost =1 to 7). \n",
    "\n",
    "#### We are including these for now, but treatment may have to change\n"
   ]
  },
  {
   "cell_type": "code",
   "execution_count": null,
   "metadata": {},
   "outputs": [],
   "source": []
  },
  {
   "cell_type": "markdown",
   "metadata": {},
   "source": [
    "#### Note: There are large numbers of transactions with 0 or negative profit"
   ]
  },
  {
   "cell_type": "code",
   "execution_count": 480,
   "metadata": {},
   "outputs": [
    {
     "data": {
      "text/plain": [
       "8892657"
      ]
     },
     "execution_count": 480,
     "metadata": {},
     "output_type": "execute_result"
    }
   ],
   "source": [
    "transact1[transact1['TOTAL_SALES_PRFT']<=0].size"
   ]
  },
  {
   "cell_type": "code",
   "execution_count": null,
   "metadata": {},
   "outputs": [],
   "source": []
  },
  {
   "cell_type": "markdown",
   "metadata": {},
   "source": [
    "#### Add Unit Sales price Column"
   ]
  },
  {
   "cell_type": "code",
   "execution_count": 481,
   "metadata": {},
   "outputs": [],
   "source": [
    "transact1['UNIT_SALES_PRICE']=transact1['TOTAL_SALES']/transact1['TOTAL_UNITS']"
   ]
  },
  {
   "cell_type": "code",
   "execution_count": 484,
   "metadata": {},
   "outputs": [
    {
     "data": {
      "text/html": [
       "<div>\n",
       "<style scoped>\n",
       "    .dataframe tbody tr th:only-of-type {\n",
       "        vertical-align: middle;\n",
       "    }\n",
       "\n",
       "    .dataframe tbody tr th {\n",
       "        vertical-align: top;\n",
       "    }\n",
       "\n",
       "    .dataframe thead th {\n",
       "        text-align: right;\n",
       "    }\n",
       "</style>\n",
       "<table border=\"1\" class=\"dataframe\">\n",
       "  <thead>\n",
       "    <tr style=\"text-align: right;\">\n",
       "      <th></th>\n",
       "      <th>DAY_DT</th>\n",
       "      <th>LOC_IDNT</th>\n",
       "      <th>DBSKU</th>\n",
       "      <th>ONLINE_FLAG</th>\n",
       "      <th>FULL_PRICE_IND</th>\n",
       "      <th>TOTAL_SALES</th>\n",
       "      <th>TOTAL_UNITS</th>\n",
       "      <th>TOTAL_SALES_PRFT</th>\n",
       "      <th>TOTAL_COST</th>\n",
       "      <th>UNIT_SALES_PRICE</th>\n",
       "    </tr>\n",
       "  </thead>\n",
       "  <tbody>\n",
       "    <tr>\n",
       "      <th>22483</th>\n",
       "      <td>2015-08-13</td>\n",
       "      <td>914</td>\n",
       "      <td>436030.0</td>\n",
       "      <td>0</td>\n",
       "      <td>NFP</td>\n",
       "      <td>1.62</td>\n",
       "      <td>1.0</td>\n",
       "      <td>-17.88</td>\n",
       "      <td>19.5</td>\n",
       "      <td>1.62</td>\n",
       "    </tr>\n",
       "    <tr>\n",
       "      <th>30575</th>\n",
       "      <td>2015-09-06</td>\n",
       "      <td>417</td>\n",
       "      <td>442467.0</td>\n",
       "      <td>0</td>\n",
       "      <td>NFP</td>\n",
       "      <td>1.00</td>\n",
       "      <td>1.0</td>\n",
       "      <td>-17.50</td>\n",
       "      <td>18.5</td>\n",
       "      <td>1.00</td>\n",
       "    </tr>\n",
       "    <tr>\n",
       "      <th>32520</th>\n",
       "      <td>2015-08-29</td>\n",
       "      <td>292</td>\n",
       "      <td>408500.0</td>\n",
       "      <td>0</td>\n",
       "      <td>NFP</td>\n",
       "      <td>1.80</td>\n",
       "      <td>1.0</td>\n",
       "      <td>-14.70</td>\n",
       "      <td>16.5</td>\n",
       "      <td>1.80</td>\n",
       "    </tr>\n",
       "    <tr>\n",
       "      <th>36420</th>\n",
       "      <td>2015-10-09</td>\n",
       "      <td>11</td>\n",
       "      <td>412478.0</td>\n",
       "      <td>0</td>\n",
       "      <td>NFP</td>\n",
       "      <td>0.36</td>\n",
       "      <td>1.0</td>\n",
       "      <td>-18.14</td>\n",
       "      <td>18.5</td>\n",
       "      <td>0.36</td>\n",
       "    </tr>\n",
       "    <tr>\n",
       "      <th>40159</th>\n",
       "      <td>2015-09-01</td>\n",
       "      <td>257</td>\n",
       "      <td>466896.0</td>\n",
       "      <td>0</td>\n",
       "      <td>NFP</td>\n",
       "      <td>1.80</td>\n",
       "      <td>1.0</td>\n",
       "      <td>-13.70</td>\n",
       "      <td>15.5</td>\n",
       "      <td>1.80</td>\n",
       "    </tr>\n",
       "  </tbody>\n",
       "</table>\n",
       "</div>"
      ],
      "text/plain": [
       "           DAY_DT  LOC_IDNT     DBSKU  ONLINE_FLAG FULL_PRICE_IND  \\\n",
       "22483  2015-08-13       914  436030.0            0            NFP   \n",
       "30575  2015-09-06       417  442467.0            0            NFP   \n",
       "32520  2015-08-29       292  408500.0            0            NFP   \n",
       "36420  2015-10-09        11  412478.0            0            NFP   \n",
       "40159  2015-09-01       257  466896.0            0            NFP   \n",
       "\n",
       "       TOTAL_SALES  TOTAL_UNITS  TOTAL_SALES_PRFT  TOTAL_COST  \\\n",
       "22483         1.62          1.0            -17.88        19.5   \n",
       "30575         1.00          1.0            -17.50        18.5   \n",
       "32520         1.80          1.0            -14.70        16.5   \n",
       "36420         0.36          1.0            -18.14        18.5   \n",
       "40159         1.80          1.0            -13.70        15.5   \n",
       "\n",
       "       UNIT_SALES_PRICE  \n",
       "22483              1.62  \n",
       "30575              1.00  \n",
       "32520              1.80  \n",
       "36420              0.36  \n",
       "40159              1.80  "
      ]
     },
     "execution_count": 484,
     "metadata": {},
     "output_type": "execute_result"
    }
   ],
   "source": [
    "transact1[transact1['UNIT_SALES_PRICE']<2].head(5)"
   ]
  },
  {
   "cell_type": "markdown",
   "metadata": {},
   "source": [
    "#### We observe that there are several transactions with sales value itself is less than 1, which results in significantly low per unit costs\n",
    "\n",
    "#### Lacking a specific threshold from the Customer, we are taking a minimal threshold of 1 for TOTAL_SALES. Lower values will be dropped\n"
   ]
  },
  {
   "cell_type": "code",
   "execution_count": 500,
   "metadata": {},
   "outputs": [
    {
     "data": {
      "text/plain": [
       "(1241, 10)"
      ]
     },
     "execution_count": 500,
     "metadata": {},
     "output_type": "execute_result"
    }
   ],
   "source": [
    "transact1[transact1['UNIT_SALES_PRICE']<1].shape"
   ]
  },
  {
   "cell_type": "code",
   "execution_count": 501,
   "metadata": {},
   "outputs": [],
   "source": [
    "transact1=transact1[transact1['UNIT_SALES_PRICE']>=1]"
   ]
  },
  {
   "cell_type": "code",
   "execution_count": null,
   "metadata": {},
   "outputs": [],
   "source": []
  },
  {
   "cell_type": "code",
   "execution_count": null,
   "metadata": {},
   "outputs": [],
   "source": []
  },
  {
   "cell_type": "code",
   "execution_count": 502,
   "metadata": {},
   "outputs": [
    {
     "data": {
      "text/plain": [
       "(13042629, 10)"
      ]
     },
     "execution_count": 502,
     "metadata": {},
     "output_type": "execute_result"
    }
   ],
   "source": [
    "transact1.shape"
   ]
  },
  {
   "cell_type": "markdown",
   "metadata": {},
   "source": [
    "#### Change DAY_DT  column to Datetime, and visualize"
   ]
  },
  {
   "cell_type": "code",
   "execution_count": 503,
   "metadata": {},
   "outputs": [
    {
     "data": {
      "text/plain": [
       "DAY_DT               object\n",
       "LOC_IDNT              int64\n",
       "DBSKU               float64\n",
       "ONLINE_FLAG           int64\n",
       "FULL_PRICE_IND       object\n",
       "TOTAL_SALES         float64\n",
       "TOTAL_UNITS         float64\n",
       "TOTAL_SALES_PRFT    float64\n",
       "TOTAL_COST          float64\n",
       "UNIT_SALES_PRICE    float64\n",
       "dtype: object"
      ]
     },
     "execution_count": 503,
     "metadata": {},
     "output_type": "execute_result"
    }
   ],
   "source": [
    "#date is an object at this point\n",
    "\n",
    "transact1.dtypes"
   ]
  },
  {
   "cell_type": "code",
   "execution_count": 504,
   "metadata": {},
   "outputs": [],
   "source": [
    "transact1['DAY_DT']=pd.to_datetime(transact1['DAY_DT'])"
   ]
  },
  {
   "cell_type": "code",
   "execution_count": 505,
   "metadata": {},
   "outputs": [
    {
     "data": {
      "text/html": [
       "<div>\n",
       "<style scoped>\n",
       "    .dataframe tbody tr th:only-of-type {\n",
       "        vertical-align: middle;\n",
       "    }\n",
       "\n",
       "    .dataframe tbody tr th {\n",
       "        vertical-align: top;\n",
       "    }\n",
       "\n",
       "    .dataframe thead th {\n",
       "        text-align: right;\n",
       "    }\n",
       "</style>\n",
       "<table border=\"1\" class=\"dataframe\">\n",
       "  <thead>\n",
       "    <tr style=\"text-align: right;\">\n",
       "      <th></th>\n",
       "      <th>DAY_DT</th>\n",
       "      <th>LOC_IDNT</th>\n",
       "      <th>DBSKU</th>\n",
       "      <th>ONLINE_FLAG</th>\n",
       "      <th>FULL_PRICE_IND</th>\n",
       "      <th>TOTAL_SALES</th>\n",
       "      <th>TOTAL_UNITS</th>\n",
       "      <th>TOTAL_SALES_PRFT</th>\n",
       "      <th>TOTAL_COST</th>\n",
       "      <th>UNIT_SALES_PRICE</th>\n",
       "    </tr>\n",
       "  </thead>\n",
       "  <tbody>\n",
       "    <tr>\n",
       "      <th>0</th>\n",
       "      <td>2015-09-26</td>\n",
       "      <td>1218</td>\n",
       "      <td>466896.0</td>\n",
       "      <td>0</td>\n",
       "      <td>NFP</td>\n",
       "      <td>16.80</td>\n",
       "      <td>1.0</td>\n",
       "      <td>1.3000</td>\n",
       "      <td>15.5000</td>\n",
       "      <td>16.80</td>\n",
       "    </tr>\n",
       "    <tr>\n",
       "      <th>1</th>\n",
       "      <td>2015-08-02</td>\n",
       "      <td>1218</td>\n",
       "      <td>412445.0</td>\n",
       "      <td>0</td>\n",
       "      <td>NFP</td>\n",
       "      <td>29.99</td>\n",
       "      <td>1.0</td>\n",
       "      <td>12.9900</td>\n",
       "      <td>17.0000</td>\n",
       "      <td>29.99</td>\n",
       "    </tr>\n",
       "    <tr>\n",
       "      <th>2</th>\n",
       "      <td>2015-10-21</td>\n",
       "      <td>1218</td>\n",
       "      <td>491738.0</td>\n",
       "      <td>0</td>\n",
       "      <td>FP</td>\n",
       "      <td>44.00</td>\n",
       "      <td>1.0</td>\n",
       "      <td>28.2500</td>\n",
       "      <td>15.7500</td>\n",
       "      <td>44.00</td>\n",
       "    </tr>\n",
       "    <tr>\n",
       "      <th>3</th>\n",
       "      <td>2015-08-02</td>\n",
       "      <td>1218</td>\n",
       "      <td>414979.0</td>\n",
       "      <td>0</td>\n",
       "      <td>NFP</td>\n",
       "      <td>24.00</td>\n",
       "      <td>1.0</td>\n",
       "      <td>6.9936</td>\n",
       "      <td>17.0064</td>\n",
       "      <td>24.00</td>\n",
       "    </tr>\n",
       "    <tr>\n",
       "      <th>4</th>\n",
       "      <td>2015-07-26</td>\n",
       "      <td>1218</td>\n",
       "      <td>458372.0</td>\n",
       "      <td>0</td>\n",
       "      <td>FP</td>\n",
       "      <td>48.00</td>\n",
       "      <td>1.0</td>\n",
       "      <td>30.0000</td>\n",
       "      <td>18.0000</td>\n",
       "      <td>48.00</td>\n",
       "    </tr>\n",
       "  </tbody>\n",
       "</table>\n",
       "</div>"
      ],
      "text/plain": [
       "      DAY_DT  LOC_IDNT     DBSKU  ONLINE_FLAG FULL_PRICE_IND  TOTAL_SALES  \\\n",
       "0 2015-09-26      1218  466896.0            0            NFP        16.80   \n",
       "1 2015-08-02      1218  412445.0            0            NFP        29.99   \n",
       "2 2015-10-21      1218  491738.0            0             FP        44.00   \n",
       "3 2015-08-02      1218  414979.0            0            NFP        24.00   \n",
       "4 2015-07-26      1218  458372.0            0             FP        48.00   \n",
       "\n",
       "   TOTAL_UNITS  TOTAL_SALES_PRFT  TOTAL_COST  UNIT_SALES_PRICE  \n",
       "0          1.0            1.3000     15.5000             16.80  \n",
       "1          1.0           12.9900     17.0000             29.99  \n",
       "2          1.0           28.2500     15.7500             44.00  \n",
       "3          1.0            6.9936     17.0064             24.00  \n",
       "4          1.0           30.0000     18.0000             48.00  "
      ]
     },
     "execution_count": 505,
     "metadata": {},
     "output_type": "execute_result"
    }
   ],
   "source": [
    "transact1.head()"
   ]
  },
  {
   "cell_type": "markdown",
   "metadata": {},
   "source": [
    "#### Visualize Timeline"
   ]
  },
  {
   "cell_type": "code",
   "execution_count": 506,
   "metadata": {},
   "outputs": [],
   "source": [
    "timeline=transact1[['DAY_DT','TOTAL_UNITS']]"
   ]
  },
  {
   "cell_type": "code",
   "execution_count": 507,
   "metadata": {},
   "outputs": [
    {
     "data": {
      "text/plain": [
       "(13042629, 2)"
      ]
     },
     "execution_count": 507,
     "metadata": {},
     "output_type": "execute_result"
    }
   ],
   "source": [
    "timeline.shape"
   ]
  },
  {
   "cell_type": "code",
   "execution_count": 508,
   "metadata": {},
   "outputs": [
    {
     "data": {
      "text/plain": [
       "DAY_DT         1077\n",
       "TOTAL_UNITS     145\n",
       "dtype: int64"
      ]
     },
     "execution_count": 508,
     "metadata": {},
     "output_type": "execute_result"
    }
   ],
   "source": [
    "timeline.nunique()"
   ]
  },
  {
   "cell_type": "code",
   "execution_count": 509,
   "metadata": {},
   "outputs": [],
   "source": [
    "timeline=timeline.groupby(['DAY_DT']).sum()"
   ]
  },
  {
   "cell_type": "code",
   "execution_count": 510,
   "metadata": {},
   "outputs": [
    {
     "data": {
      "text/html": [
       "<div>\n",
       "<style scoped>\n",
       "    .dataframe tbody tr th:only-of-type {\n",
       "        vertical-align: middle;\n",
       "    }\n",
       "\n",
       "    .dataframe tbody tr th {\n",
       "        vertical-align: top;\n",
       "    }\n",
       "\n",
       "    .dataframe thead th {\n",
       "        text-align: right;\n",
       "    }\n",
       "</style>\n",
       "<table border=\"1\" class=\"dataframe\">\n",
       "  <thead>\n",
       "    <tr style=\"text-align: right;\">\n",
       "      <th></th>\n",
       "      <th>TOTAL_UNITS</th>\n",
       "    </tr>\n",
       "    <tr>\n",
       "      <th>DAY_DT</th>\n",
       "      <th></th>\n",
       "    </tr>\n",
       "  </thead>\n",
       "  <tbody>\n",
       "    <tr>\n",
       "      <th>2015-07-26</th>\n",
       "      <td>13955.0</td>\n",
       "    </tr>\n",
       "    <tr>\n",
       "      <th>2015-07-27</th>\n",
       "      <td>15280.0</td>\n",
       "    </tr>\n",
       "    <tr>\n",
       "      <th>2015-07-28</th>\n",
       "      <td>16341.0</td>\n",
       "    </tr>\n",
       "    <tr>\n",
       "      <th>2015-07-29</th>\n",
       "      <td>16718.0</td>\n",
       "    </tr>\n",
       "    <tr>\n",
       "      <th>2015-07-30</th>\n",
       "      <td>15778.0</td>\n",
       "    </tr>\n",
       "  </tbody>\n",
       "</table>\n",
       "</div>"
      ],
      "text/plain": [
       "            TOTAL_UNITS\n",
       "DAY_DT                 \n",
       "2015-07-26      13955.0\n",
       "2015-07-27      15280.0\n",
       "2015-07-28      16341.0\n",
       "2015-07-29      16718.0\n",
       "2015-07-30      15778.0"
      ]
     },
     "execution_count": 510,
     "metadata": {},
     "output_type": "execute_result"
    }
   ],
   "source": [
    "timeline.head()"
   ]
  },
  {
   "cell_type": "code",
   "execution_count": 511,
   "metadata": {},
   "outputs": [
    {
     "data": {
      "text/plain": [
       "(1077, 1)"
      ]
     },
     "execution_count": 511,
     "metadata": {},
     "output_type": "execute_result"
    }
   ],
   "source": [
    "timeline.shape"
   ]
  },
  {
   "cell_type": "code",
   "execution_count": 512,
   "metadata": {},
   "outputs": [],
   "source": [
    "import matplotlib as mp"
   ]
  },
  {
   "cell_type": "code",
   "execution_count": 513,
   "metadata": {},
   "outputs": [],
   "source": [
    "%matplotlib tk"
   ]
  },
  {
   "cell_type": "code",
   "execution_count": 514,
   "metadata": {},
   "outputs": [
    {
     "data": {
      "text/plain": [
       "<matplotlib.axes._subplots.AxesSubplot at 0x15e12c3eb70>"
      ]
     },
     "execution_count": 514,
     "metadata": {},
     "output_type": "execute_result"
    }
   ],
   "source": [
    "timeline.plot(figsize=(35,4))"
   ]
  },
  {
   "cell_type": "markdown",
   "metadata": {},
   "source": [
    "#### Significant findings\n",
    "-  multiple seasonal and cyclical effects in our data\n",
    "-  Sales increase on week ends - points of sales are physical stores, so it follows that people visit on weekends\n",
    "\n",
    "-  Peaks during March - Possibly due to financial year sales pressure?\n",
    "-  not visible in initial chart, but seasonal sales improvements near christmas\n",
    "\n",
    "\n",
    "### Further steps in later version of code: Use statsmodel to decompose and separately identify trend, seasonal and random effects in the time series data."
   ]
  },
  {
   "cell_type": "code",
   "execution_count": null,
   "metadata": {},
   "outputs": [],
   "source": []
  },
  {
   "cell_type": "markdown",
   "metadata": {},
   "source": [
    "#### Additonal Suggested Cleaning \n",
    "-  Update format to include day\n",
    "-  Group by month and replot\n",
    "-  Dates start at 25 Jun 2015, and end at 8 Jul 2018. Suggesting that these incomplete months of data can be dropped if needed"
   ]
  },
  {
   "cell_type": "markdown",
   "metadata": {},
   "source": [
    "#### Generate the profile for transact1 to determine any other issues which may exist"
   ]
  },
  {
   "cell_type": "code",
   "execution_count": 515,
   "metadata": {},
   "outputs": [
    {
     "data": {
      "text/html": [
       "<div>\n",
       "<style scoped>\n",
       "    .dataframe tbody tr th:only-of-type {\n",
       "        vertical-align: middle;\n",
       "    }\n",
       "\n",
       "    .dataframe tbody tr th {\n",
       "        vertical-align: top;\n",
       "    }\n",
       "\n",
       "    .dataframe thead th {\n",
       "        text-align: right;\n",
       "    }\n",
       "</style>\n",
       "<table border=\"1\" class=\"dataframe\">\n",
       "  <thead>\n",
       "    <tr style=\"text-align: right;\">\n",
       "      <th></th>\n",
       "      <th>DAY_DT</th>\n",
       "      <th>LOC_IDNT</th>\n",
       "      <th>DBSKU</th>\n",
       "      <th>ONLINE_FLAG</th>\n",
       "      <th>FULL_PRICE_IND</th>\n",
       "      <th>TOTAL_SALES</th>\n",
       "      <th>TOTAL_UNITS</th>\n",
       "      <th>TOTAL_SALES_PRFT</th>\n",
       "      <th>TOTAL_COST</th>\n",
       "      <th>UNIT_SALES_PRICE</th>\n",
       "    </tr>\n",
       "  </thead>\n",
       "  <tbody>\n",
       "    <tr>\n",
       "      <th>0</th>\n",
       "      <td>2015-09-26</td>\n",
       "      <td>1218</td>\n",
       "      <td>466896.0</td>\n",
       "      <td>0</td>\n",
       "      <td>NFP</td>\n",
       "      <td>16.80</td>\n",
       "      <td>1.0</td>\n",
       "      <td>1.3000</td>\n",
       "      <td>15.5000</td>\n",
       "      <td>16.80</td>\n",
       "    </tr>\n",
       "    <tr>\n",
       "      <th>1</th>\n",
       "      <td>2015-08-02</td>\n",
       "      <td>1218</td>\n",
       "      <td>412445.0</td>\n",
       "      <td>0</td>\n",
       "      <td>NFP</td>\n",
       "      <td>29.99</td>\n",
       "      <td>1.0</td>\n",
       "      <td>12.9900</td>\n",
       "      <td>17.0000</td>\n",
       "      <td>29.99</td>\n",
       "    </tr>\n",
       "    <tr>\n",
       "      <th>2</th>\n",
       "      <td>2015-10-21</td>\n",
       "      <td>1218</td>\n",
       "      <td>491738.0</td>\n",
       "      <td>0</td>\n",
       "      <td>FP</td>\n",
       "      <td>44.00</td>\n",
       "      <td>1.0</td>\n",
       "      <td>28.2500</td>\n",
       "      <td>15.7500</td>\n",
       "      <td>44.00</td>\n",
       "    </tr>\n",
       "    <tr>\n",
       "      <th>3</th>\n",
       "      <td>2015-08-02</td>\n",
       "      <td>1218</td>\n",
       "      <td>414979.0</td>\n",
       "      <td>0</td>\n",
       "      <td>NFP</td>\n",
       "      <td>24.00</td>\n",
       "      <td>1.0</td>\n",
       "      <td>6.9936</td>\n",
       "      <td>17.0064</td>\n",
       "      <td>24.00</td>\n",
       "    </tr>\n",
       "    <tr>\n",
       "      <th>4</th>\n",
       "      <td>2015-07-26</td>\n",
       "      <td>1218</td>\n",
       "      <td>458372.0</td>\n",
       "      <td>0</td>\n",
       "      <td>FP</td>\n",
       "      <td>48.00</td>\n",
       "      <td>1.0</td>\n",
       "      <td>30.0000</td>\n",
       "      <td>18.0000</td>\n",
       "      <td>48.00</td>\n",
       "    </tr>\n",
       "  </tbody>\n",
       "</table>\n",
       "</div>"
      ],
      "text/plain": [
       "      DAY_DT  LOC_IDNT     DBSKU  ONLINE_FLAG FULL_PRICE_IND  TOTAL_SALES  \\\n",
       "0 2015-09-26      1218  466896.0            0            NFP        16.80   \n",
       "1 2015-08-02      1218  412445.0            0            NFP        29.99   \n",
       "2 2015-10-21      1218  491738.0            0             FP        44.00   \n",
       "3 2015-08-02      1218  414979.0            0            NFP        24.00   \n",
       "4 2015-07-26      1218  458372.0            0             FP        48.00   \n",
       "\n",
       "   TOTAL_UNITS  TOTAL_SALES_PRFT  TOTAL_COST  UNIT_SALES_PRICE  \n",
       "0          1.0            1.3000     15.5000             16.80  \n",
       "1          1.0           12.9900     17.0000             29.99  \n",
       "2          1.0           28.2500     15.7500             44.00  \n",
       "3          1.0            6.9936     17.0064             24.00  \n",
       "4          1.0           30.0000     18.0000             48.00  "
      ]
     },
     "execution_count": 515,
     "metadata": {},
     "output_type": "execute_result"
    }
   ],
   "source": [
    "transact1.head()"
   ]
  },
  {
   "cell_type": "markdown",
   "metadata": {},
   "source": [
    "#### Downcast FULL_PRICE_IND to int"
   ]
  },
  {
   "cell_type": "code",
   "execution_count": 516,
   "metadata": {},
   "outputs": [],
   "source": [
    "transact1['FULL_PRICE_IND'] = transact1['FULL_PRICE_IND'].map({'NFP': 0, 'FP': 1})"
   ]
  },
  {
   "cell_type": "code",
   "execution_count": 517,
   "metadata": {},
   "outputs": [
    {
     "data": {
      "text/html": [
       "<div>\n",
       "<style scoped>\n",
       "    .dataframe tbody tr th:only-of-type {\n",
       "        vertical-align: middle;\n",
       "    }\n",
       "\n",
       "    .dataframe tbody tr th {\n",
       "        vertical-align: top;\n",
       "    }\n",
       "\n",
       "    .dataframe thead th {\n",
       "        text-align: right;\n",
       "    }\n",
       "</style>\n",
       "<table border=\"1\" class=\"dataframe\">\n",
       "  <thead>\n",
       "    <tr style=\"text-align: right;\">\n",
       "      <th></th>\n",
       "      <th>DAY_DT</th>\n",
       "      <th>LOC_IDNT</th>\n",
       "      <th>DBSKU</th>\n",
       "      <th>ONLINE_FLAG</th>\n",
       "      <th>FULL_PRICE_IND</th>\n",
       "      <th>TOTAL_SALES</th>\n",
       "      <th>TOTAL_UNITS</th>\n",
       "      <th>TOTAL_SALES_PRFT</th>\n",
       "      <th>TOTAL_COST</th>\n",
       "      <th>UNIT_SALES_PRICE</th>\n",
       "    </tr>\n",
       "  </thead>\n",
       "  <tbody>\n",
       "    <tr>\n",
       "      <th>0</th>\n",
       "      <td>2015-09-26</td>\n",
       "      <td>1218</td>\n",
       "      <td>466896.0</td>\n",
       "      <td>0</td>\n",
       "      <td>0</td>\n",
       "      <td>16.80</td>\n",
       "      <td>1.0</td>\n",
       "      <td>1.3000</td>\n",
       "      <td>15.5000</td>\n",
       "      <td>16.80</td>\n",
       "    </tr>\n",
       "    <tr>\n",
       "      <th>1</th>\n",
       "      <td>2015-08-02</td>\n",
       "      <td>1218</td>\n",
       "      <td>412445.0</td>\n",
       "      <td>0</td>\n",
       "      <td>0</td>\n",
       "      <td>29.99</td>\n",
       "      <td>1.0</td>\n",
       "      <td>12.9900</td>\n",
       "      <td>17.0000</td>\n",
       "      <td>29.99</td>\n",
       "    </tr>\n",
       "    <tr>\n",
       "      <th>2</th>\n",
       "      <td>2015-10-21</td>\n",
       "      <td>1218</td>\n",
       "      <td>491738.0</td>\n",
       "      <td>0</td>\n",
       "      <td>1</td>\n",
       "      <td>44.00</td>\n",
       "      <td>1.0</td>\n",
       "      <td>28.2500</td>\n",
       "      <td>15.7500</td>\n",
       "      <td>44.00</td>\n",
       "    </tr>\n",
       "    <tr>\n",
       "      <th>3</th>\n",
       "      <td>2015-08-02</td>\n",
       "      <td>1218</td>\n",
       "      <td>414979.0</td>\n",
       "      <td>0</td>\n",
       "      <td>0</td>\n",
       "      <td>24.00</td>\n",
       "      <td>1.0</td>\n",
       "      <td>6.9936</td>\n",
       "      <td>17.0064</td>\n",
       "      <td>24.00</td>\n",
       "    </tr>\n",
       "    <tr>\n",
       "      <th>4</th>\n",
       "      <td>2015-07-26</td>\n",
       "      <td>1218</td>\n",
       "      <td>458372.0</td>\n",
       "      <td>0</td>\n",
       "      <td>1</td>\n",
       "      <td>48.00</td>\n",
       "      <td>1.0</td>\n",
       "      <td>30.0000</td>\n",
       "      <td>18.0000</td>\n",
       "      <td>48.00</td>\n",
       "    </tr>\n",
       "  </tbody>\n",
       "</table>\n",
       "</div>"
      ],
      "text/plain": [
       "      DAY_DT  LOC_IDNT     DBSKU  ONLINE_FLAG  FULL_PRICE_IND  TOTAL_SALES  \\\n",
       "0 2015-09-26      1218  466896.0            0               0        16.80   \n",
       "1 2015-08-02      1218  412445.0            0               0        29.99   \n",
       "2 2015-10-21      1218  491738.0            0               1        44.00   \n",
       "3 2015-08-02      1218  414979.0            0               0        24.00   \n",
       "4 2015-07-26      1218  458372.0            0               1        48.00   \n",
       "\n",
       "   TOTAL_UNITS  TOTAL_SALES_PRFT  TOTAL_COST  UNIT_SALES_PRICE  \n",
       "0          1.0            1.3000     15.5000             16.80  \n",
       "1          1.0           12.9900     17.0000             29.99  \n",
       "2          1.0           28.2500     15.7500             44.00  \n",
       "3          1.0            6.9936     17.0064             24.00  \n",
       "4          1.0           30.0000     18.0000             48.00  "
      ]
     },
     "execution_count": 517,
     "metadata": {},
     "output_type": "execute_result"
    }
   ],
   "source": [
    "transact1.head()"
   ]
  },
  {
   "cell_type": "code",
   "execution_count": 518,
   "metadata": {},
   "outputs": [],
   "source": [
    "transact1['FULL_PRICE_IND'] = transact1['FULL_PRICE_IND'].astype(np.int8)"
   ]
  },
  {
   "cell_type": "code",
   "execution_count": 519,
   "metadata": {},
   "outputs": [],
   "source": [
    "transact1['ONLINE_FLAG'] = transact1['ONLINE_FLAG'].astype(np.int8)"
   ]
  },
  {
   "cell_type": "code",
   "execution_count": 520,
   "metadata": {},
   "outputs": [
    {
     "data": {
      "text/html": [
       "<div>\n",
       "<style scoped>\n",
       "    .dataframe tbody tr th:only-of-type {\n",
       "        vertical-align: middle;\n",
       "    }\n",
       "\n",
       "    .dataframe tbody tr th {\n",
       "        vertical-align: top;\n",
       "    }\n",
       "\n",
       "    .dataframe thead th {\n",
       "        text-align: right;\n",
       "    }\n",
       "</style>\n",
       "<table border=\"1\" class=\"dataframe\">\n",
       "  <thead>\n",
       "    <tr style=\"text-align: right;\">\n",
       "      <th></th>\n",
       "      <th>DAY_DT</th>\n",
       "      <th>LOC_IDNT</th>\n",
       "      <th>DBSKU</th>\n",
       "      <th>ONLINE_FLAG</th>\n",
       "      <th>FULL_PRICE_IND</th>\n",
       "      <th>TOTAL_SALES</th>\n",
       "      <th>TOTAL_UNITS</th>\n",
       "      <th>TOTAL_SALES_PRFT</th>\n",
       "      <th>TOTAL_COST</th>\n",
       "      <th>UNIT_SALES_PRICE</th>\n",
       "    </tr>\n",
       "  </thead>\n",
       "  <tbody>\n",
       "    <tr>\n",
       "      <th>0</th>\n",
       "      <td>2015-09-26</td>\n",
       "      <td>1218</td>\n",
       "      <td>466896.0</td>\n",
       "      <td>0</td>\n",
       "      <td>0</td>\n",
       "      <td>16.80</td>\n",
       "      <td>1.0</td>\n",
       "      <td>1.3000</td>\n",
       "      <td>15.5000</td>\n",
       "      <td>16.80</td>\n",
       "    </tr>\n",
       "    <tr>\n",
       "      <th>1</th>\n",
       "      <td>2015-08-02</td>\n",
       "      <td>1218</td>\n",
       "      <td>412445.0</td>\n",
       "      <td>0</td>\n",
       "      <td>0</td>\n",
       "      <td>29.99</td>\n",
       "      <td>1.0</td>\n",
       "      <td>12.9900</td>\n",
       "      <td>17.0000</td>\n",
       "      <td>29.99</td>\n",
       "    </tr>\n",
       "    <tr>\n",
       "      <th>2</th>\n",
       "      <td>2015-10-21</td>\n",
       "      <td>1218</td>\n",
       "      <td>491738.0</td>\n",
       "      <td>0</td>\n",
       "      <td>1</td>\n",
       "      <td>44.00</td>\n",
       "      <td>1.0</td>\n",
       "      <td>28.2500</td>\n",
       "      <td>15.7500</td>\n",
       "      <td>44.00</td>\n",
       "    </tr>\n",
       "    <tr>\n",
       "      <th>3</th>\n",
       "      <td>2015-08-02</td>\n",
       "      <td>1218</td>\n",
       "      <td>414979.0</td>\n",
       "      <td>0</td>\n",
       "      <td>0</td>\n",
       "      <td>24.00</td>\n",
       "      <td>1.0</td>\n",
       "      <td>6.9936</td>\n",
       "      <td>17.0064</td>\n",
       "      <td>24.00</td>\n",
       "    </tr>\n",
       "    <tr>\n",
       "      <th>4</th>\n",
       "      <td>2015-07-26</td>\n",
       "      <td>1218</td>\n",
       "      <td>458372.0</td>\n",
       "      <td>0</td>\n",
       "      <td>1</td>\n",
       "      <td>48.00</td>\n",
       "      <td>1.0</td>\n",
       "      <td>30.0000</td>\n",
       "      <td>18.0000</td>\n",
       "      <td>48.00</td>\n",
       "    </tr>\n",
       "  </tbody>\n",
       "</table>\n",
       "</div>"
      ],
      "text/plain": [
       "      DAY_DT  LOC_IDNT     DBSKU  ONLINE_FLAG  FULL_PRICE_IND  TOTAL_SALES  \\\n",
       "0 2015-09-26      1218  466896.0            0               0        16.80   \n",
       "1 2015-08-02      1218  412445.0            0               0        29.99   \n",
       "2 2015-10-21      1218  491738.0            0               1        44.00   \n",
       "3 2015-08-02      1218  414979.0            0               0        24.00   \n",
       "4 2015-07-26      1218  458372.0            0               1        48.00   \n",
       "\n",
       "   TOTAL_UNITS  TOTAL_SALES_PRFT  TOTAL_COST  UNIT_SALES_PRICE  \n",
       "0          1.0            1.3000     15.5000             16.80  \n",
       "1          1.0           12.9900     17.0000             29.99  \n",
       "2          1.0           28.2500     15.7500             44.00  \n",
       "3          1.0            6.9936     17.0064             24.00  \n",
       "4          1.0           30.0000     18.0000             48.00  "
      ]
     },
     "execution_count": 520,
     "metadata": {},
     "output_type": "execute_result"
    }
   ],
   "source": [
    "transact1.head()"
   ]
  },
  {
   "cell_type": "markdown",
   "metadata": {},
   "source": [
    "#### From the profile we obserrve an anomaly with LOC_IDNT = 4150 \n",
    "\n",
    "#### This individual location has ~300000 k transactions \n",
    "\n",
    "From our store profile, we know that location 4150 does not have any store size, and has been removed from our data set.\n",
    "\n",
    "This may be an issue when we join our transaction and store data sets"
   ]
  },
  {
   "cell_type": "code",
   "execution_count": 521,
   "metadata": {},
   "outputs": [
    {
     "data": {
      "text/html": [
       "<div>\n",
       "<style scoped>\n",
       "    .dataframe tbody tr th:only-of-type {\n",
       "        vertical-align: middle;\n",
       "    }\n",
       "\n",
       "    .dataframe tbody tr th {\n",
       "        vertical-align: top;\n",
       "    }\n",
       "\n",
       "    .dataframe thead th {\n",
       "        text-align: right;\n",
       "    }\n",
       "</style>\n",
       "<table border=\"1\" class=\"dataframe\">\n",
       "  <thead>\n",
       "    <tr style=\"text-align: right;\">\n",
       "      <th></th>\n",
       "      <th>DAY_DT</th>\n",
       "      <th>LOC_IDNT</th>\n",
       "      <th>DBSKU</th>\n",
       "      <th>ONLINE_FLAG</th>\n",
       "      <th>FULL_PRICE_IND</th>\n",
       "      <th>TOTAL_SALES</th>\n",
       "      <th>TOTAL_UNITS</th>\n",
       "      <th>TOTAL_SALES_PRFT</th>\n",
       "      <th>TOTAL_COST</th>\n",
       "      <th>UNIT_SALES_PRICE</th>\n",
       "    </tr>\n",
       "  </thead>\n",
       "  <tbody>\n",
       "    <tr>\n",
       "      <th>460415</th>\n",
       "      <td>2015-08-11</td>\n",
       "      <td>4150</td>\n",
       "      <td>2105437.0</td>\n",
       "      <td>1</td>\n",
       "      <td>1</td>\n",
       "      <td>307.51</td>\n",
       "      <td>6.0</td>\n",
       "      <td>191.17</td>\n",
       "      <td>116.34</td>\n",
       "      <td>51.251667</td>\n",
       "    </tr>\n",
       "    <tr>\n",
       "      <th>460416</th>\n",
       "      <td>2015-08-18</td>\n",
       "      <td>4150</td>\n",
       "      <td>307272.0</td>\n",
       "      <td>1</td>\n",
       "      <td>1</td>\n",
       "      <td>214.75</td>\n",
       "      <td>5.0</td>\n",
       "      <td>131.00</td>\n",
       "      <td>83.75</td>\n",
       "      <td>42.950000</td>\n",
       "    </tr>\n",
       "    <tr>\n",
       "      <th>460417</th>\n",
       "      <td>2015-08-04</td>\n",
       "      <td>4150</td>\n",
       "      <td>2995522.0</td>\n",
       "      <td>1</td>\n",
       "      <td>0</td>\n",
       "      <td>83.70</td>\n",
       "      <td>3.0</td>\n",
       "      <td>13.20</td>\n",
       "      <td>70.50</td>\n",
       "      <td>27.900000</td>\n",
       "    </tr>\n",
       "    <tr>\n",
       "      <th>460419</th>\n",
       "      <td>2015-08-17</td>\n",
       "      <td>4150</td>\n",
       "      <td>356840.0</td>\n",
       "      <td>1</td>\n",
       "      <td>1</td>\n",
       "      <td>100.00</td>\n",
       "      <td>1.0</td>\n",
       "      <td>72.00</td>\n",
       "      <td>28.00</td>\n",
       "      <td>100.000000</td>\n",
       "    </tr>\n",
       "    <tr>\n",
       "      <th>460420</th>\n",
       "      <td>2015-08-17</td>\n",
       "      <td>4150</td>\n",
       "      <td>434464.0</td>\n",
       "      <td>1</td>\n",
       "      <td>0</td>\n",
       "      <td>203.45</td>\n",
       "      <td>8.0</td>\n",
       "      <td>11.45</td>\n",
       "      <td>192.00</td>\n",
       "      <td>25.431250</td>\n",
       "    </tr>\n",
       "  </tbody>\n",
       "</table>\n",
       "</div>"
      ],
      "text/plain": [
       "           DAY_DT  LOC_IDNT      DBSKU  ONLINE_FLAG  FULL_PRICE_IND  \\\n",
       "460415 2015-08-11      4150  2105437.0            1               1   \n",
       "460416 2015-08-18      4150   307272.0            1               1   \n",
       "460417 2015-08-04      4150  2995522.0            1               0   \n",
       "460419 2015-08-17      4150   356840.0            1               1   \n",
       "460420 2015-08-17      4150   434464.0            1               0   \n",
       "\n",
       "        TOTAL_SALES  TOTAL_UNITS  TOTAL_SALES_PRFT  TOTAL_COST  \\\n",
       "460415       307.51          6.0            191.17      116.34   \n",
       "460416       214.75          5.0            131.00       83.75   \n",
       "460417        83.70          3.0             13.20       70.50   \n",
       "460419       100.00          1.0             72.00       28.00   \n",
       "460420       203.45          8.0             11.45      192.00   \n",
       "\n",
       "        UNIT_SALES_PRICE  \n",
       "460415         51.251667  \n",
       "460416         42.950000  \n",
       "460417         27.900000  \n",
       "460419        100.000000  \n",
       "460420         25.431250  "
      ]
     },
     "execution_count": 521,
     "metadata": {},
     "output_type": "execute_result"
    }
   ],
   "source": [
    "transact1[transact1[\"LOC_IDNT\"]==4150].head()"
   ]
  },
  {
   "cell_type": "markdown",
   "metadata": {},
   "source": [
    "#### We note that all transactions at this location, are online transactions\n",
    "\n"
   ]
  },
  {
   "cell_type": "code",
   "execution_count": 522,
   "metadata": {},
   "outputs": [
    {
     "data": {
      "text/plain": [
       "(329116, 10)"
      ]
     },
     "execution_count": 522,
     "metadata": {},
     "output_type": "execute_result"
    }
   ],
   "source": [
    "transact1[transact1[\"ONLINE_FLAG\"]==1].shape"
   ]
  },
  {
   "cell_type": "code",
   "execution_count": 523,
   "metadata": {},
   "outputs": [
    {
     "data": {
      "text/plain": [
       "(329116, 10)"
      ]
     },
     "execution_count": 523,
     "metadata": {},
     "output_type": "execute_result"
    }
   ],
   "source": [
    "transact1[transact1[\"LOC_IDNT\"]==4150].shape"
   ]
  },
  {
   "cell_type": "code",
   "execution_count": 412,
   "metadata": {},
   "outputs": [
    {
     "data": {
      "text/plain": [
       "DAY_DT               1017\n",
       "LOC_IDNT                1\n",
       "DBSKU                3862\n",
       "ONLINE_FLAG             1\n",
       "FULL_PRICE_IND          2\n",
       "TOTAL_SALES         58205\n",
       "TOTAL_UNITS           145\n",
       "TOTAL_SALES_PRFT     1906\n",
       "TOTAL_COST           1341\n",
       "UNIT_SALES_PRICE    75740\n",
       "dtype: int64"
      ]
     },
     "execution_count": 412,
     "metadata": {},
     "output_type": "execute_result"
    }
   ],
   "source": [
    "transact1[transact1[\"ONLINE_FLAG\"]==1].nunique()"
   ]
  },
  {
   "cell_type": "markdown",
   "metadata": {},
   "source": [
    "#### Analysis of the original transaction data set, shows \n",
    "-  Only 2 Store code were used for Online transactions LOC_IDNT == 4100, 4150. N =4 and n = 330607\n",
    "-  Transactions at store 4100 have 0 units sold, and can be discarded\n",
    "-  After simple cleaning of Transaction data set, we are left with 329119 transactions for ONLINE transactions\n",
    "\n",
    "We propose removing these transactions and moving them to an alternative data set, to be treated and analyzed separately from the physical store transactions"
   ]
  },
  {
   "cell_type": "code",
   "execution_count": null,
   "metadata": {},
   "outputs": [],
   "source": []
  },
  {
   "cell_type": "markdown",
   "metadata": {},
   "source": [
    "### Removing Online transactions to its own data set"
   ]
  },
  {
   "cell_type": "code",
   "execution_count": 524,
   "metadata": {},
   "outputs": [],
   "source": [
    "transact_online=transact1[transact1['ONLINE_FLAG']==1]"
   ]
  },
  {
   "cell_type": "code",
   "execution_count": 525,
   "metadata": {},
   "outputs": [],
   "source": [
    "transact_online.to_csv(\"cleaned_online_transaction.csv\")"
   ]
  },
  {
   "cell_type": "code",
   "execution_count": 526,
   "metadata": {},
   "outputs": [],
   "source": [
    "transact1=transact1[transact1['ONLINE_FLAG']!=1]"
   ]
  },
  {
   "cell_type": "code",
   "execution_count": 527,
   "metadata": {},
   "outputs": [],
   "source": [
    "transact1.drop(['ONLINE_FLAG'], axis=1, inplace=True)"
   ]
  },
  {
   "cell_type": "code",
   "execution_count": 528,
   "metadata": {},
   "outputs": [
    {
     "data": {
      "text/html": [
       "<div>\n",
       "<style scoped>\n",
       "    .dataframe tbody tr th:only-of-type {\n",
       "        vertical-align: middle;\n",
       "    }\n",
       "\n",
       "    .dataframe tbody tr th {\n",
       "        vertical-align: top;\n",
       "    }\n",
       "\n",
       "    .dataframe thead th {\n",
       "        text-align: right;\n",
       "    }\n",
       "</style>\n",
       "<table border=\"1\" class=\"dataframe\">\n",
       "  <thead>\n",
       "    <tr style=\"text-align: right;\">\n",
       "      <th></th>\n",
       "      <th>DAY_DT</th>\n",
       "      <th>LOC_IDNT</th>\n",
       "      <th>DBSKU</th>\n",
       "      <th>FULL_PRICE_IND</th>\n",
       "      <th>TOTAL_SALES</th>\n",
       "      <th>TOTAL_UNITS</th>\n",
       "      <th>TOTAL_SALES_PRFT</th>\n",
       "      <th>TOTAL_COST</th>\n",
       "      <th>UNIT_SALES_PRICE</th>\n",
       "    </tr>\n",
       "  </thead>\n",
       "  <tbody>\n",
       "    <tr>\n",
       "      <th>0</th>\n",
       "      <td>2015-09-26</td>\n",
       "      <td>1218</td>\n",
       "      <td>466896.0</td>\n",
       "      <td>0</td>\n",
       "      <td>16.80</td>\n",
       "      <td>1.0</td>\n",
       "      <td>1.3000</td>\n",
       "      <td>15.5000</td>\n",
       "      <td>16.80</td>\n",
       "    </tr>\n",
       "    <tr>\n",
       "      <th>1</th>\n",
       "      <td>2015-08-02</td>\n",
       "      <td>1218</td>\n",
       "      <td>412445.0</td>\n",
       "      <td>0</td>\n",
       "      <td>29.99</td>\n",
       "      <td>1.0</td>\n",
       "      <td>12.9900</td>\n",
       "      <td>17.0000</td>\n",
       "      <td>29.99</td>\n",
       "    </tr>\n",
       "    <tr>\n",
       "      <th>2</th>\n",
       "      <td>2015-10-21</td>\n",
       "      <td>1218</td>\n",
       "      <td>491738.0</td>\n",
       "      <td>1</td>\n",
       "      <td>44.00</td>\n",
       "      <td>1.0</td>\n",
       "      <td>28.2500</td>\n",
       "      <td>15.7500</td>\n",
       "      <td>44.00</td>\n",
       "    </tr>\n",
       "    <tr>\n",
       "      <th>3</th>\n",
       "      <td>2015-08-02</td>\n",
       "      <td>1218</td>\n",
       "      <td>414979.0</td>\n",
       "      <td>0</td>\n",
       "      <td>24.00</td>\n",
       "      <td>1.0</td>\n",
       "      <td>6.9936</td>\n",
       "      <td>17.0064</td>\n",
       "      <td>24.00</td>\n",
       "    </tr>\n",
       "    <tr>\n",
       "      <th>4</th>\n",
       "      <td>2015-07-26</td>\n",
       "      <td>1218</td>\n",
       "      <td>458372.0</td>\n",
       "      <td>1</td>\n",
       "      <td>48.00</td>\n",
       "      <td>1.0</td>\n",
       "      <td>30.0000</td>\n",
       "      <td>18.0000</td>\n",
       "      <td>48.00</td>\n",
       "    </tr>\n",
       "  </tbody>\n",
       "</table>\n",
       "</div>"
      ],
      "text/plain": [
       "      DAY_DT  LOC_IDNT     DBSKU  FULL_PRICE_IND  TOTAL_SALES  TOTAL_UNITS  \\\n",
       "0 2015-09-26      1218  466896.0               0        16.80          1.0   \n",
       "1 2015-08-02      1218  412445.0               0        29.99          1.0   \n",
       "2 2015-10-21      1218  491738.0               1        44.00          1.0   \n",
       "3 2015-08-02      1218  414979.0               0        24.00          1.0   \n",
       "4 2015-07-26      1218  458372.0               1        48.00          1.0   \n",
       "\n",
       "   TOTAL_SALES_PRFT  TOTAL_COST  UNIT_SALES_PRICE  \n",
       "0            1.3000     15.5000             16.80  \n",
       "1           12.9900     17.0000             29.99  \n",
       "2           28.2500     15.7500             44.00  \n",
       "3            6.9936     17.0064             24.00  \n",
       "4           30.0000     18.0000             48.00  "
      ]
     },
     "execution_count": 528,
     "metadata": {},
     "output_type": "execute_result"
    }
   ],
   "source": [
    "transact1.head()"
   ]
  },
  {
   "cell_type": "code",
   "execution_count": 529,
   "metadata": {},
   "outputs": [
    {
     "data": {
      "text/plain": [
       "(12713513, 9)"
      ]
     },
     "execution_count": 529,
     "metadata": {},
     "output_type": "execute_result"
    }
   ],
   "source": [
    "transact1.shape"
   ]
  },
  {
   "cell_type": "code",
   "execution_count": 530,
   "metadata": {},
   "outputs": [],
   "source": [
    "pp.ProfileReport(transact1).to_file(outputfile=\"./cleaned_transact_profile.html\")"
   ]
  },
  {
   "cell_type": "code",
   "execution_count": null,
   "metadata": {},
   "outputs": [],
   "source": []
  },
  {
   "cell_type": "markdown",
   "metadata": {},
   "source": [
    "### Create a frequency histogram for our data"
   ]
  },
  {
   "cell_type": "code",
   "execution_count": 568,
   "metadata": {},
   "outputs": [
    {
     "data": {
      "text/plain": [
       "array([[<matplotlib.axes._subplots.AxesSubplot object at 0x0000015E12EF3AC8>,\n",
       "        <matplotlib.axes._subplots.AxesSubplot object at 0x0000015E12A03EF0>,\n",
       "        <matplotlib.axes._subplots.AxesSubplot object at 0x0000015E11EF0400>],\n",
       "       [<matplotlib.axes._subplots.AxesSubplot object at 0x0000015E12AC6D68>,\n",
       "        <matplotlib.axes._subplots.AxesSubplot object at 0x0000015E8CAB9710>,\n",
       "        <matplotlib.axes._subplots.AxesSubplot object at 0x0000015E8C9C90B8>],\n",
       "       [<matplotlib.axes._subplots.AxesSubplot object at 0x0000015E8C9A5A20>,\n",
       "        <matplotlib.axes._subplots.AxesSubplot object at 0x0000015E8C877400>,\n",
       "        <matplotlib.axes._subplots.AxesSubplot object at 0x0000015E8C877438>]],\n",
       "      dtype=object)"
      ]
     },
     "execution_count": 568,
     "metadata": {},
     "output_type": "execute_result"
    }
   ],
   "source": [
    "transact1.hist(bins=75)"
   ]
  },
  {
   "cell_type": "code",
   "execution_count": null,
   "metadata": {},
   "outputs": [],
   "source": []
  },
  {
   "cell_type": "markdown",
   "metadata": {},
   "source": [
    "### Creating CSV files for cleaned Data sets"
   ]
  },
  {
   "cell_type": "code",
   "execution_count": 417,
   "metadata": {},
   "outputs": [],
   "source": [
    "product1.to_csv(\"cleaned_products.csv\")"
   ]
  },
  {
   "cell_type": "code",
   "execution_count": 418,
   "metadata": {},
   "outputs": [],
   "source": [
    "store1.to_csv(\"cleaned_store.csv\")"
   ]
  },
  {
   "cell_type": "code",
   "execution_count": 532,
   "metadata": {},
   "outputs": [],
   "source": [
    "transact1.to_csv(\"cleaned_transaction.csv\")"
   ]
  },
  {
   "cell_type": "code",
   "execution_count": null,
   "metadata": {},
   "outputs": [],
   "source": []
  },
  {
   "cell_type": "code",
   "execution_count": null,
   "metadata": {},
   "outputs": [],
   "source": []
  },
  {
   "cell_type": "code",
   "execution_count": null,
   "metadata": {},
   "outputs": [],
   "source": []
  },
  {
   "cell_type": "code",
   "execution_count": null,
   "metadata": {},
   "outputs": [],
   "source": []
  },
  {
   "cell_type": "code",
   "execution_count": null,
   "metadata": {},
   "outputs": [],
   "source": []
  }
 ],
 "metadata": {
  "kernelspec": {
   "display_name": "Python 3",
   "language": "python",
   "name": "python3"
  },
  "language_info": {
   "codemirror_mode": {
    "name": "ipython",
    "version": 3
   },
   "file_extension": ".py",
   "mimetype": "text/x-python",
   "name": "python",
   "nbconvert_exporter": "python",
   "pygments_lexer": "ipython3",
   "version": "3.7.0"
  }
 },
 "nbformat": 4,
 "nbformat_minor": 2
}
