{
 "cells": [
  {
   "cell_type": "markdown",
   "metadata": {},
   "source": [
    "# Feature Engineering on the Cleaned Final Data Set"
   ]
  },
  {
   "cell_type": "code",
   "execution_count": 278,
   "metadata": {},
   "outputs": [],
   "source": [
    "import numpy as np\n",
    "import pandas as pd\n",
    "import pandas_profiling as pp\n",
    "import seaborn as sns\n",
    "import matplotlib.pyplot as plt\n",
    "%matplotlib inline"
   ]
  },
  {
   "cell_type": "markdown",
   "metadata": {},
   "source": [
    "#### Reading the cleaned final dataset"
   ]
  },
  {
   "cell_type": "code",
   "execution_count": 2,
   "metadata": {},
   "outputs": [],
   "source": [
    "tmc_finaldata = pd.read_csv(\"tmc_final_data.csv\")"
   ]
  },
  {
   "cell_type": "code",
   "execution_count": 6,
   "metadata": {},
   "outputs": [
    {
     "data": {
      "text/html": [
       "<div>\n",
       "<style scoped>\n",
       "    .dataframe tbody tr th:only-of-type {\n",
       "        vertical-align: middle;\n",
       "    }\n",
       "\n",
       "    .dataframe tbody tr th {\n",
       "        vertical-align: top;\n",
       "    }\n",
       "\n",
       "    .dataframe thead th {\n",
       "        text-align: right;\n",
       "    }\n",
       "</style>\n",
       "<table border=\"1\" class=\"dataframe\">\n",
       "  <thead>\n",
       "    <tr style=\"text-align: right;\">\n",
       "      <th></th>\n",
       "      <th>DAY_DT</th>\n",
       "      <th>LOC_IDNT</th>\n",
       "      <th>DBSKU</th>\n",
       "      <th>FULL_PRICE_IND</th>\n",
       "      <th>TOTAL_SALES</th>\n",
       "      <th>TOTAL_UNITS</th>\n",
       "      <th>TOTAL_SALES_PRFT</th>\n",
       "      <th>TOTAL_COST</th>\n",
       "      <th>UNIT_SALES_PRICE</th>\n",
       "      <th>CITY</th>\n",
       "      <th>STATE</th>\n",
       "      <th>STORE_TYPE</th>\n",
       "      <th>POSTAL_CD</th>\n",
       "      <th>STORE_SIZE</th>\n",
       "      <th>DEPARTMENT</th>\n",
       "      <th>CLASS</th>\n",
       "      <th>SUBCLASS</th>\n",
       "      <th>SUBCLASS_NAME</th>\n",
       "      <th>DSUBCLASS</th>\n",
       "    </tr>\n",
       "  </thead>\n",
       "  <tbody>\n",
       "    <tr>\n",
       "      <th>0</th>\n",
       "      <td>2015-09-26</td>\n",
       "      <td>1218</td>\n",
       "      <td>466896.0</td>\n",
       "      <td>0</td>\n",
       "      <td>16.80</td>\n",
       "      <td>1.0</td>\n",
       "      <td>1.3000</td>\n",
       "      <td>15.5000</td>\n",
       "      <td>16.80</td>\n",
       "      <td>COLUMBIA</td>\n",
       "      <td>SC</td>\n",
       "      <td>Lifestyle Center</td>\n",
       "      <td>29229.0</td>\n",
       "      <td>3050.0</td>\n",
       "      <td>10.0</td>\n",
       "      <td>3.0</td>\n",
       "      <td>31.0</td>\n",
       "      <td>Sub Class 2</td>\n",
       "      <td>1031.0</td>\n",
       "    </tr>\n",
       "    <tr>\n",
       "      <th>1</th>\n",
       "      <td>2015-08-02</td>\n",
       "      <td>1218</td>\n",
       "      <td>412445.0</td>\n",
       "      <td>0</td>\n",
       "      <td>29.99</td>\n",
       "      <td>1.0</td>\n",
       "      <td>12.9900</td>\n",
       "      <td>17.0000</td>\n",
       "      <td>29.99</td>\n",
       "      <td>COLUMBIA</td>\n",
       "      <td>SC</td>\n",
       "      <td>Lifestyle Center</td>\n",
       "      <td>29229.0</td>\n",
       "      <td>3050.0</td>\n",
       "      <td>10.0</td>\n",
       "      <td>2.0</td>\n",
       "      <td>21.0</td>\n",
       "      <td>Sub Class 2</td>\n",
       "      <td>1021.0</td>\n",
       "    </tr>\n",
       "    <tr>\n",
       "      <th>2</th>\n",
       "      <td>2015-10-21</td>\n",
       "      <td>1218</td>\n",
       "      <td>491738.0</td>\n",
       "      <td>1</td>\n",
       "      <td>44.00</td>\n",
       "      <td>1.0</td>\n",
       "      <td>28.2500</td>\n",
       "      <td>15.7500</td>\n",
       "      <td>44.00</td>\n",
       "      <td>COLUMBIA</td>\n",
       "      <td>SC</td>\n",
       "      <td>Lifestyle Center</td>\n",
       "      <td>29229.0</td>\n",
       "      <td>3050.0</td>\n",
       "      <td>10.0</td>\n",
       "      <td>5.0</td>\n",
       "      <td>50.0</td>\n",
       "      <td>Sub Class 3</td>\n",
       "      <td>1050.0</td>\n",
       "    </tr>\n",
       "    <tr>\n",
       "      <th>3</th>\n",
       "      <td>2015-08-02</td>\n",
       "      <td>1218</td>\n",
       "      <td>414979.0</td>\n",
       "      <td>0</td>\n",
       "      <td>24.00</td>\n",
       "      <td>1.0</td>\n",
       "      <td>6.9936</td>\n",
       "      <td>17.0064</td>\n",
       "      <td>24.00</td>\n",
       "      <td>COLUMBIA</td>\n",
       "      <td>SC</td>\n",
       "      <td>Lifestyle Center</td>\n",
       "      <td>29229.0</td>\n",
       "      <td>3050.0</td>\n",
       "      <td>10.0</td>\n",
       "      <td>3.0</td>\n",
       "      <td>32.0</td>\n",
       "      <td>Sub Class 1</td>\n",
       "      <td>1032.0</td>\n",
       "    </tr>\n",
       "    <tr>\n",
       "      <th>4</th>\n",
       "      <td>2015-07-26</td>\n",
       "      <td>1218</td>\n",
       "      <td>458372.0</td>\n",
       "      <td>1</td>\n",
       "      <td>48.00</td>\n",
       "      <td>1.0</td>\n",
       "      <td>30.0000</td>\n",
       "      <td>18.0000</td>\n",
       "      <td>48.00</td>\n",
       "      <td>COLUMBIA</td>\n",
       "      <td>SC</td>\n",
       "      <td>Lifestyle Center</td>\n",
       "      <td>29229.0</td>\n",
       "      <td>3050.0</td>\n",
       "      <td>10.0</td>\n",
       "      <td>3.0</td>\n",
       "      <td>32.0</td>\n",
       "      <td>Sub Class 1</td>\n",
       "      <td>1032.0</td>\n",
       "    </tr>\n",
       "  </tbody>\n",
       "</table>\n",
       "</div>"
      ],
      "text/plain": [
       "       DAY_DT  LOC_IDNT     DBSKU  FULL_PRICE_IND  TOTAL_SALES  TOTAL_UNITS  \\\n",
       "0  2015-09-26      1218  466896.0               0        16.80          1.0   \n",
       "1  2015-08-02      1218  412445.0               0        29.99          1.0   \n",
       "2  2015-10-21      1218  491738.0               1        44.00          1.0   \n",
       "3  2015-08-02      1218  414979.0               0        24.00          1.0   \n",
       "4  2015-07-26      1218  458372.0               1        48.00          1.0   \n",
       "\n",
       "   TOTAL_SALES_PRFT  TOTAL_COST  UNIT_SALES_PRICE      CITY STATE  \\\n",
       "0            1.3000     15.5000             16.80  COLUMBIA    SC   \n",
       "1           12.9900     17.0000             29.99  COLUMBIA    SC   \n",
       "2           28.2500     15.7500             44.00  COLUMBIA    SC   \n",
       "3            6.9936     17.0064             24.00  COLUMBIA    SC   \n",
       "4           30.0000     18.0000             48.00  COLUMBIA    SC   \n",
       "\n",
       "         STORE_TYPE  POSTAL_CD  STORE_SIZE  DEPARTMENT  CLASS  SUBCLASS  \\\n",
       "0  Lifestyle Center    29229.0      3050.0        10.0    3.0      31.0   \n",
       "1  Lifestyle Center    29229.0      3050.0        10.0    2.0      21.0   \n",
       "2  Lifestyle Center    29229.0      3050.0        10.0    5.0      50.0   \n",
       "3  Lifestyle Center    29229.0      3050.0        10.0    3.0      32.0   \n",
       "4  Lifestyle Center    29229.0      3050.0        10.0    3.0      32.0   \n",
       "\n",
       "  SUBCLASS_NAME  DSUBCLASS  \n",
       "0   Sub Class 2     1031.0  \n",
       "1   Sub Class 2     1021.0  \n",
       "2   Sub Class 3     1050.0  \n",
       "3   Sub Class 1     1032.0  \n",
       "4   Sub Class 1     1032.0  "
      ]
     },
     "execution_count": 6,
     "metadata": {},
     "output_type": "execute_result"
    }
   ],
   "source": [
    "tmc_finaldata.head()"
   ]
  },
  {
   "cell_type": "markdown",
   "metadata": {},
   "source": [
    "### Dropping the insignificant Variables and reasons\n",
    "- 'DEPARTMENT', 'SUBCLASS' are replaced with its equivalent \"DSUBCLASS\" and 'CLASS','SUBCLASS_NAME' are insignificant\n",
    "- 'LOC_IDNT', 'POSTAL_CD' is represented with corresponding CITY, STATE, STORE_TYPE and STORE_SIZE, hence Dropping it\n",
    "- 'TOTAL_SALES_PRFT', 'TOTAL_COST', 'TOTAL_SALES' are replaced with a Derived Column 'UNIT_SALES_PRICE'\n",
    "- 'CITY' - at this stage of initial modelling we are analysing Statewise rather than Citywise "
   ]
  },
  {
   "cell_type": "code",
   "execution_count": 3,
   "metadata": {},
   "outputs": [],
   "source": [
    "tmc_finaldata.drop(['DEPARTMENT','CLASS','SUBCLASS_NAME','SUBCLASS','LOC_IDNT','TOTAL_SALES_PRFT','TOTAL_COST',\n",
    "                    'TOTAL_SALES','POSTAL_CD','CITY'],axis=1,inplace=True)"
   ]
  },
  {
   "cell_type": "code",
   "execution_count": 36,
   "metadata": {},
   "outputs": [
    {
     "data": {
      "text/plain": [
       "DAY_DT               object\n",
       "DBSKU               float64\n",
       "FULL_PRICE_IND        int64\n",
       "TOTAL_UNITS         float64\n",
       "UNIT_SALES_PRICE    float64\n",
       "STATE                object\n",
       "STORE_TYPE           object\n",
       "STORE_SIZE          float64\n",
       "DSUBCLASS           float64\n",
       "dtype: object"
      ]
     },
     "execution_count": 36,
     "metadata": {},
     "output_type": "execute_result"
    }
   ],
   "source": [
    "tmc_finaldata.dtypes"
   ]
  },
  {
   "cell_type": "markdown",
   "metadata": {},
   "source": [
    "#### Downcasting datatypes to reduce the memory usage by the dataframe"
   ]
  },
  {
   "cell_type": "code",
   "execution_count": 4,
   "metadata": {},
   "outputs": [],
   "source": [
    "tmc_finaldata['DSUBCLASS'] = tmc_finaldata['DSUBCLASS'].astype(np.int16)\n",
    "tmc_finaldata['STORE_TYPE'] = tmc_finaldata['STORE_TYPE'].astype('category')\n",
    "tmc_finaldata['STATE'] = tmc_finaldata['STATE'].astype('category')\n",
    "tmc_finaldata['STORE_SIZE'] = tmc_finaldata['STORE_SIZE'].astype(np.int16)\n",
    "tmc_finaldata['FULL_PRICE_IND'] = tmc_finaldata['FULL_PRICE_IND'].astype(np.int8)\n",
    "tmc_finaldata['DBSKU'] = tmc_finaldata['DBSKU'].astype(np.int32)\n",
    "tmc_finaldata['TOTAL_UNITS'] = tmc_finaldata['TOTAL_UNITS'].astype(np.int16)\n",
    "tmc_finaldata['DAY_DT'] = pd.to_datetime(tmc_finaldata['DAY_DT'])"
   ]
  },
  {
   "cell_type": "code",
   "execution_count": 7,
   "metadata": {
    "scrolled": true
   },
   "outputs": [
    {
     "data": {
      "text/plain": [
       "DAY_DT              datetime64[ns]\n",
       "DBSKU                        int32\n",
       "FULL_PRICE_IND                int8\n",
       "TOTAL_UNITS                  int16\n",
       "UNIT_SALES_PRICE           float64\n",
       "STATE                     category\n",
       "STORE_TYPE                category\n",
       "STORE_SIZE                   int16\n",
       "DSUBCLASS                    int16\n",
       "dtype: object"
      ]
     },
     "execution_count": 7,
     "metadata": {},
     "output_type": "execute_result"
    }
   ],
   "source": [
    "tmc_finaldata.dtypes"
   ]
  },
  {
   "cell_type": "code",
   "execution_count": 5,
   "metadata": {},
   "outputs": [],
   "source": [
    "tmc_finaldata.columns = tmc_finaldata.columns.str.title()"
   ]
  },
  {
   "cell_type": "code",
   "execution_count": 6,
   "metadata": {},
   "outputs": [],
   "source": [
    "tmc_selected_group = tmc_finaldata"
   ]
  },
  {
   "cell_type": "code",
   "execution_count": 212,
   "metadata": {},
   "outputs": [
    {
     "data": {
      "text/html": [
       "<div>\n",
       "<style scoped>\n",
       "    .dataframe tbody tr th:only-of-type {\n",
       "        vertical-align: middle;\n",
       "    }\n",
       "\n",
       "    .dataframe tbody tr th {\n",
       "        vertical-align: top;\n",
       "    }\n",
       "\n",
       "    .dataframe thead th {\n",
       "        text-align: right;\n",
       "    }\n",
       "</style>\n",
       "<table border=\"1\" class=\"dataframe\">\n",
       "  <thead>\n",
       "    <tr style=\"text-align: right;\">\n",
       "      <th></th>\n",
       "      <th>Dbsku</th>\n",
       "      <th>Full_Price_Ind</th>\n",
       "      <th>Total_Units</th>\n",
       "      <th>Unit_Sales_Price</th>\n",
       "      <th>State</th>\n",
       "      <th>Store_Type</th>\n",
       "      <th>Dsubclass</th>\n",
       "      <th>season</th>\n",
       "    </tr>\n",
       "  </thead>\n",
       "  <tbody>\n",
       "    <tr>\n",
       "      <th>0</th>\n",
       "      <td>466896</td>\n",
       "      <td>0</td>\n",
       "      <td>1</td>\n",
       "      <td>16.80</td>\n",
       "      <td>SC</td>\n",
       "      <td>Lifestyle Center</td>\n",
       "      <td>1031</td>\n",
       "      <td>fall</td>\n",
       "    </tr>\n",
       "    <tr>\n",
       "      <th>1</th>\n",
       "      <td>412445</td>\n",
       "      <td>0</td>\n",
       "      <td>1</td>\n",
       "      <td>29.99</td>\n",
       "      <td>SC</td>\n",
       "      <td>Lifestyle Center</td>\n",
       "      <td>1021</td>\n",
       "      <td>summer</td>\n",
       "    </tr>\n",
       "    <tr>\n",
       "      <th>2</th>\n",
       "      <td>491738</td>\n",
       "      <td>1</td>\n",
       "      <td>1</td>\n",
       "      <td>44.00</td>\n",
       "      <td>SC</td>\n",
       "      <td>Lifestyle Center</td>\n",
       "      <td>1050</td>\n",
       "      <td>fall</td>\n",
       "    </tr>\n",
       "    <tr>\n",
       "      <th>3</th>\n",
       "      <td>414979</td>\n",
       "      <td>0</td>\n",
       "      <td>1</td>\n",
       "      <td>24.00</td>\n",
       "      <td>SC</td>\n",
       "      <td>Lifestyle Center</td>\n",
       "      <td>1032</td>\n",
       "      <td>summer</td>\n",
       "    </tr>\n",
       "    <tr>\n",
       "      <th>4</th>\n",
       "      <td>458372</td>\n",
       "      <td>1</td>\n",
       "      <td>1</td>\n",
       "      <td>48.00</td>\n",
       "      <td>SC</td>\n",
       "      <td>Lifestyle Center</td>\n",
       "      <td>1032</td>\n",
       "      <td>summer</td>\n",
       "    </tr>\n",
       "  </tbody>\n",
       "</table>\n",
       "</div>"
      ],
      "text/plain": [
       "    Dbsku  Full_Price_Ind  Total_Units  Unit_Sales_Price State  \\\n",
       "0  466896               0            1             16.80    SC   \n",
       "1  412445               0            1             29.99    SC   \n",
       "2  491738               1            1             44.00    SC   \n",
       "3  414979               0            1             24.00    SC   \n",
       "4  458372               1            1             48.00    SC   \n",
       "\n",
       "         Store_Type  Dsubclass  season  \n",
       "0  Lifestyle Center       1031    fall  \n",
       "1  Lifestyle Center       1021  summer  \n",
       "2  Lifestyle Center       1050    fall  \n",
       "3  Lifestyle Center       1032  summer  \n",
       "4  Lifestyle Center       1032  summer  "
      ]
     },
     "execution_count": 212,
     "metadata": {},
     "output_type": "execute_result"
    }
   ],
   "source": [
    "tmc_selected_group.head()"
   ]
  },
  {
   "cell_type": "code",
   "execution_count": 7,
   "metadata": {},
   "outputs": [
    {
     "data": {
      "text/plain": [
       "(12589631, 9)"
      ]
     },
     "execution_count": 7,
     "metadata": {},
     "output_type": "execute_result"
    }
   ],
   "source": [
    "tmc_selected_group.shape"
   ]
  },
  {
   "cell_type": "markdown",
   "metadata": {},
   "source": [
    "#### Converting the Day_Dt column's transaction Date value to Seasonal representing value for analysing seasonal sales"
   ]
  },
  {
   "cell_type": "code",
   "execution_count": 8,
   "metadata": {},
   "outputs": [],
   "source": [
    "tmc_selected_group['date'] = tmc_selected_group['Day_Dt']"
   ]
  },
  {
   "cell_type": "code",
   "execution_count": 9,
   "metadata": {},
   "outputs": [],
   "source": [
    "# calculate day of year\n",
    "tmc_selected_group['doy'] = tmc_selected_group['date'].dt.dayofyear\n",
    "# Create year\n",
    "tmc_selected_group['Year'] = tmc_selected_group['date'].dt.year\n",
    "\n",
    "#to divide by season it's better to use the day of the year instead of the months\n",
    "spring = range(80, 172)\n",
    "summer = range(172, 264)\n",
    "fall = range(264, 355)\n",
    "# winter = everything else\n",
    "\n",
    "date = []\n",
    "for i in tmc_selected_group['doy']:\n",
    "    if i in spring:\n",
    "        season = 'spring'\n",
    "    elif i in summer:\n",
    "        season = 'summer'\n",
    "    elif i in fall:\n",
    "        season = 'fall'\n",
    "    else:\n",
    "        season = 'winter'\n",
    "    date.append(season) \n",
    "    #add the resulting column to the dataframe (after transforming it as a Series)\n",
    "tmc_selected_group['season']= pd.Series(date)"
   ]
  },
  {
   "cell_type": "code",
   "execution_count": 11,
   "metadata": {
    "scrolled": true
   },
   "outputs": [
    {
     "data": {
      "text/html": [
       "<div>\n",
       "<style scoped>\n",
       "    .dataframe tbody tr th:only-of-type {\n",
       "        vertical-align: middle;\n",
       "    }\n",
       "\n",
       "    .dataframe tbody tr th {\n",
       "        vertical-align: top;\n",
       "    }\n",
       "\n",
       "    .dataframe thead th {\n",
       "        text-align: right;\n",
       "    }\n",
       "</style>\n",
       "<table border=\"1\" class=\"dataframe\">\n",
       "  <thead>\n",
       "    <tr style=\"text-align: right;\">\n",
       "      <th></th>\n",
       "      <th>Day_Dt</th>\n",
       "      <th>Dbsku</th>\n",
       "      <th>Full_Price_Ind</th>\n",
       "      <th>Total_Units</th>\n",
       "      <th>Unit_Sales_Price</th>\n",
       "      <th>State</th>\n",
       "      <th>Store_Type</th>\n",
       "      <th>Store_Size</th>\n",
       "      <th>Dsubclass</th>\n",
       "      <th>date</th>\n",
       "      <th>doy</th>\n",
       "      <th>Year</th>\n",
       "      <th>season</th>\n",
       "    </tr>\n",
       "  </thead>\n",
       "  <tbody>\n",
       "    <tr>\n",
       "      <th>0</th>\n",
       "      <td>2015-09-26</td>\n",
       "      <td>466896</td>\n",
       "      <td>0</td>\n",
       "      <td>1</td>\n",
       "      <td>16.80</td>\n",
       "      <td>SC</td>\n",
       "      <td>Lifestyle Center</td>\n",
       "      <td>3050</td>\n",
       "      <td>1031</td>\n",
       "      <td>2015-09-26</td>\n",
       "      <td>269</td>\n",
       "      <td>2015</td>\n",
       "      <td>fall</td>\n",
       "    </tr>\n",
       "    <tr>\n",
       "      <th>1</th>\n",
       "      <td>2015-08-02</td>\n",
       "      <td>412445</td>\n",
       "      <td>0</td>\n",
       "      <td>1</td>\n",
       "      <td>29.99</td>\n",
       "      <td>SC</td>\n",
       "      <td>Lifestyle Center</td>\n",
       "      <td>3050</td>\n",
       "      <td>1021</td>\n",
       "      <td>2015-08-02</td>\n",
       "      <td>214</td>\n",
       "      <td>2015</td>\n",
       "      <td>summer</td>\n",
       "    </tr>\n",
       "    <tr>\n",
       "      <th>2</th>\n",
       "      <td>2015-10-21</td>\n",
       "      <td>491738</td>\n",
       "      <td>1</td>\n",
       "      <td>1</td>\n",
       "      <td>44.00</td>\n",
       "      <td>SC</td>\n",
       "      <td>Lifestyle Center</td>\n",
       "      <td>3050</td>\n",
       "      <td>1050</td>\n",
       "      <td>2015-10-21</td>\n",
       "      <td>294</td>\n",
       "      <td>2015</td>\n",
       "      <td>fall</td>\n",
       "    </tr>\n",
       "    <tr>\n",
       "      <th>3</th>\n",
       "      <td>2015-08-02</td>\n",
       "      <td>414979</td>\n",
       "      <td>0</td>\n",
       "      <td>1</td>\n",
       "      <td>24.00</td>\n",
       "      <td>SC</td>\n",
       "      <td>Lifestyle Center</td>\n",
       "      <td>3050</td>\n",
       "      <td>1032</td>\n",
       "      <td>2015-08-02</td>\n",
       "      <td>214</td>\n",
       "      <td>2015</td>\n",
       "      <td>summer</td>\n",
       "    </tr>\n",
       "    <tr>\n",
       "      <th>4</th>\n",
       "      <td>2015-07-26</td>\n",
       "      <td>458372</td>\n",
       "      <td>1</td>\n",
       "      <td>1</td>\n",
       "      <td>48.00</td>\n",
       "      <td>SC</td>\n",
       "      <td>Lifestyle Center</td>\n",
       "      <td>3050</td>\n",
       "      <td>1032</td>\n",
       "      <td>2015-07-26</td>\n",
       "      <td>207</td>\n",
       "      <td>2015</td>\n",
       "      <td>summer</td>\n",
       "    </tr>\n",
       "  </tbody>\n",
       "</table>\n",
       "</div>"
      ],
      "text/plain": [
       "      Day_Dt   Dbsku  Full_Price_Ind  Total_Units  Unit_Sales_Price State  \\\n",
       "0 2015-09-26  466896               0            1             16.80    SC   \n",
       "1 2015-08-02  412445               0            1             29.99    SC   \n",
       "2 2015-10-21  491738               1            1             44.00    SC   \n",
       "3 2015-08-02  414979               0            1             24.00    SC   \n",
       "4 2015-07-26  458372               1            1             48.00    SC   \n",
       "\n",
       "         Store_Type  Store_Size  Dsubclass       date  doy  Year  season  \n",
       "0  Lifestyle Center        3050       1031 2015-09-26  269  2015    fall  \n",
       "1  Lifestyle Center        3050       1021 2015-08-02  214  2015  summer  \n",
       "2  Lifestyle Center        3050       1050 2015-10-21  294  2015    fall  \n",
       "3  Lifestyle Center        3050       1032 2015-08-02  214  2015  summer  \n",
       "4  Lifestyle Center        3050       1032 2015-07-26  207  2015  summer  "
      ]
     },
     "execution_count": 11,
     "metadata": {},
     "output_type": "execute_result"
    }
   ],
   "source": [
    "tmc_selected_group.head()"
   ]
  },
  {
   "cell_type": "code",
   "execution_count": 13,
   "metadata": {},
   "outputs": [
    {
     "data": {
      "text/plain": [
       "(12589631, 13)"
      ]
     },
     "execution_count": 13,
     "metadata": {},
     "output_type": "execute_result"
    }
   ],
   "source": [
    "tmc_selected_group.shape"
   ]
  },
  {
   "cell_type": "markdown",
   "metadata": {},
   "source": [
    "Dropping the Day_Dt column and other intermediate columns"
   ]
  },
  {
   "cell_type": "code",
   "execution_count": 10,
   "metadata": {},
   "outputs": [],
   "source": [
    "tmc_selected_group.drop(['Day_Dt','date','Year','doy'],axis=1,inplace=True)"
   ]
  },
  {
   "cell_type": "markdown",
   "metadata": {},
   "source": [
    "Converting the season variable into Category type"
   ]
  },
  {
   "cell_type": "code",
   "execution_count": 11,
   "metadata": {},
   "outputs": [],
   "source": [
    "tmc_selected_group['season'] = tmc_selected_group['season'].astype('category')"
   ]
  },
  {
   "cell_type": "code",
   "execution_count": 12,
   "metadata": {},
   "outputs": [],
   "source": [
    "tmc_selected_group = tmc_selected_group.drop(['Store_Size'],axis=1)"
   ]
  },
  {
   "cell_type": "markdown",
   "metadata": {},
   "source": [
    "#### In order not to have duplicates of similar type of transactions, grouping the data based on all necessary columns by summing up the Total_Units Sold"
   ]
  },
  {
   "cell_type": "code",
   "execution_count": 13,
   "metadata": {},
   "outputs": [],
   "source": [
    "tmc_group = tmc_selected_group.groupby(['Dbsku','Dsubclass','Store_Type','Unit_Sales_Price','State','season','Full_Price_Ind'])['Total_Units'].sum().reset_index()"
   ]
  },
  {
   "cell_type": "code",
   "execution_count": 14,
   "metadata": {},
   "outputs": [
    {
     "data": {
      "text/plain": [
       "(5795032, 8)"
      ]
     },
     "execution_count": 14,
     "metadata": {},
     "output_type": "execute_result"
    }
   ],
   "source": [
    "tmc_group.shape"
   ]
  },
  {
   "cell_type": "markdown",
   "metadata": {},
   "source": [
    "#### Sample explanation of why Grouping has to be made\n",
    "- Before grouping we will have many Duplicate transactions, for eg: as below"
   ]
  },
  {
   "cell_type": "code",
   "execution_count": 13,
   "metadata": {},
   "outputs": [
    {
     "data": {
      "text/html": [
       "<div>\n",
       "<style scoped>\n",
       "    .dataframe tbody tr th:only-of-type {\n",
       "        vertical-align: middle;\n",
       "    }\n",
       "\n",
       "    .dataframe tbody tr th {\n",
       "        vertical-align: top;\n",
       "    }\n",
       "\n",
       "    .dataframe thead th {\n",
       "        text-align: right;\n",
       "    }\n",
       "</style>\n",
       "<table border=\"1\" class=\"dataframe\">\n",
       "  <thead>\n",
       "    <tr style=\"text-align: right;\">\n",
       "      <th></th>\n",
       "      <th>Dbsku</th>\n",
       "      <th>Full_Price_Ind</th>\n",
       "      <th>Total_Units</th>\n",
       "      <th>Unit_Sales_Price</th>\n",
       "      <th>State</th>\n",
       "      <th>Store_Type</th>\n",
       "      <th>Store_Size</th>\n",
       "      <th>Dsubclass</th>\n",
       "      <th>season</th>\n",
       "    </tr>\n",
       "  </thead>\n",
       "  <tbody>\n",
       "    <tr>\n",
       "      <th>83742</th>\n",
       "      <td>2999987</td>\n",
       "      <td>0</td>\n",
       "      <td>1</td>\n",
       "      <td>19.75</td>\n",
       "      <td>AZ</td>\n",
       "      <td>Tourist Outlet Strip</td>\n",
       "      <td>2866</td>\n",
       "      <td>1252</td>\n",
       "      <td>summer</td>\n",
       "    </tr>\n",
       "    <tr>\n",
       "      <th>128413</th>\n",
       "      <td>2999987</td>\n",
       "      <td>0</td>\n",
       "      <td>1</td>\n",
       "      <td>19.75</td>\n",
       "      <td>AZ</td>\n",
       "      <td>Tourist Outlet Strip</td>\n",
       "      <td>2866</td>\n",
       "      <td>1252</td>\n",
       "      <td>fall</td>\n",
       "    </tr>\n",
       "    <tr>\n",
       "      <th>287119</th>\n",
       "      <td>2999987</td>\n",
       "      <td>0</td>\n",
       "      <td>1</td>\n",
       "      <td>19.75</td>\n",
       "      <td>AZ</td>\n",
       "      <td>Tourist Outlet Strip</td>\n",
       "      <td>2920</td>\n",
       "      <td>1252</td>\n",
       "      <td>fall</td>\n",
       "    </tr>\n",
       "    <tr>\n",
       "      <th>491040</th>\n",
       "      <td>2999987</td>\n",
       "      <td>0</td>\n",
       "      <td>1</td>\n",
       "      <td>19.75</td>\n",
       "      <td>AZ</td>\n",
       "      <td>Tourist Outlet Strip</td>\n",
       "      <td>2920</td>\n",
       "      <td>1252</td>\n",
       "      <td>summer</td>\n",
       "    </tr>\n",
       "    <tr>\n",
       "      <th>531377</th>\n",
       "      <td>2999987</td>\n",
       "      <td>0</td>\n",
       "      <td>1</td>\n",
       "      <td>19.75</td>\n",
       "      <td>AZ</td>\n",
       "      <td>Tourist Outlet Strip</td>\n",
       "      <td>2920</td>\n",
       "      <td>1252</td>\n",
       "      <td>fall</td>\n",
       "    </tr>\n",
       "    <tr>\n",
       "      <th>613796</th>\n",
       "      <td>2999987</td>\n",
       "      <td>0</td>\n",
       "      <td>1</td>\n",
       "      <td>19.75</td>\n",
       "      <td>AZ</td>\n",
       "      <td>Tourist Outlet Strip</td>\n",
       "      <td>2920</td>\n",
       "      <td>1252</td>\n",
       "      <td>summer</td>\n",
       "    </tr>\n",
       "    <tr>\n",
       "      <th>766893</th>\n",
       "      <td>2999987</td>\n",
       "      <td>0</td>\n",
       "      <td>1</td>\n",
       "      <td>19.75</td>\n",
       "      <td>AZ</td>\n",
       "      <td>Tourist Outlet Strip</td>\n",
       "      <td>2920</td>\n",
       "      <td>1252</td>\n",
       "      <td>fall</td>\n",
       "    </tr>\n",
       "    <tr>\n",
       "      <th>804323</th>\n",
       "      <td>2999987</td>\n",
       "      <td>0</td>\n",
       "      <td>1</td>\n",
       "      <td>19.75</td>\n",
       "      <td>AZ</td>\n",
       "      <td>Tourist Outlet Strip</td>\n",
       "      <td>2920</td>\n",
       "      <td>1252</td>\n",
       "      <td>summer</td>\n",
       "    </tr>\n",
       "    <tr>\n",
       "      <th>995749</th>\n",
       "      <td>2999987</td>\n",
       "      <td>0</td>\n",
       "      <td>1</td>\n",
       "      <td>19.75</td>\n",
       "      <td>AZ</td>\n",
       "      <td>Tourist Outlet Strip</td>\n",
       "      <td>2920</td>\n",
       "      <td>1252</td>\n",
       "      <td>fall</td>\n",
       "    </tr>\n",
       "  </tbody>\n",
       "</table>\n",
       "</div>"
      ],
      "text/plain": [
       "          Dbsku  Full_Price_Ind  Total_Units  Unit_Sales_Price State  \\\n",
       "83742   2999987               0            1             19.75    AZ   \n",
       "128413  2999987               0            1             19.75    AZ   \n",
       "287119  2999987               0            1             19.75    AZ   \n",
       "491040  2999987               0            1             19.75    AZ   \n",
       "531377  2999987               0            1             19.75    AZ   \n",
       "613796  2999987               0            1             19.75    AZ   \n",
       "766893  2999987               0            1             19.75    AZ   \n",
       "804323  2999987               0            1             19.75    AZ   \n",
       "995749  2999987               0            1             19.75    AZ   \n",
       "\n",
       "                  Store_Type  Store_Size  Dsubclass  season  \n",
       "83742   Tourist Outlet Strip        2866       1252  summer  \n",
       "128413  Tourist Outlet Strip        2866       1252    fall  \n",
       "287119  Tourist Outlet Strip        2920       1252    fall  \n",
       "491040  Tourist Outlet Strip        2920       1252  summer  \n",
       "531377  Tourist Outlet Strip        2920       1252    fall  \n",
       "613796  Tourist Outlet Strip        2920       1252  summer  \n",
       "766893  Tourist Outlet Strip        2920       1252    fall  \n",
       "804323  Tourist Outlet Strip        2920       1252  summer  \n",
       "995749  Tourist Outlet Strip        2920       1252    fall  "
      ]
     },
     "execution_count": 13,
     "metadata": {},
     "output_type": "execute_result"
    }
   ],
   "source": [
    "tmc_finaldata[(tmc_finaldata.Dbsku==2999987) & (tmc_finaldata.Dsubclass==1252) \n",
    "& (tmc_finaldata.Store_Type=='Tourist Outlet Strip') & (tmc_finaldata.State=='AZ') & (tmc_finaldata.Unit_Sales_Price==19.75)]"
   ]
  },
  {
   "cell_type": "markdown",
   "metadata": {},
   "source": [
    "- After grouping, the Duplicate transactions are combined on Total_Units Level"
   ]
  },
  {
   "cell_type": "code",
   "execution_count": 29,
   "metadata": {},
   "outputs": [
    {
     "data": {
      "text/html": [
       "<div>\n",
       "<style scoped>\n",
       "    .dataframe tbody tr th:only-of-type {\n",
       "        vertical-align: middle;\n",
       "    }\n",
       "\n",
       "    .dataframe tbody tr th {\n",
       "        vertical-align: top;\n",
       "    }\n",
       "\n",
       "    .dataframe thead th {\n",
       "        text-align: right;\n",
       "    }\n",
       "</style>\n",
       "<table border=\"1\" class=\"dataframe\">\n",
       "  <thead>\n",
       "    <tr style=\"text-align: right;\">\n",
       "      <th></th>\n",
       "      <th>Dbsku</th>\n",
       "      <th>Dsubclass</th>\n",
       "      <th>Store_Type</th>\n",
       "      <th>Unit_Sales_Price</th>\n",
       "      <th>State</th>\n",
       "      <th>season</th>\n",
       "      <th>Full_Price_Ind</th>\n",
       "      <th>Total_Units</th>\n",
       "    </tr>\n",
       "  </thead>\n",
       "  <tbody>\n",
       "    <tr>\n",
       "      <th>5795026</th>\n",
       "      <td>2999987</td>\n",
       "      <td>1252</td>\n",
       "      <td>Tourist Outlet Strip</td>\n",
       "      <td>19.75</td>\n",
       "      <td>AZ</td>\n",
       "      <td>fall</td>\n",
       "      <td>0</td>\n",
       "      <td>5</td>\n",
       "    </tr>\n",
       "    <tr>\n",
       "      <th>5795027</th>\n",
       "      <td>2999987</td>\n",
       "      <td>1252</td>\n",
       "      <td>Tourist Outlet Strip</td>\n",
       "      <td>19.75</td>\n",
       "      <td>AZ</td>\n",
       "      <td>summer</td>\n",
       "      <td>0</td>\n",
       "      <td>4</td>\n",
       "    </tr>\n",
       "  </tbody>\n",
       "</table>\n",
       "</div>"
      ],
      "text/plain": [
       "           Dbsku  Dsubclass            Store_Type  Unit_Sales_Price State  \\\n",
       "5795026  2999987       1252  Tourist Outlet Strip             19.75    AZ   \n",
       "5795027  2999987       1252  Tourist Outlet Strip             19.75    AZ   \n",
       "\n",
       "         season  Full_Price_Ind  Total_Units  \n",
       "5795026    fall               0            5  \n",
       "5795027  summer               0            4  "
      ]
     },
     "execution_count": 29,
     "metadata": {},
     "output_type": "execute_result"
    }
   ],
   "source": [
    "tmc_group[(tmc_group.Dbsku==2999987) & (tmc_group.Dsubclass==1252) \n",
    "& (tmc_group.Store_Type=='Tourist Outlet Strip') & (tmc_group.State=='AZ') & (tmc_group.Unit_Sales_Price==19.75)]"
   ]
  },
  {
   "cell_type": "code",
   "execution_count": 30,
   "metadata": {},
   "outputs": [
    {
     "data": {
      "text/html": [
       "<div>\n",
       "<style scoped>\n",
       "    .dataframe tbody tr th:only-of-type {\n",
       "        vertical-align: middle;\n",
       "    }\n",
       "\n",
       "    .dataframe tbody tr th {\n",
       "        vertical-align: top;\n",
       "    }\n",
       "\n",
       "    .dataframe thead th {\n",
       "        text-align: right;\n",
       "    }\n",
       "</style>\n",
       "<table border=\"1\" class=\"dataframe\">\n",
       "  <thead>\n",
       "    <tr style=\"text-align: right;\">\n",
       "      <th></th>\n",
       "      <th>Dbsku</th>\n",
       "      <th>Dsubclass</th>\n",
       "      <th>Store_Type</th>\n",
       "      <th>Unit_Sales_Price</th>\n",
       "      <th>State</th>\n",
       "      <th>season</th>\n",
       "      <th>Full_Price_Ind</th>\n",
       "      <th>Total_Units</th>\n",
       "    </tr>\n",
       "  </thead>\n",
       "  <tbody>\n",
       "    <tr>\n",
       "      <th>0</th>\n",
       "      <td>100313</td>\n",
       "      <td>1021</td>\n",
       "      <td>Strip Store</td>\n",
       "      <td>13.60</td>\n",
       "      <td>KY</td>\n",
       "      <td>spring</td>\n",
       "      <td>0</td>\n",
       "      <td>1</td>\n",
       "    </tr>\n",
       "    <tr>\n",
       "      <th>1</th>\n",
       "      <td>100503</td>\n",
       "      <td>1040</td>\n",
       "      <td>Mega Outlet Mall</td>\n",
       "      <td>7.87</td>\n",
       "      <td>NC</td>\n",
       "      <td>fall</td>\n",
       "      <td>0</td>\n",
       "      <td>1</td>\n",
       "    </tr>\n",
       "    <tr>\n",
       "      <th>2</th>\n",
       "      <td>100503</td>\n",
       "      <td>1040</td>\n",
       "      <td>Mega Outlet Mall</td>\n",
       "      <td>15.74</td>\n",
       "      <td>NC</td>\n",
       "      <td>summer</td>\n",
       "      <td>0</td>\n",
       "      <td>1</td>\n",
       "    </tr>\n",
       "    <tr>\n",
       "      <th>3</th>\n",
       "      <td>100503</td>\n",
       "      <td>1040</td>\n",
       "      <td>Outlet Strip</td>\n",
       "      <td>15.74</td>\n",
       "      <td>TX</td>\n",
       "      <td>summer</td>\n",
       "      <td>0</td>\n",
       "      <td>1</td>\n",
       "    </tr>\n",
       "    <tr>\n",
       "      <th>4</th>\n",
       "      <td>100503</td>\n",
       "      <td>1040</td>\n",
       "      <td>Outlet Strip</td>\n",
       "      <td>18.45</td>\n",
       "      <td>NH</td>\n",
       "      <td>summer</td>\n",
       "      <td>0</td>\n",
       "      <td>1</td>\n",
       "    </tr>\n",
       "  </tbody>\n",
       "</table>\n",
       "</div>"
      ],
      "text/plain": [
       "    Dbsku  Dsubclass        Store_Type  Unit_Sales_Price State  season  \\\n",
       "0  100313       1021       Strip Store             13.60    KY  spring   \n",
       "1  100503       1040  Mega Outlet Mall              7.87    NC    fall   \n",
       "2  100503       1040  Mega Outlet Mall             15.74    NC  summer   \n",
       "3  100503       1040      Outlet Strip             15.74    TX  summer   \n",
       "4  100503       1040      Outlet Strip             18.45    NH  summer   \n",
       "\n",
       "   Full_Price_Ind  Total_Units  \n",
       "0               0            1  \n",
       "1               0            1  \n",
       "2               0            1  \n",
       "3               0            1  \n",
       "4               0            1  "
      ]
     },
     "execution_count": 30,
     "metadata": {},
     "output_type": "execute_result"
    }
   ],
   "source": [
    "tmc_group.head()"
   ]
  },
  {
   "cell_type": "markdown",
   "metadata": {},
   "source": [
    "#### Creating Dummies for Dsubclass, Store_Type, season, state"
   ]
  },
  {
   "cell_type": "code",
   "execution_count": 15,
   "metadata": {},
   "outputs": [],
   "source": [
    "tmc_maindata = pd.get_dummies(tmc_group, columns= ['Dsubclass', 'Store_Type', 'season', 'State'])"
   ]
  },
  {
   "cell_type": "markdown",
   "metadata": {},
   "source": [
    "#### By considering Dummy Variable Trap, dropping one dummy variable for each of (Store_Type, Season, Dsubclass)"
   ]
  },
  {
   "cell_type": "code",
   "execution_count": 16,
   "metadata": {},
   "outputs": [],
   "source": [
    "tmc_maindata.drop(['Dsubclass_1252','Store_Type_Downtown Store','season_summer','State_ME'], axis=1, inplace=True)"
   ]
  },
  {
   "cell_type": "markdown",
   "metadata": {},
   "source": [
    "#### Considering Unit_Sales_Price as the target variable where we are going to predict the price "
   ]
  },
  {
   "cell_type": "code",
   "execution_count": 17,
   "metadata": {},
   "outputs": [],
   "source": [
    "tmctarget =tmc_maindata['Unit_Sales_Price']"
   ]
  },
  {
   "cell_type": "code",
   "execution_count": 18,
   "metadata": {},
   "outputs": [],
   "source": [
    "tmc_maindata.drop(['Dbsku','Unit_Sales_Price'],axis=1,inplace=True)"
   ]
  },
  {
   "cell_type": "code",
   "execution_count": 19,
   "metadata": {
    "scrolled": false
   },
   "outputs": [
    {
     "data": {
      "text/plain": [
       "((5795032, 89), (5795032,))"
      ]
     },
     "execution_count": 19,
     "metadata": {},
     "output_type": "execute_result"
    }
   ],
   "source": [
    "tmc_maindata.shape,tmctarget.shape"
   ]
  },
  {
   "cell_type": "code",
   "execution_count": 256,
   "metadata": {},
   "outputs": [
    {
     "data": {
      "text/plain": [
       "(<matplotlib.axes._subplots.AxesSubplot at 0x260ae012f60>,)"
      ]
     },
     "execution_count": 256,
     "metadata": {},
     "output_type": "execute_result"
    },
    {
     "data": {
      "image/png": "[encoded data removed]",
      "text/plain": [
       "<Figure size 432x288 with 1 Axes>"
      ]
     },
     "metadata": {
      "needs_background": "light"
     },
     "output_type": "display_data"
    }
   ],
   "source": [
    "tmc_group['season'].value_counts().plot(kind='bar')"
   ]
  },
  {
   "cell_type": "code",
   "execution_count": 257,
   "metadata": {},
   "outputs": [
    {
     "data": {
      "text/plain": [
       "<matplotlib.axes._subplots.AxesSubplot at 0x260ae238518>"
      ]
     },
     "execution_count": 257,
     "metadata": {},
     "output_type": "execute_result"
    },
    {
     "data": {
      "image/png": "[encoded data removed]",
      "text/plain": [
       "<Figure size 432x288 with 1 Axes>"
      ]
     },
     "metadata": {
      "needs_background": "light"
     },
     "output_type": "display_data"
    }
   ],
   "source": [
    "tmc_group['Store_Type'].value_counts().plot(kind='bar')"
   ]
  },
  {
   "cell_type": "code",
   "execution_count": 265,
   "metadata": {},
   "outputs": [
    {
     "data": {
      "text/plain": [
       "<matplotlib.axes._subplots.AxesSubplot at 0x260ae136128>"
      ]
     },
     "execution_count": 265,
     "metadata": {},
     "output_type": "execute_result"
    },
    {
     "data": {
      "image/png": "[encoded data removed]",
      "text/plain": [
       "<Figure size 432x288 with 1 Axes>"
      ]
     },
     "metadata": {
      "needs_background": "light"
     },
     "output_type": "display_data"
    }
   ],
   "source": [
    "tmc_group['Dsubclass'].value_counts().plot(kind='bar')"
   ]
  },
  {
   "cell_type": "markdown",
   "metadata": {},
   "source": [
    "- Plot b/w price and quantity before taking log"
   ]
  },
  {
   "cell_type": "code",
   "execution_count": 20,
   "metadata": {},
   "outputs": [
    {
     "data": {
      "image/png": "[encoded data removed]",
      "text/plain": [
       "<Figure size 432x288 with 1 Axes>"
      ]
     },
     "metadata": {
      "needs_background": "light"
     },
     "output_type": "display_data"
    },
    {
     "data": {
      "text/plain": [
       "<Figure size 576x576 with 0 Axes>"
      ]
     },
     "metadata": {},
     "output_type": "display_data"
    }
   ],
   "source": [
    "x = tmc_maindata['Total_Units']\n",
    "y = tmctarget\n",
    "plt.scatter(x, y, alpha=0.5)\n",
    "plt.xlabel('Quantity')\n",
    "plt.ylabel('Price')\n",
    "plt.show()"
   ]
  },
  {
   "cell_type": "code",
   "execution_count": 20,
   "metadata": {},
   "outputs": [],
   "source": [
    "tmc_maindata['Total_Units'] = np.log(tmc_maindata['Total_Units'])"
   ]
  },
  {
   "cell_type": "markdown",
   "metadata": {},
   "source": [
    "- Plot b/w price and quantity after taking log on Total_Units"
   ]
  },
  {
   "cell_type": "code",
   "execution_count": 47,
   "metadata": {},
   "outputs": [
    {
     "data": {
      "image/png": "[encoded data removed]",
      "text/plain": [
       "<Figure size 432x288 with 1 Axes>"
      ]
     },
     "metadata": {
      "needs_background": "light"
     },
     "output_type": "display_data"
    }
   ],
   "source": [
    "x = tmc_maindata['Total_Units']\n",
    "y = tmctarget\n",
    "plt.scatter(x, y, alpha=0.5)\n",
    "plt.xlabel('Quantity')\n",
    "plt.ylabel('Price')\n",
    "plt.show()"
   ]
  },
  {
   "cell_type": "markdown",
   "metadata": {},
   "source": [
    "###### Feature Selection using Random Forest which can give best features for modelling"
   ]
  },
  {
   "cell_type": "code",
   "execution_count": 21,
   "metadata": {},
   "outputs": [],
   "source": [
    "from sklearn.ensemble import RandomForestRegressor\n",
    "rfm = RandomForestRegressor(random_state=212)"
   ]
  },
  {
   "cell_type": "code",
   "execution_count": 52,
   "metadata": {},
   "outputs": [
    {
     "name": "stderr",
     "output_type": "stream",
     "text": [
      "C:\\Users\\ajayi\\AppData\\Local\\Continuum\\anaconda3\\lib\\site-packages\\sklearn\\ensemble\\forest.py:246: FutureWarning: The default value of n_estimators will change from 10 in version 0.20 to 100 in 0.22.\n",
      "  \"10 in version 0.20 to 100 in 0.22.\", FutureWarning)\n"
     ]
    },
    {
     "data": {
      "text/plain": [
       "RandomForestRegressor(bootstrap=True, criterion='mse', max_depth=None,\n",
       "           max_features='auto', max_leaf_nodes=None,\n",
       "           min_impurity_decrease=0.0, min_impurity_split=None,\n",
       "           min_samples_leaf=1, min_samples_split=2,\n",
       "           min_weight_fraction_leaf=0.0, n_estimators=10, n_jobs=None,\n",
       "           oob_score=False, random_state=212, verbose=0, warm_start=False)"
      ]
     },
     "execution_count": 52,
     "metadata": {},
     "output_type": "execute_result"
    }
   ],
   "source": [
    "rfm.fit(tmc_maindata,tmctarget)"
   ]
  },
  {
   "cell_type": "code",
   "execution_count": 54,
   "metadata": {},
   "outputs": [
    {
     "data": {
      "text/plain": [
       "[(0.3490524065512585, 'Full_Price_Ind'),\n",
       " (0.1733602618808175, 'season_spring'),\n",
       " (0.060488225894872405, 'Total_Units'),\n",
       " (0.04141440966201184, 'season_winter'),\n",
       " (0.022877136085139665, 'season_fall'),\n",
       " (0.022529592625453898, 'Dsubclass_1020'),\n",
       " (0.01965215319770742, 'Dsubclass_1050'),\n",
       " (0.015416544115779867, 'Dsubclass_1031'),\n",
       " (0.01386546911410855, 'Dsubclass_1240'),\n",
       " (0.013506678786778983, 'Dsubclass_1250'),\n",
       " (0.013230325069789384, 'Dsubclass_1051'),\n",
       " (0.011265281448004654, 'Dsubclass_1220'),\n",
       " (0.010474025875901119, 'Dsubclass_1052'),\n",
       " (0.010352712657954063, 'Dsubclass_1242'),\n",
       " (0.009629747012909006, 'Store_Type_Power Strip'),\n",
       " (0.009019696759915541, 'Store_Type_Strip Store'),\n",
       " (0.008690579250657226, 'Dsubclass_1042'),\n",
       " (0.008654085803447144, 'Dsubclass_105'),\n",
       " (0.007879878062467847, 'Dsubclass_1251'),\n",
       " (0.007425499482312461, 'Dsubclass_1241'),\n",
       " (0.0073604746811259305, 'Dsubclass_1021'),\n",
       " (0.007158660960680021, 'Dsubclass_125'),\n",
       " (0.00625092132326191, 'Dsubclass_106'),\n",
       " (0.005999794442200225, 'Store_Type_Outlet Strip'),\n",
       " (0.005908044562596402, 'Dsubclass_1232'),\n",
       " (0.005812927910669061, 'Dsubclass_1040'),\n",
       " (0.005620057830363667, 'State_FL'),\n",
       " (0.0050977873339015205, 'Dsubclass_1230'),\n",
       " (0.004653449058844709, 'Dsubclass_1032'),\n",
       " (0.00461482261909824, 'State_NY'),\n",
       " (0.0044932475614263955, 'State_TX'),\n",
       " (0.004330911150244904, 'Dsubclass_1041'),\n",
       " (0.0038860690869433863, 'Store_Type_Regional Mall'),\n",
       " (0.0037797333747740408, 'Dsubclass_1030'),\n",
       " (0.0037488831147405323, 'State_CA'),\n",
       " (0.003396083144048922, 'Dsubclass_1231'),\n",
       " (0.0030597890030324053, 'State_NJ'),\n",
       " (0.0030514958988792323, 'State_IL'),\n",
       " (0.0030169822611067917, 'State_AZ'),\n",
       " (0.0027584703044933813, 'Store_Type_Outlet Mall'),\n",
       " (0.0027533767134694477, 'Store_Type_Tourist Outlet Strip'),\n",
       " (0.0026807664867094147, 'Dsubclass_1221'),\n",
       " (0.0026731708249429238, 'Store_Type_Mega Outlet Mall'),\n",
       " (0.0026684253298289405, 'State_MI'),\n",
       " (0.002613943617144122, 'State_PA'),\n",
       " (0.0024889318828091875, 'State_NV'),\n",
       " (0.0024313718959093926, 'State_LA'),\n",
       " (0.0023543109094536006, 'State_GA'),\n",
       " (0.0023291344063323923, 'State_MD'),\n",
       " (0.0022136209442573966, 'State_NC'),\n",
       " (0.0021980655808025865, 'State_MA'),\n",
       " (0.002178857646621145, 'State_MO'),\n",
       " (0.0021213697006402243, 'Dsubclass_126'),\n",
       " (0.0021085130868214895, 'State_CT'),\n",
       " (0.0019395731869244048, 'State_TN'),\n",
       " (0.0019238579115375247, 'State_OH'),\n",
       " (0.001901835248348151, 'State_MS'),\n",
       " (0.0018945681354137164, 'State_VA'),\n",
       " (0.0018664822893161188, 'State_CO'),\n",
       " (0.0018359280247287693, 'State_MN'),\n",
       " (0.0017817152380213703, 'State_SC'),\n",
       " (0.0017707904698913105, 'State_AL'),\n",
       " (0.0017468895314876319, 'State_WI'),\n",
       " (0.0017390955657503912, 'State_AR'),\n",
       " (0.001736700839042198, 'State_IN'),\n",
       " (0.0014890529028767547, 'State_WA'),\n",
       " (0.001465940811222062, 'State_KS'),\n",
       " (0.0014236865489487712, 'State_UT'),\n",
       " (0.0013386803816158692, 'State_KY'),\n",
       " (0.0013269582510977065, 'State_WV'),\n",
       " (0.001274432339191204, 'Store_Type_Lifestyle Center'),\n",
       " (0.0012677059066103385, 'State_IA'),\n",
       " (0.0011979403652940383, 'State_OR'),\n",
       " (0.0011690952563907797, 'State_NH'),\n",
       " (0.001098170840114219, 'State_OK'),\n",
       " (0.001044505563136187, 'State_DE'),\n",
       " (0.00103975620517676, 'State_ND'),\n",
       " (0.0009834193674394254, 'State_NE'),\n",
       " (0.0009660829987418789, 'Store_Type_Mini Mall'),\n",
       " (0.0008603609686027788, 'State_MT'),\n",
       " (0.0007781122754471779, 'State_DC'),\n",
       " (0.0007607431841195863, 'State_ID'),\n",
       " (0.000692426449847393, 'State_SD'),\n",
       " (0.0006152766248299587, 'State_VT'),\n",
       " (0.0006041539422706616, 'Store_Type_Tourist Outlet Mall'),\n",
       " (0.0005855698978316597, 'Store_Type_Freestanding Store'),\n",
       " (0.00046405824856239966, 'State_RI'),\n",
       " (0.0004131601037568983, 'State_WY'),\n",
       " (0.0004061001409529063, 'State_NM')]"
      ]
     },
     "execution_count": 54,
     "metadata": {},
     "output_type": "execute_result"
    }
   ],
   "source": [
    "feature_list = []\n",
    "for name, score in zip(tmc_maindata.columns, rfm.feature_importances_):\n",
    "    feature_list.append((score, name))\n",
    "sorted(feature_list, reverse=True)"
   ]
  },
  {
   "cell_type": "code",
   "execution_count": 40,
   "metadata": {
    "scrolled": false
   },
   "outputs": [
    {
     "name": "stdout",
     "output_type": "stream",
     "text": [
      "Current size: [12.0, 15.0]\n"
     ]
    },
    {
     "data": {
      "image/png": "[encoded data removed]",
      "text/plain": [
       "<Figure size 864x1080 with 1 Axes>"
      ]
     },
     "metadata": {
      "needs_background": "light"
     },
     "output_type": "display_data"
    }
   ],
   "source": [
    "features = tmc_maindata.columns\n",
    "importances = rfm.feature_importances_\n",
    "indices = np.argsort(importances)[-50:]  # top 50 features\n",
    "plt.title('Feature Importances')\n",
    "plt.barh(range(len(indices)), importances[indices], color='b', align='center',)\n",
    "plt.yticks(range(len(indices)), [features[i] for i in indices])\n",
    "plt.xlabel('Relative Importance')\n",
    "fig_size = plt.rcParams[\"figure.figsize\"]\n",
    "print(\"Current size:\", fig_size)\n",
    "fig_size[0] = 12\n",
    "fig_size[1] = 15\n",
    "plt.rcParams[\"figure.figsize\"] = fig_size"
   ]
  },
  {
   "cell_type": "markdown",
   "metadata": {},
   "source": [
    "#### Considering top 43 features for modelling (half of the total features available)"
   ]
  },
  {
   "cell_type": "code",
   "execution_count": 24,
   "metadata": {},
   "outputs": [],
   "source": [
    "tmc_sel_feat = tmc_maindata[['Full_Price_Ind','season_spring','Total_Units','season_winter','season_fall','Dsubclass_1020',\n",
    "                             'Dsubclass_1050','Dsubclass_1031','Dsubclass_1240','Dsubclass_1250','Dsubclass_1051',\n",
    "                             'Dsubclass_1220','Dsubclass_1052','Dsubclass_1242','Store_Type_Power Strip','Store_Type_Strip Store',\n",
    "                             'Dsubclass_1042','Dsubclass_105','Dsubclass_1251','Dsubclass_1241','Dsubclass_1021','Dsubclass_125',\n",
    "                             'Dsubclass_106','Store_Type_Outlet Strip','Dsubclass_1232','Dsubclass_1040','State_FL',\n",
    "                             'Dsubclass_1230','Dsubclass_1032','State_NY','State_TX','Dsubclass_1041','Store_Type_Regional Mall',\n",
    "                             'Dsubclass_1030','State_CA','Dsubclass_1231','State_NJ','State_IL','State_AZ',\n",
    "                             'Store_Type_Outlet Mall','Store_Type_Tourist Outlet Strip','Dsubclass_1221',\n",
    "                             'Store_Type_Mega Outlet Mall']]"
   ]
  },
  {
   "cell_type": "markdown",
   "metadata": {},
   "source": [
    "- Correlation Between few Xs and target variable 'Unit_Sales_Price'"
   ]
  },
  {
   "cell_type": "code",
   "execution_count": 76,
   "metadata": {},
   "outputs": [
    {
     "name": "stdout",
     "output_type": "stream",
     "text": [
      " For Full_Price_Ind vs y ---> PointbiserialrResult(correlation=0.3758545261974288, pvalue=0.0)\n",
      " For season_spring Store vs y ---> PointbiserialrResult(correlation=0.1778353176009048, pvalue=0.0)\n",
      " For Total_Units vs y ---> PointbiserialrResult(correlation=0.1525076474855098, pvalue=0.0)\n",
      " For Dsubclass_1020 vs y ---> PointbiserialrResult(correlation=-0.07259542123516532, pvalue=0.0)\n",
      " For Dsubclass_1240 vs y ---> PointbiserialrResult(correlation=0.09059493245296203, pvalue=0.0)\n",
      " For season_fall vs y ---> PointbiserialrResult(correlation=-0.017122754906459866, pvalue=0.0)\n",
      " For Dsubclass_1220 vs y ---> PointbiserialrResult(correlation=0.06955495869745268, pvalue=0.0)\n",
      " For Dsubclass_1250 vs y ---> PointbiserialrResult(correlation=-0.034719112650028854, pvalue=0.0)\n",
      " For Dsubclass_1242 vs y ---> PointbiserialrResult(correlation=0.07460301422223498, pvalue=0.0)\n"
     ]
    }
   ],
   "source": [
    "from scipy import stats\n",
    "print(\" For Full_Price_Ind vs y --->\",stats.pointbiserialr(tmc_sel_feat['Full_Price_Ind'], tmctarget))\n",
    "print(\" For season_spring Store vs y --->\",stats.pointbiserialr(tmc_sel_feat['season_spring'], tmctarget))\n",
    "print(\" For Total_Units vs y --->\",stats.pointbiserialr(tmc_sel_feat['Total_Units'], tmctarget))\n",
    "print(\" For Dsubclass_1020 vs y --->\",stats.pointbiserialr(tmc_sel_feat['Dsubclass_1020'], tmctarget))\n",
    "print(\" For Dsubclass_1240 vs y --->\",stats.pointbiserialr(tmc_sel_feat['Dsubclass_1240'], tmctarget))\n",
    "print(\" For season_fall vs y --->\",stats.pointbiserialr(tmc_sel_feat['season_fall'], tmctarget))\n",
    "print(\" For Dsubclass_1220 vs y --->\",stats.pointbiserialr(tmc_sel_feat['Dsubclass_1220'], tmctarget))\n",
    "print(\" For Dsubclass_1250 vs y --->\",stats.pointbiserialr(tmc_sel_feat['Dsubclass_1250'], tmctarget))\n",
    "print(\" For Dsubclass_1242 vs y --->\",stats.pointbiserialr(tmc_sel_feat['Dsubclass_1242'], tmctarget))"
   ]
  },
  {
   "cell_type": "markdown",
   "metadata": {},
   "source": [
    "#### Splitting the Dataset and training the dataset using OLS, Linear, Ridge, Lasso Regressions"
   ]
  },
  {
   "cell_type": "code",
   "execution_count": 87,
   "metadata": {},
   "outputs": [],
   "source": [
    "from sklearn import model_selection\n",
    "from sklearn.model_selection import KFold\n",
    "from sklearn.model_selection import train_test_split\n",
    "import statsmodels.api as sm\n",
    "from sklearn.linear_model import LinearRegression\n",
    "from sklearn.metrics import mean_absolute_error,mean_squared_error, r2_score\n",
    "from sklearn.linear_model import Lasso\n",
    "from sklearn.linear_model import Ridge"
   ]
  },
  {
   "cell_type": "code",
   "execution_count": 243,
   "metadata": {},
   "outputs": [],
   "source": [
    "X_train, X_test, Y_train, Y_test = train_test_split(tmc_sel_feat, tmctarget, test_size = 0.3,\\\n",
    "                                                    random_state=212)"
   ]
  },
  {
   "cell_type": "code",
   "execution_count": 33,
   "metadata": {
    "scrolled": true
   },
   "outputs": [
    {
     "name": "stderr",
     "output_type": "stream",
     "text": [
      "C:\\Users\\ajayi\\AppData\\Local\\Continuum\\anaconda3\\lib\\site-packages\\numpy\\core\\fromnumeric.py:2389: FutureWarning: Method .ptp is deprecated and will be removed in a future version. Use numpy.ptp instead.\n",
      "  return ptp(axis=axis, out=out, **kwargs)\n"
     ]
    },
    {
     "data": {
      "text/html": [
       "<table class=\"simpletable\">\n",
       "<caption>OLS Regression Results</caption>\n",
       "<tr>\n",
       "  <th>Dep. Variable:</th>    <td>Unit_Sales_Price</td> <th>  R-squared:         </th>  <td>   0.241</td>  \n",
       "</tr>\n",
       "<tr>\n",
       "  <th>Model:</th>                   <td>OLS</td>       <th>  Adj. R-squared:    </th>  <td>   0.241</td>  \n",
       "</tr>\n",
       "<tr>\n",
       "  <th>Method:</th>             <td>Least Squares</td>  <th>  F-statistic:       </th>  <td>2.994e+04</td> \n",
       "</tr>\n",
       "<tr>\n",
       "  <th>Date:</th>             <td>Thu, 09 May 2019</td> <th>  Prob (F-statistic):</th>   <td>  0.00</td>   \n",
       "</tr>\n",
       "<tr>\n",
       "  <th>Time:</th>                 <td>03:16:27</td>     <th>  Log-Likelihood:    </th> <td>-1.5666e+07</td>\n",
       "</tr>\n",
       "<tr>\n",
       "  <th>No. Observations:</th>      <td>4056522</td>     <th>  AIC:               </th>  <td>3.133e+07</td> \n",
       "</tr>\n",
       "<tr>\n",
       "  <th>Df Residuals:</th>          <td>4056478</td>     <th>  BIC:               </th>  <td>3.133e+07</td> \n",
       "</tr>\n",
       "<tr>\n",
       "  <th>Df Model:</th>              <td>    43</td>      <th>                     </th>      <td> </td>     \n",
       "</tr>\n",
       "<tr>\n",
       "  <th>Covariance Type:</th>      <td>nonrobust</td>    <th>                     </th>      <td> </td>     \n",
       "</tr>\n",
       "</table>\n",
       "<table class=\"simpletable\">\n",
       "<tr>\n",
       "                 <td></td>                    <th>coef</th>     <th>std err</th>      <th>t</th>      <th>P>|t|</th>  <th>[0.025</th>    <th>0.975]</th>  \n",
       "</tr>\n",
       "<tr>\n",
       "  <th>const</th>                           <td>   29.9099</td> <td>    0.049</td> <td>  611.648</td> <td> 0.000</td> <td>   29.814</td> <td>   30.006</td>\n",
       "</tr>\n",
       "<tr>\n",
       "  <th>Full_Price_Ind</th>                  <td>   14.4487</td> <td>    0.018</td> <td>  788.347</td> <td> 0.000</td> <td>   14.413</td> <td>   14.485</td>\n",
       "</tr>\n",
       "<tr>\n",
       "  <th>season_spring</th>                   <td>    6.0665</td> <td>    0.015</td> <td>  402.881</td> <td> 0.000</td> <td>    6.037</td> <td>    6.096</td>\n",
       "</tr>\n",
       "<tr>\n",
       "  <th>Total_Units</th>                     <td>    1.5074</td> <td>    0.008</td> <td>  178.886</td> <td> 0.000</td> <td>    1.491</td> <td>    1.524</td>\n",
       "</tr>\n",
       "<tr>\n",
       "  <th>season_winter</th>                   <td>    1.1048</td> <td>    0.017</td> <td>   65.274</td> <td> 0.000</td> <td>    1.072</td> <td>    1.138</td>\n",
       "</tr>\n",
       "<tr>\n",
       "  <th>season_fall</th>                     <td>    1.9838</td> <td>    0.018</td> <td>  112.454</td> <td> 0.000</td> <td>    1.949</td> <td>    2.018</td>\n",
       "</tr>\n",
       "<tr>\n",
       "  <th>Dsubclass_1020</th>                  <td>   -1.2973</td> <td>    0.042</td> <td>  -30.781</td> <td> 0.000</td> <td>   -1.380</td> <td>   -1.215</td>\n",
       "</tr>\n",
       "<tr>\n",
       "  <th>Dsubclass_1050</th>                  <td>   -4.4604</td> <td>    0.050</td> <td>  -89.077</td> <td> 0.000</td> <td>   -4.559</td> <td>   -4.362</td>\n",
       "</tr>\n",
       "<tr>\n",
       "  <th>Dsubclass_1031</th>                  <td>   -3.7040</td> <td>    0.049</td> <td>  -75.161</td> <td> 0.000</td> <td>   -3.801</td> <td>   -3.607</td>\n",
       "</tr>\n",
       "<tr>\n",
       "  <th>Dsubclass_1240</th>                  <td>    7.1406</td> <td>    0.052</td> <td>  138.225</td> <td> 0.000</td> <td>    7.039</td> <td>    7.242</td>\n",
       "</tr>\n",
       "<tr>\n",
       "  <th>Dsubclass_1250</th>                  <td>   -1.7898</td> <td>    0.052</td> <td>  -34.460</td> <td> 0.000</td> <td>   -1.892</td> <td>   -1.688</td>\n",
       "</tr>\n",
       "<tr>\n",
       "  <th>Dsubclass_1051</th>                  <td>   -6.8016</td> <td>    0.067</td> <td> -101.295</td> <td> 0.000</td> <td>   -6.933</td> <td>   -6.670</td>\n",
       "</tr>\n",
       "<tr>\n",
       "  <th>Dsubclass_1220</th>                  <td>    3.1436</td> <td>    0.044</td> <td>   71.373</td> <td> 0.000</td> <td>    3.057</td> <td>    3.230</td>\n",
       "</tr>\n",
       "<tr>\n",
       "  <th>Dsubclass_1052</th>                  <td>  -10.9207</td> <td>    0.096</td> <td> -113.723</td> <td> 0.000</td> <td>  -11.109</td> <td>  -10.733</td>\n",
       "</tr>\n",
       "<tr>\n",
       "  <th>Dsubclass_1242</th>                  <td>    7.1262</td> <td>    0.057</td> <td>  124.079</td> <td> 0.000</td> <td>    7.014</td> <td>    7.239</td>\n",
       "</tr>\n",
       "<tr>\n",
       "  <th>Store_Type_Power Strip</th>          <td>   -1.4994</td> <td>    0.028</td> <td>  -53.933</td> <td> 0.000</td> <td>   -1.554</td> <td>   -1.445</td>\n",
       "</tr>\n",
       "<tr>\n",
       "  <th>Store_Type_Strip Store</th>          <td>   -1.5045</td> <td>    0.027</td> <td>  -55.349</td> <td> 0.000</td> <td>   -1.558</td> <td>   -1.451</td>\n",
       "</tr>\n",
       "<tr>\n",
       "  <th>Dsubclass_1042</th>                  <td>    3.7027</td> <td>    0.049</td> <td>   74.918</td> <td> 0.000</td> <td>    3.606</td> <td>    3.800</td>\n",
       "</tr>\n",
       "<tr>\n",
       "  <th>Dsubclass_105</th>                   <td>   -1.6072</td> <td>    0.053</td> <td>  -30.235</td> <td> 0.000</td> <td>   -1.711</td> <td>   -1.503</td>\n",
       "</tr>\n",
       "<tr>\n",
       "  <th>Dsubclass_1251</th>                  <td>   -3.7857</td> <td>    0.073</td> <td>  -52.068</td> <td> 0.000</td> <td>   -3.928</td> <td>   -3.643</td>\n",
       "</tr>\n",
       "<tr>\n",
       "  <th>Dsubclass_1241</th>                  <td>    6.4813</td> <td>    0.059</td> <td>  110.304</td> <td> 0.000</td> <td>    6.366</td> <td>    6.596</td>\n",
       "</tr>\n",
       "<tr>\n",
       "  <th>Dsubclass_1021</th>                  <td>   -1.4518</td> <td>    0.046</td> <td>  -31.348</td> <td> 0.000</td> <td>   -1.543</td> <td>   -1.361</td>\n",
       "</tr>\n",
       "<tr>\n",
       "  <th>Dsubclass_125</th>                   <td>    2.5017</td> <td>    0.062</td> <td>   40.569</td> <td> 0.000</td> <td>    2.381</td> <td>    2.623</td>\n",
       "</tr>\n",
       "<tr>\n",
       "  <th>Dsubclass_106</th>                   <td>   -2.1309</td> <td>    0.049</td> <td>  -43.386</td> <td> 0.000</td> <td>   -2.227</td> <td>   -2.035</td>\n",
       "</tr>\n",
       "<tr>\n",
       "  <th>Store_Type_Outlet Strip</th>         <td>   -0.4690</td> <td>    0.029</td> <td>  -15.952</td> <td> 0.000</td> <td>   -0.527</td> <td>   -0.411</td>\n",
       "</tr>\n",
       "<tr>\n",
       "  <th>Dsubclass_1232</th>                  <td>    3.5104</td> <td>    0.063</td> <td>   55.627</td> <td> 0.000</td> <td>    3.387</td> <td>    3.634</td>\n",
       "</tr>\n",
       "<tr>\n",
       "  <th>Dsubclass_1040</th>                  <td>    3.0117</td> <td>    0.048</td> <td>   63.252</td> <td> 0.000</td> <td>    2.918</td> <td>    3.105</td>\n",
       "</tr>\n",
       "<tr>\n",
       "  <th>State_FL</th>                        <td>    0.0959</td> <td>    0.028</td> <td>    3.475</td> <td> 0.001</td> <td>    0.042</td> <td>    0.150</td>\n",
       "</tr>\n",
       "<tr>\n",
       "  <th>Dsubclass_1230</th>                  <td>    2.7976</td> <td>    0.056</td> <td>   50.390</td> <td> 0.000</td> <td>    2.689</td> <td>    2.906</td>\n",
       "</tr>\n",
       "<tr>\n",
       "  <th>Dsubclass_1032</th>                  <td>   -0.1924</td> <td>    0.050</td> <td>   -3.883</td> <td> 0.000</td> <td>   -0.290</td> <td>   -0.095</td>\n",
       "</tr>\n",
       "<tr>\n",
       "  <th>State_NY</th>                        <td>    0.1330</td> <td>    0.021</td> <td>    6.434</td> <td> 0.000</td> <td>    0.092</td> <td>    0.173</td>\n",
       "</tr>\n",
       "<tr>\n",
       "  <th>State_TX</th>                        <td>   -0.9471</td> <td>    0.024</td> <td>  -38.916</td> <td> 0.000</td> <td>   -0.995</td> <td>   -0.899</td>\n",
       "</tr>\n",
       "<tr>\n",
       "  <th>Dsubclass_1041</th>                  <td>    3.0235</td> <td>    0.050</td> <td>   59.943</td> <td> 0.000</td> <td>    2.925</td> <td>    3.122</td>\n",
       "</tr>\n",
       "<tr>\n",
       "  <th>Store_Type_Regional Mall</th>        <td>   -0.8128</td> <td>    0.035</td> <td>  -23.533</td> <td> 0.000</td> <td>   -0.881</td> <td>   -0.745</td>\n",
       "</tr>\n",
       "<tr>\n",
       "  <th>Dsubclass_1030</th>                  <td>   -1.5333</td> <td>    0.057</td> <td>  -26.921</td> <td> 0.000</td> <td>   -1.645</td> <td>   -1.422</td>\n",
       "</tr>\n",
       "<tr>\n",
       "  <th>State_CA</th>                        <td>   -0.1448</td> <td>    0.025</td> <td>   -5.884</td> <td> 0.000</td> <td>   -0.193</td> <td>   -0.097</td>\n",
       "</tr>\n",
       "<tr>\n",
       "  <th>Dsubclass_1231</th>                  <td>    0.6502</td> <td>    0.057</td> <td>   11.472</td> <td> 0.000</td> <td>    0.539</td> <td>    0.761</td>\n",
       "</tr>\n",
       "<tr>\n",
       "  <th>State_NJ</th>                        <td>   -0.0008</td> <td>    0.027</td> <td>   -0.029</td> <td> 0.977</td> <td>   -0.054</td> <td>    0.052</td>\n",
       "</tr>\n",
       "<tr>\n",
       "  <th>State_IL</th>                        <td>   -0.5585</td> <td>    0.030</td> <td>  -18.461</td> <td> 0.000</td> <td>   -0.618</td> <td>   -0.499</td>\n",
       "</tr>\n",
       "<tr>\n",
       "  <th>State_AZ</th>                        <td>   -1.0251</td> <td>    0.043</td> <td>  -23.966</td> <td> 0.000</td> <td>   -1.109</td> <td>   -0.941</td>\n",
       "</tr>\n",
       "<tr>\n",
       "  <th>Store_Type_Outlet Mall</th>          <td>    0.4086</td> <td>    0.043</td> <td>    9.494</td> <td> 0.000</td> <td>    0.324</td> <td>    0.493</td>\n",
       "</tr>\n",
       "<tr>\n",
       "  <th>Store_Type_Tourist Outlet Strip</th> <td>    0.7991</td> <td>    0.044</td> <td>   18.333</td> <td> 0.000</td> <td>    0.714</td> <td>    0.885</td>\n",
       "</tr>\n",
       "<tr>\n",
       "  <th>Dsubclass_1221</th>                  <td>    3.3497</td> <td>    0.062</td> <td>   54.155</td> <td> 0.000</td> <td>    3.228</td> <td>    3.471</td>\n",
       "</tr>\n",
       "<tr>\n",
       "  <th>Store_Type_Mega Outlet Mall</th>     <td>    0.3911</td> <td>    0.042</td> <td>    9.294</td> <td> 0.000</td> <td>    0.309</td> <td>    0.474</td>\n",
       "</tr>\n",
       "</table>\n",
       "<table class=\"simpletable\">\n",
       "<tr>\n",
       "  <th>Omnibus:</th>       <td>5014.390</td> <th>  Durbin-Watson:     </th> <td>   2.000</td>\n",
       "</tr>\n",
       "<tr>\n",
       "  <th>Prob(Omnibus):</th>  <td> 0.000</td>  <th>  Jarque-Bera (JB):  </th> <td>4303.922</td>\n",
       "</tr>\n",
       "<tr>\n",
       "  <th>Skew:</th>           <td>-0.020</td>  <th>  Prob(JB):          </th> <td>    0.00</td>\n",
       "</tr>\n",
       "<tr>\n",
       "  <th>Kurtosis:</th>       <td> 2.846</td>  <th>  Cond. No.          </th> <td>    49.2</td>\n",
       "</tr>\n",
       "</table><br/><br/>Warnings:<br/>[1] Standard Errors assume that the covariance matrix of the errors is correctly specified."
      ],
      "text/plain": [
       "<class 'statsmodels.iolib.summary.Summary'>\n",
       "\"\"\"\n",
       "                            OLS Regression Results                            \n",
       "==============================================================================\n",
       "Dep. Variable:       Unit_Sales_Price   R-squared:                       0.241\n",
       "Model:                            OLS   Adj. R-squared:                  0.241\n",
       "Method:                 Least Squares   F-statistic:                 2.994e+04\n",
       "Date:                Thu, 09 May 2019   Prob (F-statistic):               0.00\n",
       "Time:                        03:16:27   Log-Likelihood:            -1.5666e+07\n",
       "No. Observations:             4056522   AIC:                         3.133e+07\n",
       "Df Residuals:                 4056478   BIC:                         3.133e+07\n",
       "Df Model:                          43                                         \n",
       "Covariance Type:            nonrobust                                         \n",
       "===================================================================================================\n",
       "                                      coef    std err          t      P>|t|      [0.025      0.975]\n",
       "---------------------------------------------------------------------------------------------------\n",
       "const                              29.9099      0.049    611.648      0.000      29.814      30.006\n",
       "Full_Price_Ind                     14.4487      0.018    788.347      0.000      14.413      14.485\n",
       "season_spring                       6.0665      0.015    402.881      0.000       6.037       6.096\n",
       "Total_Units                         1.5074      0.008    178.886      0.000       1.491       1.524\n",
       "season_winter                       1.1048      0.017     65.274      0.000       1.072       1.138\n",
       "season_fall                         1.9838      0.018    112.454      0.000       1.949       2.018\n",
       "Dsubclass_1020                     -1.2973      0.042    -30.781      0.000      -1.380      -1.215\n",
       "Dsubclass_1050                     -4.4604      0.050    -89.077      0.000      -4.559      -4.362\n",
       "Dsubclass_1031                     -3.7040      0.049    -75.161      0.000      -3.801      -3.607\n",
       "Dsubclass_1240                      7.1406      0.052    138.225      0.000       7.039       7.242\n",
       "Dsubclass_1250                     -1.7898      0.052    -34.460      0.000      -1.892      -1.688\n",
       "Dsubclass_1051                     -6.8016      0.067   -101.295      0.000      -6.933      -6.670\n",
       "Dsubclass_1220                      3.1436      0.044     71.373      0.000       3.057       3.230\n",
       "Dsubclass_1052                    -10.9207      0.096   -113.723      0.000     -11.109     -10.733\n",
       "Dsubclass_1242                      7.1262      0.057    124.079      0.000       7.014       7.239\n",
       "Store_Type_Power Strip             -1.4994      0.028    -53.933      0.000      -1.554      -1.445\n",
       "Store_Type_Strip Store             -1.5045      0.027    -55.349      0.000      -1.558      -1.451\n",
       "Dsubclass_1042                      3.7027      0.049     74.918      0.000       3.606       3.800\n",
       "Dsubclass_105                      -1.6072      0.053    -30.235      0.000      -1.711      -1.503\n",
       "Dsubclass_1251                     -3.7857      0.073    -52.068      0.000      -3.928      -3.643\n",
       "Dsubclass_1241                      6.4813      0.059    110.304      0.000       6.366       6.596\n",
       "Dsubclass_1021                     -1.4518      0.046    -31.348      0.000      -1.543      -1.361\n",
       "Dsubclass_125                       2.5017      0.062     40.569      0.000       2.381       2.623\n",
       "Dsubclass_106                      -2.1309      0.049    -43.386      0.000      -2.227      -2.035\n",
       "Store_Type_Outlet Strip            -0.4690      0.029    -15.952      0.000      -0.527      -0.411\n",
       "Dsubclass_1232                      3.5104      0.063     55.627      0.000       3.387       3.634\n",
       "Dsubclass_1040                      3.0117      0.048     63.252      0.000       2.918       3.105\n",
       "State_FL                            0.0959      0.028      3.475      0.001       0.042       0.150\n",
       "Dsubclass_1230                      2.7976      0.056     50.390      0.000       2.689       2.906\n",
       "Dsubclass_1032                     -0.1924      0.050     -3.883      0.000      -0.290      -0.095\n",
       "State_NY                            0.1330      0.021      6.434      0.000       0.092       0.173\n",
       "State_TX                           -0.9471      0.024    -38.916      0.000      -0.995      -0.899\n",
       "Dsubclass_1041                      3.0235      0.050     59.943      0.000       2.925       3.122\n",
       "Store_Type_Regional Mall           -0.8128      0.035    -23.533      0.000      -0.881      -0.745\n",
       "Dsubclass_1030                     -1.5333      0.057    -26.921      0.000      -1.645      -1.422\n",
       "State_CA                           -0.1448      0.025     -5.884      0.000      -0.193      -0.097\n",
       "Dsubclass_1231                      0.6502      0.057     11.472      0.000       0.539       0.761\n",
       "State_NJ                           -0.0008      0.027     -0.029      0.977      -0.054       0.052\n",
       "State_IL                           -0.5585      0.030    -18.461      0.000      -0.618      -0.499\n",
       "State_AZ                           -1.0251      0.043    -23.966      0.000      -1.109      -0.941\n",
       "Store_Type_Outlet Mall              0.4086      0.043      9.494      0.000       0.324       0.493\n",
       "Store_Type_Tourist Outlet Strip     0.7991      0.044     18.333      0.000       0.714       0.885\n",
       "Dsubclass_1221                      3.3497      0.062     54.155      0.000       3.228       3.471\n",
       "Store_Type_Mega Outlet Mall         0.3911      0.042      9.294      0.000       0.309       0.474\n",
       "==============================================================================\n",
       "Omnibus:                     5014.390   Durbin-Watson:                   2.000\n",
       "Prob(Omnibus):                  0.000   Jarque-Bera (JB):             4303.922\n",
       "Skew:                          -0.020   Prob(JB):                         0.00\n",
       "Kurtosis:                       2.846   Cond. No.                         49.2\n",
       "==============================================================================\n",
       "\n",
       "Warnings:\n",
       "[1] Standard Errors assume that the covariance matrix of the errors is correctly specified.\n",
       "\"\"\""
      ]
     },
     "execution_count": 33,
     "metadata": {},
     "output_type": "execute_result"
    }
   ],
   "source": [
    "X_train = sm.add_constant(X_train)\n",
    "lm_1 = sm.OLS(Y_train, X_train).fit()\n",
    "lm_1.summary()"
   ]
  },
  {
   "cell_type": "code",
   "execution_count": 244,
   "metadata": {},
   "outputs": [],
   "source": [
    "models = []\n",
    "models.append(('Linear Regression', LinearRegression()))\n",
    "models.append(('Ridge Regression with Low Alpha', Ridge(alpha=0.01)))\n",
    "models.append(('Ridge Regression with High Alpha', Ridge(alpha=100)))\n",
    "models.append(('Lasso Regression', Lasso()))\n",
    "models.append(('Lasso Regression with low Aplha', Lasso(alpha=0.01, max_iter=10e5)))\n",
    "models.append(('Lasso Regression with Lower Alpha', Lasso(alpha=0.0001, max_iter=10e5)))"
   ]
  },
  {
   "cell_type": "code",
   "execution_count": 245,
   "metadata": {},
   "outputs": [
    {
     "name": "stdout",
     "output_type": "stream",
     "text": [
      "-- Applying --> Linear Regression\n",
      "Train Score -  0.24089980323193017\n",
      "Test Score -  0.24202176330819994\n",
      "R-Squared -  0.2420217633081999\n",
      "No. of features used: 43\n",
      "-- Applying --> Ridge Regression with Low Alpha\n",
      "Train Score -  0.2408998032319275\n",
      "Test Score -  0.24202176322567762\n",
      "R-Squared -  0.2420217632256776\n",
      "No. of features used: 43\n",
      "-- Applying --> Ridge Regression with High Alpha\n",
      "Train Score -  0.24089963161500882\n",
      "Test Score -  0.24202076790676916\n",
      "R-Squared -  0.24202076790676919\n",
      "No. of features used: 43\n",
      "-- Applying --> Lasso Regression\n",
      "Train Score -  0.095124487643654\n",
      "Test Score -  0.09541983441350432\n",
      "R-Squared -  0.09541983441350432\n",
      "No. of features used: 3\n",
      "-- Applying --> Lasso Regression with low Aplha\n",
      "Train Score -  0.24000429986173985\n",
      "Test Score -  0.2410554437002657\n",
      "R-Squared -  0.24105544370026566\n",
      "No. of features used: 39\n",
      "-- Applying --> Lasso Regression with Lower Alpha\n",
      "Train Score -  0.24089971280588196\n",
      "Test Score -  0.24202092297999378\n",
      "R-Squared -  0.24202092297999378\n",
      "No. of features used: 42\n"
     ]
    }
   ],
   "source": [
    "for name, model in models:\n",
    "    print(\"-- Applying -->\",name)\n",
    "    rgn = model\n",
    "    rgn.fit(X_train,Y_train)\n",
    "    r2 = r2_score(Y_test,rgn.predict(X_test))\n",
    "    print(\"Train Score - \",rgn.score(X_train, Y_train))\n",
    "    print(\"Test Score - \",rgn.score(X_test, Y_test))\n",
    "    print(\"R-Squared - \",r2)\n",
    "    print(\"No. of features used:\", np.sum(rgn.coef_!=0))"
   ]
  },
  {
   "cell_type": "markdown",
   "metadata": {},
   "source": [
    "#### Finding out the reason for such very low accuracy of 23% by analysing the distribution of data w.r.to \"Total_Units\""
   ]
  },
  {
   "cell_type": "code",
   "execution_count": 238,
   "metadata": {},
   "outputs": [
    {
     "data": {
      "text/plain": [
       "575"
      ]
     },
     "execution_count": 238,
     "metadata": {},
     "output_type": "execute_result"
    }
   ],
   "source": [
    "tmc_group['Total_Units'].max()"
   ]
  },
  {
   "cell_type": "code",
   "execution_count": 49,
   "metadata": {},
   "outputs": [
    {
     "data": {
      "text/plain": [
       "(3812127, 8)"
      ]
     },
     "execution_count": 49,
     "metadata": {},
     "output_type": "execute_result"
    }
   ],
   "source": [
    "tmc_group[tmc_group['Total_Units']==1].shape"
   ]
  },
  {
   "cell_type": "code",
   "execution_count": 50,
   "metadata": {},
   "outputs": [
    {
     "data": {
      "text/plain": [
       "(1982905, 8)"
      ]
     },
     "execution_count": 50,
     "metadata": {},
     "output_type": "execute_result"
    }
   ],
   "source": [
    "tmc_group[tmc_group['Total_Units']!=1].shape"
   ]
  },
  {
   "cell_type": "markdown",
   "metadata": {},
   "source": [
    "#### Finding out no. of transactions group by 'Total_Units'"
   ]
  },
  {
   "cell_type": "code",
   "execution_count": 58,
   "metadata": {},
   "outputs": [],
   "source": [
    "tmc_units = tmc_group[tmc_group['Total_Units']>1]"
   ]
  },
  {
   "cell_type": "code",
   "execution_count": 59,
   "metadata": {},
   "outputs": [
    {
     "data": {
      "text/plain": [
       "(1982905, 8)"
      ]
     },
     "execution_count": 59,
     "metadata": {},
     "output_type": "execute_result"
    }
   ],
   "source": [
    "tmc_units.shape"
   ]
  },
  {
   "cell_type": "code",
   "execution_count": 60,
   "metadata": {},
   "outputs": [],
   "source": [
    "tmc_units = tmc_units.groupby(['Total_Units'])['Dbsku'].count().reset_index()\n",
    "tmc_units.rename(columns={'Dbsku':'Transactions count'},inplace=True)"
   ]
  },
  {
   "cell_type": "code",
   "execution_count": 217,
   "metadata": {},
   "outputs": [
    {
     "data": {
      "text/html": [
       "<div>\n",
       "<style scoped>\n",
       "    .dataframe tbody tr th:only-of-type {\n",
       "        vertical-align: middle;\n",
       "    }\n",
       "\n",
       "    .dataframe tbody tr th {\n",
       "        vertical-align: top;\n",
       "    }\n",
       "\n",
       "    .dataframe thead th {\n",
       "        text-align: right;\n",
       "    }\n",
       "</style>\n",
       "<table border=\"1\" class=\"dataframe\">\n",
       "  <thead>\n",
       "    <tr style=\"text-align: right;\">\n",
       "      <th></th>\n",
       "      <th>Total_Units</th>\n",
       "      <th>Transactions count</th>\n",
       "    </tr>\n",
       "  </thead>\n",
       "  <tbody>\n",
       "    <tr>\n",
       "      <th>239</th>\n",
       "      <td>333</td>\n",
       "      <td>2</td>\n",
       "    </tr>\n",
       "    <tr>\n",
       "      <th>240</th>\n",
       "      <td>342</td>\n",
       "      <td>1</td>\n",
       "    </tr>\n",
       "    <tr>\n",
       "      <th>241</th>\n",
       "      <td>369</td>\n",
       "      <td>1</td>\n",
       "    </tr>\n",
       "    <tr>\n",
       "      <th>242</th>\n",
       "      <td>387</td>\n",
       "      <td>1</td>\n",
       "    </tr>\n",
       "    <tr>\n",
       "      <th>243</th>\n",
       "      <td>405</td>\n",
       "      <td>1</td>\n",
       "    </tr>\n",
       "    <tr>\n",
       "      <th>244</th>\n",
       "      <td>429</td>\n",
       "      <td>1</td>\n",
       "    </tr>\n",
       "    <tr>\n",
       "      <th>245</th>\n",
       "      <td>432</td>\n",
       "      <td>1</td>\n",
       "    </tr>\n",
       "    <tr>\n",
       "      <th>246</th>\n",
       "      <td>434</td>\n",
       "      <td>1</td>\n",
       "    </tr>\n",
       "    <tr>\n",
       "      <th>247</th>\n",
       "      <td>522</td>\n",
       "      <td>1</td>\n",
       "    </tr>\n",
       "    <tr>\n",
       "      <th>248</th>\n",
       "      <td>575</td>\n",
       "      <td>1</td>\n",
       "    </tr>\n",
       "  </tbody>\n",
       "</table>\n",
       "</div>"
      ],
      "text/plain": [
       "     Total_Units  Transactions count\n",
       "239          333                   2\n",
       "240          342                   1\n",
       "241          369                   1\n",
       "242          387                   1\n",
       "243          405                   1\n",
       "244          429                   1\n",
       "245          432                   1\n",
       "246          434                   1\n",
       "247          522                   1\n",
       "248          575                   1"
      ]
     },
     "execution_count": 217,
     "metadata": {},
     "output_type": "execute_result"
    }
   ],
   "source": [
    "tmc_units.tail(10)"
   ]
  },
  {
   "cell_type": "markdown",
   "metadata": {},
   "source": [
    "#### Almost 66% of the transactions have the Total_Units = 1, that means NO Variance in the Total_Units column which will obviously affect the model accuracy\n",
    "#### Also, the majority of the data is distributed Total_Units = [1 to 5], due to this, the accuracy of the model is being at 23%. Therefore, considering only the transactions with Total_Units > 5 and try to rebuild the model"
   ]
  },
  {
   "cell_type": "code",
   "execution_count": 258,
   "metadata": {},
   "outputs": [],
   "source": [
    "tmc_maindata2 = tmc_group[tmc_group['Total_Units']>5]"
   ]
  },
  {
   "cell_type": "code",
   "execution_count": 259,
   "metadata": {},
   "outputs": [
    {
     "data": {
      "text/html": [
       "<div>\n",
       "<style scoped>\n",
       "    .dataframe tbody tr th:only-of-type {\n",
       "        vertical-align: middle;\n",
       "    }\n",
       "\n",
       "    .dataframe tbody tr th {\n",
       "        vertical-align: top;\n",
       "    }\n",
       "\n",
       "    .dataframe thead th {\n",
       "        text-align: right;\n",
       "    }\n",
       "</style>\n",
       "<table border=\"1\" class=\"dataframe\">\n",
       "  <thead>\n",
       "    <tr style=\"text-align: right;\">\n",
       "      <th></th>\n",
       "      <th>Dbsku</th>\n",
       "      <th>Dsubclass</th>\n",
       "      <th>Store_Type</th>\n",
       "      <th>Unit_Sales_Price</th>\n",
       "      <th>State</th>\n",
       "      <th>season</th>\n",
       "      <th>Full_Price_Ind</th>\n",
       "      <th>Total_Units</th>\n",
       "    </tr>\n",
       "  </thead>\n",
       "  <tbody>\n",
       "    <tr>\n",
       "      <th>575</th>\n",
       "      <td>159137</td>\n",
       "      <td>1051</td>\n",
       "      <td>Downtown Store</td>\n",
       "      <td>28.0</td>\n",
       "      <td>NY</td>\n",
       "      <td>fall</td>\n",
       "      <td>0</td>\n",
       "      <td>10</td>\n",
       "    </tr>\n",
       "    <tr>\n",
       "      <th>577</th>\n",
       "      <td>159137</td>\n",
       "      <td>1051</td>\n",
       "      <td>Downtown Store</td>\n",
       "      <td>28.0</td>\n",
       "      <td>NY</td>\n",
       "      <td>summer</td>\n",
       "      <td>0</td>\n",
       "      <td>7</td>\n",
       "    </tr>\n",
       "    <tr>\n",
       "      <th>592</th>\n",
       "      <td>159137</td>\n",
       "      <td>1051</td>\n",
       "      <td>Downtown Store</td>\n",
       "      <td>30.0</td>\n",
       "      <td>NY</td>\n",
       "      <td>fall</td>\n",
       "      <td>0</td>\n",
       "      <td>28</td>\n",
       "    </tr>\n",
       "    <tr>\n",
       "      <th>593</th>\n",
       "      <td>159137</td>\n",
       "      <td>1051</td>\n",
       "      <td>Downtown Store</td>\n",
       "      <td>30.0</td>\n",
       "      <td>NY</td>\n",
       "      <td>spring</td>\n",
       "      <td>0</td>\n",
       "      <td>9</td>\n",
       "    </tr>\n",
       "    <tr>\n",
       "      <th>594</th>\n",
       "      <td>159137</td>\n",
       "      <td>1051</td>\n",
       "      <td>Downtown Store</td>\n",
       "      <td>30.0</td>\n",
       "      <td>NY</td>\n",
       "      <td>summer</td>\n",
       "      <td>0</td>\n",
       "      <td>15</td>\n",
       "    </tr>\n",
       "  </tbody>\n",
       "</table>\n",
       "</div>"
      ],
      "text/plain": [
       "      Dbsku  Dsubclass      Store_Type  Unit_Sales_Price State  season  \\\n",
       "575  159137       1051  Downtown Store              28.0    NY    fall   \n",
       "577  159137       1051  Downtown Store              28.0    NY  summer   \n",
       "592  159137       1051  Downtown Store              30.0    NY    fall   \n",
       "593  159137       1051  Downtown Store              30.0    NY  spring   \n",
       "594  159137       1051  Downtown Store              30.0    NY  summer   \n",
       "\n",
       "     Full_Price_Ind  Total_Units  \n",
       "575               0           10  \n",
       "577               0            7  \n",
       "592               0           28  \n",
       "593               0            9  \n",
       "594               0           15  "
      ]
     },
     "execution_count": 259,
     "metadata": {},
     "output_type": "execute_result"
    }
   ],
   "source": [
    "tmc_maindata2.head()"
   ]
  },
  {
   "cell_type": "code",
   "execution_count": 68,
   "metadata": {},
   "outputs": [
    {
     "data": {
      "text/plain": [
       "(401528, 8)"
      ]
     },
     "execution_count": 68,
     "metadata": {},
     "output_type": "execute_result"
    }
   ],
   "source": [
    "tmc_maindata2.shape"
   ]
  },
  {
   "cell_type": "code",
   "execution_count": 261,
   "metadata": {},
   "outputs": [
    {
     "data": {
      "text/plain": [
       "<matplotlib.axes._subplots.AxesSubplot at 0x260ae2c0320>"
      ]
     },
     "execution_count": 261,
     "metadata": {},
     "output_type": "execute_result"
    },
    {
     "data": {
      "image/png": "[encoded data removed]",
      "text/plain": [
       "<Figure size 432x288 with 1 Axes>"
      ]
     },
     "metadata": {
      "needs_background": "light"
     },
     "output_type": "display_data"
    }
   ],
   "source": [
    "tmc_maindata2['season'].value_counts().plot(kind='bar')"
   ]
  },
  {
   "cell_type": "code",
   "execution_count": 262,
   "metadata": {},
   "outputs": [
    {
     "data": {
      "text/plain": [
       "<matplotlib.axes._subplots.AxesSubplot at 0x260ae31d5c0>"
      ]
     },
     "execution_count": 262,
     "metadata": {},
     "output_type": "execute_result"
    },
    {
     "data": {
      "image/png": "[encoded data removed]",
      "text/plain": [
       "<Figure size 432x288 with 1 Axes>"
      ]
     },
     "metadata": {
      "needs_background": "light"
     },
     "output_type": "display_data"
    }
   ],
   "source": [
    "tmc_maindata2['Store_Type'].value_counts().plot(kind='bar')"
   ]
  },
  {
   "cell_type": "code",
   "execution_count": 264,
   "metadata": {},
   "outputs": [
    {
     "data": {
      "text/plain": [
       "<matplotlib.axes._subplots.AxesSubplot at 0x260ae0a9710>"
      ]
     },
     "execution_count": 264,
     "metadata": {},
     "output_type": "execute_result"
    },
    {
     "data": {
      "image/png": "[encoded data removed]",
      "text/plain": [
       "<Figure size 432x288 with 1 Axes>"
      ]
     },
     "metadata": {
      "needs_background": "light"
     },
     "output_type": "display_data"
    }
   ],
   "source": [
    "tmc_maindata2['Dsubclass'].value_counts().plot(kind='bar')"
   ]
  },
  {
   "cell_type": "code",
   "execution_count": 71,
   "metadata": {},
   "outputs": [
    {
     "data": {
      "image/png": "[encoded data removed]",
      "text/plain": [
       "<Figure size 432x288 with 1 Axes>"
      ]
     },
     "metadata": {
      "needs_background": "light"
     },
     "output_type": "display_data"
    }
   ],
   "source": [
    "x = tmc_maindata2['Total_Units']\n",
    "y = tmc_maindata2['Unit_Sales_Price']\n",
    "plt.scatter(x, y, alpha=0.5)\n",
    "plt.xlabel('Quantity')\n",
    "plt.ylabel('Price')\n",
    "plt.show()"
   ]
  },
  {
   "cell_type": "code",
   "execution_count": 69,
   "metadata": {},
   "outputs": [
    {
     "data": {
      "text/html": [
       "<div>\n",
       "<style scoped>\n",
       "    .dataframe tbody tr th:only-of-type {\n",
       "        vertical-align: middle;\n",
       "    }\n",
       "\n",
       "    .dataframe tbody tr th {\n",
       "        vertical-align: top;\n",
       "    }\n",
       "\n",
       "    .dataframe thead th {\n",
       "        text-align: right;\n",
       "    }\n",
       "</style>\n",
       "<table border=\"1\" class=\"dataframe\">\n",
       "  <thead>\n",
       "    <tr style=\"text-align: right;\">\n",
       "      <th></th>\n",
       "      <th>Dbsku</th>\n",
       "      <th>Dsubclass</th>\n",
       "      <th>Store_Type</th>\n",
       "      <th>Unit_Sales_Price</th>\n",
       "      <th>State</th>\n",
       "      <th>season</th>\n",
       "      <th>Full_Price_Ind</th>\n",
       "      <th>Total_Units</th>\n",
       "    </tr>\n",
       "  </thead>\n",
       "  <tbody>\n",
       "    <tr>\n",
       "      <th>575</th>\n",
       "      <td>159137</td>\n",
       "      <td>1051</td>\n",
       "      <td>Downtown Store</td>\n",
       "      <td>28.0</td>\n",
       "      <td>NY</td>\n",
       "      <td>fall</td>\n",
       "      <td>0</td>\n",
       "      <td>10</td>\n",
       "    </tr>\n",
       "    <tr>\n",
       "      <th>577</th>\n",
       "      <td>159137</td>\n",
       "      <td>1051</td>\n",
       "      <td>Downtown Store</td>\n",
       "      <td>28.0</td>\n",
       "      <td>NY</td>\n",
       "      <td>summer</td>\n",
       "      <td>0</td>\n",
       "      <td>7</td>\n",
       "    </tr>\n",
       "    <tr>\n",
       "      <th>592</th>\n",
       "      <td>159137</td>\n",
       "      <td>1051</td>\n",
       "      <td>Downtown Store</td>\n",
       "      <td>30.0</td>\n",
       "      <td>NY</td>\n",
       "      <td>fall</td>\n",
       "      <td>0</td>\n",
       "      <td>28</td>\n",
       "    </tr>\n",
       "    <tr>\n",
       "      <th>593</th>\n",
       "      <td>159137</td>\n",
       "      <td>1051</td>\n",
       "      <td>Downtown Store</td>\n",
       "      <td>30.0</td>\n",
       "      <td>NY</td>\n",
       "      <td>spring</td>\n",
       "      <td>0</td>\n",
       "      <td>9</td>\n",
       "    </tr>\n",
       "    <tr>\n",
       "      <th>594</th>\n",
       "      <td>159137</td>\n",
       "      <td>1051</td>\n",
       "      <td>Downtown Store</td>\n",
       "      <td>30.0</td>\n",
       "      <td>NY</td>\n",
       "      <td>summer</td>\n",
       "      <td>0</td>\n",
       "      <td>15</td>\n",
       "    </tr>\n",
       "  </tbody>\n",
       "</table>\n",
       "</div>"
      ],
      "text/plain": [
       "      Dbsku  Dsubclass      Store_Type  Unit_Sales_Price State  season  \\\n",
       "575  159137       1051  Downtown Store              28.0    NY    fall   \n",
       "577  159137       1051  Downtown Store              28.0    NY  summer   \n",
       "592  159137       1051  Downtown Store              30.0    NY    fall   \n",
       "593  159137       1051  Downtown Store              30.0    NY  spring   \n",
       "594  159137       1051  Downtown Store              30.0    NY  summer   \n",
       "\n",
       "     Full_Price_Ind  Total_Units  \n",
       "575               0           10  \n",
       "577               0            7  \n",
       "592               0           28  \n",
       "593               0            9  \n",
       "594               0           15  "
      ]
     },
     "execution_count": 69,
     "metadata": {},
     "output_type": "execute_result"
    }
   ],
   "source": [
    "tmc_maindata2.head()"
   ]
  },
  {
   "cell_type": "code",
   "execution_count": 70,
   "metadata": {},
   "outputs": [],
   "source": [
    "tmc_maindata2 = pd.get_dummies(tmc_maindata2, columns= ['Dsubclass', 'Store_Type', 'season', 'State'])\n",
    "tmc_maindata2.drop(['Dsubclass_1252','Store_Type_Downtown Store','season_summer','State_ME'], axis=1, inplace=True)\n",
    "tmctarget2 = tmc_maindata2['Unit_Sales_Price']\n",
    "tmc_maindata2.drop(['Dbsku','Unit_Sales_Price'],axis=1,inplace=True)\n",
    "tmc_maindata2['Total_Units'] = np.log(tmc_maindata2['Total_Units'])"
   ]
  },
  {
   "cell_type": "markdown",
   "metadata": {},
   "source": [
    "#### Considering top 43 features (as per RandomForest Selection of Features) for modelling (half of the total features available)"
   ]
  },
  {
   "cell_type": "markdown",
   "metadata": {},
   "source": [
    "#### Rebuilding the model"
   ]
  },
  {
   "cell_type": "code",
   "execution_count": 72,
   "metadata": {},
   "outputs": [],
   "source": [
    "tmc_sel_feat2 = tmc_maindata2[['Full_Price_Ind','season_spring','Total_Units','season_winter','season_fall','Dsubclass_1020',\n",
    "                             'Dsubclass_1050','Dsubclass_1031','Dsubclass_1240','Dsubclass_1250','Dsubclass_1051',\n",
    "                             'Dsubclass_1220','Dsubclass_1052','Dsubclass_1242','Store_Type_Power Strip','Store_Type_Strip Store',\n",
    "                             'Dsubclass_1042','Dsubclass_105','Dsubclass_1251','Dsubclass_1241','Dsubclass_1021','Dsubclass_125',\n",
    "                             'Dsubclass_106','Store_Type_Outlet Strip','Dsubclass_1232','Dsubclass_1040','State_FL',\n",
    "                             'Dsubclass_1230','Dsubclass_1032','State_NY','State_TX','Dsubclass_1041','Store_Type_Regional Mall',\n",
    "                             'Dsubclass_1030','State_CA','Dsubclass_1231','State_NJ','State_IL','State_AZ',\n",
    "                             'Store_Type_Outlet Mall','Store_Type_Tourist Outlet Strip','Dsubclass_1221',\n",
    "                             'Store_Type_Mega Outlet Mall']]"
   ]
  },
  {
   "cell_type": "markdown",
   "metadata": {},
   "source": [
    "- Correlation Between few Xs and target variable 'Unit_Sales_Price'"
   ]
  },
  {
   "cell_type": "code",
   "execution_count": 74,
   "metadata": {},
   "outputs": [
    {
     "name": "stdout",
     "output_type": "stream",
     "text": [
      " For Full_Price_Ind vs y ---> PointbiserialrResult(correlation=0.669631798949862, pvalue=0.0)\n",
      " For season_spring Store vs y ---> PointbiserialrResult(correlation=0.11927415279458892, pvalue=0.0)\n",
      " For Total_Units vs y ---> PointbiserialrResult(correlation=0.11583875521788593, pvalue=0.0)\n",
      " For season_winter Store vs y ---> PointbiserialrResult(correlation=-0.09158579227476274, pvalue=0.0)\n",
      " For season_fall Store vs y ---> PointbiserialrResult(correlation=0.1101005123412268, pvalue=0.0)\n",
      " For Dsubclass_1020 vs y ---> PointbiserialrResult(correlation=-0.06264053716997066, pvalue=0.0)\n",
      " For Dsubclass_1050 vs y ---> PointbiserialrResult(correlation=-0.06990328790370906, pvalue=0.0)\n",
      " For Dsubclass_1031 vs y ---> PointbiserialrResult(correlation=-0.09151802348992628, pvalue=0.0)\n",
      " For Dsubclass_1250 vs y ---> PointbiserialrResult(correlation=-0.014757991763814649, pvalue=8.595358669882618e-21)\n",
      " For Dsubclass_1240 vs y ---> PointbiserialrResult(correlation=0.1158851152329628, pvalue=0.0)\n",
      " For Dsubclass_1051 vs y ---> PointbiserialrResult(correlation=-0.06560593714183884, pvalue=0.0)\n",
      " For Dsubclass_1220 vs y ---> PointbiserialrResult(correlation=0.08377024439049083, pvalue=0.0)\n",
      " For Dsubclass_1052 vs y ---> PointbiserialrResult(correlation=-0.07560925691990801, pvalue=0.0)\n",
      " For Dsubclass_1242 vs y ---> PointbiserialrResult(correlation=0.09484939770550103, pvalue=0.0)\n"
     ]
    }
   ],
   "source": [
    "from scipy import stats\n",
    "print(\" For Full_Price_Ind vs y --->\",stats.pointbiserialr(tmc_sel_feat2['Full_Price_Ind'], tmctarget2))\n",
    "print(\" For season_spring Store vs y --->\",stats.pointbiserialr(tmc_sel_feat2['season_spring'], tmctarget2))\n",
    "print(\" For Total_Units vs y --->\",stats.pointbiserialr(tmc_sel_feat2['Total_Units'], tmctarget2))\n",
    "print(\" For season_winter Store vs y --->\",stats.pointbiserialr(tmc_sel_feat2['season_winter'], tmctarget2))\n",
    "print(\" For season_fall Store vs y --->\",stats.pointbiserialr(tmc_sel_feat2['season_fall'], tmctarget2))\n",
    "print(\" For Dsubclass_1020 vs y --->\",stats.pointbiserialr(tmc_sel_feat2['Dsubclass_1020'], tmctarget2))\n",
    "print(\" For Dsubclass_1050 vs y --->\",stats.pointbiserialr(tmc_sel_feat2['Dsubclass_1050'], tmctarget2))\n",
    "print(\" For Dsubclass_1031 vs y --->\",stats.pointbiserialr(tmc_sel_feat2['Dsubclass_1031'], tmctarget2))\n",
    "print(\" For Dsubclass_1250 vs y --->\",stats.pointbiserialr(tmc_sel_feat2['Dsubclass_1250'], tmctarget2))\n",
    "print(\" For Dsubclass_1240 vs y --->\",stats.pointbiserialr(tmc_sel_feat2['Dsubclass_1240'], tmctarget2))\n",
    "print(\" For Dsubclass_1051 vs y --->\",stats.pointbiserialr(tmc_sel_feat2['Dsubclass_1051'], tmctarget2))\n",
    "print(\" For Dsubclass_1220 vs y --->\",stats.pointbiserialr(tmc_sel_feat2['Dsubclass_1220'], tmctarget2))\n",
    "print(\" For Dsubclass_1052 vs y --->\",stats.pointbiserialr(tmc_sel_feat2['Dsubclass_1052'], tmctarget2))\n",
    "print(\" For Dsubclass_1242 vs y --->\",stats.pointbiserialr(tmc_sel_feat2['Dsubclass_1242'], tmctarget2))"
   ]
  },
  {
   "cell_type": "code",
   "execution_count": 77,
   "metadata": {},
   "outputs": [
    {
     "data": {
      "text/plain": [
       "(401528, 43)"
      ]
     },
     "execution_count": 77,
     "metadata": {},
     "output_type": "execute_result"
    }
   ],
   "source": [
    "tmc_sel_feat2.shape"
   ]
  },
  {
   "cell_type": "code",
   "execution_count": 78,
   "metadata": {},
   "outputs": [],
   "source": [
    "X_train, X_test, Y_train, Y_test = train_test_split(tmc_sel_feat2, tmctarget2, test_size = 0.3,\\\n",
    "                                                    random_state=212)"
   ]
  },
  {
   "cell_type": "code",
   "execution_count": 79,
   "metadata": {},
   "outputs": [
    {
     "data": {
      "text/plain": [
       "(281069, 43)"
      ]
     },
     "execution_count": 79,
     "metadata": {},
     "output_type": "execute_result"
    }
   ],
   "source": [
    "X_train.shape"
   ]
  },
  {
   "cell_type": "code",
   "execution_count": 80,
   "metadata": {},
   "outputs": [
    {
     "name": "stderr",
     "output_type": "stream",
     "text": [
      "C:\\Users\\ajayi\\AppData\\Local\\Continuum\\anaconda3\\lib\\site-packages\\numpy\\core\\fromnumeric.py:2389: FutureWarning: Method .ptp is deprecated and will be removed in a future version. Use numpy.ptp instead.\n",
      "  return ptp(axis=axis, out=out, **kwargs)\n"
     ]
    },
    {
     "data": {
      "text/html": [
       "<table class=\"simpletable\">\n",
       "<caption>OLS Regression Results</caption>\n",
       "<tr>\n",
       "  <th>Dep. Variable:</th>    <td>Unit_Sales_Price</td> <th>  R-squared:         </th>  <td>   0.568</td>  \n",
       "</tr>\n",
       "<tr>\n",
       "  <th>Model:</th>                   <td>OLS</td>       <th>  Adj. R-squared:    </th>  <td>   0.568</td>  \n",
       "</tr>\n",
       "<tr>\n",
       "  <th>Method:</th>             <td>Least Squares</td>  <th>  F-statistic:       </th>  <td>   8598.</td>  \n",
       "</tr>\n",
       "<tr>\n",
       "  <th>Date:</th>             <td>Thu, 09 May 2019</td> <th>  Prob (F-statistic):</th>   <td>  0.00</td>   \n",
       "</tr>\n",
       "<tr>\n",
       "  <th>Time:</th>                 <td>04:07:33</td>     <th>  Log-Likelihood:    </th> <td>-9.9482e+05</td>\n",
       "</tr>\n",
       "<tr>\n",
       "  <th>No. Observations:</th>      <td>281069</td>      <th>  AIC:               </th>  <td>1.990e+06</td> \n",
       "</tr>\n",
       "<tr>\n",
       "  <th>Df Residuals:</th>          <td>281025</td>      <th>  BIC:               </th>  <td>1.990e+06</td> \n",
       "</tr>\n",
       "<tr>\n",
       "  <th>Df Model:</th>              <td>    43</td>      <th>                     </th>      <td> </td>     \n",
       "</tr>\n",
       "<tr>\n",
       "  <th>Covariance Type:</th>      <td>nonrobust</td>    <th>                     </th>      <td> </td>     \n",
       "</tr>\n",
       "</table>\n",
       "<table class=\"simpletable\">\n",
       "<tr>\n",
       "                 <td></td>                    <th>coef</th>     <th>std err</th>      <th>t</th>      <th>P>|t|</th>  <th>[0.025</th>    <th>0.975]</th>  \n",
       "</tr>\n",
       "<tr>\n",
       "  <th>const</th>                           <td>   28.0510</td> <td>    0.165</td> <td>  170.178</td> <td> 0.000</td> <td>   27.728</td> <td>   28.374</td>\n",
       "</tr>\n",
       "<tr>\n",
       "  <th>Full_Price_Ind</th>                  <td>   17.7567</td> <td>    0.035</td> <td>  505.235</td> <td> 0.000</td> <td>   17.688</td> <td>   17.826</td>\n",
       "</tr>\n",
       "<tr>\n",
       "  <th>season_spring</th>                   <td>    5.5171</td> <td>    0.040</td> <td>  137.030</td> <td> 0.000</td> <td>    5.438</td> <td>    5.596</td>\n",
       "</tr>\n",
       "<tr>\n",
       "  <th>Total_Units</th>                     <td>    0.7572</td> <td>    0.030</td> <td>   25.113</td> <td> 0.000</td> <td>    0.698</td> <td>    0.816</td>\n",
       "</tr>\n",
       "<tr>\n",
       "  <th>season_winter</th>                   <td>    1.0379</td> <td>    0.048</td> <td>   21.767</td> <td> 0.000</td> <td>    0.944</td> <td>    1.131</td>\n",
       "</tr>\n",
       "<tr>\n",
       "  <th>season_fall</th>                     <td>    4.3778</td> <td>    0.046</td> <td>   95.153</td> <td> 0.000</td> <td>    4.288</td> <td>    4.468</td>\n",
       "</tr>\n",
       "<tr>\n",
       "  <th>Dsubclass_1020</th>                  <td>    0.7627</td> <td>    0.117</td> <td>    6.504</td> <td> 0.000</td> <td>    0.533</td> <td>    0.993</td>\n",
       "</tr>\n",
       "<tr>\n",
       "  <th>Dsubclass_1050</th>                  <td>   -3.4729</td> <td>    0.136</td> <td>  -25.548</td> <td> 0.000</td> <td>   -3.739</td> <td>   -3.206</td>\n",
       "</tr>\n",
       "<tr>\n",
       "  <th>Dsubclass_1031</th>                  <td>   -1.5049</td> <td>    0.138</td> <td>  -10.892</td> <td> 0.000</td> <td>   -1.776</td> <td>   -1.234</td>\n",
       "</tr>\n",
       "<tr>\n",
       "  <th>Dsubclass_1240</th>                  <td>    9.8075</td> <td>    0.144</td> <td>   68.292</td> <td> 0.000</td> <td>    9.526</td> <td>   10.089</td>\n",
       "</tr>\n",
       "<tr>\n",
       "  <th>Dsubclass_1250</th>                  <td>    0.0986</td> <td>    0.143</td> <td>    0.691</td> <td> 0.490</td> <td>   -0.181</td> <td>    0.378</td>\n",
       "</tr>\n",
       "<tr>\n",
       "  <th>Dsubclass_1051</th>                  <td>   -7.3738</td> <td>    0.168</td> <td>  -43.887</td> <td> 0.000</td> <td>   -7.703</td> <td>   -7.044</td>\n",
       "</tr>\n",
       "<tr>\n",
       "  <th>Dsubclass_1220</th>                  <td>    5.8706</td> <td>    0.124</td> <td>   47.469</td> <td> 0.000</td> <td>    5.628</td> <td>    6.113</td>\n",
       "</tr>\n",
       "<tr>\n",
       "  <th>Dsubclass_1052</th>                  <td>  -13.4794</td> <td>    0.223</td> <td>  -60.359</td> <td> 0.000</td> <td>  -13.917</td> <td>  -13.042</td>\n",
       "</tr>\n",
       "<tr>\n",
       "  <th>Dsubclass_1242</th>                  <td>    9.6369</td> <td>    0.157</td> <td>   61.347</td> <td> 0.000</td> <td>    9.329</td> <td>    9.945</td>\n",
       "</tr>\n",
       "<tr>\n",
       "  <th>Store_Type_Power Strip</th>          <td>   -0.8616</td> <td>    0.103</td> <td>   -8.362</td> <td> 0.000</td> <td>   -1.064</td> <td>   -0.660</td>\n",
       "</tr>\n",
       "<tr>\n",
       "  <th>Store_Type_Strip Store</th>          <td>   -0.8814</td> <td>    0.102</td> <td>   -8.671</td> <td> 0.000</td> <td>   -1.081</td> <td>   -0.682</td>\n",
       "</tr>\n",
       "<tr>\n",
       "  <th>Dsubclass_1042</th>                  <td>    5.1952</td> <td>    0.132</td> <td>   39.254</td> <td> 0.000</td> <td>    4.936</td> <td>    5.455</td>\n",
       "</tr>\n",
       "<tr>\n",
       "  <th>Dsubclass_105</th>                   <td>    0.0148</td> <td>    0.151</td> <td>    0.098</td> <td> 0.922</td> <td>   -0.282</td> <td>    0.312</td>\n",
       "</tr>\n",
       "<tr>\n",
       "  <th>Dsubclass_1251</th>                  <td>   -4.5649</td> <td>    0.179</td> <td>  -25.536</td> <td> 0.000</td> <td>   -4.915</td> <td>   -4.215</td>\n",
       "</tr>\n",
       "<tr>\n",
       "  <th>Dsubclass_1241</th>                  <td>    8.0411</td> <td>    0.165</td> <td>   48.687</td> <td> 0.000</td> <td>    7.717</td> <td>    8.365</td>\n",
       "</tr>\n",
       "<tr>\n",
       "  <th>Dsubclass_1021</th>                  <td>    0.6933</td> <td>    0.129</td> <td>    5.374</td> <td> 0.000</td> <td>    0.440</td> <td>    0.946</td>\n",
       "</tr>\n",
       "<tr>\n",
       "  <th>Dsubclass_125</th>                   <td>    3.9980</td> <td>    0.182</td> <td>   21.966</td> <td> 0.000</td> <td>    3.641</td> <td>    4.355</td>\n",
       "</tr>\n",
       "<tr>\n",
       "  <th>Dsubclass_106</th>                   <td>   -0.0916</td> <td>    0.137</td> <td>   -0.670</td> <td> 0.503</td> <td>   -0.360</td> <td>    0.176</td>\n",
       "</tr>\n",
       "<tr>\n",
       "  <th>Store_Type_Outlet Strip</th>         <td>   -0.2987</td> <td>    0.108</td> <td>   -2.754</td> <td> 0.006</td> <td>   -0.511</td> <td>   -0.086</td>\n",
       "</tr>\n",
       "<tr>\n",
       "  <th>Dsubclass_1232</th>                  <td>    7.0994</td> <td>    0.183</td> <td>   38.720</td> <td> 0.000</td> <td>    6.740</td> <td>    7.459</td>\n",
       "</tr>\n",
       "<tr>\n",
       "  <th>Dsubclass_1040</th>                  <td>    3.9057</td> <td>    0.130</td> <td>   29.984</td> <td> 0.000</td> <td>    3.650</td> <td>    4.161</td>\n",
       "</tr>\n",
       "<tr>\n",
       "  <th>State_FL</th>                        <td>   -0.7995</td> <td>    0.070</td> <td>  -11.400</td> <td> 0.000</td> <td>   -0.937</td> <td>   -0.662</td>\n",
       "</tr>\n",
       "<tr>\n",
       "  <th>Dsubclass_1230</th>                  <td>    4.6695</td> <td>    0.161</td> <td>   29.000</td> <td> 0.000</td> <td>    4.354</td> <td>    4.985</td>\n",
       "</tr>\n",
       "<tr>\n",
       "  <th>Dsubclass_1032</th>                  <td>    2.1160</td> <td>    0.137</td> <td>   15.441</td> <td> 0.000</td> <td>    1.847</td> <td>    2.385</td>\n",
       "</tr>\n",
       "<tr>\n",
       "  <th>State_NY</th>                        <td>    0.0330</td> <td>    0.052</td> <td>    0.629</td> <td> 0.529</td> <td>   -0.070</td> <td>    0.136</td>\n",
       "</tr>\n",
       "<tr>\n",
       "  <th>State_TX</th>                        <td>   -1.1065</td> <td>    0.060</td> <td>  -18.467</td> <td> 0.000</td> <td>   -1.224</td> <td>   -0.989</td>\n",
       "</tr>\n",
       "<tr>\n",
       "  <th>Dsubclass_1041</th>                  <td>    4.5164</td> <td>    0.138</td> <td>   32.770</td> <td> 0.000</td> <td>    4.246</td> <td>    4.786</td>\n",
       "</tr>\n",
       "<tr>\n",
       "  <th>Store_Type_Regional Mall</th>        <td>   -0.5353</td> <td>    0.137</td> <td>   -3.900</td> <td> 0.000</td> <td>   -0.804</td> <td>   -0.266</td>\n",
       "</tr>\n",
       "<tr>\n",
       "  <th>Dsubclass_1030</th>                  <td>   -0.3876</td> <td>    0.161</td> <td>   -2.410</td> <td> 0.016</td> <td>   -0.703</td> <td>   -0.072</td>\n",
       "</tr>\n",
       "<tr>\n",
       "  <th>State_CA</th>                        <td>   -0.7204</td> <td>    0.060</td> <td>  -12.032</td> <td> 0.000</td> <td>   -0.838</td> <td>   -0.603</td>\n",
       "</tr>\n",
       "<tr>\n",
       "  <th>Dsubclass_1231</th>                  <td>    3.7889</td> <td>    0.165</td> <td>   23.033</td> <td> 0.000</td> <td>    3.467</td> <td>    4.111</td>\n",
       "</tr>\n",
       "<tr>\n",
       "  <th>State_NJ</th>                        <td>   -0.0913</td> <td>    0.070</td> <td>   -1.303</td> <td> 0.193</td> <td>   -0.229</td> <td>    0.046</td>\n",
       "</tr>\n",
       "<tr>\n",
       "  <th>State_IL</th>                        <td>   -0.2233</td> <td>    0.079</td> <td>   -2.818</td> <td> 0.005</td> <td>   -0.379</td> <td>   -0.068</td>\n",
       "</tr>\n",
       "<tr>\n",
       "  <th>State_AZ</th>                        <td>   -0.6343</td> <td>    0.182</td> <td>   -3.495</td> <td> 0.000</td> <td>   -0.990</td> <td>   -0.279</td>\n",
       "</tr>\n",
       "<tr>\n",
       "  <th>Store_Type_Outlet Mall</th>          <td>   -0.2319</td> <td>    0.168</td> <td>   -1.382</td> <td> 0.167</td> <td>   -0.561</td> <td>    0.097</td>\n",
       "</tr>\n",
       "<tr>\n",
       "  <th>Store_Type_Tourist Outlet Strip</th> <td>   -0.5039</td> <td>    0.184</td> <td>   -2.733</td> <td> 0.006</td> <td>   -0.865</td> <td>   -0.142</td>\n",
       "</tr>\n",
       "<tr>\n",
       "  <th>Dsubclass_1221</th>                  <td>    6.5963</td> <td>    0.181</td> <td>   36.374</td> <td> 0.000</td> <td>    6.241</td> <td>    6.952</td>\n",
       "</tr>\n",
       "<tr>\n",
       "  <th>Store_Type_Mega Outlet Mall</th>     <td>    0.0614</td> <td>    0.185</td> <td>    0.333</td> <td> 0.739</td> <td>   -0.300</td> <td>    0.423</td>\n",
       "</tr>\n",
       "</table>\n",
       "<table class=\"simpletable\">\n",
       "<tr>\n",
       "  <th>Omnibus:</th>       <td>1192.135</td> <th>  Durbin-Watson:     </th> <td>   2.004</td> \n",
       "</tr>\n",
       "<tr>\n",
       "  <th>Prob(Omnibus):</th>  <td> 0.000</td>  <th>  Jarque-Bera (JB):  </th> <td>1207.260</td> \n",
       "</tr>\n",
       "<tr>\n",
       "  <th>Skew:</th>           <td>-0.160</td>  <th>  Prob(JB):          </th> <td>7.03e-263</td>\n",
       "</tr>\n",
       "<tr>\n",
       "  <th>Kurtosis:</th>       <td> 3.017</td>  <th>  Cond. No.          </th> <td>    101.</td> \n",
       "</tr>\n",
       "</table><br/><br/>Warnings:<br/>[1] Standard Errors assume that the covariance matrix of the errors is correctly specified."
      ],
      "text/plain": [
       "<class 'statsmodels.iolib.summary.Summary'>\n",
       "\"\"\"\n",
       "                            OLS Regression Results                            \n",
       "==============================================================================\n",
       "Dep. Variable:       Unit_Sales_Price   R-squared:                       0.568\n",
       "Model:                            OLS   Adj. R-squared:                  0.568\n",
       "Method:                 Least Squares   F-statistic:                     8598.\n",
       "Date:                Thu, 09 May 2019   Prob (F-statistic):               0.00\n",
       "Time:                        04:07:33   Log-Likelihood:            -9.9482e+05\n",
       "No. Observations:              281069   AIC:                         1.990e+06\n",
       "Df Residuals:                  281025   BIC:                         1.990e+06\n",
       "Df Model:                          43                                         \n",
       "Covariance Type:            nonrobust                                         \n",
       "===================================================================================================\n",
       "                                      coef    std err          t      P>|t|      [0.025      0.975]\n",
       "---------------------------------------------------------------------------------------------------\n",
       "const                              28.0510      0.165    170.178      0.000      27.728      28.374\n",
       "Full_Price_Ind                     17.7567      0.035    505.235      0.000      17.688      17.826\n",
       "season_spring                       5.5171      0.040    137.030      0.000       5.438       5.596\n",
       "Total_Units                         0.7572      0.030     25.113      0.000       0.698       0.816\n",
       "season_winter                       1.0379      0.048     21.767      0.000       0.944       1.131\n",
       "season_fall                         4.3778      0.046     95.153      0.000       4.288       4.468\n",
       "Dsubclass_1020                      0.7627      0.117      6.504      0.000       0.533       0.993\n",
       "Dsubclass_1050                     -3.4729      0.136    -25.548      0.000      -3.739      -3.206\n",
       "Dsubclass_1031                     -1.5049      0.138    -10.892      0.000      -1.776      -1.234\n",
       "Dsubclass_1240                      9.8075      0.144     68.292      0.000       9.526      10.089\n",
       "Dsubclass_1250                      0.0986      0.143      0.691      0.490      -0.181       0.378\n",
       "Dsubclass_1051                     -7.3738      0.168    -43.887      0.000      -7.703      -7.044\n",
       "Dsubclass_1220                      5.8706      0.124     47.469      0.000       5.628       6.113\n",
       "Dsubclass_1052                    -13.4794      0.223    -60.359      0.000     -13.917     -13.042\n",
       "Dsubclass_1242                      9.6369      0.157     61.347      0.000       9.329       9.945\n",
       "Store_Type_Power Strip             -0.8616      0.103     -8.362      0.000      -1.064      -0.660\n",
       "Store_Type_Strip Store             -0.8814      0.102     -8.671      0.000      -1.081      -0.682\n",
       "Dsubclass_1042                      5.1952      0.132     39.254      0.000       4.936       5.455\n",
       "Dsubclass_105                       0.0148      0.151      0.098      0.922      -0.282       0.312\n",
       "Dsubclass_1251                     -4.5649      0.179    -25.536      0.000      -4.915      -4.215\n",
       "Dsubclass_1241                      8.0411      0.165     48.687      0.000       7.717       8.365\n",
       "Dsubclass_1021                      0.6933      0.129      5.374      0.000       0.440       0.946\n",
       "Dsubclass_125                       3.9980      0.182     21.966      0.000       3.641       4.355\n",
       "Dsubclass_106                      -0.0916      0.137     -0.670      0.503      -0.360       0.176\n",
       "Store_Type_Outlet Strip            -0.2987      0.108     -2.754      0.006      -0.511      -0.086\n",
       "Dsubclass_1232                      7.0994      0.183     38.720      0.000       6.740       7.459\n",
       "Dsubclass_1040                      3.9057      0.130     29.984      0.000       3.650       4.161\n",
       "State_FL                           -0.7995      0.070    -11.400      0.000      -0.937      -0.662\n",
       "Dsubclass_1230                      4.6695      0.161     29.000      0.000       4.354       4.985\n",
       "Dsubclass_1032                      2.1160      0.137     15.441      0.000       1.847       2.385\n",
       "State_NY                            0.0330      0.052      0.629      0.529      -0.070       0.136\n",
       "State_TX                           -1.1065      0.060    -18.467      0.000      -1.224      -0.989\n",
       "Dsubclass_1041                      4.5164      0.138     32.770      0.000       4.246       4.786\n",
       "Store_Type_Regional Mall           -0.5353      0.137     -3.900      0.000      -0.804      -0.266\n",
       "Dsubclass_1030                     -0.3876      0.161     -2.410      0.016      -0.703      -0.072\n",
       "State_CA                           -0.7204      0.060    -12.032      0.000      -0.838      -0.603\n",
       "Dsubclass_1231                      3.7889      0.165     23.033      0.000       3.467       4.111\n",
       "State_NJ                           -0.0913      0.070     -1.303      0.193      -0.229       0.046\n",
       "State_IL                           -0.2233      0.079     -2.818      0.005      -0.379      -0.068\n",
       "State_AZ                           -0.6343      0.182     -3.495      0.000      -0.990      -0.279\n",
       "Store_Type_Outlet Mall             -0.2319      0.168     -1.382      0.167      -0.561       0.097\n",
       "Store_Type_Tourist Outlet Strip    -0.5039      0.184     -2.733      0.006      -0.865      -0.142\n",
       "Dsubclass_1221                      6.5963      0.181     36.374      0.000       6.241       6.952\n",
       "Store_Type_Mega Outlet Mall         0.0614      0.185      0.333      0.739      -0.300       0.423\n",
       "==============================================================================\n",
       "Omnibus:                     1192.135   Durbin-Watson:                   2.004\n",
       "Prob(Omnibus):                  0.000   Jarque-Bera (JB):             1207.260\n",
       "Skew:                          -0.160   Prob(JB):                    7.03e-263\n",
       "Kurtosis:                       3.017   Cond. No.                         101.\n",
       "==============================================================================\n",
       "\n",
       "Warnings:\n",
       "[1] Standard Errors assume that the covariance matrix of the errors is correctly specified.\n",
       "\"\"\""
      ]
     },
     "execution_count": 80,
     "metadata": {},
     "output_type": "execute_result"
    }
   ],
   "source": [
    "X_train = sm.add_constant(X_train)\n",
    "lm_2 = sm.OLS(Y_train, X_train).fit()\n",
    "lm_2.summary()"
   ]
  },
  {
   "cell_type": "markdown",
   "metadata": {},
   "source": [
    "#### Rebuilding the Model by dropping the features with p-val > 0.05 from the above OLS summary"
   ]
  },
  {
   "cell_type": "code",
   "execution_count": 82,
   "metadata": {},
   "outputs": [],
   "source": [
    "tmc_sel_feat2 = tmc_sel_feat2.drop(['Dsubclass_105','Dsubclass_106','State_NY','State_NJ','Store_Type_Outlet Mall',\n",
    "                                   'Store_Type_Mega Outlet Mall','Dsubclass_1250'],axis=1)"
   ]
  },
  {
   "cell_type": "code",
   "execution_count": 83,
   "metadata": {},
   "outputs": [
    {
     "data": {
      "text/plain": [
       "(401528, 36)"
      ]
     },
     "execution_count": 83,
     "metadata": {},
     "output_type": "execute_result"
    }
   ],
   "source": [
    "tmc_sel_feat2.shape"
   ]
  },
  {
   "cell_type": "code",
   "execution_count": 84,
   "metadata": {},
   "outputs": [],
   "source": [
    "X_train, X_test, Y_train, Y_test = train_test_split(tmc_sel_feat2, tmctarget2, test_size = 0.3,\\\n",
    "                                                    random_state=212)"
   ]
  },
  {
   "cell_type": "code",
   "execution_count": 85,
   "metadata": {
    "scrolled": false
   },
   "outputs": [
    {
     "name": "stderr",
     "output_type": "stream",
     "text": [
      "C:\\Users\\ajayi\\AppData\\Local\\Continuum\\anaconda3\\lib\\site-packages\\numpy\\core\\fromnumeric.py:2389: FutureWarning: Method .ptp is deprecated and will be removed in a future version. Use numpy.ptp instead.\n",
      "  return ptp(axis=axis, out=out, **kwargs)\n"
     ]
    },
    {
     "data": {
      "text/html": [
       "<table class=\"simpletable\">\n",
       "<caption>OLS Regression Results</caption>\n",
       "<tr>\n",
       "  <th>Dep. Variable:</th>    <td>Unit_Sales_Price</td> <th>  R-squared:         </th>  <td>   0.568</td>  \n",
       "</tr>\n",
       "<tr>\n",
       "  <th>Model:</th>                   <td>OLS</td>       <th>  Adj. R-squared:    </th>  <td>   0.568</td>  \n",
       "</tr>\n",
       "<tr>\n",
       "  <th>Method:</th>             <td>Least Squares</td>  <th>  F-statistic:       </th>  <td>1.027e+04</td> \n",
       "</tr>\n",
       "<tr>\n",
       "  <th>Date:</th>             <td>Thu, 09 May 2019</td> <th>  Prob (F-statistic):</th>   <td>  0.00</td>   \n",
       "</tr>\n",
       "<tr>\n",
       "  <th>Time:</th>                 <td>04:08:44</td>     <th>  Log-Likelihood:    </th> <td>-9.9482e+05</td>\n",
       "</tr>\n",
       "<tr>\n",
       "  <th>No. Observations:</th>      <td>281069</td>      <th>  AIC:               </th>  <td>1.990e+06</td> \n",
       "</tr>\n",
       "<tr>\n",
       "  <th>Df Residuals:</th>          <td>281032</td>      <th>  BIC:               </th>  <td>1.990e+06</td> \n",
       "</tr>\n",
       "<tr>\n",
       "  <th>Df Model:</th>              <td>    36</td>      <th>                     </th>      <td> </td>     \n",
       "</tr>\n",
       "<tr>\n",
       "  <th>Covariance Type:</th>      <td>nonrobust</td>    <th>                     </th>      <td> </td>     \n",
       "</tr>\n",
       "</table>\n",
       "<table class=\"simpletable\">\n",
       "<tr>\n",
       "                 <td></td>                    <th>coef</th>     <th>std err</th>      <th>t</th>      <th>P>|t|</th>  <th>[0.025</th>    <th>0.975]</th>  \n",
       "</tr>\n",
       "<tr>\n",
       "  <th>const</th>                           <td>   28.0061</td> <td>    0.106</td> <td>  264.756</td> <td> 0.000</td> <td>   27.799</td> <td>   28.213</td>\n",
       "</tr>\n",
       "<tr>\n",
       "  <th>Full_Price_Ind</th>                  <td>   17.7558</td> <td>    0.035</td> <td>  511.590</td> <td> 0.000</td> <td>   17.688</td> <td>   17.824</td>\n",
       "</tr>\n",
       "<tr>\n",
       "  <th>season_spring</th>                   <td>    5.5168</td> <td>    0.040</td> <td>  137.335</td> <td> 0.000</td> <td>    5.438</td> <td>    5.595</td>\n",
       "</tr>\n",
       "<tr>\n",
       "  <th>Total_Units</th>                     <td>    0.7597</td> <td>    0.029</td> <td>   25.789</td> <td> 0.000</td> <td>    0.702</td> <td>    0.817</td>\n",
       "</tr>\n",
       "<tr>\n",
       "  <th>season_winter</th>                   <td>    1.0422</td> <td>    0.048</td> <td>   21.921</td> <td> 0.000</td> <td>    0.949</td> <td>    1.135</td>\n",
       "</tr>\n",
       "<tr>\n",
       "  <th>season_fall</th>                     <td>    4.3842</td> <td>    0.046</td> <td>   95.688</td> <td> 0.000</td> <td>    4.294</td> <td>    4.474</td>\n",
       "</tr>\n",
       "<tr>\n",
       "  <th>Dsubclass_1020</th>                  <td>    0.7639</td> <td>    0.056</td> <td>   13.707</td> <td> 0.000</td> <td>    0.655</td> <td>    0.873</td>\n",
       "</tr>\n",
       "<tr>\n",
       "  <th>Dsubclass_1050</th>                  <td>   -3.4730</td> <td>    0.088</td> <td>  -39.270</td> <td> 0.000</td> <td>   -3.646</td> <td>   -3.300</td>\n",
       "</tr>\n",
       "<tr>\n",
       "  <th>Dsubclass_1031</th>                  <td>   -1.5022</td> <td>    0.092</td> <td>  -16.368</td> <td> 0.000</td> <td>   -1.682</td> <td>   -1.322</td>\n",
       "</tr>\n",
       "<tr>\n",
       "  <th>Dsubclass_1240</th>                  <td>    9.8082</td> <td>    0.100</td> <td>   98.232</td> <td> 0.000</td> <td>    9.613</td> <td>   10.004</td>\n",
       "</tr>\n",
       "<tr>\n",
       "  <th>Dsubclass_1051</th>                  <td>   -7.3739</td> <td>    0.133</td> <td>  -55.565</td> <td> 0.000</td> <td>   -7.634</td> <td>   -7.114</td>\n",
       "</tr>\n",
       "<tr>\n",
       "  <th>Dsubclass_1220</th>                  <td>    5.8721</td> <td>    0.068</td> <td>   86.148</td> <td> 0.000</td> <td>    5.738</td> <td>    6.006</td>\n",
       "</tr>\n",
       "<tr>\n",
       "  <th>Dsubclass_1052</th>                  <td>  -13.4795</td> <td>    0.198</td> <td>  -68.038</td> <td> 0.000</td> <td>  -13.868</td> <td>  -13.091</td>\n",
       "</tr>\n",
       "<tr>\n",
       "  <th>Dsubclass_1242</th>                  <td>    9.6378</td> <td>    0.118</td> <td>   81.380</td> <td> 0.000</td> <td>    9.406</td> <td>    9.870</td>\n",
       "</tr>\n",
       "<tr>\n",
       "  <th>Store_Type_Power Strip</th>          <td>   -0.8256</td> <td>    0.076</td> <td>  -10.893</td> <td> 0.000</td> <td>   -0.974</td> <td>   -0.677</td>\n",
       "</tr>\n",
       "<tr>\n",
       "  <th>Store_Type_Strip Store</th>          <td>   -0.8485</td> <td>    0.074</td> <td>  -11.451</td> <td> 0.000</td> <td>   -0.994</td> <td>   -0.703</td>\n",
       "</tr>\n",
       "<tr>\n",
       "  <th>Dsubclass_1042</th>                  <td>    5.1956</td> <td>    0.083</td> <td>   62.656</td> <td> 0.000</td> <td>    5.033</td> <td>    5.358</td>\n",
       "</tr>\n",
       "<tr>\n",
       "  <th>Dsubclass_1251</th>                  <td>   -4.5661</td> <td>    0.146</td> <td>  -31.261</td> <td> 0.000</td> <td>   -4.852</td> <td>   -4.280</td>\n",
       "</tr>\n",
       "<tr>\n",
       "  <th>Dsubclass_1241</th>                  <td>    8.0418</td> <td>    0.129</td> <td>   62.369</td> <td> 0.000</td> <td>    7.789</td> <td>    8.295</td>\n",
       "</tr>\n",
       "<tr>\n",
       "  <th>Dsubclass_1021</th>                  <td>    0.6958</td> <td>    0.077</td> <td>    8.994</td> <td> 0.000</td> <td>    0.544</td> <td>    0.847</td>\n",
       "</tr>\n",
       "<tr>\n",
       "  <th>Dsubclass_125</th>                   <td>    4.0016</td> <td>    0.150</td> <td>   26.709</td> <td> 0.000</td> <td>    3.708</td> <td>    4.295</td>\n",
       "</tr>\n",
       "<tr>\n",
       "  <th>Store_Type_Outlet Strip</th>         <td>   -0.2615</td> <td>    0.081</td> <td>   -3.213</td> <td> 0.001</td> <td>   -0.421</td> <td>   -0.102</td>\n",
       "</tr>\n",
       "<tr>\n",
       "  <th>Dsubclass_1232</th>                  <td>    7.1021</td> <td>    0.152</td> <td>   46.870</td> <td> 0.000</td> <td>    6.805</td> <td>    7.399</td>\n",
       "</tr>\n",
       "<tr>\n",
       "  <th>Dsubclass_1040</th>                  <td>    3.9068</td> <td>    0.079</td> <td>   49.165</td> <td> 0.000</td> <td>    3.751</td> <td>    4.063</td>\n",
       "</tr>\n",
       "<tr>\n",
       "  <th>State_FL</th>                        <td>   -0.8092</td> <td>    0.069</td> <td>  -11.740</td> <td> 0.000</td> <td>   -0.944</td> <td>   -0.674</td>\n",
       "</tr>\n",
       "<tr>\n",
       "  <th>Dsubclass_1230</th>                  <td>    4.6708</td> <td>    0.124</td> <td>   37.795</td> <td> 0.000</td> <td>    4.429</td> <td>    4.913</td>\n",
       "</tr>\n",
       "<tr>\n",
       "  <th>Dsubclass_1032</th>                  <td>    2.1182</td> <td>    0.090</td> <td>   23.497</td> <td> 0.000</td> <td>    1.942</td> <td>    2.295</td>\n",
       "</tr>\n",
       "<tr>\n",
       "  <th>State_TX</th>                        <td>   -1.1048</td> <td>    0.058</td> <td>  -18.912</td> <td> 0.000</td> <td>   -1.219</td> <td>   -0.990</td>\n",
       "</tr>\n",
       "<tr>\n",
       "  <th>Dsubclass_1041</th>                  <td>    4.5173</td> <td>    0.091</td> <td>   49.451</td> <td> 0.000</td> <td>    4.338</td> <td>    4.696</td>\n",
       "</tr>\n",
       "<tr>\n",
       "  <th>Store_Type_Regional Mall</th>        <td>   -0.4986</td> <td>    0.117</td> <td>   -4.256</td> <td> 0.000</td> <td>   -0.728</td> <td>   -0.269</td>\n",
       "</tr>\n",
       "<tr>\n",
       "  <th>Dsubclass_1030</th>                  <td>   -0.3848</td> <td>    0.123</td> <td>   -3.121</td> <td> 0.002</td> <td>   -0.626</td> <td>   -0.143</td>\n",
       "</tr>\n",
       "<tr>\n",
       "  <th>State_CA</th>                        <td>   -0.7201</td> <td>    0.059</td> <td>  -12.275</td> <td> 0.000</td> <td>   -0.835</td> <td>   -0.605</td>\n",
       "</tr>\n",
       "<tr>\n",
       "  <th>Dsubclass_1231</th>                  <td>    3.7918</td> <td>    0.128</td> <td>   29.616</td> <td> 0.000</td> <td>    3.541</td> <td>    4.043</td>\n",
       "</tr>\n",
       "<tr>\n",
       "  <th>State_IL</th>                        <td>   -0.2243</td> <td>    0.078</td> <td>   -2.867</td> <td> 0.004</td> <td>   -0.378</td> <td>   -0.071</td>\n",
       "</tr>\n",
       "<tr>\n",
       "  <th>State_AZ</th>                        <td>   -0.6320</td> <td>    0.181</td> <td>   -3.488</td> <td> 0.000</td> <td>   -0.987</td> <td>   -0.277</td>\n",
       "</tr>\n",
       "<tr>\n",
       "  <th>Store_Type_Tourist Outlet Strip</th> <td>   -0.4668</td> <td>    0.170</td> <td>   -2.751</td> <td> 0.006</td> <td>   -0.799</td> <td>   -0.134</td>\n",
       "</tr>\n",
       "<tr>\n",
       "  <th>Dsubclass_1221</th>                  <td>    6.5981</td> <td>    0.149</td> <td>   44.265</td> <td> 0.000</td> <td>    6.306</td> <td>    6.890</td>\n",
       "</tr>\n",
       "</table>\n",
       "<table class=\"simpletable\">\n",
       "<tr>\n",
       "  <th>Omnibus:</th>       <td>1185.926</td> <th>  Durbin-Watson:     </th> <td>   2.004</td> \n",
       "</tr>\n",
       "<tr>\n",
       "  <th>Prob(Omnibus):</th>  <td> 0.000</td>  <th>  Jarque-Bera (JB):  </th> <td>1200.894</td> \n",
       "</tr>\n",
       "<tr>\n",
       "  <th>Skew:</th>           <td>-0.160</td>  <th>  Prob(JB):          </th> <td>1.70e-261</td>\n",
       "</tr>\n",
       "<tr>\n",
       "  <th>Kurtosis:</th>       <td> 3.017</td>  <th>  Cond. No.          </th> <td>    42.9</td> \n",
       "</tr>\n",
       "</table><br/><br/>Warnings:<br/>[1] Standard Errors assume that the covariance matrix of the errors is correctly specified."
      ],
      "text/plain": [
       "<class 'statsmodels.iolib.summary.Summary'>\n",
       "\"\"\"\n",
       "                            OLS Regression Results                            \n",
       "==============================================================================\n",
       "Dep. Variable:       Unit_Sales_Price   R-squared:                       0.568\n",
       "Model:                            OLS   Adj. R-squared:                  0.568\n",
       "Method:                 Least Squares   F-statistic:                 1.027e+04\n",
       "Date:                Thu, 09 May 2019   Prob (F-statistic):               0.00\n",
       "Time:                        04:08:44   Log-Likelihood:            -9.9482e+05\n",
       "No. Observations:              281069   AIC:                         1.990e+06\n",
       "Df Residuals:                  281032   BIC:                         1.990e+06\n",
       "Df Model:                          36                                         \n",
       "Covariance Type:            nonrobust                                         \n",
       "===================================================================================================\n",
       "                                      coef    std err          t      P>|t|      [0.025      0.975]\n",
       "---------------------------------------------------------------------------------------------------\n",
       "const                              28.0061      0.106    264.756      0.000      27.799      28.213\n",
       "Full_Price_Ind                     17.7558      0.035    511.590      0.000      17.688      17.824\n",
       "season_spring                       5.5168      0.040    137.335      0.000       5.438       5.595\n",
       "Total_Units                         0.7597      0.029     25.789      0.000       0.702       0.817\n",
       "season_winter                       1.0422      0.048     21.921      0.000       0.949       1.135\n",
       "season_fall                         4.3842      0.046     95.688      0.000       4.294       4.474\n",
       "Dsubclass_1020                      0.7639      0.056     13.707      0.000       0.655       0.873\n",
       "Dsubclass_1050                     -3.4730      0.088    -39.270      0.000      -3.646      -3.300\n",
       "Dsubclass_1031                     -1.5022      0.092    -16.368      0.000      -1.682      -1.322\n",
       "Dsubclass_1240                      9.8082      0.100     98.232      0.000       9.613      10.004\n",
       "Dsubclass_1051                     -7.3739      0.133    -55.565      0.000      -7.634      -7.114\n",
       "Dsubclass_1220                      5.8721      0.068     86.148      0.000       5.738       6.006\n",
       "Dsubclass_1052                    -13.4795      0.198    -68.038      0.000     -13.868     -13.091\n",
       "Dsubclass_1242                      9.6378      0.118     81.380      0.000       9.406       9.870\n",
       "Store_Type_Power Strip             -0.8256      0.076    -10.893      0.000      -0.974      -0.677\n",
       "Store_Type_Strip Store             -0.8485      0.074    -11.451      0.000      -0.994      -0.703\n",
       "Dsubclass_1042                      5.1956      0.083     62.656      0.000       5.033       5.358\n",
       "Dsubclass_1251                     -4.5661      0.146    -31.261      0.000      -4.852      -4.280\n",
       "Dsubclass_1241                      8.0418      0.129     62.369      0.000       7.789       8.295\n",
       "Dsubclass_1021                      0.6958      0.077      8.994      0.000       0.544       0.847\n",
       "Dsubclass_125                       4.0016      0.150     26.709      0.000       3.708       4.295\n",
       "Store_Type_Outlet Strip            -0.2615      0.081     -3.213      0.001      -0.421      -0.102\n",
       "Dsubclass_1232                      7.1021      0.152     46.870      0.000       6.805       7.399\n",
       "Dsubclass_1040                      3.9068      0.079     49.165      0.000       3.751       4.063\n",
       "State_FL                           -0.8092      0.069    -11.740      0.000      -0.944      -0.674\n",
       "Dsubclass_1230                      4.6708      0.124     37.795      0.000       4.429       4.913\n",
       "Dsubclass_1032                      2.1182      0.090     23.497      0.000       1.942       2.295\n",
       "State_TX                           -1.1048      0.058    -18.912      0.000      -1.219      -0.990\n",
       "Dsubclass_1041                      4.5173      0.091     49.451      0.000       4.338       4.696\n",
       "Store_Type_Regional Mall           -0.4986      0.117     -4.256      0.000      -0.728      -0.269\n",
       "Dsubclass_1030                     -0.3848      0.123     -3.121      0.002      -0.626      -0.143\n",
       "State_CA                           -0.7201      0.059    -12.275      0.000      -0.835      -0.605\n",
       "Dsubclass_1231                      3.7918      0.128     29.616      0.000       3.541       4.043\n",
       "State_IL                           -0.2243      0.078     -2.867      0.004      -0.378      -0.071\n",
       "State_AZ                           -0.6320      0.181     -3.488      0.000      -0.987      -0.277\n",
       "Store_Type_Tourist Outlet Strip    -0.4668      0.170     -2.751      0.006      -0.799      -0.134\n",
       "Dsubclass_1221                      6.5981      0.149     44.265      0.000       6.306       6.890\n",
       "==============================================================================\n",
       "Omnibus:                     1185.926   Durbin-Watson:                   2.004\n",
       "Prob(Omnibus):                  0.000   Jarque-Bera (JB):             1200.894\n",
       "Skew:                          -0.160   Prob(JB):                    1.70e-261\n",
       "Kurtosis:                       3.017   Cond. No.                         42.9\n",
       "==============================================================================\n",
       "\n",
       "Warnings:\n",
       "[1] Standard Errors assume that the covariance matrix of the errors is correctly specified.\n",
       "\"\"\""
      ]
     },
     "execution_count": 85,
     "metadata": {},
     "output_type": "execute_result"
    }
   ],
   "source": [
    "X_train = sm.add_constant(X_train)\n",
    "lm_3 = sm.OLS(Y_train, X_train).fit()\n",
    "lm_3.summary()"
   ]
  },
  {
   "cell_type": "markdown",
   "metadata": {},
   "source": [
    "#### Even by dropping the high p-val features, the model accuracy is still 56.8% and didn't improve, so modelling using Ridge and Lasso"
   ]
  },
  {
   "cell_type": "code",
   "execution_count": 88,
   "metadata": {},
   "outputs": [],
   "source": [
    "from sklearn.linear_model import RidgeCV, LassoCV"
   ]
  },
  {
   "cell_type": "markdown",
   "metadata": {},
   "source": [
    "#### We'll generate an array of alpha values ranging from very big to very small, essentially covering the full range of scenarios from the null model containing only the intercept, to the least squares fit:"
   ]
  },
  {
   "cell_type": "code",
   "execution_count": 89,
   "metadata": {
    "scrolled": false
   },
   "outputs": [
    {
     "data": {
      "text/plain": [
       "array([5.00000000e+09, 3.78231664e+09, 2.86118383e+09, 2.16438064e+09,\n",
       "       1.63727458e+09, 1.23853818e+09, 9.36908711e+08, 7.08737081e+08,\n",
       "       5.36133611e+08, 4.05565415e+08, 3.06795364e+08, 2.32079442e+08,\n",
       "       1.75559587e+08, 1.32804389e+08, 1.00461650e+08, 7.59955541e+07,\n",
       "       5.74878498e+07, 4.34874501e+07, 3.28966612e+07, 2.48851178e+07,\n",
       "       1.88246790e+07, 1.42401793e+07, 1.07721735e+07, 8.14875417e+06,\n",
       "       6.16423370e+06, 4.66301673e+06, 3.52740116e+06, 2.66834962e+06,\n",
       "       2.01850863e+06, 1.52692775e+06, 1.15506485e+06, 8.73764200e+05,\n",
       "       6.60970574e+05, 5.00000000e+05, 3.78231664e+05, 2.86118383e+05,\n",
       "       2.16438064e+05, 1.63727458e+05, 1.23853818e+05, 9.36908711e+04,\n",
       "       7.08737081e+04, 5.36133611e+04, 4.05565415e+04, 3.06795364e+04,\n",
       "       2.32079442e+04, 1.75559587e+04, 1.32804389e+04, 1.00461650e+04,\n",
       "       7.59955541e+03, 5.74878498e+03, 4.34874501e+03, 3.28966612e+03,\n",
       "       2.48851178e+03, 1.88246790e+03, 1.42401793e+03, 1.07721735e+03,\n",
       "       8.14875417e+02, 6.16423370e+02, 4.66301673e+02, 3.52740116e+02,\n",
       "       2.66834962e+02, 2.01850863e+02, 1.52692775e+02, 1.15506485e+02,\n",
       "       8.73764200e+01, 6.60970574e+01, 5.00000000e+01, 3.78231664e+01,\n",
       "       2.86118383e+01, 2.16438064e+01, 1.63727458e+01, 1.23853818e+01,\n",
       "       9.36908711e+00, 7.08737081e+00, 5.36133611e+00, 4.05565415e+00,\n",
       "       3.06795364e+00, 2.32079442e+00, 1.75559587e+00, 1.32804389e+00,\n",
       "       1.00461650e+00, 7.59955541e-01, 5.74878498e-01, 4.34874501e-01,\n",
       "       3.28966612e-01, 2.48851178e-01, 1.88246790e-01, 1.42401793e-01,\n",
       "       1.07721735e-01, 8.14875417e-02, 6.16423370e-02, 4.66301673e-02,\n",
       "       3.52740116e-02, 2.66834962e-02, 2.01850863e-02, 1.52692775e-02,\n",
       "       1.15506485e-02, 8.73764200e-03, 6.60970574e-03, 5.00000000e-03])"
      ]
     },
     "execution_count": 89,
     "metadata": {},
     "output_type": "execute_result"
    }
   ],
   "source": [
    "alphas = 10**np.linspace(10,-2,100)*0.5\n",
    "alphas"
   ]
  },
  {
   "cell_type": "code",
   "execution_count": 90,
   "metadata": {},
   "outputs": [],
   "source": [
    "X_train, X_test, Y_train, Y_test = train_test_split(tmc_sel_feat2, tmctarget2, test_size = 0.3,\\\n",
    "                                                    random_state=212)"
   ]
  },
  {
   "cell_type": "code",
   "execution_count": 91,
   "metadata": {},
   "outputs": [
    {
     "data": {
      "text/plain": [
       "(100, 36)"
      ]
     },
     "execution_count": 91,
     "metadata": {},
     "output_type": "execute_result"
    }
   ],
   "source": [
    "ridge = Ridge(normalize = True)\n",
    "coefs = []\n",
    "\n",
    "for a in alphas:\n",
    "    ridge.set_params(alpha = a)\n",
    "    ridge.fit(X_train,Y_train)\n",
    "    coefs.append(ridge.coef_)\n",
    "    \n",
    "np.shape(coefs)"
   ]
  },
  {
   "cell_type": "markdown",
   "metadata": {},
   "source": [
    "#### We expect the coefficient estimates to be much smaller in terms of  l2 norm when a large value of alpha is used as compared to when a small value of alpha is used and is explained in the below plot"
   ]
  },
  {
   "cell_type": "code",
   "execution_count": 92,
   "metadata": {},
   "outputs": [
    {
     "data": {
      "text/plain": [
       "Text(0,0.5,'weights')"
      ]
     },
     "execution_count": 92,
     "metadata": {},
     "output_type": "execute_result"
    },
    {
     "data": {
      "image/png": "[encoded data removed]",
      "text/plain": [
       "<Figure size 432x288 with 1 Axes>"
      ]
     },
     "metadata": {
      "needs_background": "light"
     },
     "output_type": "display_data"
    }
   ],
   "source": [
    "ax = plt.gca()\n",
    "ax.plot(alphas, coefs)\n",
    "ax.set_xscale('log')\n",
    "plt.axis('tight')\n",
    "plt.xlabel('alpha')\n",
    "plt.ylabel('weights')"
   ]
  },
  {
   "cell_type": "markdown",
   "metadata": {},
   "source": [
    "#### Now we fit a ridge regression model on the training set, and evaluate its score, MSE on the test set, using  λ=1 :"
   ]
  },
  {
   "cell_type": "markdown",
   "metadata": {},
   "source": [
    "#### Instead of arbitrarily choosing alpha value, it would be better to use cross-validation to choose the tuning parameter alpha using the cross-validated ridge regression function, RidgeCV()"
   ]
  },
  {
   "cell_type": "code",
   "execution_count": 93,
   "metadata": {},
   "outputs": [
    {
     "data": {
      "text/plain": [
       "0.005"
      ]
     },
     "execution_count": 93,
     "metadata": {},
     "output_type": "execute_result"
    }
   ],
   "source": [
    "ridgecv = RidgeCV(alphas = alphas, scoring = 'neg_mean_squared_error', normalize = True)\n",
    "ridgecv.fit(X_train, Y_train)\n",
    "ridgecv.alpha_"
   ]
  },
  {
   "cell_type": "markdown",
   "metadata": {},
   "source": [
    "#### Therefore, we see that the value of alpha that results in the smallest cross-validation error is 0.005 and now we use this alpha value for ridge and find out the scores"
   ]
  },
  {
   "cell_type": "code",
   "execution_count": 94,
   "metadata": {
    "scrolled": true
   },
   "outputs": [
    {
     "name": "stdout",
     "output_type": "stream",
     "text": [
      "Ridge regression train score : 0.5681079158872165\n",
      "Ridge regression test score : 0.5661863283815038\n",
      "No. of features used: 36\n",
      "R-Squared : 0.5661863283815038\n"
     ]
    }
   ],
   "source": [
    "ridge_after_cv = Ridge(alpha=ridgecv.alpha_,normalize = True)\n",
    "ridge_after_cv.fit(X_train,Y_train)\n",
    "ridge_after_cv_pred = ridge_after_cv.predict(X_test)\n",
    "print(\"Ridge regression train score :\",ridge_after_cv.score(X_train,Y_train))\n",
    "print(\"Ridge regression test score :\", ridge_after_cv.score(X_test, Y_test))\n",
    "print(\"No. of features used:\", np.sum(ridge_after_cv.coef_!=0))\n",
    "print(\"R-Squared :\",r2_score(Y_test, ridge_after_cv_pred))"
   ]
  },
  {
   "cell_type": "markdown",
   "metadata": {},
   "source": [
    "#### Coefficients of each independent variable after Ridge Regression with optimal alpha value are as below"
   ]
  },
  {
   "cell_type": "code",
   "execution_count": 96,
   "metadata": {},
   "outputs": [
    {
     "name": "stdout",
     "output_type": "stream",
     "text": [
      "Full_Price_Ind                     17.663740\n",
      "season_spring                       5.461719\n",
      "Total_Units                         0.766647\n",
      "season_winter                       1.003087\n",
      "season_fall                         4.340101\n",
      "Dsubclass_1020                      0.683280\n",
      "Dsubclass_1050                     -3.526087\n",
      "Dsubclass_1031                     -1.584513\n",
      "Dsubclass_1240                      9.682406\n",
      "Dsubclass_1051                     -7.402007\n",
      "Dsubclass_1220                      5.765964\n",
      "Dsubclass_1052                    -13.473988\n",
      "Dsubclass_1242                      9.516946\n",
      "Store_Type_Power Strip             -0.801117\n",
      "Store_Type_Strip Store             -0.824084\n",
      "Dsubclass_1042                      5.099128\n",
      "Dsubclass_1251                     -4.606163\n",
      "Dsubclass_1241                      7.923104\n",
      "Dsubclass_1021                      0.604803\n",
      "Dsubclass_125                       3.895240\n",
      "Store_Type_Outlet Strip            -0.229000\n",
      "Dsubclass_1232                      6.985947\n",
      "Dsubclass_1040                      3.814276\n",
      "State_FL                           -0.804911\n",
      "Dsubclass_1230                      4.567625\n",
      "Dsubclass_1032                      2.029880\n",
      "State_TX                           -1.108851\n",
      "Dsubclass_1041                      4.420138\n",
      "Store_Type_Regional Mall           -0.444587\n",
      "Dsubclass_1030                     -0.458728\n",
      "State_CA                           -0.723737\n",
      "Dsubclass_1231                      3.684647\n",
      "State_IL                           -0.224951\n",
      "State_AZ                           -0.611998\n",
      "Store_Type_Tourist Outlet Strip    -0.419681\n",
      "Dsubclass_1221                      6.473918\n",
      "dtype: float64\n"
     ]
    }
   ],
   "source": [
    "print(pd.Series(ridge_after_cv.coef_, index = X_train.columns))"
   ]
  },
  {
   "cell_type": "markdown",
   "metadata": {},
   "source": [
    "#### Even with an ideal alpha we got from CV (0.05), the model score didn't improve where it is 56.6% which is lessthan OLS score (56.8%),  so trying the Lasso"
   ]
  },
  {
   "cell_type": "code",
   "execution_count": 98,
   "metadata": {},
   "outputs": [
    {
     "data": {
      "text/plain": [
       "Text(0,0.5,'weights')"
      ]
     },
     "execution_count": 98,
     "metadata": {},
     "output_type": "execute_result"
    },
    {
     "data": {
      "image/png": "[encoded data removed]",
      "text/plain": [
       "<Figure size 432x288 with 1 Axes>"
      ]
     },
     "metadata": {
      "needs_background": "light"
     },
     "output_type": "display_data"
    }
   ],
   "source": [
    "lasso = Lasso(max_iter = 10000, normalize = True)\n",
    "coefs = []\n",
    "\n",
    "for a in alphas:\n",
    "    lasso.set_params(alpha=a)\n",
    "    lasso.fit(X_train, Y_train)\n",
    "    coefs.append(lasso.coef_)\n",
    "    \n",
    "ax = plt.gca()\n",
    "ax.plot(alphas*2, coefs)\n",
    "ax.set_xscale('log')\n",
    "plt.axis('tight')\n",
    "plt.xlabel('alpha')\n",
    "plt.ylabel('weights')"
   ]
  },
  {
   "cell_type": "markdown",
   "metadata": {},
   "source": [
    "#### In the above graph also we can see that the coefficient estimates are approaching to zero as the alpha value increases"
   ]
  },
  {
   "cell_type": "markdown",
   "metadata": {},
   "source": [
    "#### Trying with some a sequential increase in alphas for Lasso"
   ]
  },
  {
   "cell_type": "code",
   "execution_count": 147,
   "metadata": {},
   "outputs": [],
   "source": [
    "X_train, X_test, Y_train, Y_test = train_test_split(tmc_sel_feat2, tmctarget2, test_size = 0.3,\\\n",
    "                                                    random_state=212)"
   ]
  },
  {
   "cell_type": "code",
   "execution_count": 104,
   "metadata": {},
   "outputs": [],
   "source": [
    "def frange(x, y, jump):\n",
    "  while x < y:\n",
    "    yield x\n",
    "    x += jump"
   ]
  },
  {
   "cell_type": "code",
   "execution_count": 105,
   "metadata": {
    "scrolled": false
   },
   "outputs": [
    {
     "name": "stdout",
     "output_type": "stream",
     "text": [
      "Lasso regression train score : 0.001 0.56811397209987\n",
      "Lasso regression test score : 0.001 0.566197656967665\n",
      "No. of features used: 0.001 36\n",
      "R-Squared : 0.566197656967665\n",
      "Lasso regression train score : 0.002 0.5680659715421792\n",
      "Lasso regression test score : 0.002 0.5661691355707501\n",
      "No. of features used: 0.002 36\n",
      "R-Squared : 0.5661691355707501\n",
      "Lasso regression train score : 0.003 0.5679918087477057\n",
      "Lasso regression test score : 0.003 0.5661114046843625\n",
      "No. of features used: 0.003 35\n",
      "R-Squared : 0.5661114046843625\n",
      "Lasso regression train score : 0.004 0.5678990531561132\n",
      "Lasso regression test score : 0.004 0.5660286775421857\n",
      "No. of features used: 0.004 34\n",
      "R-Squared : 0.5660286775421857\n",
      "Lasso regression train score : 0.005 0.5677807390699838\n",
      "Lasso regression test score : 0.005 0.565919292832566\n",
      "No. of features used: 0.005 34\n",
      "R-Squared : 0.565919292832566\n",
      "Lasso regression train score : 0.006 0.5676488764320905\n",
      "Lasso regression test score : 0.006 0.5658011684248698\n",
      "No. of features used: 0.006 32\n",
      "R-Squared : 0.5658011684248698\n",
      "Lasso regression train score : 0.007 0.5674954529087827\n",
      "Lasso regression test score : 0.007 0.5656615557649389\n",
      "No. of features used: 0.007 32\n",
      "R-Squared : 0.5656615557649389\n",
      "Lasso regression train score : 0.008 0.5673332357432506\n",
      "Lasso regression test score : 0.008 0.5655102701870094\n",
      "No. of features used: 0.008 31\n",
      "R-Squared : 0.5655102701870094\n",
      "Lasso regression train score : 0.009000000000000001 0.5671708594823861\n",
      "Lasso regression test score : 0.009000000000000001 0.5653538502502623\n",
      "No. of features used: 0.009000000000000001 30\n",
      "R-Squared : 0.5653538502502623\n"
     ]
    }
   ],
   "source": [
    "for alph in frange(0.001,0.010,0.001):\n",
    "    lasso1 = Lasso(alpha=alph, max_iter=10e5)\n",
    "    lasso1.fit(X_train,Y_train)\n",
    "    print(\"Lasso regression train score :\",alph,lasso1.score(X_train,Y_train))\n",
    "    print(\"Lasso regression test score :\",alph,lasso1.score(X_test, Y_test))\n",
    "    print(\"No. of features used:\",alph, np.sum(lasso1.coef_!=0))\n",
    "    print(\"R-Squared :\",r2_score(Y_test, lasso1.predict(X_test)))"
   ]
  },
  {
   "cell_type": "markdown",
   "metadata": {},
   "source": [
    "#### We can see that by the increase in alpha, the score decreases, now we perform 10-fold cross-validation to choose the best alpha, refit the model, and compute the associated test error:"
   ]
  },
  {
   "cell_type": "code",
   "execution_count": 107,
   "metadata": {},
   "outputs": [
    {
     "name": "stdout",
     "output_type": "stream",
     "text": [
      "Lasso regression train score : 0.5681299469310507\n",
      "Lasso regression test score : 0.5661939305161114\n",
      "No. of features used: 36\n",
      "R-Squared : 0.5661939305161114\n"
     ]
    }
   ],
   "source": [
    "lasso1 = Lasso(alpha=0.00000009, max_iter=10e5)\n",
    "lasso1.fit(X_train,Y_train)\n",
    "print(\"Lasso regression train score :\",lasso1.score(X_train,Y_train))\n",
    "print(\"Lasso regression test score :\", lasso1.score(X_test, Y_test))\n",
    "print(\"No. of features used:\", np.sum(lasso1.coef_!=0))\n",
    "print(\"R-Squared :\",r2_score(Y_test, lasso1.predict(X_test)))"
   ]
  },
  {
   "cell_type": "code",
   "execution_count": 148,
   "metadata": {},
   "outputs": [
    {
     "data": {
      "text/plain": [
       "1.6026595927136046e-05"
      ]
     },
     "execution_count": 148,
     "metadata": {},
     "output_type": "execute_result"
    }
   ],
   "source": [
    "lassocv = LassoCV(alphas = None, cv = 10, max_iter = 100000, normalize = True)\n",
    "lassocv.fit(X_train, Y_train)\n",
    "lassocv.alpha_"
   ]
  },
  {
   "cell_type": "code",
   "execution_count": 149,
   "metadata": {},
   "outputs": [
    {
     "name": "stdout",
     "output_type": "stream",
     "text": [
      "Lasso regression train score : 0.5680762928519865\n",
      "Lasso regression test score : 0.5661916112786733\n",
      "No. of features used: 35\n",
      "R-Squared : 0.5661916112786733\n"
     ]
    }
   ],
   "source": [
    "lasso.set_params(alpha=lassocv.alpha_)\n",
    "lasso.fit(X_train, Y_train)\n",
    "print(\"Lasso regression train score :\",lasso.score(X_train,Y_train))\n",
    "print(\"Lasso regression test score :\",lasso.score(X_test, Y_test))\n",
    "print(\"No. of features used:\", np.sum(lasso.coef_!=0))\n",
    "print(\"R-Squared :\",r2_score(Y_test, lasso.predict(X_test)))"
   ]
  },
  {
   "cell_type": "code",
   "execution_count": 150,
   "metadata": {},
   "outputs": [
    {
     "name": "stdout",
     "output_type": "stream",
     "text": [
      "Full_Price_Ind                     17.751174\n",
      "season_spring                       5.462121\n",
      "Total_Units                         0.732789\n",
      "season_winter                       0.978534\n",
      "season_fall                         4.327941\n",
      "Dsubclass_1020                      0.612285\n",
      "Dsubclass_1050                     -3.572872\n",
      "Dsubclass_1031                     -1.606067\n",
      "Dsubclass_1240                      9.613867\n",
      "Dsubclass_1051                     -7.430810\n",
      "Dsubclass_1220                      5.699559\n",
      "Dsubclass_1052                    -13.510776\n",
      "Dsubclass_1242                      9.436153\n",
      "Store_Type_Power Strip             -0.567107\n",
      "Store_Type_Strip Store             -0.581427\n",
      "Dsubclass_1042                      5.025211\n",
      "Dsubclass_1251                     -4.619347\n",
      "Dsubclass_1241                      7.829846\n",
      "Dsubclass_1021                      0.518584\n",
      "Dsubclass_125                       3.767624\n",
      "Store_Type_Outlet Strip            -0.000000\n",
      "Dsubclass_1232                      6.873297\n",
      "Dsubclass_1040                      3.736683\n",
      "State_FL                           -0.760381\n",
      "Dsubclass_1230                      4.463901\n",
      "Dsubclass_1032                      1.935593\n",
      "State_TX                           -1.066767\n",
      "Dsubclass_1041                      4.339147\n",
      "Store_Type_Regional Mall           -0.200519\n",
      "Dsubclass_1030                     -0.459949\n",
      "State_CA                           -0.690031\n",
      "Dsubclass_1231                      3.577809\n",
      "State_IL                           -0.181113\n",
      "State_AZ                           -0.532175\n",
      "Store_Type_Tourist Outlet Strip    -0.173596\n",
      "Dsubclass_1221                      6.366813\n",
      "dtype: float64\n"
     ]
    }
   ],
   "source": [
    "print(pd.Series(lasso.coef_, index = X_train.columns))"
   ]
  },
  {
   "cell_type": "markdown",
   "metadata": {},
   "source": [
    "#### Here also even with an ideal alpha we got from CV (1.6026595927136046e-05), the model score didn't improve and the best score is still from OLS i.e., 56.8%"
   ]
  },
  {
   "cell_type": "markdown",
   "metadata": {},
   "source": [
    "#### Manually eliminating each feature 1 by 1 and finding out the best accuracy at which point"
   ]
  },
  {
   "cell_type": "code",
   "execution_count": 151,
   "metadata": {},
   "outputs": [
    {
     "data": {
      "text/plain": [
       "(401528, 36)"
      ]
     },
     "execution_count": 151,
     "metadata": {},
     "output_type": "execute_result"
    }
   ],
   "source": [
    "tmc_sel_feat2.shape"
   ]
  },
  {
   "cell_type": "code",
   "execution_count": 38,
   "metadata": {},
   "outputs": [
    {
     "data": {
      "text/plain": [
       "Index(['Full_Price_Ind', 'season_spring', 'Total_Units', 'season_winter',\n",
       "       'season_fall', 'Dsubclass_1020', 'Dsubclass_1050', 'Dsubclass_1031',\n",
       "       'Dsubclass_1240', 'Dsubclass_1051', 'Dsubclass_1220', 'Dsubclass_1052',\n",
       "       'Dsubclass_1242', 'Store_Type_Power Strip', 'Store_Type_Strip Store',\n",
       "       'Dsubclass_1042', 'Dsubclass_1251', 'Dsubclass_1241', 'Dsubclass_1021',\n",
       "       'Dsubclass_125', 'Store_Type_Outlet Strip', 'Dsubclass_1232',\n",
       "       'Dsubclass_1040', 'State_FL', 'Dsubclass_1230', 'Dsubclass_1032',\n",
       "       'State_TX', 'Dsubclass_1041', 'Store_Type_Regional Mall',\n",
       "       'Dsubclass_1030', 'State_CA', 'Dsubclass_1231', 'State_IL', 'State_AZ',\n",
       "       'Store_Type_Tourist Outlet Strip', 'Dsubclass_1221'],\n",
       "      dtype='object')"
      ]
     },
     "execution_count": 38,
     "metadata": {},
     "output_type": "execute_result"
    }
   ],
   "source": [
    "tmc_sel_feat2.columns"
   ]
  },
  {
   "cell_type": "code",
   "execution_count": 152,
   "metadata": {},
   "outputs": [],
   "source": [
    "tmc_sel_feat_temp = tmc_sel_feat2[['Full_Price_Ind', 'season_spring', 'Total_Units', 'season_winter',\n",
    "       'season_fall', 'Dsubclass_1020', 'Dsubclass_1050', 'Dsubclass_1031']]"
   ]
  },
  {
   "cell_type": "code",
   "execution_count": 153,
   "metadata": {},
   "outputs": [
    {
     "name": "stdout",
     "output_type": "stream",
     "text": [
      "Lasso regression train score : 0.5030054507701633\n",
      "Lasso regression test score : 0.5003171726264808\n",
      "No. of features used: 8\n",
      "R-Squared : 0.5003171726264808\n"
     ]
    }
   ],
   "source": [
    "X_train, X_test, Y_train, Y_test = train_test_split(tmc_sel_feat_temp, tmctarget2, test_size = 0.3,\\\n",
    "                                                    random_state=212)\n",
    "lasso.set_params(alpha=lassocv.alpha_)\n",
    "lasso.fit(X_train, Y_train)\n",
    "print(\"Lasso regression train score :\",lasso.score(X_train,Y_train))\n",
    "print(\"Lasso regression test score :\",lasso.score(X_test, Y_test))\n",
    "print(\"No. of features used:\", np.sum(lasso.coef_!=0))\n",
    "print(\"R-Squared :\",r2_score(Y_test, lasso.predict(X_test)))"
   ]
  },
  {
   "cell_type": "markdown",
   "metadata": {},
   "source": [
    "#### When manually removed each feature 1 by 1 at no point the score has increased but has been decreasing from 56.6% to 50.03% gradually. \n",
    "#### So, trying now with DecisionTreeRegressor"
   ]
  },
  {
   "cell_type": "code",
   "execution_count": 154,
   "metadata": {},
   "outputs": [],
   "source": [
    "from sklearn.tree import DecisionTreeRegressor"
   ]
  },
  {
   "cell_type": "code",
   "execution_count": 155,
   "metadata": {},
   "outputs": [],
   "source": [
    "X_train, X_test, Y_train, Y_test = train_test_split(tmc_sel_feat2, tmctarget2, test_size = 0.3,\\\n",
    "                                                    random_state=212)"
   ]
  },
  {
   "cell_type": "code",
   "execution_count": 267,
   "metadata": {},
   "outputs": [
    {
     "data": {
      "text/plain": [
       "(281069, 6)"
      ]
     },
     "execution_count": 267,
     "metadata": {},
     "output_type": "execute_result"
    }
   ],
   "source": [
    "X_train.shape"
   ]
  },
  {
   "cell_type": "code",
   "execution_count": 156,
   "metadata": {},
   "outputs": [
    {
     "data": {
      "text/plain": [
       "DecisionTreeRegressor(criterion='mse', max_depth=18, max_features=36,\n",
       "           max_leaf_nodes=None, min_impurity_decrease=0.0,\n",
       "           min_impurity_split=None, min_samples_leaf=1,\n",
       "           min_samples_split=2, min_weight_fraction_leaf=0.0,\n",
       "           presort=False, random_state=None, splitter='best')"
      ]
     },
     "execution_count": 156,
     "metadata": {},
     "output_type": "execute_result"
    }
   ],
   "source": [
    "tmc_tree = DecisionTreeRegressor(max_depth=18,max_features=36)\n",
    "tmc_tree.fit(X_train,Y_train)"
   ]
  },
  {
   "cell_type": "code",
   "execution_count": 157,
   "metadata": {},
   "outputs": [],
   "source": [
    "tmc_tree_pred = tmc_tree.predict(X_test)"
   ]
  },
  {
   "cell_type": "code",
   "execution_count": 158,
   "metadata": {},
   "outputs": [
    {
     "data": {
      "text/plain": [
       "0.5865241479222593"
      ]
     },
     "execution_count": 158,
     "metadata": {},
     "output_type": "execute_result"
    }
   ],
   "source": [
    "r2_score(Y_test, tmc_tree_pred)"
   ]
  },
  {
   "cell_type": "markdown",
   "metadata": {},
   "source": [
    "#### By Simply giving some random hyper parameters of (max_depth=18,max_features=36) for DecisionTreeRegressor, the accuracy score is 58.6% which is slightly morethan all Regression models"
   ]
  },
  {
   "cell_type": "markdown",
   "metadata": {},
   "source": [
    "#### Now finding out the best hyper parameters in order to get max accuracy from the model"
   ]
  },
  {
   "cell_type": "code",
   "execution_count": 159,
   "metadata": {
    "scrolled": true
   },
   "outputs": [
    {
     "name": "stdout",
     "output_type": "stream",
     "text": [
      "maxFeat, maxDepth, MAE, R-sqrd--> 28 19 6.295880295275003 0.5855847815648869\n",
      "maxFeat, maxDepth, MAE, R-sqrd--> 28 18 6.304573999022466 0.5845524372684914\n",
      "maxFeat, maxDepth, MAE, R-sqrd--> 28 17 6.30206330586554 0.5871047527180495\n",
      "maxFeat, maxDepth, MAE, R-sqrd--> 28 16 6.327286165940921 0.585054880952484\n",
      "maxFeat, maxDepth, MAE, R-sqrd--> 28 15 6.343630774958021 0.5843404860793544\n",
      "maxFeat, maxDepth, MAE, R-sqrd--> 28 14 6.334571561954062 0.5850907217672773\n",
      "maxFeat, maxDepth, MAE, R-sqrd--> 28 13 6.355923921561178 0.58120491275291\n",
      "maxFeat, maxDepth, MAE, R-sqrd--> 28 12 6.384125810617241 0.5801544277383988\n",
      "maxFeat, maxDepth, MAE, R-sqrd--> 27 19 6.302624276358134 0.5845326084271554\n",
      "maxFeat, maxDepth, MAE, R-sqrd--> 27 18 6.303396011167763 0.5846918890361343\n",
      "maxFeat, maxDepth, MAE, R-sqrd--> 27 17 6.329124444066875 0.584107110309172\n",
      "maxFeat, maxDepth, MAE, R-sqrd--> 27 16 6.3216319544981525 0.5868037452816621\n",
      "maxFeat, maxDepth, MAE, R-sqrd--> 27 15 6.3107405988192875 0.5862456901920672\n",
      "maxFeat, maxDepth, MAE, R-sqrd--> 27 14 6.344414435017562 0.5855520478007161\n",
      "maxFeat, maxDepth, MAE, R-sqrd--> 27 13 6.3744895329937314 0.5825942148399973\n",
      "maxFeat, maxDepth, MAE, R-sqrd--> 27 12 6.379292384914954 0.5810623289683294\n",
      "maxFeat, maxDepth, MAE, R-sqrd--> 26 19 6.293972210481338 0.584888266636649\n",
      "maxFeat, maxDepth, MAE, R-sqrd--> 26 18 6.296593761350857 0.5865134767128568\n",
      "maxFeat, maxDepth, MAE, R-sqrd--> 26 17 6.3112773471736245 0.5867550439714464\n",
      "maxFeat, maxDepth, MAE, R-sqrd--> 26 16 6.322981138936654 0.5853391057199835\n",
      "maxFeat, maxDepth, MAE, R-sqrd--> 26 15 6.345760280057916 0.5843666356125414\n",
      "maxFeat, maxDepth, MAE, R-sqrd--> 26 14 6.355634076216543 0.5826818937905871\n",
      "maxFeat, maxDepth, MAE, R-sqrd--> 26 13 6.359052362448264 0.5827555452360902\n",
      "maxFeat, maxDepth, MAE, R-sqrd--> 26 12 6.3870589835393865 0.5817452782150463\n",
      "maxFeat, maxDepth, MAE, R-sqrd--> 25 19 6.309439990183359 0.583995180533671\n",
      "maxFeat, maxDepth, MAE, R-sqrd--> 25 18 6.301302903400981 0.586223778773429\n",
      "maxFeat, maxDepth, MAE, R-sqrd--> 25 17 6.310119248387563 0.585679496535858\n",
      "maxFeat, maxDepth, MAE, R-sqrd--> 25 16 6.319908210676677 0.5846834864232348\n",
      "maxFeat, maxDepth, MAE, R-sqrd--> 25 15 6.347091697671601 0.5846009424078725\n",
      "maxFeat, maxDepth, MAE, R-sqrd--> 25 14 6.36697118013953 0.5829683054547328\n",
      "maxFeat, maxDepth, MAE, R-sqrd--> 25 13 6.369000154912873 0.5806708952261836\n",
      "maxFeat, maxDepth, MAE, R-sqrd--> 25 12 6.4158560776085976 0.578333507580678\n",
      "maxFeat, maxDepth, MAE, R-sqrd--> 24 19 6.322110144171946 0.5834437890333293\n",
      "maxFeat, maxDepth, MAE, R-sqrd--> 24 18 6.302014782968141 0.5847681647573063\n",
      "maxFeat, maxDepth, MAE, R-sqrd--> 24 17 6.326660881426873 0.5854284087826598\n",
      "maxFeat, maxDepth, MAE, R-sqrd--> 24 16 6.334348283184597 0.584321150304317\n",
      "maxFeat, maxDepth, MAE, R-sqrd--> 24 15 6.328409948096602 0.5846465873588824\n",
      "maxFeat, maxDepth, MAE, R-sqrd--> 24 14 6.360943989098674 0.5836700781283564\n",
      "maxFeat, maxDepth, MAE, R-sqrd--> 24 13 6.384066332515002 0.581569947781631\n",
      "maxFeat, maxDepth, MAE, R-sqrd--> 24 12 6.405245693265722 0.5773091514493036\n",
      "maxFeat, maxDepth, MAE, R-sqrd--> 23 19 6.305358715735141 0.583705434743133\n",
      "maxFeat, maxDepth, MAE, R-sqrd--> 23 18 6.292654621044502 0.5862144256975508\n",
      "maxFeat, maxDepth, MAE, R-sqrd--> 23 17 6.31796543854728 0.5848876666849915\n",
      "maxFeat, maxDepth, MAE, R-sqrd--> 23 16 6.31500431971111 0.5855411859574375\n",
      "maxFeat, maxDepth, MAE, R-sqrd--> 23 15 6.3387079509366 0.5835622444590951\n",
      "maxFeat, maxDepth, MAE, R-sqrd--> 23 14 6.363047072264719 0.5826594075157856\n",
      "maxFeat, maxDepth, MAE, R-sqrd--> 23 13 6.36147326039433 0.5825248379135344\n",
      "maxFeat, maxDepth, MAE, R-sqrd--> 23 12 6.408954672596132 0.5782997394216939\n",
      "maxFeat, maxDepth, MAE, R-sqrd--> 22 19 6.318589276498915 0.5837945759596135\n",
      "maxFeat, maxDepth, MAE, R-sqrd--> 22 18 6.3183109793065935 0.5835041605355799\n",
      "maxFeat, maxDepth, MAE, R-sqrd--> 22 17 6.344688600346708 0.5821466196837881\n",
      "maxFeat, maxDepth, MAE, R-sqrd--> 22 16 6.32031800254624 0.5853209052669832\n",
      "maxFeat, maxDepth, MAE, R-sqrd--> 22 15 6.332939995441344 0.5861784181132808\n",
      "maxFeat, maxDepth, MAE, R-sqrd--> 22 14 6.382700752104223 0.5828020118803263\n",
      "maxFeat, maxDepth, MAE, R-sqrd--> 22 13 6.348254596609474 0.5819763194949659\n",
      "maxFeat, maxDepth, MAE, R-sqrd--> 22 12 6.395812490422575 0.5776795601228781\n"
     ]
    }
   ],
   "source": [
    "for maxf in range(28,21,-1):\n",
    "    for maxd in range(19,11,-1):\n",
    "        tmc_tree = DecisionTreeRegressor(max_depth=maxd,max_features=maxf)\n",
    "        tmc_tree.fit(X_train,Y_train)\n",
    "        print(\"maxFeat, maxDepth, MAE, R-sqrd-->\",maxf,maxd,mean_absolute_error(Y_test, tmc_tree.predict(X_test)),r2_score(Y_test, tmc_tree.predict(X_test)))"
   ]
  },
  {
   "cell_type": "markdown",
   "metadata": {},
   "source": [
    "#### From the above DecisionTreeRegressor iterations, the below parameters gives the max R-Sqrd value"
   ]
  },
  {
   "cell_type": "markdown",
   "metadata": {},
   "source": [
    "- maxFeat, maxDepth, MAE, R-sqrd--> 29 - 17-  6.303134084258644 - 0.5875827831382956"
   ]
  },
  {
   "cell_type": "markdown",
   "metadata": {},
   "source": [
    "#### Therefore considering this as the maximum accuracy (58.75) achieved for the data with Total_Units >5. Now, proceeding with the next steps"
   ]
  },
  {
   "cell_type": "markdown",
   "metadata": {},
   "source": [
    "#### Now considering the transactions with Total_Units > 10 and applying all the above models in the same way as above"
   ]
  },
  {
   "cell_type": "code",
   "execution_count": 268,
   "metadata": {},
   "outputs": [],
   "source": [
    "tmc_maindata3 = tmc_group[tmc_group['Total_Units']>10]"
   ]
  },
  {
   "cell_type": "code",
   "execution_count": 161,
   "metadata": {},
   "outputs": [
    {
     "data": {
      "text/plain": [
       "(162872, 8)"
      ]
     },
     "execution_count": 161,
     "metadata": {},
     "output_type": "execute_result"
    }
   ],
   "source": [
    "tmc_maindata3.shape"
   ]
  },
  {
   "cell_type": "code",
   "execution_count": 269,
   "metadata": {},
   "outputs": [
    {
     "data": {
      "text/plain": [
       "<matplotlib.axes._subplots.AxesSubplot at 0x2610e1c56d8>"
      ]
     },
     "execution_count": 269,
     "metadata": {},
     "output_type": "execute_result"
    },
    {
     "data": {
      "image/png": "[encoded data removed]",
      "text/plain": [
       "<Figure size 432x288 with 1 Axes>"
      ]
     },
     "metadata": {
      "needs_background": "light"
     },
     "output_type": "display_data"
    }
   ],
   "source": [
    "tmc_maindata3['season'].value_counts().plot(kind='bar')"
   ]
  },
  {
   "cell_type": "code",
   "execution_count": 271,
   "metadata": {},
   "outputs": [
    {
     "data": {
      "text/plain": [
       "<matplotlib.axes._subplots.AxesSubplot at 0x25f6f596b38>"
      ]
     },
     "execution_count": 271,
     "metadata": {},
     "output_type": "execute_result"
    },
    {
     "data": {
      "image/png": "[encoded data removed]",
      "text/plain": [
       "<Figure size 432x288 with 1 Axes>"
      ]
     },
     "metadata": {
      "needs_background": "light"
     },
     "output_type": "display_data"
    }
   ],
   "source": [
    "tmc_maindata3['Store_Type'].value_counts().plot(kind='bar')"
   ]
  },
  {
   "cell_type": "code",
   "execution_count": 272,
   "metadata": {},
   "outputs": [
    {
     "data": {
      "text/plain": [
       "<matplotlib.axes._subplots.AxesSubplot at 0x25f6f5666d8>"
      ]
     },
     "execution_count": 272,
     "metadata": {},
     "output_type": "execute_result"
    },
    {
     "data": {
      "image/png": "[encoded data removed]",
      "text/plain": [
       "<Figure size 432x288 with 1 Axes>"
      ]
     },
     "metadata": {
      "needs_background": "light"
     },
     "output_type": "display_data"
    }
   ],
   "source": [
    "tmc_maindata3['Dsubclass'].value_counts().plot(kind='bar')"
   ]
  },
  {
   "cell_type": "code",
   "execution_count": 162,
   "metadata": {},
   "outputs": [
    {
     "data": {
      "text/plain": [
       "(162872, 89)"
      ]
     },
     "execution_count": 162,
     "metadata": {},
     "output_type": "execute_result"
    }
   ],
   "source": [
    "tmc_maindata3 = pd.get_dummies(tmc_maindata3, columns= ['Dsubclass', 'Store_Type', 'season', 'State'])\n",
    "tmc_maindata3.drop(['Dsubclass_1252','Store_Type_Downtown Store','season_summer','State_ME'], axis=1, inplace=True)\n",
    "tmctarget3 =tmc_maindata3['Unit_Sales_Price']\n",
    "tmc_maindata3.drop(['Dbsku','Unit_Sales_Price'],axis=1,inplace=True)\n",
    "tmc_maindata3['Total_Units'] = np.log(tmc_maindata3['Total_Units'])\n",
    "tmc_maindata3.shape"
   ]
  },
  {
   "cell_type": "code",
   "execution_count": 163,
   "metadata": {},
   "outputs": [],
   "source": [
    "tmc_sel_feat3= tmc_maindata3[['Full_Price_Ind','season_spring','Total_Units','season_winter','season_fall','Dsubclass_1020',\n",
    "                             'Dsubclass_1050','Dsubclass_1031','Dsubclass_1240','Dsubclass_1250','Dsubclass_1051',\n",
    "                             'Dsubclass_1220','Dsubclass_1052','Dsubclass_1242','Store_Type_Power Strip','Store_Type_Strip Store',\n",
    "                             'Dsubclass_1042','Dsubclass_105','Dsubclass_1251','Dsubclass_1241','Dsubclass_1021','Dsubclass_125',\n",
    "                             'Dsubclass_106','Store_Type_Outlet Strip','Dsubclass_1232','Dsubclass_1040','State_FL',\n",
    "                             'Dsubclass_1230','Dsubclass_1032','State_NY','State_TX','Dsubclass_1041','Store_Type_Regional Mall',\n",
    "                             'Dsubclass_1030','State_CA','Dsubclass_1231','State_NJ','State_IL','State_AZ',\n",
    "                             'Store_Type_Outlet Mall','Store_Type_Tourist Outlet Strip','Dsubclass_1221',\n",
    "                             'Store_Type_Mega Outlet Mall']]\n",
    "tmc_sel_feat3 = tmc_sel_feat3.drop(['Dsubclass_105','Dsubclass_106','State_NY','State_NJ','Store_Type_Outlet Mall',\n",
    "                                   'Store_Type_Mega Outlet Mall','Dsubclass_1250'],axis=1)"
   ]
  },
  {
   "cell_type": "code",
   "execution_count": 164,
   "metadata": {},
   "outputs": [
    {
     "data": {
      "text/plain": [
       "((162872, 36), (162872,))"
      ]
     },
     "execution_count": 164,
     "metadata": {},
     "output_type": "execute_result"
    }
   ],
   "source": [
    "tmc_sel_feat3.shape,tmctarget3.shape"
   ]
  },
  {
   "cell_type": "markdown",
   "metadata": {},
   "source": [
    "- Plot b/w Price and Total_Units for this data"
   ]
  },
  {
   "cell_type": "code",
   "execution_count": 165,
   "metadata": {
    "scrolled": true
   },
   "outputs": [
    {
     "data": {
      "image/png": "[encoded data removed]",
      "text/plain": [
       "<Figure size 432x288 with 1 Axes>"
      ]
     },
     "metadata": {
      "needs_background": "light"
     },
     "output_type": "display_data"
    }
   ],
   "source": [
    "x = tmc_maindata3['Total_Units']\n",
    "y = tmctarget3\n",
    "plt.scatter(x, y, alpha=0.5)\n",
    "plt.xlabel('Quantity')\n",
    "plt.ylabel('Price')\n",
    "plt.show()"
   ]
  },
  {
   "cell_type": "markdown",
   "metadata": {},
   "source": [
    "#### OLS"
   ]
  },
  {
   "cell_type": "code",
   "execution_count": 166,
   "metadata": {},
   "outputs": [
    {
     "name": "stderr",
     "output_type": "stream",
     "text": [
      "C:\\Users\\ajayi\\AppData\\Local\\Continuum\\anaconda3\\lib\\site-packages\\numpy\\core\\fromnumeric.py:2389: FutureWarning: Method .ptp is deprecated and will be removed in a future version. Use numpy.ptp instead.\n",
      "  return ptp(axis=axis, out=out, **kwargs)\n"
     ]
    },
    {
     "data": {
      "text/html": [
       "<table class=\"simpletable\">\n",
       "<caption>OLS Regression Results</caption>\n",
       "<tr>\n",
       "  <th>Dep. Variable:</th>    <td>Unit_Sales_Price</td> <th>  R-squared:         </th>  <td>   0.600</td>  \n",
       "</tr>\n",
       "<tr>\n",
       "  <th>Model:</th>                   <td>OLS</td>       <th>  Adj. R-squared:    </th>  <td>   0.600</td>  \n",
       "</tr>\n",
       "<tr>\n",
       "  <th>Method:</th>             <td>Least Squares</td>  <th>  F-statistic:       </th>  <td>   4743.</td>  \n",
       "</tr>\n",
       "<tr>\n",
       "  <th>Date:</th>             <td>Thu, 09 May 2019</td> <th>  Prob (F-statistic):</th>   <td>  0.00</td>   \n",
       "</tr>\n",
       "<tr>\n",
       "  <th>Time:</th>                 <td>05:07:51</td>     <th>  Log-Likelihood:    </th> <td>-3.9567e+05</td>\n",
       "</tr>\n",
       "<tr>\n",
       "  <th>No. Observations:</th>      <td>114010</td>      <th>  AIC:               </th>  <td>7.914e+05</td> \n",
       "</tr>\n",
       "<tr>\n",
       "  <th>Df Residuals:</th>          <td>113973</td>      <th>  BIC:               </th>  <td>7.918e+05</td> \n",
       "</tr>\n",
       "<tr>\n",
       "  <th>Df Model:</th>              <td>    36</td>      <th>                     </th>      <td> </td>     \n",
       "</tr>\n",
       "<tr>\n",
       "  <th>Covariance Type:</th>      <td>nonrobust</td>    <th>                     </th>      <td> </td>     \n",
       "</tr>\n",
       "</table>\n",
       "<table class=\"simpletable\">\n",
       "<tr>\n",
       "                 <td></td>                    <th>coef</th>     <th>std err</th>      <th>t</th>      <th>P>|t|</th>  <th>[0.025</th>    <th>0.975]</th>  \n",
       "</tr>\n",
       "<tr>\n",
       "  <th>const</th>                           <td>   29.0768</td> <td>    0.202</td> <td>  144.108</td> <td> 0.000</td> <td>   28.681</td> <td>   29.472</td>\n",
       "</tr>\n",
       "<tr>\n",
       "  <th>Full_Price_Ind</th>                  <td>   17.2563</td> <td>    0.049</td> <td>  349.039</td> <td> 0.000</td> <td>   17.159</td> <td>   17.353</td>\n",
       "</tr>\n",
       "<tr>\n",
       "  <th>season_spring</th>                   <td>    5.5267</td> <td>    0.058</td> <td>   94.845</td> <td> 0.000</td> <td>    5.412</td> <td>    5.641</td>\n",
       "</tr>\n",
       "<tr>\n",
       "  <th>Total_Units</th>                     <td>    0.3822</td> <td>    0.051</td> <td>    7.533</td> <td> 0.000</td> <td>    0.283</td> <td>    0.482</td>\n",
       "</tr>\n",
       "<tr>\n",
       "  <th>season_winter</th>                   <td>    0.7417</td> <td>    0.072</td> <td>   10.301</td> <td> 0.000</td> <td>    0.601</td> <td>    0.883</td>\n",
       "</tr>\n",
       "<tr>\n",
       "  <th>season_fall</th>                     <td>    4.5456</td> <td>    0.066</td> <td>   68.366</td> <td> 0.000</td> <td>    4.415</td> <td>    4.676</td>\n",
       "</tr>\n",
       "<tr>\n",
       "  <th>Dsubclass_1020</th>                  <td>    0.8536</td> <td>    0.083</td> <td>   10.339</td> <td> 0.000</td> <td>    0.692</td> <td>    1.015</td>\n",
       "</tr>\n",
       "<tr>\n",
       "  <th>Dsubclass_1050</th>                  <td>   -3.4820</td> <td>    0.129</td> <td>  -27.057</td> <td> 0.000</td> <td>   -3.734</td> <td>   -3.230</td>\n",
       "</tr>\n",
       "<tr>\n",
       "  <th>Dsubclass_1031</th>                  <td>   -1.1974</td> <td>    0.136</td> <td>   -8.829</td> <td> 0.000</td> <td>   -1.463</td> <td>   -0.932</td>\n",
       "</tr>\n",
       "<tr>\n",
       "  <th>Dsubclass_1240</th>                  <td>   10.0439</td> <td>    0.148</td> <td>   67.953</td> <td> 0.000</td> <td>    9.754</td> <td>   10.334</td>\n",
       "</tr>\n",
       "<tr>\n",
       "  <th>Dsubclass_1051</th>                  <td>   -7.5424</td> <td>    0.179</td> <td>  -42.146</td> <td> 0.000</td> <td>   -7.893</td> <td>   -7.192</td>\n",
       "</tr>\n",
       "<tr>\n",
       "  <th>Dsubclass_1220</th>                  <td>    6.2180</td> <td>    0.103</td> <td>   60.537</td> <td> 0.000</td> <td>    6.017</td> <td>    6.419</td>\n",
       "</tr>\n",
       "<tr>\n",
       "  <th>Dsubclass_1052</th>                  <td>  -14.2331</td> <td>    0.277</td> <td>  -51.297</td> <td> 0.000</td> <td>  -14.777</td> <td>  -13.689</td>\n",
       "</tr>\n",
       "<tr>\n",
       "  <th>Dsubclass_1242</th>                  <td>   10.0443</td> <td>    0.177</td> <td>   56.858</td> <td> 0.000</td> <td>    9.698</td> <td>   10.391</td>\n",
       "</tr>\n",
       "<tr>\n",
       "  <th>Store_Type_Power Strip</th>          <td>   -0.6566</td> <td>    0.135</td> <td>   -4.879</td> <td> 0.000</td> <td>   -0.920</td> <td>   -0.393</td>\n",
       "</tr>\n",
       "<tr>\n",
       "  <th>Store_Type_Strip Store</th>          <td>   -0.6447</td> <td>    0.132</td> <td>   -4.895</td> <td> 0.000</td> <td>   -0.903</td> <td>   -0.387</td>\n",
       "</tr>\n",
       "<tr>\n",
       "  <th>Dsubclass_1042</th>                  <td>    5.2966</td> <td>    0.119</td> <td>   44.639</td> <td> 0.000</td> <td>    5.064</td> <td>    5.529</td>\n",
       "</tr>\n",
       "<tr>\n",
       "  <th>Dsubclass_1251</th>                  <td>   -4.9100</td> <td>    0.196</td> <td>  -25.007</td> <td> 0.000</td> <td>   -5.295</td> <td>   -4.525</td>\n",
       "</tr>\n",
       "<tr>\n",
       "  <th>Dsubclass_1241</th>                  <td>    8.3736</td> <td>    0.191</td> <td>   43.795</td> <td> 0.000</td> <td>    7.999</td> <td>    8.748</td>\n",
       "</tr>\n",
       "<tr>\n",
       "  <th>Dsubclass_1021</th>                  <td>    0.7583</td> <td>    0.114</td> <td>    6.659</td> <td> 0.000</td> <td>    0.535</td> <td>    0.981</td>\n",
       "</tr>\n",
       "<tr>\n",
       "  <th>Dsubclass_125</th>                   <td>    3.5721</td> <td>    0.237</td> <td>   15.059</td> <td> 0.000</td> <td>    3.107</td> <td>    4.037</td>\n",
       "</tr>\n",
       "<tr>\n",
       "  <th>Store_Type_Outlet Strip</th>         <td>   -0.4284</td> <td>    0.145</td> <td>   -2.946</td> <td> 0.003</td> <td>   -0.713</td> <td>   -0.143</td>\n",
       "</tr>\n",
       "<tr>\n",
       "  <th>Dsubclass_1232</th>                  <td>    7.5263</td> <td>    0.240</td> <td>   31.336</td> <td> 0.000</td> <td>    7.056</td> <td>    7.997</td>\n",
       "</tr>\n",
       "<tr>\n",
       "  <th>Dsubclass_1040</th>                  <td>    3.7014</td> <td>    0.116</td> <td>   31.824</td> <td> 0.000</td> <td>    3.473</td> <td>    3.929</td>\n",
       "</tr>\n",
       "<tr>\n",
       "  <th>State_FL</th>                        <td>   -0.6005</td> <td>    0.100</td> <td>   -6.030</td> <td> 0.000</td> <td>   -0.796</td> <td>   -0.405</td>\n",
       "</tr>\n",
       "<tr>\n",
       "  <th>Dsubclass_1230</th>                  <td>    4.9064</td> <td>    0.190</td> <td>   25.868</td> <td> 0.000</td> <td>    4.535</td> <td>    5.278</td>\n",
       "</tr>\n",
       "<tr>\n",
       "  <th>Dsubclass_1032</th>                  <td>    2.1770</td> <td>    0.133</td> <td>   16.314</td> <td> 0.000</td> <td>    1.915</td> <td>    2.439</td>\n",
       "</tr>\n",
       "<tr>\n",
       "  <th>State_TX</th>                        <td>   -0.7373</td> <td>    0.080</td> <td>   -9.217</td> <td> 0.000</td> <td>   -0.894</td> <td>   -0.580</td>\n",
       "</tr>\n",
       "<tr>\n",
       "  <th>Dsubclass_1041</th>                  <td>    4.4211</td> <td>    0.133</td> <td>   33.337</td> <td> 0.000</td> <td>    4.161</td> <td>    4.681</td>\n",
       "</tr>\n",
       "<tr>\n",
       "  <th>Store_Type_Regional Mall</th>        <td>   -1.2196</td> <td>    0.238</td> <td>   -5.131</td> <td> 0.000</td> <td>   -1.686</td> <td>   -0.754</td>\n",
       "</tr>\n",
       "<tr>\n",
       "  <th>Dsubclass_1030</th>                  <td>   -0.4532</td> <td>    0.182</td> <td>   -2.489</td> <td> 0.013</td> <td>   -0.810</td> <td>   -0.096</td>\n",
       "</tr>\n",
       "<tr>\n",
       "  <th>State_CA</th>                        <td>   -0.4900</td> <td>    0.080</td> <td>   -6.154</td> <td> 0.000</td> <td>   -0.646</td> <td>   -0.334</td>\n",
       "</tr>\n",
       "<tr>\n",
       "  <th>Dsubclass_1231</th>                  <td>    4.1994</td> <td>    0.189</td> <td>   22.273</td> <td> 0.000</td> <td>    3.830</td> <td>    4.569</td>\n",
       "</tr>\n",
       "<tr>\n",
       "  <th>State_IL</th>                        <td>    0.0870</td> <td>    0.115</td> <td>    0.757</td> <td> 0.449</td> <td>   -0.138</td> <td>    0.312</td>\n",
       "</tr>\n",
       "<tr>\n",
       "  <th>State_AZ</th>                        <td>   -1.7540</td> <td>    0.423</td> <td>   -4.142</td> <td> 0.000</td> <td>   -2.584</td> <td>   -0.924</td>\n",
       "</tr>\n",
       "<tr>\n",
       "  <th>Store_Type_Tourist Outlet Strip</th> <td>   -1.0621</td> <td>    0.415</td> <td>   -2.557</td> <td> 0.011</td> <td>   -1.876</td> <td>   -0.248</td>\n",
       "</tr>\n",
       "<tr>\n",
       "  <th>Dsubclass_1221</th>                  <td>    7.4247</td> <td>    0.226</td> <td>   32.878</td> <td> 0.000</td> <td>    6.982</td> <td>    7.867</td>\n",
       "</tr>\n",
       "</table>\n",
       "<table class=\"simpletable\">\n",
       "<tr>\n",
       "  <th>Omnibus:</th>       <td>325.599</td> <th>  Durbin-Watson:     </th> <td>   1.993</td>\n",
       "</tr>\n",
       "<tr>\n",
       "  <th>Prob(Omnibus):</th> <td> 0.000</td>  <th>  Jarque-Bera (JB):  </th> <td> 328.439</td>\n",
       "</tr>\n",
       "<tr>\n",
       "  <th>Skew:</th>          <td>-0.130</td>  <th>  Prob(JB):          </th> <td>4.79e-72</td>\n",
       "</tr>\n",
       "<tr>\n",
       "  <th>Kurtosis:</th>      <td> 3.038</td>  <th>  Cond. No.          </th> <td>    65.0</td>\n",
       "</tr>\n",
       "</table><br/><br/>Warnings:<br/>[1] Standard Errors assume that the covariance matrix of the errors is correctly specified."
      ],
      "text/plain": [
       "<class 'statsmodels.iolib.summary.Summary'>\n",
       "\"\"\"\n",
       "                            OLS Regression Results                            \n",
       "==============================================================================\n",
       "Dep. Variable:       Unit_Sales_Price   R-squared:                       0.600\n",
       "Model:                            OLS   Adj. R-squared:                  0.600\n",
       "Method:                 Least Squares   F-statistic:                     4743.\n",
       "Date:                Thu, 09 May 2019   Prob (F-statistic):               0.00\n",
       "Time:                        05:07:51   Log-Likelihood:            -3.9567e+05\n",
       "No. Observations:              114010   AIC:                         7.914e+05\n",
       "Df Residuals:                  113973   BIC:                         7.918e+05\n",
       "Df Model:                          36                                         \n",
       "Covariance Type:            nonrobust                                         \n",
       "===================================================================================================\n",
       "                                      coef    std err          t      P>|t|      [0.025      0.975]\n",
       "---------------------------------------------------------------------------------------------------\n",
       "const                              29.0768      0.202    144.108      0.000      28.681      29.472\n",
       "Full_Price_Ind                     17.2563      0.049    349.039      0.000      17.159      17.353\n",
       "season_spring                       5.5267      0.058     94.845      0.000       5.412       5.641\n",
       "Total_Units                         0.3822      0.051      7.533      0.000       0.283       0.482\n",
       "season_winter                       0.7417      0.072     10.301      0.000       0.601       0.883\n",
       "season_fall                         4.5456      0.066     68.366      0.000       4.415       4.676\n",
       "Dsubclass_1020                      0.8536      0.083     10.339      0.000       0.692       1.015\n",
       "Dsubclass_1050                     -3.4820      0.129    -27.057      0.000      -3.734      -3.230\n",
       "Dsubclass_1031                     -1.1974      0.136     -8.829      0.000      -1.463      -0.932\n",
       "Dsubclass_1240                     10.0439      0.148     67.953      0.000       9.754      10.334\n",
       "Dsubclass_1051                     -7.5424      0.179    -42.146      0.000      -7.893      -7.192\n",
       "Dsubclass_1220                      6.2180      0.103     60.537      0.000       6.017       6.419\n",
       "Dsubclass_1052                    -14.2331      0.277    -51.297      0.000     -14.777     -13.689\n",
       "Dsubclass_1242                     10.0443      0.177     56.858      0.000       9.698      10.391\n",
       "Store_Type_Power Strip             -0.6566      0.135     -4.879      0.000      -0.920      -0.393\n",
       "Store_Type_Strip Store             -0.6447      0.132     -4.895      0.000      -0.903      -0.387\n",
       "Dsubclass_1042                      5.2966      0.119     44.639      0.000       5.064       5.529\n",
       "Dsubclass_1251                     -4.9100      0.196    -25.007      0.000      -5.295      -4.525\n",
       "Dsubclass_1241                      8.3736      0.191     43.795      0.000       7.999       8.748\n",
       "Dsubclass_1021                      0.7583      0.114      6.659      0.000       0.535       0.981\n",
       "Dsubclass_125                       3.5721      0.237     15.059      0.000       3.107       4.037\n",
       "Store_Type_Outlet Strip            -0.4284      0.145     -2.946      0.003      -0.713      -0.143\n",
       "Dsubclass_1232                      7.5263      0.240     31.336      0.000       7.056       7.997\n",
       "Dsubclass_1040                      3.7014      0.116     31.824      0.000       3.473       3.929\n",
       "State_FL                           -0.6005      0.100     -6.030      0.000      -0.796      -0.405\n",
       "Dsubclass_1230                      4.9064      0.190     25.868      0.000       4.535       5.278\n",
       "Dsubclass_1032                      2.1770      0.133     16.314      0.000       1.915       2.439\n",
       "State_TX                           -0.7373      0.080     -9.217      0.000      -0.894      -0.580\n",
       "Dsubclass_1041                      4.4211      0.133     33.337      0.000       4.161       4.681\n",
       "Store_Type_Regional Mall           -1.2196      0.238     -5.131      0.000      -1.686      -0.754\n",
       "Dsubclass_1030                     -0.4532      0.182     -2.489      0.013      -0.810      -0.096\n",
       "State_CA                           -0.4900      0.080     -6.154      0.000      -0.646      -0.334\n",
       "Dsubclass_1231                      4.1994      0.189     22.273      0.000       3.830       4.569\n",
       "State_IL                            0.0870      0.115      0.757      0.449      -0.138       0.312\n",
       "State_AZ                           -1.7540      0.423     -4.142      0.000      -2.584      -0.924\n",
       "Store_Type_Tourist Outlet Strip    -1.0621      0.415     -2.557      0.011      -1.876      -0.248\n",
       "Dsubclass_1221                      7.4247      0.226     32.878      0.000       6.982       7.867\n",
       "==============================================================================\n",
       "Omnibus:                      325.599   Durbin-Watson:                   1.993\n",
       "Prob(Omnibus):                  0.000   Jarque-Bera (JB):              328.439\n",
       "Skew:                          -0.130   Prob(JB):                     4.79e-72\n",
       "Kurtosis:                       3.038   Cond. No.                         65.0\n",
       "==============================================================================\n",
       "\n",
       "Warnings:\n",
       "[1] Standard Errors assume that the covariance matrix of the errors is correctly specified.\n",
       "\"\"\""
      ]
     },
     "execution_count": 166,
     "metadata": {},
     "output_type": "execute_result"
    }
   ],
   "source": [
    "X_train, X_test, Y_train, Y_test = train_test_split(tmc_sel_feat3, tmctarget3, test_size = 0.3,\\\n",
    "                                                    random_state=212)\n",
    "X_train = sm.add_constant(X_train)\n",
    "lm_3 = sm.OLS(Y_train, X_train).fit()\n",
    "lm_3.summary()"
   ]
  },
  {
   "cell_type": "markdown",
   "metadata": {},
   "source": [
    "#### Applying Ridge and Lasso on the same"
   ]
  },
  {
   "cell_type": "code",
   "execution_count": 167,
   "metadata": {},
   "outputs": [],
   "source": [
    "X_train, X_test, Y_train, Y_test = train_test_split(tmc_sel_feat3, tmctarget3, test_size = 0.3,\\\n",
    "                                                    random_state=212)"
   ]
  },
  {
   "cell_type": "markdown",
   "metadata": {},
   "source": [
    "#### Instead of arbitrarily choosing alpha value, we use cross-validation to choose the tuning parameter alpha using the cross-validated ridge regression function, RidgeCV()"
   ]
  },
  {
   "cell_type": "code",
   "execution_count": 168,
   "metadata": {},
   "outputs": [
    {
     "data": {
      "text/plain": [
       "0.005"
      ]
     },
     "execution_count": 168,
     "metadata": {},
     "output_type": "execute_result"
    }
   ],
   "source": [
    "ridgecv = RidgeCV(alphas = alphas, scoring = 'neg_mean_squared_error', normalize = True)\n",
    "ridgecv.fit(X_train, Y_train)\n",
    "ridgecv.alpha_"
   ]
  },
  {
   "cell_type": "markdown",
   "metadata": {},
   "source": [
    "#### Therefore, we see that the value of alpha that results in the smallest cross-validation error is 0.005 and now we use this alpha value for ridge and find out the scores"
   ]
  },
  {
   "cell_type": "code",
   "execution_count": 169,
   "metadata": {},
   "outputs": [
    {
     "name": "stdout",
     "output_type": "stream",
     "text": [
      "Ridge regression train score : 0.5996913010369436\n",
      "Ridge regression test score : 0.5987017327024843\n",
      "No. of features used: 36\n",
      "R-Squared : 0.5987017327024843\n"
     ]
    }
   ],
   "source": [
    "ridge_after_cv = Ridge(alpha=ridgecv.alpha_,normalize = True)\n",
    "ridge_after_cv.fit(X_train,Y_train)\n",
    "ridge_after_cv_pred = ridge_after_cv.predict(X_test) \n",
    "print(\"Ridge regression train score :\",ridge_after_cv.score(X_train,Y_train))\n",
    "print(\"Ridge regression test score :\", ridge_after_cv.score(X_test, Y_test))\n",
    "print(\"No. of features used:\", np.sum(ridge_after_cv.coef_!=0))\n",
    "print(\"R-Squared :\",r2_score(Y_test, ridge_after_cv_pred))"
   ]
  },
  {
   "cell_type": "markdown",
   "metadata": {},
   "source": [
    "#### Coefficients of each independent variable after Ridge Regression with optimal alpha value are as below"
   ]
  },
  {
   "cell_type": "code",
   "execution_count": 170,
   "metadata": {},
   "outputs": [
    {
     "name": "stdout",
     "output_type": "stream",
     "text": [
      "Full_Price_Ind                     17.163431\n",
      "season_spring                       5.469533\n",
      "Total_Units                         0.393686\n",
      "season_winter                       0.704848\n",
      "season_fall                         4.502889\n",
      "Dsubclass_1020                      0.769035\n",
      "Dsubclass_1050                     -3.536031\n",
      "Dsubclass_1031                     -1.285728\n",
      "Dsubclass_1240                      9.912902\n",
      "Dsubclass_1051                     -7.573916\n",
      "Dsubclass_1220                      6.106715\n",
      "Dsubclass_1052                    -14.224460\n",
      "Dsubclass_1242                      9.918860\n",
      "Store_Type_Power Strip             -0.620960\n",
      "Store_Type_Strip Store             -0.610320\n",
      "Dsubclass_1042                      5.195004\n",
      "Dsubclass_1251                     -4.949756\n",
      "Dsubclass_1241                      8.248426\n",
      "Dsubclass_1021                      0.661031\n",
      "Dsubclass_125                       3.464825\n",
      "Store_Type_Outlet Strip            -0.377912\n",
      "Dsubclass_1232                      7.405608\n",
      "Dsubclass_1040                      3.606750\n",
      "State_FL                           -0.597959\n",
      "Dsubclass_1230                      4.798578\n",
      "Dsubclass_1032                      2.085034\n",
      "State_TX                           -0.745210\n",
      "Dsubclass_1041                      4.318952\n",
      "Store_Type_Regional Mall           -1.143623\n",
      "Dsubclass_1030                     -0.529037\n",
      "State_CA                           -0.493569\n",
      "Dsubclass_1231                      4.087326\n",
      "State_IL                            0.086281\n",
      "State_AZ                           -1.728914\n",
      "Store_Type_Tourist Outlet Strip    -0.996343\n",
      "Dsubclass_1221                      7.294007\n",
      "dtype: float64\n"
     ]
    }
   ],
   "source": [
    "print(pd.Series(ridge_after_cv.coef_, index = X_train.columns))"
   ]
  },
  {
   "cell_type": "markdown",
   "metadata": {},
   "source": [
    "#### Even with an ideal alpha we got from CV (0.05), the model score didn't improve where it is 59.8% which is lessthan OLS score (60%),  so trying the Lasso"
   ]
  },
  {
   "cell_type": "markdown",
   "metadata": {},
   "source": [
    "#### we perform 10-fold cross-validation to choose the best alpha, refit the model, and compute the associated test error:\n"
   ]
  },
  {
   "cell_type": "code",
   "execution_count": 171,
   "metadata": {},
   "outputs": [],
   "source": [
    "X_train, X_test, Y_train, Y_test = train_test_split(tmc_sel_feat3, tmctarget3, test_size = 0.3,\\\n",
    "                                                    random_state=212)"
   ]
  },
  {
   "cell_type": "code",
   "execution_count": 172,
   "metadata": {},
   "outputs": [
    {
     "data": {
      "text/plain": [
       "2.479030415672104e-05"
      ]
     },
     "execution_count": 172,
     "metadata": {},
     "output_type": "execute_result"
    }
   ],
   "source": [
    "lasso = Lasso(max_iter = 10000, normalize = True)\n",
    "lassocv = LassoCV(alphas = None, cv = 10, max_iter = 100000, normalize = True)\n",
    "lassocv.fit(X_train, Y_train)\n",
    "lassocv.alpha_"
   ]
  },
  {
   "cell_type": "code",
   "execution_count": 173,
   "metadata": {},
   "outputs": [
    {
     "name": "stdout",
     "output_type": "stream",
     "text": [
      "Lasso regression train score : 0.5996515988840994\n",
      "Lasso regression test score : 0.5986246966520805\n",
      "No. of features used: 36\n",
      "mean_squared_error: 0.5986246966520805\n"
     ]
    }
   ],
   "source": [
    "lasso.set_params(alpha=lassocv.alpha_)\n",
    "lasso.fit(X_train, Y_train)\n",
    "print(\"Lasso regression train score :\",lasso.score(X_train,Y_train))\n",
    "print(\"Lasso regression test score :\",lasso.score(X_test, Y_test))\n",
    "print(\"No. of features used:\", np.sum(lasso.coef_!=0))\n",
    "print(\"mean_squared_error:\",r2_score(Y_test, lasso.predict(X_test)))"
   ]
  },
  {
   "cell_type": "markdown",
   "metadata": {},
   "source": [
    "#### Here the Lasso's accuracy is similar to Ridge's. So, proceeding with DTreeRegressor"
   ]
  },
  {
   "cell_type": "code",
   "execution_count": 175,
   "metadata": {},
   "outputs": [],
   "source": [
    "X_train, X_test, Y_train, Y_test = train_test_split(tmc_sel_feat3, tmctarget3, test_size = 0.3,\\\n",
    "                                                    random_state=212)"
   ]
  },
  {
   "cell_type": "code",
   "execution_count": 176,
   "metadata": {},
   "outputs": [
    {
     "name": "stdout",
     "output_type": "stream",
     "text": [
      "maxFeat, maxDepth, MAE, R-sqrd--> 36 22 5.969768922472298 0.5917161843981394\n",
      "maxFeat, maxDepth, MAE, R-sqrd--> 36 21 5.946561331532156 0.5964361808662368\n",
      "maxFeat, maxDepth, MAE, R-sqrd--> 36 20 5.92314964184726 0.6010417354949638\n",
      "maxFeat, maxDepth, MAE, R-sqrd--> 36 19 5.9052035439083 0.6051908042261833\n",
      "maxFeat, maxDepth, MAE, R-sqrd--> 36 18 5.886892372794368 0.6091985434190468\n",
      "maxFeat, maxDepth, MAE, R-sqrd--> 36 17 5.909141845577445 0.6099267268701819\n",
      "maxFeat, maxDepth, MAE, R-sqrd--> 36 16 5.91136966184951 0.6104518496999494\n",
      "maxFeat, maxDepth, MAE, R-sqrd--> 36 15 5.92678637503219 0.6114128733972088\n",
      "maxFeat, maxDepth, MAE, R-sqrd--> 36 14 5.919178802269583 0.6113220104754591\n",
      "maxFeat, maxDepth, MAE, R-sqrd--> 36 13 5.919367152800781 0.6112714333662097\n",
      "maxFeat, maxDepth, MAE, R-sqrd--> 36 12 5.939055326033399 0.6114811589395153\n",
      "maxFeat, maxDepth, MAE, R-sqrd--> 36 11 5.962936767284938 0.6096817701374263\n",
      "maxFeat, maxDepth, MAE, R-sqrd--> 36 10 6.0217817542864704 0.605563917641182\n",
      "maxFeat, maxDepth, MAE, R-sqrd--> 36 9 6.089066546835657 0.6000115296362618\n",
      "maxFeat, maxDepth, MAE, R-sqrd--> 36 8 6.1912757902525275 0.5932386098231093\n",
      "maxFeat, maxDepth, MAE, R-sqrd--> 35 22 5.966825239450572 0.5918645699808192\n",
      "maxFeat, maxDepth, MAE, R-sqrd--> 35 21 5.940575689582216 0.5968905723652786\n",
      "maxFeat, maxDepth, MAE, R-sqrd--> 35 20 5.929825930160459 0.6006451285055893\n",
      "maxFeat, maxDepth, MAE, R-sqrd--> 35 19 5.905141994985967 0.6052864418621509\n",
      "maxFeat, maxDepth, MAE, R-sqrd--> 35 18 5.894199478609998 0.6080444047562825\n",
      "maxFeat, maxDepth, MAE, R-sqrd--> 35 17 5.910470376227033 0.6097852420189103\n",
      "maxFeat, maxDepth, MAE, R-sqrd--> 35 16 5.895262772782251 0.6104878604398183\n",
      "maxFeat, maxDepth, MAE, R-sqrd--> 35 15 5.925562948034266 0.6105126979257507\n",
      "maxFeat, maxDepth, MAE, R-sqrd--> 35 14 5.9213338452127 0.6113906678736862\n",
      "maxFeat, maxDepth, MAE, R-sqrd--> 35 13 5.915785656837694 0.6116793307503999\n",
      "maxFeat, maxDepth, MAE, R-sqrd--> 35 12 5.9467588464840375 0.6107792026790283\n",
      "maxFeat, maxDepth, MAE, R-sqrd--> 35 11 5.978900673053167 0.6100520646964034\n",
      "maxFeat, maxDepth, MAE, R-sqrd--> 35 10 6.033101915427939 0.6042821091615623\n",
      "maxFeat, maxDepth, MAE, R-sqrd--> 35 9 6.087575110722813 0.6001414746239659\n",
      "maxFeat, maxDepth, MAE, R-sqrd--> 35 8 6.192470171038713 0.5929234944424042\n",
      "maxFeat, maxDepth, MAE, R-sqrd--> 34 22 5.978696506307268 0.590207125198861\n",
      "maxFeat, maxDepth, MAE, R-sqrd--> 34 21 5.94204167603677 0.5968262110831764\n",
      "maxFeat, maxDepth, MAE, R-sqrd--> 34 20 5.919734890259517 0.6019424726970429\n",
      "maxFeat, maxDepth, MAE, R-sqrd--> 34 19 5.901571919073746 0.6059995454507583\n",
      "maxFeat, maxDepth, MAE, R-sqrd--> 34 18 5.890823468173309 0.6092279027862939\n",
      "maxFeat, maxDepth, MAE, R-sqrd--> 34 17 5.9071080558189495 0.6106503668516721\n",
      "maxFeat, maxDepth, MAE, R-sqrd--> 34 16 5.905750744328191 0.6114861163029326\n",
      "maxFeat, maxDepth, MAE, R-sqrd--> 34 15 5.935309903825054 0.6104977230379458\n",
      "maxFeat, maxDepth, MAE, R-sqrd--> 34 14 5.924472828278836 0.6116515311287043\n",
      "maxFeat, maxDepth, MAE, R-sqrd--> 34 13 5.934252689365748 0.6110423978540594\n",
      "maxFeat, maxDepth, MAE, R-sqrd--> 34 12 5.9386672634076145 0.6114349133554422\n",
      "maxFeat, maxDepth, MAE, R-sqrd--> 34 11 5.972345273343764 0.6105185510492741\n",
      "maxFeat, maxDepth, MAE, R-sqrd--> 34 10 6.021198091024243 0.6057864951648322\n",
      "maxFeat, maxDepth, MAE, R-sqrd--> 34 9 6.0874006431297705 0.6002295976288838\n",
      "maxFeat, maxDepth, MAE, R-sqrd--> 34 8 6.190897545888238 0.5932068859989266\n",
      "maxFeat, maxDepth, MAE, R-sqrd--> 33 22 5.970357355860627 0.5919724902530482\n",
      "maxFeat, maxDepth, MAE, R-sqrd--> 33 21 5.961679371547526 0.5954543824990994\n",
      "maxFeat, maxDepth, MAE, R-sqrd--> 33 20 5.929124771070011 0.6004387752195551\n",
      "maxFeat, maxDepth, MAE, R-sqrd--> 33 19 5.908453497764777 0.6048174709886449\n",
      "maxFeat, maxDepth, MAE, R-sqrd--> 33 18 5.913484288402622 0.6054432148375661\n",
      "maxFeat, maxDepth, MAE, R-sqrd--> 33 17 5.915130378891225 0.6078062545531353\n",
      "maxFeat, maxDepth, MAE, R-sqrd--> 33 16 5.922597689716911 0.609508365489595\n",
      "maxFeat, maxDepth, MAE, R-sqrd--> 33 15 5.928345977980057 0.6101957365942439\n",
      "maxFeat, maxDepth, MAE, R-sqrd--> 33 14 5.908490225061532 0.612720872934529\n",
      "maxFeat, maxDepth, MAE, R-sqrd--> 33 13 5.932355173394919 0.6111714926661012\n",
      "maxFeat, maxDepth, MAE, R-sqrd--> 33 12 5.9259021313030384 0.61202912068523\n",
      "maxFeat, maxDepth, MAE, R-sqrd--> 33 11 5.968412205128429 0.611430035494684\n",
      "maxFeat, maxDepth, MAE, R-sqrd--> 33 10 6.026219136398581 0.6051090022545224\n",
      "maxFeat, maxDepth, MAE, R-sqrd--> 33 9 6.140310523153601 0.595919761557014\n",
      "maxFeat, maxDepth, MAE, R-sqrd--> 33 8 6.153581993638428 0.5964032686295825\n",
      "maxFeat, maxDepth, MAE, R-sqrd--> 32 22 5.9822553558691824 0.5903311670563374\n",
      "maxFeat, maxDepth, MAE, R-sqrd--> 32 21 5.928082921056489 0.6006290734472737\n",
      "maxFeat, maxDepth, MAE, R-sqrd--> 32 20 5.936487437566169 0.5989365518292679\n",
      "maxFeat, maxDepth, MAE, R-sqrd--> 32 19 5.919593172008335 0.6027362721550211\n",
      "maxFeat, maxDepth, MAE, R-sqrd--> 32 18 5.897571452465636 0.6071585626651343\n",
      "maxFeat, maxDepth, MAE, R-sqrd--> 32 17 5.923712673721297 0.6081885690341939\n",
      "maxFeat, maxDepth, MAE, R-sqrd--> 32 16 5.917271111922359 0.610554275344626\n",
      "maxFeat, maxDepth, MAE, R-sqrd--> 32 15 5.909273563827887 0.6120976494382637\n",
      "maxFeat, maxDepth, MAE, R-sqrd--> 32 14 5.918864092495333 0.6114046578617749\n",
      "maxFeat, maxDepth, MAE, R-sqrd--> 32 13 5.947857383951994 0.6104031566715239\n",
      "maxFeat, maxDepth, MAE, R-sqrd--> 32 12 5.921003074699439 0.6124526827251883\n",
      "maxFeat, maxDepth, MAE, R-sqrd--> 32 11 5.980412748300542 0.6109624419314612\n",
      "maxFeat, maxDepth, MAE, R-sqrd--> 32 10 6.015482525995222 0.6062456399638554\n",
      "maxFeat, maxDepth, MAE, R-sqrd--> 32 9 6.119280613889716 0.6001400227574771\n",
      "maxFeat, maxDepth, MAE, R-sqrd--> 32 8 6.205070561708653 0.5895923924680164\n",
      "maxFeat, maxDepth, MAE, R-sqrd--> 31 22 5.962863979718778 0.5930228367182839\n",
      "maxFeat, maxDepth, MAE, R-sqrd--> 31 21 5.92776281273911 0.5983132063653229\n",
      "maxFeat, maxDepth, MAE, R-sqrd--> 31 20 5.938640931660962 0.5982737973915778\n",
      "maxFeat, maxDepth, MAE, R-sqrd--> 31 19 5.916232368971367 0.6046682833672332\n",
      "maxFeat, maxDepth, MAE, R-sqrd--> 31 18 5.902487706690085 0.6080266804810985\n",
      "maxFeat, maxDepth, MAE, R-sqrd--> 31 17 5.878133166272614 0.6103303520173808\n",
      "maxFeat, maxDepth, MAE, R-sqrd--> 31 16 5.901136065335056 0.6105550691569903\n",
      "maxFeat, maxDepth, MAE, R-sqrd--> 31 15 5.919353662776416 0.6100398629333446\n",
      "maxFeat, maxDepth, MAE, R-sqrd--> 31 14 5.911917087024473 0.6135286061924315\n",
      "maxFeat, maxDepth, MAE, R-sqrd--> 31 13 5.910253182229491 0.6136663521705759\n",
      "maxFeat, maxDepth, MAE, R-sqrd--> 31 12 5.952967109531107 0.6108345172243375\n",
      "maxFeat, maxDepth, MAE, R-sqrd--> 31 11 5.9664529664889905 0.6105039573172446\n",
      "maxFeat, maxDepth, MAE, R-sqrd--> 31 10 6.077927030236115 0.6023198083595531\n",
      "maxFeat, maxDepth, MAE, R-sqrd--> 31 9 6.086878901977846 0.6006069207653317\n",
      "maxFeat, maxDepth, MAE, R-sqrd--> 31 8 6.194020327034849 0.58894715962867\n",
      "maxFeat, maxDepth, MAE, R-sqrd--> 30 22 5.965182606976511 0.5928473431607497\n",
      "maxFeat, maxDepth, MAE, R-sqrd--> 30 21 5.941924565087508 0.5979462303709568\n",
      "maxFeat, maxDepth, MAE, R-sqrd--> 30 20 5.928721479385349 0.6002900239770237\n",
      "maxFeat, maxDepth, MAE, R-sqrd--> 30 19 5.906445904920147 0.6038971407246627\n",
      "maxFeat, maxDepth, MAE, R-sqrd--> 30 18 5.896909109500221 0.608120797282439\n",
      "maxFeat, maxDepth, MAE, R-sqrd--> 30 17 5.903019373638497 0.610131783929593\n",
      "maxFeat, maxDepth, MAE, R-sqrd--> 30 16 5.909176076095091 0.6120908047456506\n",
      "maxFeat, maxDepth, MAE, R-sqrd--> 30 15 5.909618401078887 0.6107164882331881\n",
      "maxFeat, maxDepth, MAE, R-sqrd--> 30 14 5.911487453031289 0.6117899186932897\n",
      "maxFeat, maxDepth, MAE, R-sqrd--> 30 13 5.926686213676342 0.6114380541932565\n",
      "maxFeat, maxDepth, MAE, R-sqrd--> 30 12 5.965068496269295 0.6100511966871393\n",
      "maxFeat, maxDepth, MAE, R-sqrd--> 30 11 5.9672141819273525 0.6108058478222896\n",
      "maxFeat, maxDepth, MAE, R-sqrd--> 30 10 6.101208132113451 0.6003359186972252\n",
      "maxFeat, maxDepth, MAE, R-sqrd--> 30 9 6.1358352307158786 0.5989800728933126\n",
      "maxFeat, maxDepth, MAE, R-sqrd--> 30 8 6.1783426499932705 0.592977968963315\n",
      "maxFeat, maxDepth, MAE, R-sqrd--> 29 22 5.956430175433571 0.5943186643817514\n",
      "maxFeat, maxDepth, MAE, R-sqrd--> 29 21 5.957662588374042 0.595706215163371\n"
     ]
    },
    {
     "name": "stdout",
     "output_type": "stream",
     "text": [
      "maxFeat, maxDepth, MAE, R-sqrd--> 29 20 5.915826429618573 0.6033027103593162\n",
      "maxFeat, maxDepth, MAE, R-sqrd--> 29 19 5.9131841925261295 0.6037597730498157\n",
      "maxFeat, maxDepth, MAE, R-sqrd--> 29 18 5.885803286499271 0.6081162673522251\n",
      "maxFeat, maxDepth, MAE, R-sqrd--> 29 17 5.912847418752458 0.6094807740323278\n",
      "maxFeat, maxDepth, MAE, R-sqrd--> 29 16 5.921126735359107 0.6082743451903226\n",
      "maxFeat, maxDepth, MAE, R-sqrd--> 29 15 5.906244864882414 0.6130170094567438\n",
      "maxFeat, maxDepth, MAE, R-sqrd--> 29 14 5.928220362640437 0.610862219250267\n",
      "maxFeat, maxDepth, MAE, R-sqrd--> 29 13 5.949332615560397 0.6109482682404426\n",
      "maxFeat, maxDepth, MAE, R-sqrd--> 29 12 5.937929157884912 0.6129772402233267\n",
      "maxFeat, maxDepth, MAE, R-sqrd--> 29 11 5.9888549250168195 0.6085483101961782\n",
      "maxFeat, maxDepth, MAE, R-sqrd--> 29 10 6.018818506282036 0.6044601233344654\n",
      "maxFeat, maxDepth, MAE, R-sqrd--> 29 9 6.076495461886254 0.599845781694401\n",
      "maxFeat, maxDepth, MAE, R-sqrd--> 29 8 6.200763994165575 0.5926530390957974\n",
      "maxFeat, maxDepth, MAE, R-sqrd--> 28 22 5.9825039128852415 0.590933085938044\n",
      "maxFeat, maxDepth, MAE, R-sqrd--> 28 21 5.939631474336375 0.5972683326808419\n",
      "maxFeat, maxDepth, MAE, R-sqrd--> 28 20 5.941111475692105 0.5989466154426273\n",
      "maxFeat, maxDepth, MAE, R-sqrd--> 28 19 5.931056267396326 0.6012150634789998\n",
      "maxFeat, maxDepth, MAE, R-sqrd--> 28 18 5.920010679146592 0.6044685773954916\n",
      "maxFeat, maxDepth, MAE, R-sqrd--> 28 17 5.914872724365175 0.6102258113742519\n",
      "maxFeat, maxDepth, MAE, R-sqrd--> 28 16 5.9094151610595596 0.6094403445416765\n",
      "maxFeat, maxDepth, MAE, R-sqrd--> 28 15 5.930428898038536 0.6101354331221752\n",
      "maxFeat, maxDepth, MAE, R-sqrd--> 28 14 5.911151962015146 0.6118893287944318\n",
      "maxFeat, maxDepth, MAE, R-sqrd--> 28 13 5.931821608101581 0.6100989613065639\n",
      "maxFeat, maxDepth, MAE, R-sqrd--> 28 12 5.990483077294525 0.6090570375595847\n",
      "maxFeat, maxDepth, MAE, R-sqrd--> 28 11 5.982060983086165 0.6094075938862833\n",
      "maxFeat, maxDepth, MAE, R-sqrd--> 28 10 6.015849034791619 0.607470506899906\n",
      "maxFeat, maxDepth, MAE, R-sqrd--> 28 9 6.066491306728151 0.6034068911963557\n",
      "maxFeat, maxDepth, MAE, R-sqrd--> 28 8 6.1066727076970295 0.5945676596567443\n",
      "maxFeat, maxDepth, MAE, R-sqrd--> 27 22 5.975434208919832 0.5923587144486133\n",
      "maxFeat, maxDepth, MAE, R-sqrd--> 27 21 5.942395761876443 0.5977210702020626\n",
      "maxFeat, maxDepth, MAE, R-sqrd--> 27 20 5.940391858110582 0.5997088745407161\n",
      "maxFeat, maxDepth, MAE, R-sqrd--> 27 19 5.9341048624890185 0.6007988900256016\n",
      "maxFeat, maxDepth, MAE, R-sqrd--> 27 18 5.917493228154222 0.6063759226734753\n",
      "maxFeat, maxDepth, MAE, R-sqrd--> 27 17 5.900226243434763 0.6107662187036265\n",
      "maxFeat, maxDepth, MAE, R-sqrd--> 27 16 5.897891971243794 0.6110694916211077\n",
      "maxFeat, maxDepth, MAE, R-sqrd--> 27 15 5.9317939799800214 0.6104211750700292\n",
      "maxFeat, maxDepth, MAE, R-sqrd--> 27 14 5.914587343953747 0.6133379208771642\n",
      "maxFeat, maxDepth, MAE, R-sqrd--> 27 13 5.963448927465081 0.6078147800662117\n",
      "maxFeat, maxDepth, MAE, R-sqrd--> 27 12 5.9547001005515625 0.6111717633138118\n",
      "maxFeat, maxDepth, MAE, R-sqrd--> 27 11 5.980832275400669 0.6097212632085051\n",
      "maxFeat, maxDepth, MAE, R-sqrd--> 27 10 6.073246998714436 0.6036236419462924\n",
      "maxFeat, maxDepth, MAE, R-sqrd--> 27 9 6.19049991589893 0.5923158796691401\n",
      "maxFeat, maxDepth, MAE, R-sqrd--> 27 8 6.14973713602812 0.5954877343130316\n",
      "maxFeat, maxDepth, MAE, R-sqrd--> 26 22 5.950271474433941 0.5958534690233017\n",
      "maxFeat, maxDepth, MAE, R-sqrd--> 26 21 5.946231517735457 0.5962850627793297\n",
      "maxFeat, maxDepth, MAE, R-sqrd--> 26 20 5.923397594619054 0.601142900058472\n",
      "maxFeat, maxDepth, MAE, R-sqrd--> 26 19 5.897299092958872 0.6068704840423781\n",
      "maxFeat, maxDepth, MAE, R-sqrd--> 26 18 5.921605601879167 0.6053382207866159\n",
      "maxFeat, maxDepth, MAE, R-sqrd--> 26 17 5.918502004802697 0.6089296400028057\n",
      "maxFeat, maxDepth, MAE, R-sqrd--> 26 16 5.9050037760148335 0.6098050615048423\n",
      "maxFeat, maxDepth, MAE, R-sqrd--> 26 15 5.9150126037741515 0.6136443746037128\n",
      "maxFeat, maxDepth, MAE, R-sqrd--> 26 14 5.9104856716304885 0.6136442862347247\n",
      "maxFeat, maxDepth, MAE, R-sqrd--> 26 13 5.943862298675484 0.6091080997126495\n",
      "maxFeat, maxDepth, MAE, R-sqrd--> 26 12 5.980259026579543 0.609557034587336\n",
      "maxFeat, maxDepth, MAE, R-sqrd--> 26 11 5.98871974107104 0.6085629635356054\n",
      "maxFeat, maxDepth, MAE, R-sqrd--> 26 10 6.067500704568155 0.6044936440213137\n",
      "maxFeat, maxDepth, MAE, R-sqrd--> 26 9 6.145566490555967 0.5971187543487164\n",
      "maxFeat, maxDepth, MAE, R-sqrd--> 26 8 6.0822838421298435 0.5945716853235057\n",
      "maxFeat, maxDepth, MAE, R-sqrd--> 25 22 5.957118720860036 0.5933364471478925\n",
      "maxFeat, maxDepth, MAE, R-sqrd--> 25 21 5.945728595226781 0.5967505037635018\n",
      "maxFeat, maxDepth, MAE, R-sqrd--> 25 20 5.9301922801437525 0.6015703290613343\n",
      "maxFeat, maxDepth, MAE, R-sqrd--> 25 19 5.919205407082694 0.6046064593391087\n",
      "maxFeat, maxDepth, MAE, R-sqrd--> 25 18 5.90941902359759 0.605850672267308\n",
      "maxFeat, maxDepth, MAE, R-sqrd--> 25 17 5.910759963920641 0.6087566788178349\n",
      "maxFeat, maxDepth, MAE, R-sqrd--> 25 16 5.89012715776855 0.6112077575917192\n",
      "maxFeat, maxDepth, MAE, R-sqrd--> 25 15 5.933169901571737 0.6115196175990647\n",
      "maxFeat, maxDepth, MAE, R-sqrd--> 25 14 5.927359322022756 0.6134898996199984\n",
      "maxFeat, maxDepth, MAE, R-sqrd--> 25 13 5.9227719439848165 0.6124958269129643\n",
      "maxFeat, maxDepth, MAE, R-sqrd--> 25 12 5.96848104574857 0.6097440123792814\n",
      "maxFeat, maxDepth, MAE, R-sqrd--> 25 11 6.0056701496683145 0.6073209289529291\n",
      "maxFeat, maxDepth, MAE, R-sqrd--> 25 10 6.055222163215777 0.6044460361111197\n",
      "maxFeat, maxDepth, MAE, R-sqrd--> 25 9 6.038462932970908 0.6020415940042425\n",
      "maxFeat, maxDepth, MAE, R-sqrd--> 25 8 6.204033151693709 0.5934585329472026\n",
      "maxFeat, maxDepth, MAE, R-sqrd--> 24 22 5.961974914343654 0.5916935983299917\n",
      "maxFeat, maxDepth, MAE, R-sqrd--> 24 21 5.955953395946679 0.5966701854288923\n",
      "maxFeat, maxDepth, MAE, R-sqrd--> 24 20 5.944704097374207 0.6003248252338182\n",
      "maxFeat, maxDepth, MAE, R-sqrd--> 24 19 5.926092308093032 0.6025668844500778\n",
      "maxFeat, maxDepth, MAE, R-sqrd--> 24 18 5.9046153621553445 0.6062340925189258\n",
      "maxFeat, maxDepth, MAE, R-sqrd--> 24 17 5.906303831220206 0.6085620647606487\n",
      "maxFeat, maxDepth, MAE, R-sqrd--> 24 16 5.916206408193699 0.6068048017243953\n",
      "maxFeat, maxDepth, MAE, R-sqrd--> 24 15 5.918364368568125 0.6113857495439778\n",
      "maxFeat, maxDepth, MAE, R-sqrd--> 24 14 5.934937771459373 0.6110437312427872\n",
      "maxFeat, maxDepth, MAE, R-sqrd--> 24 13 5.922126615794219 0.6124460841263694\n",
      "maxFeat, maxDepth, MAE, R-sqrd--> 24 12 5.9542491994663465 0.6103044350641623\n",
      "maxFeat, maxDepth, MAE, R-sqrd--> 24 11 6.062372379365585 0.6060397344841898\n",
      "maxFeat, maxDepth, MAE, R-sqrd--> 24 10 6.063134174895576 0.6005869953170171\n",
      "maxFeat, maxDepth, MAE, R-sqrd--> 24 9 6.173607194347027 0.593044047814117\n",
      "maxFeat, maxDepth, MAE, R-sqrd--> 24 8 6.213635583691627 0.5908477301123027\n",
      "maxFeat, maxDepth, MAE, R-sqrd--> 23 22 5.964222794184823 0.5936398666019168\n",
      "maxFeat, maxDepth, MAE, R-sqrd--> 23 21 5.947221166202274 0.5964489624516209\n",
      "maxFeat, maxDepth, MAE, R-sqrd--> 23 20 5.929589853161421 0.5997289629033705\n",
      "maxFeat, maxDepth, MAE, R-sqrd--> 23 19 5.923086092975412 0.6028752983470911\n",
      "maxFeat, maxDepth, MAE, R-sqrd--> 23 18 5.924823057259073 0.6069101353362318\n",
      "maxFeat, maxDepth, MAE, R-sqrd--> 23 17 5.929267314976878 0.605982265526877\n",
      "maxFeat, maxDepth, MAE, R-sqrd--> 23 16 5.910598041171237 0.6121483275983806\n",
      "maxFeat, maxDepth, MAE, R-sqrd--> 23 15 5.90753670407936 0.6118256333261648\n",
      "maxFeat, maxDepth, MAE, R-sqrd--> 23 14 5.903348381134628 0.6118239279784302\n",
      "maxFeat, maxDepth, MAE, R-sqrd--> 23 13 5.93415962285664 0.6120241197958869\n",
      "maxFeat, maxDepth, MAE, R-sqrd--> 23 12 5.956776383448042 0.6097191486937354\n",
      "maxFeat, maxDepth, MAE, R-sqrd--> 23 11 5.977688325235816 0.6100098973227465\n",
      "maxFeat, maxDepth, MAE, R-sqrd--> 23 10 6.007072046928083 0.6048782212636485\n",
      "maxFeat, maxDepth, MAE, R-sqrd--> 23 9 6.074636371609457 0.6017870752813352\n",
      "maxFeat, maxDepth, MAE, R-sqrd--> 23 8 6.189579452568566 0.5927050361771216\n",
      "maxFeat, maxDepth, MAE, R-sqrd--> 22 22 5.9606725528894415 0.5932969387138978\n",
      "maxFeat, maxDepth, MAE, R-sqrd--> 22 21 5.930273941866899 0.6002007648613038\n",
      "maxFeat, maxDepth, MAE, R-sqrd--> 22 20 5.942001054502066 0.5988525228570365\n",
      "maxFeat, maxDepth, MAE, R-sqrd--> 22 19 5.913576388069045 0.6052977761231704\n"
     ]
    },
    {
     "name": "stdout",
     "output_type": "stream",
     "text": [
      "maxFeat, maxDepth, MAE, R-sqrd--> 22 18 5.915044192487196 0.6050491397721511\n",
      "maxFeat, maxDepth, MAE, R-sqrd--> 22 17 5.893584302256443 0.6094575484937788\n",
      "maxFeat, maxDepth, MAE, R-sqrd--> 22 16 5.890890188201781 0.6118217000937857\n",
      "maxFeat, maxDepth, MAE, R-sqrd--> 22 15 5.934445396478521 0.6100621763463152\n",
      "maxFeat, maxDepth, MAE, R-sqrd--> 22 14 5.9579179859466915 0.6100457213492614\n",
      "maxFeat, maxDepth, MAE, R-sqrd--> 22 13 5.921507985711371 0.6114794873289127\n",
      "maxFeat, maxDepth, MAE, R-sqrd--> 22 12 5.986383274349301 0.6114267588565372\n",
      "maxFeat, maxDepth, MAE, R-sqrd--> 22 11 6.013572260445367 0.6047323750476667\n",
      "maxFeat, maxDepth, MAE, R-sqrd--> 22 10 6.0917700510427375 0.5991379389176601\n",
      "maxFeat, maxDepth, MAE, R-sqrd--> 22 9 6.063443163242377 0.6028304174155295\n",
      "maxFeat, maxDepth, MAE, R-sqrd--> 22 8 6.188317896904246 0.5925916551577856\n",
      "maxFeat, maxDepth, MAE, R-sqrd--> 21 22 5.985078108640183 0.5894525280659355\n",
      "maxFeat, maxDepth, MAE, R-sqrd--> 21 21 5.951427709728367 0.5962424960637903\n",
      "maxFeat, maxDepth, MAE, R-sqrd--> 21 20 5.951073753644522 0.599658025744326\n",
      "maxFeat, maxDepth, MAE, R-sqrd--> 21 19 5.901915866249796 0.6057387231687822\n",
      "maxFeat, maxDepth, MAE, R-sqrd--> 21 18 5.92930828768279 0.6031783154641344\n",
      "maxFeat, maxDepth, MAE, R-sqrd--> 21 17 5.915945045048168 0.6073516597995924\n",
      "maxFeat, maxDepth, MAE, R-sqrd--> 21 16 5.940685837877627 0.6085174974535503\n",
      "maxFeat, maxDepth, MAE, R-sqrd--> 21 15 5.917732393326064 0.6101060868920383\n",
      "maxFeat, maxDepth, MAE, R-sqrd--> 21 14 5.940401115681179 0.6123155905171078\n",
      "maxFeat, maxDepth, MAE, R-sqrd--> 21 13 5.9639476269744724 0.6128872391164415\n",
      "maxFeat, maxDepth, MAE, R-sqrd--> 21 12 5.951047492346974 0.611096522463664\n",
      "maxFeat, maxDepth, MAE, R-sqrd--> 21 11 5.979866024015212 0.6089644904679886\n",
      "maxFeat, maxDepth, MAE, R-sqrd--> 21 10 6.031905868819356 0.6051205383376643\n",
      "maxFeat, maxDepth, MAE, R-sqrd--> 21 9 6.066460113264513 0.6020262723896075\n",
      "maxFeat, maxDepth, MAE, R-sqrd--> 21 8 6.2153602031903095 0.587294135187049\n",
      "maxFeat, maxDepth, MAE, R-sqrd--> 20 22 5.979121406674127 0.5906001152430205\n",
      "maxFeat, maxDepth, MAE, R-sqrd--> 20 21 5.992426218833875 0.5911370214131939\n",
      "maxFeat, maxDepth, MAE, R-sqrd--> 20 20 5.943013422805192 0.5986543142442433\n",
      "maxFeat, maxDepth, MAE, R-sqrd--> 20 19 5.9563128978719435 0.5998051412346306\n",
      "maxFeat, maxDepth, MAE, R-sqrd--> 20 18 5.916406599310915 0.6057419440789917\n",
      "maxFeat, maxDepth, MAE, R-sqrd--> 20 17 5.900916596610199 0.6088884232549867\n",
      "maxFeat, maxDepth, MAE, R-sqrd--> 20 16 5.91436143159498 0.6092708008618284\n",
      "maxFeat, maxDepth, MAE, R-sqrd--> 20 15 5.93474884520811 0.6103574429965091\n",
      "maxFeat, maxDepth, MAE, R-sqrd--> 20 14 5.93100861242788 0.6115702867671231\n",
      "maxFeat, maxDepth, MAE, R-sqrd--> 20 13 5.9565805067728705 0.6086309867227118\n",
      "maxFeat, maxDepth, MAE, R-sqrd--> 20 12 5.971670343213178 0.6094968692351423\n",
      "maxFeat, maxDepth, MAE, R-sqrd--> 20 11 5.983512807789529 0.6070873479584333\n",
      "maxFeat, maxDepth, MAE, R-sqrd--> 20 10 6.055131339380346 0.6041785627239483\n",
      "maxFeat, maxDepth, MAE, R-sqrd--> 20 9 6.119478593623606 0.5980928902714363\n",
      "maxFeat, maxDepth, MAE, R-sqrd--> 20 8 6.737096015016746 0.5506559046267057\n",
      "maxFeat, maxDepth, MAE, R-sqrd--> 19 22 5.976677697383944 0.5930232552718514\n",
      "maxFeat, maxDepth, MAE, R-sqrd--> 19 21 5.951919843641395 0.5959692546058926\n",
      "maxFeat, maxDepth, MAE, R-sqrd--> 19 20 5.925836433488179 0.60286242092964\n",
      "maxFeat, maxDepth, MAE, R-sqrd--> 19 19 5.898999176547461 0.6061917887589364\n",
      "maxFeat, maxDepth, MAE, R-sqrd--> 19 18 5.902412006420039 0.607401665420593\n",
      "maxFeat, maxDepth, MAE, R-sqrd--> 19 17 5.9088614414262075 0.6080479416795872\n",
      "maxFeat, maxDepth, MAE, R-sqrd--> 19 16 5.938721479259481 0.6047264866044095\n",
      "maxFeat, maxDepth, MAE, R-sqrd--> 19 15 5.916778351636 0.6114533359698783\n",
      "maxFeat, maxDepth, MAE, R-sqrd--> 19 14 5.922845338093401 0.6107677080785465\n",
      "maxFeat, maxDepth, MAE, R-sqrd--> 19 13 5.947786356380927 0.6096347062711236\n",
      "maxFeat, maxDepth, MAE, R-sqrd--> 19 12 6.0659159559512075 0.600789362506047\n",
      "maxFeat, maxDepth, MAE, R-sqrd--> 19 11 6.019571192859699 0.6059161675647009\n",
      "maxFeat, maxDepth, MAE, R-sqrd--> 19 10 6.017111369388611 0.605668156354263\n",
      "maxFeat, maxDepth, MAE, R-sqrd--> 19 9 6.108387782285813 0.5967714967263162\n",
      "maxFeat, maxDepth, MAE, R-sqrd--> 19 8 6.223227568955882 0.5884029914638842\n"
     ]
    }
   ],
   "source": [
    "for maxf in range(36,18,-1):\n",
    "    for maxd in range(22,7,-1):\n",
    "        tmc_tree = DecisionTreeRegressor(max_depth=maxd,max_features=maxf)\n",
    "        tmc_tree.fit(X_train,Y_train)\n",
    "        print(\"maxFeat, maxDepth, MAE, R-sqrd-->\",maxf,maxd,mean_absolute_error(Y_test, tmc_tree.predict(X_test)),r2_score(Y_test, tmc_tree.predict(X_test)))"
   ]
  },
  {
   "cell_type": "markdown",
   "metadata": {},
   "source": [
    "#### From the above DecisionTreeRegressor iterations, the below parameters gives the max R-Sqrd value"
   ]
  },
  {
   "cell_type": "markdown",
   "metadata": {},
   "source": [
    "- maxFeat, maxDepth, MAE, R-sqrd--> 31 - 13 - 5.910253182229491 - 0.6136663521705759"
   ]
  },
  {
   "cell_type": "markdown",
   "metadata": {},
   "source": [
    "#### Building Model using RandomForests"
   ]
  },
  {
   "cell_type": "code",
   "execution_count": 178,
   "metadata": {},
   "outputs": [
    {
     "name": "stderr",
     "output_type": "stream",
     "text": [
      "C:\\Users\\ajayi\\AppData\\Local\\Continuum\\anaconda3\\lib\\site-packages\\sklearn\\ensemble\\forest.py:246: FutureWarning: The default value of n_estimators will change from 10 in version 0.20 to 100 in 0.22.\n",
      "  \"10 in version 0.20 to 100 in 0.22.\", FutureWarning)\n"
     ]
    },
    {
     "data": {
      "text/plain": [
       "RandomForestRegressor(bootstrap=True, criterion='mse', max_depth=None,\n",
       "           max_features='auto', max_leaf_nodes=None,\n",
       "           min_impurity_decrease=0.0, min_impurity_split=None,\n",
       "           min_samples_leaf=1, min_samples_split=2,\n",
       "           min_weight_fraction_leaf=0.0, n_estimators=10, n_jobs=None,\n",
       "           oob_score=False, random_state=212, verbose=0, warm_start=False)"
      ]
     },
     "execution_count": 178,
     "metadata": {},
     "output_type": "execute_result"
    }
   ],
   "source": [
    "from sklearn.ensemble import RandomForestRegressor\n",
    "X_train, X_test, Y_train, Y_test = train_test_split(tmc_sel_feat3, tmctarget3, test_size = 0.3,\\\n",
    "                                                    random_state=212)\n",
    "rfmodel= RandomForestRegressor(random_state=212)\n",
    "rfmodel.fit(X_train, Y_train)"
   ]
  },
  {
   "cell_type": "code",
   "execution_count": 179,
   "metadata": {},
   "outputs": [
    {
     "name": "stdout",
     "output_type": "stream",
     "text": [
      "Train Score -  0.7249715704901663\n",
      "Test Score -  0.5818863365813265\n",
      "R-Squared -  0.5818863365813265\n"
     ]
    }
   ],
   "source": [
    "print(\"Train Score - \",rfmodel.score(X_train,Y_train))\n",
    "print(\"Test Score - \",rfmodel.score(X_test,Y_test))\n",
    "print(\"R-Squared - \",r2_score(Y_test, rfmodel.predict(X_test)))"
   ]
  },
  {
   "cell_type": "code",
   "execution_count": null,
   "metadata": {},
   "outputs": [],
   "source": [
    "#### Below are the feature importances "
   ]
  },
  {
   "cell_type": "markdown",
   "metadata": {},
   "source": [
    "#### Even the RandomForests have given an R-Sqrd value of 58.1, where 61.3% being the top accuracy given by DTree at maxFeat(31) , maxDepth(13)"
   ]
  },
  {
   "cell_type": "code",
   "execution_count": 184,
   "metadata": {},
   "outputs": [
    {
     "data": {
      "text/plain": [
       "[(0.7602543363836287, 'Full_Price_Ind'),\n",
       " (0.080275784079801, 'season_spring'),\n",
       " (0.030379556908536408, 'season_fall'),\n",
       " (0.020918626103016043, 'Dsubclass_1240'),\n",
       " (0.02060075200193499, 'Dsubclass_1052'),\n",
       " (0.01953131077327303, 'Dsubclass_1051'),\n",
       " (0.01731828690898765, 'Dsubclass_1220'),\n",
       " (0.012798848104174422, 'Dsubclass_1242'),\n",
       " (0.01133123163179506, 'Dsubclass_1050'),\n",
       " (0.006907722775233379, 'Dsubclass_1241'),\n",
       " (0.00487428591488801, 'Dsubclass_1020'),\n",
       " (0.004516761008801341, 'Dsubclass_1251'),\n",
       " (0.002250048987656001, 'Dsubclass_1021'),\n",
       " (0.0019866182615334584, 'Dsubclass_1042'),\n",
       " (0.0017773733166798556, 'Dsubclass_1031'),\n",
       " (0.0012954909354730552, 'Total_Units'),\n",
       " (0.0010118209733550247, 'Dsubclass_1231'),\n",
       " (0.0008351408503076907, 'season_winter'),\n",
       " (0.00031948136606699983, 'Store_Type_Outlet Strip'),\n",
       " (0.00029117798492618764, 'Store_Type_Power Strip'),\n",
       " (0.00012183331229004096, 'State_CA'),\n",
       " (0.00011419677784699792, 'State_IL'),\n",
       " (9.915814947925322e-05, 'State_TX'),\n",
       " (9.182908268248998e-05, 'Store_Type_Strip Store'),\n",
       " (7.100242810030326e-05, 'State_FL'),\n",
       " (1.3725087804941211e-05, 'Store_Type_Regional Mall'),\n",
       " (9.440558799097695e-06, 'State_AZ'),\n",
       " (4.159332928705324e-06, 'Store_Type_Tourist Outlet Strip'),\n",
       " (0.0, 'Dsubclass_125'),\n",
       " (0.0, 'Dsubclass_1232'),\n",
       " (0.0, 'Dsubclass_1230'),\n",
       " (0.0, 'Dsubclass_1221'),\n",
       " (0.0, 'Dsubclass_1041'),\n",
       " (0.0, 'Dsubclass_1040'),\n",
       " (0.0, 'Dsubclass_1032'),\n",
       " (0.0, 'Dsubclass_1030')]"
      ]
     },
     "execution_count": 184,
     "metadata": {},
     "output_type": "execute_result"
    }
   ],
   "source": [
    "feature_list = []\n",
    "for name, score in zip(X_train.columns, tmc_tree.feature_importances_):\n",
    "    feature_list.append((score, name))\n",
    "sorted(feature_list, reverse=True)"
   ]
  },
  {
   "cell_type": "markdown",
   "metadata": {},
   "source": [
    "#### Trying to apply RandomForestRegressor for different no. of estimators in order to findout whether the accuracy increases or not"
   ]
  },
  {
   "cell_type": "code",
   "execution_count": 208,
   "metadata": {},
   "outputs": [],
   "source": [
    "rfmodel2 = RandomForestRegressor(n_jobs=-1)"
   ]
  },
  {
   "cell_type": "code",
   "execution_count": 209,
   "metadata": {},
   "outputs": [],
   "source": [
    "X_train, X_test, Y_train, Y_test = train_test_split(tmc_sel_feat3, tmctarget3, test_size = 0.3,\\\n",
    "                                                    random_state=212)"
   ]
  },
  {
   "cell_type": "code",
   "execution_count": 210,
   "metadata": {},
   "outputs": [
    {
     "data": {
      "text/plain": [
       "[<matplotlib.lines.Line2D at 0x25f1e189518>]"
      ]
     },
     "execution_count": 210,
     "metadata": {},
     "output_type": "execute_result"
    },
    {
     "data": {
      "image/png": "[encoded data removed]",
      "text/plain": [
       "<Figure size 432x288 with 1 Axes>"
      ]
     },
     "metadata": {
      "needs_background": "light"
     },
     "output_type": "display_data"
    }
   ],
   "source": [
    "estimators = np.arange(10, 200, 10)\n",
    "scores = []\n",
    "for n in estimators:\n",
    "    rfmodel2.set_params(n_estimators=n)\n",
    "    rfmodel2.fit(X_train, Y_train)\n",
    "    scores.append(rfmodel2.score(X_test, Y_test))\n",
    "plt.title(\"Effect of n_estimators\")\n",
    "plt.xlabel(\"n_estimator\")\n",
    "plt.ylabel(\"score\")\n",
    "plt.plot(estimators, scores)"
   ]
  },
  {
   "cell_type": "code",
   "execution_count": 211,
   "metadata": {},
   "outputs": [
    {
     "data": {
      "text/plain": [
       "[0.5904179009168324,\n",
       " 0.5901165978824382,\n",
       " 0.5900182220763723,\n",
       " 0.5899228218632745,\n",
       " 0.5897880674720398,\n",
       " 0.5897690459183562,\n",
       " 0.5896404450535084,\n",
       " 0.5895836768308368,\n",
       " 0.5895761527841661,\n",
       " 0.5895701978071484,\n",
       " 0.5894999929115443,\n",
       " 0.5894967000424969,\n",
       " 0.5893866497683925,\n",
       " 0.5891912292106812,\n",
       " 0.5889689666259104,\n",
       " 0.5879114090833059,\n",
       " 0.5878845930814072,\n",
       " 0.5852812045888267,\n",
       " 0.5824493663802275]"
      ]
     },
     "execution_count": 211,
     "metadata": {},
     "output_type": "execute_result"
    }
   ],
   "source": [
    "sorted(scores, reverse=True)"
   ]
  },
  {
   "cell_type": "markdown",
   "metadata": {},
   "source": [
    "#### The maximum test set score achieved by trying the Random forest with 10 - 190 estimators is only 59% but where as by DTree we can get upto 61.3%"
   ]
  },
  {
   "cell_type": "markdown",
   "metadata": {},
   "source": [
    "#### Now considering the transactions with Total_Units > 20 and applying all the above models in the same way as above"
   ]
  },
  {
   "cell_type": "code",
   "execution_count": 273,
   "metadata": {},
   "outputs": [
    {
     "data": {
      "text/plain": [
       "(52916, 8)"
      ]
     },
     "execution_count": 273,
     "metadata": {},
     "output_type": "execute_result"
    }
   ],
   "source": [
    "tmc_maindata4 = tmc_group[tmc_group['Total_Units']>20]\n",
    "tmc_maindata4.shape"
   ]
  },
  {
   "cell_type": "code",
   "execution_count": 274,
   "metadata": {},
   "outputs": [
    {
     "data": {
      "text/plain": [
       "<matplotlib.axes._subplots.AxesSubplot at 0x25f6f5d1940>"
      ]
     },
     "execution_count": 274,
     "metadata": {},
     "output_type": "execute_result"
    },
    {
     "data": {
      "image/png": "[encoded data removed]",
      "text/plain": [
       "<Figure size 432x288 with 1 Axes>"
      ]
     },
     "metadata": {
      "needs_background": "light"
     },
     "output_type": "display_data"
    }
   ],
   "source": [
    "tmc_maindata4['season'].value_counts().plot(kind='bar')"
   ]
  },
  {
   "cell_type": "code",
   "execution_count": 275,
   "metadata": {},
   "outputs": [
    {
     "data": {
      "text/plain": [
       "<matplotlib.axes._subplots.AxesSubplot at 0x25f8d33a860>"
      ]
     },
     "execution_count": 275,
     "metadata": {},
     "output_type": "execute_result"
    },
    {
     "data": {
      "image/png": "[encoded data removed]",
      "text/plain": [
       "<Figure size 432x288 with 1 Axes>"
      ]
     },
     "metadata": {
      "needs_background": "light"
     },
     "output_type": "display_data"
    }
   ],
   "source": [
    "tmc_maindata4['Store_Type'].value_counts().plot(kind='bar')"
   ]
  },
  {
   "cell_type": "code",
   "execution_count": 277,
   "metadata": {},
   "outputs": [
    {
     "data": {
      "text/plain": [
       "<matplotlib.axes._subplots.AxesSubplot at 0x25f8d467cf8>"
      ]
     },
     "execution_count": 277,
     "metadata": {},
     "output_type": "execute_result"
    },
    {
     "data": {
      "image/png": "[encoded data removed]",
      "text/plain": [
       "<Figure size 432x288 with 1 Axes>"
      ]
     },
     "metadata": {
      "needs_background": "light"
     },
     "output_type": "display_data"
    }
   ],
   "source": [
    "tmc_maindata4['Dsubclass'].value_counts().plot(kind='bar')"
   ]
  },
  {
   "cell_type": "code",
   "execution_count": 279,
   "metadata": {},
   "outputs": [],
   "source": [
    "pp.ProfileReport(tmc_maindata4).to_file(outputfile=\"./tmc_maindata4.html\")"
   ]
  },
  {
   "cell_type": "code",
   "execution_count": 188,
   "metadata": {},
   "outputs": [
    {
     "data": {
      "text/plain": [
       "(52916, 89)"
      ]
     },
     "execution_count": 188,
     "metadata": {},
     "output_type": "execute_result"
    }
   ],
   "source": [
    "tmc_maindata4 = pd.get_dummies(tmc_maindata4, columns= ['Dsubclass', 'Store_Type', 'season', 'State'])\n",
    "tmc_maindata4.drop(['Dsubclass_1252','Store_Type_Downtown Store','season_summer','State_ME'], axis=1, inplace=True)\n",
    "tmctarget4 =tmc_maindata4['Unit_Sales_Price']\n",
    "tmc_maindata4.drop(['Dbsku','Unit_Sales_Price'],axis=1,inplace=True)\n",
    "tmc_maindata4['Total_Units'] = np.log(tmc_maindata4['Total_Units'])\n",
    "tmc_maindata4.shape"
   ]
  },
  {
   "cell_type": "code",
   "execution_count": 189,
   "metadata": {},
   "outputs": [],
   "source": [
    "tmc_sel_feat4= tmc_maindata4[['Full_Price_Ind','season_spring','Total_Units','season_winter','season_fall','Dsubclass_1020',\n",
    "                             'Dsubclass_1050','Dsubclass_1031','Dsubclass_1240','Dsubclass_1250','Dsubclass_1051',\n",
    "                             'Dsubclass_1220','Dsubclass_1052','Dsubclass_1242','Store_Type_Power Strip','Store_Type_Strip Store',\n",
    "                             'Dsubclass_1042','Dsubclass_105','Dsubclass_1251','Dsubclass_1241','Dsubclass_1021','Dsubclass_125',\n",
    "                             'Dsubclass_106','Store_Type_Outlet Strip','Dsubclass_1232','Dsubclass_1040','State_FL',\n",
    "                             'Dsubclass_1230','Dsubclass_1032','State_NY','State_TX','Dsubclass_1041','Store_Type_Regional Mall',\n",
    "                             'Dsubclass_1030','State_CA','Dsubclass_1231','State_NJ','State_IL','State_AZ',\n",
    "                             'Store_Type_Outlet Mall','Store_Type_Tourist Outlet Strip','Dsubclass_1221',\n",
    "                             'Store_Type_Mega Outlet Mall']]\n",
    "tmc_sel_feat4 = tmc_sel_feat4.drop(['Dsubclass_105','Dsubclass_106','State_NY','State_NJ','Store_Type_Outlet Mall',\n",
    "                                   'Store_Type_Mega Outlet Mall','Dsubclass_1250','State_IL'],axis=1)"
   ]
  },
  {
   "cell_type": "code",
   "execution_count": 190,
   "metadata": {
    "scrolled": true
   },
   "outputs": [
    {
     "data": {
      "image/png": "[encoded data removed]",
      "text/plain": [
       "<Figure size 432x288 with 1 Axes>"
      ]
     },
     "metadata": {
      "needs_background": "light"
     },
     "output_type": "display_data"
    }
   ],
   "source": [
    "x = tmc_maindata4['Total_Units']\n",
    "y = tmctarget4\n",
    "plt.scatter(x, y, alpha=0.5)\n",
    "plt.xlabel('Quantity')\n",
    "plt.ylabel('Price')\n",
    "plt.show()"
   ]
  },
  {
   "cell_type": "markdown",
   "metadata": {},
   "source": [
    "#### OLS"
   ]
  },
  {
   "cell_type": "code",
   "execution_count": 191,
   "metadata": {},
   "outputs": [
    {
     "name": "stderr",
     "output_type": "stream",
     "text": [
      "C:\\Users\\ajayi\\AppData\\Local\\Continuum\\anaconda3\\lib\\site-packages\\numpy\\core\\fromnumeric.py:2389: FutureWarning: Method .ptp is deprecated and will be removed in a future version. Use numpy.ptp instead.\n",
      "  return ptp(axis=axis, out=out, **kwargs)\n"
     ]
    },
    {
     "data": {
      "text/html": [
       "<table class=\"simpletable\">\n",
       "<caption>OLS Regression Results</caption>\n",
       "<tr>\n",
       "  <th>Dep. Variable:</th>    <td>Unit_Sales_Price</td> <th>  R-squared:         </th>  <td>   0.618</td>  \n",
       "</tr>\n",
       "<tr>\n",
       "  <th>Model:</th>                   <td>OLS</td>       <th>  Adj. R-squared:    </th>  <td>   0.617</td>  \n",
       "</tr>\n",
       "<tr>\n",
       "  <th>Method:</th>             <td>Least Squares</td>  <th>  F-statistic:       </th>  <td>   1708.</td>  \n",
       "</tr>\n",
       "<tr>\n",
       "  <th>Date:</th>             <td>Thu, 09 May 2019</td> <th>  Prob (F-statistic):</th>   <td>  0.00</td>   \n",
       "</tr>\n",
       "<tr>\n",
       "  <th>Time:</th>                 <td>05:37:06</td>     <th>  Log-Likelihood:    </th> <td>-1.2656e+05</td>\n",
       "</tr>\n",
       "<tr>\n",
       "  <th>No. Observations:</th>      <td> 37041</td>      <th>  AIC:               </th>  <td>2.532e+05</td> \n",
       "</tr>\n",
       "<tr>\n",
       "  <th>Df Residuals:</th>          <td> 37005</td>      <th>  BIC:               </th>  <td>2.535e+05</td> \n",
       "</tr>\n",
       "<tr>\n",
       "  <th>Df Model:</th>              <td>    35</td>      <th>                     </th>      <td> </td>     \n",
       "</tr>\n",
       "<tr>\n",
       "  <th>Covariance Type:</th>      <td>nonrobust</td>    <th>                     </th>      <td> </td>     \n",
       "</tr>\n",
       "</table>\n",
       "<table class=\"simpletable\">\n",
       "<tr>\n",
       "                 <td></td>                    <th>coef</th>     <th>std err</th>      <th>t</th>      <th>P>|t|</th>  <th>[0.025</th>    <th>0.975]</th>  \n",
       "</tr>\n",
       "<tr>\n",
       "  <th>const</th>                           <td>   30.7223</td> <td>    0.430</td> <td>   71.448</td> <td> 0.000</td> <td>   29.879</td> <td>   31.565</td>\n",
       "</tr>\n",
       "<tr>\n",
       "  <th>Full_Price_Ind</th>                  <td>   16.7884</td> <td>    0.082</td> <td>  205.689</td> <td> 0.000</td> <td>   16.628</td> <td>   16.948</td>\n",
       "</tr>\n",
       "<tr>\n",
       "  <th>season_spring</th>                   <td>    5.4512</td> <td>    0.097</td> <td>   56.369</td> <td> 0.000</td> <td>    5.262</td> <td>    5.641</td>\n",
       "</tr>\n",
       "<tr>\n",
       "  <th>Total_Units</th>                     <td>   -0.1522</td> <td>    0.102</td> <td>   -1.491</td> <td> 0.136</td> <td>   -0.352</td> <td>    0.048</td>\n",
       "</tr>\n",
       "<tr>\n",
       "  <th>season_winter</th>                   <td>    0.2022</td> <td>    0.125</td> <td>    1.616</td> <td> 0.106</td> <td>   -0.043</td> <td>    0.447</td>\n",
       "</tr>\n",
       "<tr>\n",
       "  <th>season_fall</th>                     <td>    4.2465</td> <td>    0.109</td> <td>   39.026</td> <td> 0.000</td> <td>    4.033</td> <td>    4.460</td>\n",
       "</tr>\n",
       "<tr>\n",
       "  <th>Dsubclass_1020</th>                  <td>    1.4903</td> <td>    0.139</td> <td>   10.709</td> <td> 0.000</td> <td>    1.218</td> <td>    1.763</td>\n",
       "</tr>\n",
       "<tr>\n",
       "  <th>Dsubclass_1050</th>                  <td>   -3.4881</td> <td>    0.213</td> <td>  -16.389</td> <td> 0.000</td> <td>   -3.905</td> <td>   -3.071</td>\n",
       "</tr>\n",
       "<tr>\n",
       "  <th>Dsubclass_1031</th>                  <td>   -0.7749</td> <td>    0.229</td> <td>   -3.389</td> <td> 0.001</td> <td>   -1.223</td> <td>   -0.327</td>\n",
       "</tr>\n",
       "<tr>\n",
       "  <th>Dsubclass_1240</th>                  <td>   10.6023</td> <td>    0.245</td> <td>   43.190</td> <td> 0.000</td> <td>   10.121</td> <td>   11.083</td>\n",
       "</tr>\n",
       "<tr>\n",
       "  <th>Dsubclass_1051</th>                  <td>   -7.1156</td> <td>    0.265</td> <td>  -26.848</td> <td> 0.000</td> <td>   -7.635</td> <td>   -6.596</td>\n",
       "</tr>\n",
       "<tr>\n",
       "  <th>Dsubclass_1220</th>                  <td>    7.0601</td> <td>    0.179</td> <td>   39.368</td> <td> 0.000</td> <td>    6.709</td> <td>    7.412</td>\n",
       "</tr>\n",
       "<tr>\n",
       "  <th>Dsubclass_1052</th>                  <td>  -14.8094</td> <td>    0.434</td> <td>  -34.104</td> <td> 0.000</td> <td>  -15.661</td> <td>  -13.958</td>\n",
       "</tr>\n",
       "<tr>\n",
       "  <th>Dsubclass_1242</th>                  <td>   11.5816</td> <td>    0.305</td> <td>   38.024</td> <td> 0.000</td> <td>   10.985</td> <td>   12.179</td>\n",
       "</tr>\n",
       "<tr>\n",
       "  <th>Store_Type_Power Strip</th>          <td>   -0.5339</td> <td>    0.253</td> <td>   -2.111</td> <td> 0.035</td> <td>   -1.029</td> <td>   -0.038</td>\n",
       "</tr>\n",
       "<tr>\n",
       "  <th>Store_Type_Strip Store</th>          <td>   -0.5567</td> <td>    0.247</td> <td>   -2.258</td> <td> 0.024</td> <td>   -1.040</td> <td>   -0.073</td>\n",
       "</tr>\n",
       "<tr>\n",
       "  <th>Dsubclass_1042</th>                  <td>    6.1084</td> <td>    0.191</td> <td>   31.996</td> <td> 0.000</td> <td>    5.734</td> <td>    6.483</td>\n",
       "</tr>\n",
       "<tr>\n",
       "  <th>Dsubclass_1251</th>                  <td>   -4.4788</td> <td>    0.290</td> <td>  -15.433</td> <td> 0.000</td> <td>   -5.048</td> <td>   -3.910</td>\n",
       "</tr>\n",
       "<tr>\n",
       "  <th>Dsubclass_1241</th>                  <td>    8.8455</td> <td>    0.320</td> <td>   27.637</td> <td> 0.000</td> <td>    8.218</td> <td>    9.473</td>\n",
       "</tr>\n",
       "<tr>\n",
       "  <th>Dsubclass_1021</th>                  <td>    1.4895</td> <td>    0.191</td> <td>    7.815</td> <td> 0.000</td> <td>    1.116</td> <td>    1.863</td>\n",
       "</tr>\n",
       "<tr>\n",
       "  <th>Dsubclass_125</th>                   <td>    2.7395</td> <td>    0.440</td> <td>    6.227</td> <td> 0.000</td> <td>    1.877</td> <td>    3.602</td>\n",
       "</tr>\n",
       "<tr>\n",
       "  <th>Store_Type_Outlet Strip</th>         <td>   -0.7320</td> <td>    0.286</td> <td>   -2.559</td> <td> 0.010</td> <td>   -1.293</td> <td>   -0.171</td>\n",
       "</tr>\n",
       "<tr>\n",
       "  <th>Dsubclass_1232</th>                  <td>    8.5676</td> <td>    0.454</td> <td>   18.892</td> <td> 0.000</td> <td>    7.679</td> <td>    9.456</td>\n",
       "</tr>\n",
       "<tr>\n",
       "  <th>Dsubclass_1040</th>                  <td>    3.6180</td> <td>    0.189</td> <td>   19.107</td> <td> 0.000</td> <td>    3.247</td> <td>    3.989</td>\n",
       "</tr>\n",
       "<tr>\n",
       "  <th>State_FL</th>                        <td>   -0.4542</td> <td>    0.166</td> <td>   -2.743</td> <td> 0.006</td> <td>   -0.779</td> <td>   -0.130</td>\n",
       "</tr>\n",
       "<tr>\n",
       "  <th>Dsubclass_1230</th>                  <td>    5.4188</td> <td>    0.331</td> <td>   16.356</td> <td> 0.000</td> <td>    4.769</td> <td>    6.068</td>\n",
       "</tr>\n",
       "<tr>\n",
       "  <th>Dsubclass_1032</th>                  <td>    2.5848</td> <td>    0.226</td> <td>   11.439</td> <td> 0.000</td> <td>    2.142</td> <td>    3.028</td>\n",
       "</tr>\n",
       "<tr>\n",
       "  <th>State_TX</th>                        <td>   -0.2971</td> <td>    0.123</td> <td>   -2.408</td> <td> 0.016</td> <td>   -0.539</td> <td>   -0.055</td>\n",
       "</tr>\n",
       "<tr>\n",
       "  <th>Dsubclass_1041</th>                  <td>    4.9477</td> <td>    0.214</td> <td>   23.098</td> <td> 0.000</td> <td>    4.528</td> <td>    5.367</td>\n",
       "</tr>\n",
       "<tr>\n",
       "  <th>Store_Type_Regional Mall</th>        <td>   -1.7156</td> <td>    0.566</td> <td>   -3.034</td> <td> 0.002</td> <td>   -2.824</td> <td>   -0.607</td>\n",
       "</tr>\n",
       "<tr>\n",
       "  <th>Dsubclass_1030</th>                  <td>   -0.4933</td> <td>    0.311</td> <td>   -1.586</td> <td> 0.113</td> <td>   -1.103</td> <td>    0.116</td>\n",
       "</tr>\n",
       "<tr>\n",
       "  <th>State_CA</th>                        <td>   -0.3453</td> <td>    0.126</td> <td>   -2.741</td> <td> 0.006</td> <td>   -0.592</td> <td>   -0.098</td>\n",
       "</tr>\n",
       "<tr>\n",
       "  <th>Dsubclass_1231</th>                  <td>    5.2940</td> <td>    0.329</td> <td>   16.096</td> <td> 0.000</td> <td>    4.649</td> <td>    5.939</td>\n",
       "</tr>\n",
       "<tr>\n",
       "  <th>State_AZ</th>                        <td>   -4.2446</td> <td>    1.311</td> <td>   -3.238</td> <td> 0.001</td> <td>   -6.814</td> <td>   -1.675</td>\n",
       "</tr>\n",
       "<tr>\n",
       "  <th>Store_Type_Tourist Outlet Strip</th> <td>    0.1520</td> <td>    2.026</td> <td>    0.075</td> <td> 0.940</td> <td>   -3.818</td> <td>    4.122</td>\n",
       "</tr>\n",
       "<tr>\n",
       "  <th>Dsubclass_1221</th>                  <td>    7.0992</td> <td>    0.392</td> <td>   18.093</td> <td> 0.000</td> <td>    6.330</td> <td>    7.868</td>\n",
       "</tr>\n",
       "</table>\n",
       "<table class=\"simpletable\">\n",
       "<tr>\n",
       "  <th>Omnibus:</th>       <td>43.157</td> <th>  Durbin-Watson:     </th> <td>   2.021</td>\n",
       "</tr>\n",
       "<tr>\n",
       "  <th>Prob(Omnibus):</th> <td> 0.000</td> <th>  Jarque-Bera (JB):  </th> <td>  43.271</td>\n",
       "</tr>\n",
       "<tr>\n",
       "  <th>Skew:</th>          <td>-0.083</td> <th>  Prob(JB):          </th> <td>4.02e-10</td>\n",
       "</tr>\n",
       "<tr>\n",
       "  <th>Kurtosis:</th>      <td> 3.014</td> <th>  Cond. No.          </th> <td>    201.</td>\n",
       "</tr>\n",
       "</table><br/><br/>Warnings:<br/>[1] Standard Errors assume that the covariance matrix of the errors is correctly specified."
      ],
      "text/plain": [
       "<class 'statsmodels.iolib.summary.Summary'>\n",
       "\"\"\"\n",
       "                            OLS Regression Results                            \n",
       "==============================================================================\n",
       "Dep. Variable:       Unit_Sales_Price   R-squared:                       0.618\n",
       "Model:                            OLS   Adj. R-squared:                  0.617\n",
       "Method:                 Least Squares   F-statistic:                     1708.\n",
       "Date:                Thu, 09 May 2019   Prob (F-statistic):               0.00\n",
       "Time:                        05:37:06   Log-Likelihood:            -1.2656e+05\n",
       "No. Observations:               37041   AIC:                         2.532e+05\n",
       "Df Residuals:                   37005   BIC:                         2.535e+05\n",
       "Df Model:                          35                                         \n",
       "Covariance Type:            nonrobust                                         \n",
       "===================================================================================================\n",
       "                                      coef    std err          t      P>|t|      [0.025      0.975]\n",
       "---------------------------------------------------------------------------------------------------\n",
       "const                              30.7223      0.430     71.448      0.000      29.879      31.565\n",
       "Full_Price_Ind                     16.7884      0.082    205.689      0.000      16.628      16.948\n",
       "season_spring                       5.4512      0.097     56.369      0.000       5.262       5.641\n",
       "Total_Units                        -0.1522      0.102     -1.491      0.136      -0.352       0.048\n",
       "season_winter                       0.2022      0.125      1.616      0.106      -0.043       0.447\n",
       "season_fall                         4.2465      0.109     39.026      0.000       4.033       4.460\n",
       "Dsubclass_1020                      1.4903      0.139     10.709      0.000       1.218       1.763\n",
       "Dsubclass_1050                     -3.4881      0.213    -16.389      0.000      -3.905      -3.071\n",
       "Dsubclass_1031                     -0.7749      0.229     -3.389      0.001      -1.223      -0.327\n",
       "Dsubclass_1240                     10.6023      0.245     43.190      0.000      10.121      11.083\n",
       "Dsubclass_1051                     -7.1156      0.265    -26.848      0.000      -7.635      -6.596\n",
       "Dsubclass_1220                      7.0601      0.179     39.368      0.000       6.709       7.412\n",
       "Dsubclass_1052                    -14.8094      0.434    -34.104      0.000     -15.661     -13.958\n",
       "Dsubclass_1242                     11.5816      0.305     38.024      0.000      10.985      12.179\n",
       "Store_Type_Power Strip             -0.5339      0.253     -2.111      0.035      -1.029      -0.038\n",
       "Store_Type_Strip Store             -0.5567      0.247     -2.258      0.024      -1.040      -0.073\n",
       "Dsubclass_1042                      6.1084      0.191     31.996      0.000       5.734       6.483\n",
       "Dsubclass_1251                     -4.4788      0.290    -15.433      0.000      -5.048      -3.910\n",
       "Dsubclass_1241                      8.8455      0.320     27.637      0.000       8.218       9.473\n",
       "Dsubclass_1021                      1.4895      0.191      7.815      0.000       1.116       1.863\n",
       "Dsubclass_125                       2.7395      0.440      6.227      0.000       1.877       3.602\n",
       "Store_Type_Outlet Strip            -0.7320      0.286     -2.559      0.010      -1.293      -0.171\n",
       "Dsubclass_1232                      8.5676      0.454     18.892      0.000       7.679       9.456\n",
       "Dsubclass_1040                      3.6180      0.189     19.107      0.000       3.247       3.989\n",
       "State_FL                           -0.4542      0.166     -2.743      0.006      -0.779      -0.130\n",
       "Dsubclass_1230                      5.4188      0.331     16.356      0.000       4.769       6.068\n",
       "Dsubclass_1032                      2.5848      0.226     11.439      0.000       2.142       3.028\n",
       "State_TX                           -0.2971      0.123     -2.408      0.016      -0.539      -0.055\n",
       "Dsubclass_1041                      4.9477      0.214     23.098      0.000       4.528       5.367\n",
       "Store_Type_Regional Mall           -1.7156      0.566     -3.034      0.002      -2.824      -0.607\n",
       "Dsubclass_1030                     -0.4933      0.311     -1.586      0.113      -1.103       0.116\n",
       "State_CA                           -0.3453      0.126     -2.741      0.006      -0.592      -0.098\n",
       "Dsubclass_1231                      5.2940      0.329     16.096      0.000       4.649       5.939\n",
       "State_AZ                           -4.2446      1.311     -3.238      0.001      -6.814      -1.675\n",
       "Store_Type_Tourist Outlet Strip     0.1520      2.026      0.075      0.940      -3.818       4.122\n",
       "Dsubclass_1221                      7.0992      0.392     18.093      0.000       6.330       7.868\n",
       "==============================================================================\n",
       "Omnibus:                       43.157   Durbin-Watson:                   2.021\n",
       "Prob(Omnibus):                  0.000   Jarque-Bera (JB):               43.271\n",
       "Skew:                          -0.083   Prob(JB):                     4.02e-10\n",
       "Kurtosis:                       3.014   Cond. No.                         201.\n",
       "==============================================================================\n",
       "\n",
       "Warnings:\n",
       "[1] Standard Errors assume that the covariance matrix of the errors is correctly specified.\n",
       "\"\"\""
      ]
     },
     "execution_count": 191,
     "metadata": {},
     "output_type": "execute_result"
    }
   ],
   "source": [
    "X_train, X_test, Y_train, Y_test = train_test_split(tmc_sel_feat4, tmctarget4, test_size = 0.3,\\\n",
    "                                                    random_state=212)\n",
    "X_train = sm.add_constant(X_train)\n",
    "lm_4 = sm.OLS(Y_train, X_train).fit()\n",
    "lm_4.summary()"
   ]
  },
  {
   "cell_type": "markdown",
   "metadata": {},
   "source": [
    "#### DTreeRegressor"
   ]
  },
  {
   "cell_type": "code",
   "execution_count": 192,
   "metadata": {},
   "outputs": [],
   "source": [
    "X_train, X_test, Y_train, Y_test = train_test_split(tmc_sel_feat4, tmctarget4, test_size = 0.3,\\\n",
    "                                                    random_state=212)"
   ]
  },
  {
   "cell_type": "code",
   "execution_count": 193,
   "metadata": {},
   "outputs": [
    {
     "name": "stdout",
     "output_type": "stream",
     "text": [
      "maxFeat, maxDepth, R-sqrd--> 35 22 0.5596632521552644\n",
      "maxFeat, maxDepth, R-sqrd--> 35 21 0.5687951634284789\n",
      "maxFeat, maxDepth, R-sqrd--> 35 20 0.5775155450054518\n",
      "maxFeat, maxDepth, R-sqrd--> 35 19 0.583202936649716\n",
      "maxFeat, maxDepth, R-sqrd--> 35 18 0.5938172925419181\n",
      "maxFeat, maxDepth, R-sqrd--> 35 17 0.5972800086353487\n",
      "maxFeat, maxDepth, R-sqrd--> 35 16 0.6054041278035027\n",
      "maxFeat, maxDepth, R-sqrd--> 35 15 0.6088434349062382\n",
      "maxFeat, maxDepth, R-sqrd--> 35 14 0.6139326855318811\n",
      "maxFeat, maxDepth, R-sqrd--> 35 13 0.6166057582734777\n",
      "maxFeat, maxDepth, R-sqrd--> 35 12 0.6172500239391704\n",
      "maxFeat, maxDepth, R-sqrd--> 35 11 0.6179929410886303\n",
      "maxFeat, maxDepth, R-sqrd--> 35 10 0.6168708845912125\n",
      "maxFeat, maxDepth, R-sqrd--> 35 9 0.6139879299614318\n",
      "maxFeat, maxDepth, R-sqrd--> 35 8 0.6101187533345217\n",
      "maxFeat, maxDepth, R-sqrd--> 34 22 0.5596388143708444\n",
      "maxFeat, maxDepth, R-sqrd--> 34 21 0.5705238295533585\n",
      "maxFeat, maxDepth, R-sqrd--> 34 20 0.5758328323929515\n",
      "maxFeat, maxDepth, R-sqrd--> 34 19 0.5855488904632202\n",
      "maxFeat, maxDepth, R-sqrd--> 34 18 0.5940103279694962\n",
      "maxFeat, maxDepth, R-sqrd--> 34 17 0.5981782757457981\n",
      "maxFeat, maxDepth, R-sqrd--> 34 16 0.6067128506781028\n",
      "maxFeat, maxDepth, R-sqrd--> 34 15 0.6087128964855231\n",
      "maxFeat, maxDepth, R-sqrd--> 34 14 0.614961774876718\n",
      "maxFeat, maxDepth, R-sqrd--> 34 13 0.6197378483119766\n",
      "maxFeat, maxDepth, R-sqrd--> 34 12 0.6139946420000237\n",
      "maxFeat, maxDepth, R-sqrd--> 34 11 0.6164152813406398\n",
      "maxFeat, maxDepth, R-sqrd--> 34 10 0.6175001626201868\n",
      "maxFeat, maxDepth, R-sqrd--> 34 9 0.613963770474918\n",
      "maxFeat, maxDepth, R-sqrd--> 34 8 0.6102932173827683\n",
      "maxFeat, maxDepth, R-sqrd--> 33 22 0.5625292813882228\n",
      "maxFeat, maxDepth, R-sqrd--> 33 21 0.5681710400193025\n",
      "maxFeat, maxDepth, R-sqrd--> 33 20 0.5786098623580376\n",
      "maxFeat, maxDepth, R-sqrd--> 33 19 0.5876806841898646\n",
      "maxFeat, maxDepth, R-sqrd--> 33 18 0.5945543373090867\n",
      "maxFeat, maxDepth, R-sqrd--> 33 17 0.5980617322831693\n",
      "maxFeat, maxDepth, R-sqrd--> 33 16 0.606112238833078\n",
      "maxFeat, maxDepth, R-sqrd--> 33 15 0.6096452416799489\n",
      "maxFeat, maxDepth, R-sqrd--> 33 14 0.6134687296833498\n",
      "maxFeat, maxDepth, R-sqrd--> 33 13 0.6169159182678962\n",
      "maxFeat, maxDepth, R-sqrd--> 33 12 0.6197929796976026\n",
      "maxFeat, maxDepth, R-sqrd--> 33 11 0.6150288892588845\n",
      "maxFeat, maxDepth, R-sqrd--> 33 10 0.618732614304486\n",
      "maxFeat, maxDepth, R-sqrd--> 33 9 0.6155836119949512\n",
      "maxFeat, maxDepth, R-sqrd--> 33 8 0.6057870761927533\n",
      "maxFeat, maxDepth, R-sqrd--> 32 22 0.5593979146728218\n",
      "maxFeat, maxDepth, R-sqrd--> 32 21 0.5709687207709129\n",
      "maxFeat, maxDepth, R-sqrd--> 32 20 0.5799339569003489\n",
      "maxFeat, maxDepth, R-sqrd--> 32 19 0.5843090306708034\n",
      "maxFeat, maxDepth, R-sqrd--> 32 18 0.5907042659614048\n",
      "maxFeat, maxDepth, R-sqrd--> 32 17 0.600931069934546\n",
      "maxFeat, maxDepth, R-sqrd--> 32 16 0.605651074563793\n",
      "maxFeat, maxDepth, R-sqrd--> 32 15 0.6105763836945199\n",
      "maxFeat, maxDepth, R-sqrd--> 32 14 0.6090777500753093\n",
      "maxFeat, maxDepth, R-sqrd--> 32 13 0.6136027840420297\n",
      "maxFeat, maxDepth, R-sqrd--> 32 12 0.6167927490573282\n",
      "maxFeat, maxDepth, R-sqrd--> 32 11 0.6171392191496696\n",
      "maxFeat, maxDepth, R-sqrd--> 32 10 0.6129245249278066\n",
      "maxFeat, maxDepth, R-sqrd--> 32 9 0.6131237464638524\n",
      "maxFeat, maxDepth, R-sqrd--> 32 8 0.6087229204919737\n",
      "maxFeat, maxDepth, R-sqrd--> 31 22 0.5645794583735799\n",
      "maxFeat, maxDepth, R-sqrd--> 31 21 0.5694567436611426\n",
      "maxFeat, maxDepth, R-sqrd--> 31 20 0.5846763763619821\n",
      "maxFeat, maxDepth, R-sqrd--> 31 19 0.5863308033074601\n",
      "maxFeat, maxDepth, R-sqrd--> 31 18 0.5971293475967527\n",
      "maxFeat, maxDepth, R-sqrd--> 31 17 0.6004873949845873\n",
      "maxFeat, maxDepth, R-sqrd--> 31 16 0.6031662139884649\n",
      "maxFeat, maxDepth, R-sqrd--> 31 15 0.6140058049682653\n",
      "maxFeat, maxDepth, R-sqrd--> 31 14 0.616974401269968\n",
      "maxFeat, maxDepth, R-sqrd--> 31 13 0.6173705017910294\n",
      "maxFeat, maxDepth, R-sqrd--> 31 12 0.6171589534763597\n",
      "maxFeat, maxDepth, R-sqrd--> 31 11 0.6163252519056288\n",
      "maxFeat, maxDepth, R-sqrd--> 31 10 0.6188069579891843\n",
      "maxFeat, maxDepth, R-sqrd--> 31 9 0.611649552817709\n",
      "maxFeat, maxDepth, R-sqrd--> 31 8 0.6075445972775169\n",
      "maxFeat, maxDepth, R-sqrd--> 30 22 0.564576760982918\n",
      "maxFeat, maxDepth, R-sqrd--> 30 21 0.5731921655278194\n",
      "maxFeat, maxDepth, R-sqrd--> 30 20 0.5804175757461243\n",
      "maxFeat, maxDepth, R-sqrd--> 30 19 0.583778055885426\n",
      "maxFeat, maxDepth, R-sqrd--> 30 18 0.5931197568502092\n",
      "maxFeat, maxDepth, R-sqrd--> 30 17 0.5995001088880341\n",
      "maxFeat, maxDepth, R-sqrd--> 30 16 0.6039105481562643\n",
      "maxFeat, maxDepth, R-sqrd--> 30 15 0.606828332560557\n",
      "maxFeat, maxDepth, R-sqrd--> 30 14 0.6089014342748156\n",
      "maxFeat, maxDepth, R-sqrd--> 30 13 0.6109294833479133\n",
      "maxFeat, maxDepth, R-sqrd--> 30 12 0.6172537586429345\n",
      "maxFeat, maxDepth, R-sqrd--> 30 11 0.6194084344558285\n",
      "maxFeat, maxDepth, R-sqrd--> 30 10 0.6176816557210916\n",
      "maxFeat, maxDepth, R-sqrd--> 30 9 0.615291757086068\n",
      "maxFeat, maxDepth, R-sqrd--> 30 8 0.6059696079783027\n",
      "maxFeat, maxDepth, R-sqrd--> 29 22 0.5672676601329667\n",
      "maxFeat, maxDepth, R-sqrd--> 29 21 0.5716804633210482\n",
      "maxFeat, maxDepth, R-sqrd--> 29 20 0.577014789124603\n",
      "maxFeat, maxDepth, R-sqrd--> 29 19 0.589117088687984\n",
      "maxFeat, maxDepth, R-sqrd--> 29 18 0.595194610726659\n",
      "maxFeat, maxDepth, R-sqrd--> 29 17 0.5933952520997597\n",
      "maxFeat, maxDepth, R-sqrd--> 29 16 0.608070527709\n",
      "maxFeat, maxDepth, R-sqrd--> 29 15 0.6079806056065724\n",
      "maxFeat, maxDepth, R-sqrd--> 29 14 0.6114876234329332\n",
      "maxFeat, maxDepth, R-sqrd--> 29 13 0.6145348052344863\n",
      "maxFeat, maxDepth, R-sqrd--> 29 12 0.6196828540870174\n",
      "maxFeat, maxDepth, R-sqrd--> 29 11 0.617520078597674\n",
      "maxFeat, maxDepth, R-sqrd--> 29 10 0.6131695915004365\n",
      "maxFeat, maxDepth, R-sqrd--> 29 9 0.6132970480555229\n",
      "maxFeat, maxDepth, R-sqrd--> 29 8 0.6069253458177541\n",
      "maxFeat, maxDepth, R-sqrd--> 28 22 0.5690381568960865\n",
      "maxFeat, maxDepth, R-sqrd--> 28 21 0.5744164210133886\n",
      "maxFeat, maxDepth, R-sqrd--> 28 20 0.5784641952552813\n",
      "maxFeat, maxDepth, R-sqrd--> 28 19 0.5919423824251961\n",
      "maxFeat, maxDepth, R-sqrd--> 28 18 0.5924576124941561\n",
      "maxFeat, maxDepth, R-sqrd--> 28 17 0.5964969870057517\n",
      "maxFeat, maxDepth, R-sqrd--> 28 16 0.605757017154726\n",
      "maxFeat, maxDepth, R-sqrd--> 28 15 0.6092819818075184\n",
      "maxFeat, maxDepth, R-sqrd--> 28 14 0.6136398764395382\n",
      "maxFeat, maxDepth, R-sqrd--> 28 13 0.6138760093805069\n",
      "maxFeat, maxDepth, R-sqrd--> 28 12 0.620285520093883\n",
      "maxFeat, maxDepth, R-sqrd--> 28 11 0.620392394373914\n",
      "maxFeat, maxDepth, R-sqrd--> 28 10 0.6204806869874782\n",
      "maxFeat, maxDepth, R-sqrd--> 28 9 0.6179718861890809\n",
      "maxFeat, maxDepth, R-sqrd--> 28 8 0.6083242719517047\n",
      "maxFeat, maxDepth, R-sqrd--> 27 22 0.5596008168457844\n",
      "maxFeat, maxDepth, R-sqrd--> 27 21 0.5794509937334453\n",
      "maxFeat, maxDepth, R-sqrd--> 27 20 0.5852539773506306\n",
      "maxFeat, maxDepth, R-sqrd--> 27 19 0.5854576855279786\n",
      "maxFeat, maxDepth, R-sqrd--> 27 18 0.5959904272096155\n",
      "maxFeat, maxDepth, R-sqrd--> 27 17 0.6042743849054006\n",
      "maxFeat, maxDepth, R-sqrd--> 27 16 0.6105918508397434\n",
      "maxFeat, maxDepth, R-sqrd--> 27 15 0.6107117841298673\n",
      "maxFeat, maxDepth, R-sqrd--> 27 14 0.6117234932418474\n",
      "maxFeat, maxDepth, R-sqrd--> 27 13 0.6179011436589115\n",
      "maxFeat, maxDepth, R-sqrd--> 27 12 0.6146643780820649\n",
      "maxFeat, maxDepth, R-sqrd--> 27 11 0.6195548347978977\n",
      "maxFeat, maxDepth, R-sqrd--> 27 10 0.6155124451670733\n",
      "maxFeat, maxDepth, R-sqrd--> 27 9 0.6180330498760472\n",
      "maxFeat, maxDepth, R-sqrd--> 27 8 0.6040981247442303\n",
      "maxFeat, maxDepth, R-sqrd--> 26 22 0.5701650149264625\n",
      "maxFeat, maxDepth, R-sqrd--> 26 21 0.5753058912979566\n",
      "maxFeat, maxDepth, R-sqrd--> 26 20 0.582019947999744\n",
      "maxFeat, maxDepth, R-sqrd--> 26 19 0.5911646600409498\n",
      "maxFeat, maxDepth, R-sqrd--> 26 18 0.5957205421075378\n",
      "maxFeat, maxDepth, R-sqrd--> 26 17 0.6061746997345111\n",
      "maxFeat, maxDepth, R-sqrd--> 26 16 0.60552924013665\n",
      "maxFeat, maxDepth, R-sqrd--> 26 15 0.6043714193578174\n",
      "maxFeat, maxDepth, R-sqrd--> 26 14 0.616528781388985\n",
      "maxFeat, maxDepth, R-sqrd--> 26 13 0.6160104451315205\n",
      "maxFeat, maxDepth, R-sqrd--> 26 12 0.6101545267260551\n",
      "maxFeat, maxDepth, R-sqrd--> 26 11 0.6187418211303459\n",
      "maxFeat, maxDepth, R-sqrd--> 26 10 0.6156323231519445\n",
      "maxFeat, maxDepth, R-sqrd--> 26 9 0.6116063561493525\n",
      "maxFeat, maxDepth, R-sqrd--> 26 8 0.6023291914433859\n",
      "maxFeat, maxDepth, R-sqrd--> 25 22 0.5618731592711701\n",
      "maxFeat, maxDepth, R-sqrd--> 25 21 0.5680700272600856\n",
      "maxFeat, maxDepth, R-sqrd--> 25 20 0.5812785038761724\n"
     ]
    },
    {
     "name": "stdout",
     "output_type": "stream",
     "text": [
      "maxFeat, maxDepth, R-sqrd--> 25 19 0.5840504035688211\n",
      "maxFeat, maxDepth, R-sqrd--> 25 18 0.5956881579566606\n",
      "maxFeat, maxDepth, R-sqrd--> 25 17 0.6035292064223651\n",
      "maxFeat, maxDepth, R-sqrd--> 25 16 0.6049776413166712\n",
      "maxFeat, maxDepth, R-sqrd--> 25 15 0.610447153456324\n",
      "maxFeat, maxDepth, R-sqrd--> 25 14 0.6121236389219871\n",
      "maxFeat, maxDepth, R-sqrd--> 25 13 0.6121635321705615\n",
      "maxFeat, maxDepth, R-sqrd--> 25 12 0.6209954762724389\n",
      "maxFeat, maxDepth, R-sqrd--> 25 11 0.6198025173030175\n",
      "maxFeat, maxDepth, R-sqrd--> 25 10 0.6153357261855961\n",
      "maxFeat, maxDepth, R-sqrd--> 25 9 0.6103128809362216\n",
      "maxFeat, maxDepth, R-sqrd--> 25 8 0.6097981393945092\n",
      "maxFeat, maxDepth, R-sqrd--> 24 22 0.5615837309380669\n",
      "maxFeat, maxDepth, R-sqrd--> 24 21 0.5768558666155397\n",
      "maxFeat, maxDepth, R-sqrd--> 24 20 0.5881110512122469\n",
      "maxFeat, maxDepth, R-sqrd--> 24 19 0.5912627955796554\n",
      "maxFeat, maxDepth, R-sqrd--> 24 18 0.5985996087554968\n",
      "maxFeat, maxDepth, R-sqrd--> 24 17 0.5964282209081717\n",
      "maxFeat, maxDepth, R-sqrd--> 24 16 0.6024654505909053\n",
      "maxFeat, maxDepth, R-sqrd--> 24 15 0.6058963016751189\n",
      "maxFeat, maxDepth, R-sqrd--> 24 14 0.6153941892743737\n",
      "maxFeat, maxDepth, R-sqrd--> 24 13 0.6155397383343777\n",
      "maxFeat, maxDepth, R-sqrd--> 24 12 0.614500722947595\n",
      "maxFeat, maxDepth, R-sqrd--> 24 11 0.6219731105803098\n",
      "maxFeat, maxDepth, R-sqrd--> 24 10 0.6170816433263273\n",
      "maxFeat, maxDepth, R-sqrd--> 24 9 0.6097898594911126\n",
      "maxFeat, maxDepth, R-sqrd--> 24 8 0.6073579028131776\n",
      "maxFeat, maxDepth, R-sqrd--> 23 22 0.558833624899383\n",
      "maxFeat, maxDepth, R-sqrd--> 23 21 0.5728614178179496\n",
      "maxFeat, maxDepth, R-sqrd--> 23 20 0.5759331382574214\n",
      "maxFeat, maxDepth, R-sqrd--> 23 19 0.5796437236729022\n",
      "maxFeat, maxDepth, R-sqrd--> 23 18 0.5952558231584006\n",
      "maxFeat, maxDepth, R-sqrd--> 23 17 0.5956787836621237\n",
      "maxFeat, maxDepth, R-sqrd--> 23 16 0.6033466992139422\n",
      "maxFeat, maxDepth, R-sqrd--> 23 15 0.6011717996715376\n",
      "maxFeat, maxDepth, R-sqrd--> 23 14 0.6168530046548872\n",
      "maxFeat, maxDepth, R-sqrd--> 23 13 0.6197798139264326\n",
      "maxFeat, maxDepth, R-sqrd--> 23 12 0.6171836755141444\n",
      "maxFeat, maxDepth, R-sqrd--> 23 11 0.6186604498118617\n",
      "maxFeat, maxDepth, R-sqrd--> 23 10 0.6190596201180598\n",
      "maxFeat, maxDepth, R-sqrd--> 23 9 0.6181159429391518\n",
      "maxFeat, maxDepth, R-sqrd--> 23 8 0.6086130507197194\n",
      "maxFeat, maxDepth, R-sqrd--> 22 22 0.5632871190666607\n",
      "maxFeat, maxDepth, R-sqrd--> 22 21 0.5712168461482562\n",
      "maxFeat, maxDepth, R-sqrd--> 22 20 0.5821596502987227\n",
      "maxFeat, maxDepth, R-sqrd--> 22 19 0.5876537904120763\n",
      "maxFeat, maxDepth, R-sqrd--> 22 18 0.5944182553962265\n",
      "maxFeat, maxDepth, R-sqrd--> 22 17 0.6023493514269077\n",
      "maxFeat, maxDepth, R-sqrd--> 22 16 0.60874677945339\n",
      "maxFeat, maxDepth, R-sqrd--> 22 15 0.6076205387530118\n",
      "maxFeat, maxDepth, R-sqrd--> 22 14 0.6175361912986821\n",
      "maxFeat, maxDepth, R-sqrd--> 22 13 0.6084472678779969\n",
      "maxFeat, maxDepth, R-sqrd--> 22 12 0.6187145076112353\n",
      "maxFeat, maxDepth, R-sqrd--> 22 11 0.6182653123167988\n",
      "maxFeat, maxDepth, R-sqrd--> 22 10 0.610825385567719\n",
      "maxFeat, maxDepth, R-sqrd--> 22 9 0.611643996137247\n",
      "maxFeat, maxDepth, R-sqrd--> 22 8 0.6107020549127398\n",
      "maxFeat, maxDepth, R-sqrd--> 21 22 0.5727226315105238\n",
      "maxFeat, maxDepth, R-sqrd--> 21 21 0.578408144313325\n",
      "maxFeat, maxDepth, R-sqrd--> 21 20 0.5879192706442897\n",
      "maxFeat, maxDepth, R-sqrd--> 21 19 0.5925955256829383\n",
      "maxFeat, maxDepth, R-sqrd--> 21 18 0.5911782823663508\n",
      "maxFeat, maxDepth, R-sqrd--> 21 17 0.6002988090613044\n",
      "maxFeat, maxDepth, R-sqrd--> 21 16 0.5912951179557577\n",
      "maxFeat, maxDepth, R-sqrd--> 21 15 0.613254993077067\n",
      "maxFeat, maxDepth, R-sqrd--> 21 14 0.612044847149309\n",
      "maxFeat, maxDepth, R-sqrd--> 21 13 0.6123257497126776\n",
      "maxFeat, maxDepth, R-sqrd--> 21 12 0.6187661501937815\n",
      "maxFeat, maxDepth, R-sqrd--> 21 11 0.6202783043867324\n",
      "maxFeat, maxDepth, R-sqrd--> 21 10 0.612530779188434\n",
      "maxFeat, maxDepth, R-sqrd--> 21 9 0.6130416953192007\n",
      "maxFeat, maxDepth, R-sqrd--> 21 8 0.6049625094828681\n",
      "maxFeat, maxDepth, R-sqrd--> 20 22 0.564522215651468\n",
      "maxFeat, maxDepth, R-sqrd--> 20 21 0.5833779668097809\n",
      "maxFeat, maxDepth, R-sqrd--> 20 20 0.5888628236972839\n",
      "maxFeat, maxDepth, R-sqrd--> 20 19 0.592932990273668\n",
      "maxFeat, maxDepth, R-sqrd--> 20 18 0.596608430174156\n",
      "maxFeat, maxDepth, R-sqrd--> 20 17 0.6020259717337776\n",
      "maxFeat, maxDepth, R-sqrd--> 20 16 0.6069298582319214\n",
      "maxFeat, maxDepth, R-sqrd--> 20 15 0.6094815512045733\n",
      "maxFeat, maxDepth, R-sqrd--> 20 14 0.6165559323393851\n",
      "maxFeat, maxDepth, R-sqrd--> 20 13 0.6157664172457147\n",
      "maxFeat, maxDepth, R-sqrd--> 20 12 0.6253643360147177\n",
      "maxFeat, maxDepth, R-sqrd--> 20 11 0.6123713282482438\n",
      "maxFeat, maxDepth, R-sqrd--> 20 10 0.6105025690321375\n",
      "maxFeat, maxDepth, R-sqrd--> 20 9 0.6042137825125626\n",
      "maxFeat, maxDepth, R-sqrd--> 20 8 0.5932968520370734\n",
      "maxFeat, maxDepth, R-sqrd--> 19 22 0.5654712216889646\n",
      "maxFeat, maxDepth, R-sqrd--> 19 21 0.5758594964099097\n",
      "maxFeat, maxDepth, R-sqrd--> 19 20 0.5799746530573413\n",
      "maxFeat, maxDepth, R-sqrd--> 19 19 0.5825134703751151\n",
      "maxFeat, maxDepth, R-sqrd--> 19 18 0.5995191765011582\n",
      "maxFeat, maxDepth, R-sqrd--> 19 17 0.5905075673095792\n",
      "maxFeat, maxDepth, R-sqrd--> 19 16 0.604290365492113\n",
      "maxFeat, maxDepth, R-sqrd--> 19 15 0.6131619542867142\n",
      "maxFeat, maxDepth, R-sqrd--> 19 14 0.608360614164674\n",
      "maxFeat, maxDepth, R-sqrd--> 19 13 0.6123826934137936\n",
      "maxFeat, maxDepth, R-sqrd--> 19 12 0.6105057852052052\n",
      "maxFeat, maxDepth, R-sqrd--> 19 11 0.6200575420726268\n",
      "maxFeat, maxDepth, R-sqrd--> 19 10 0.6158520674647464\n",
      "maxFeat, maxDepth, R-sqrd--> 19 9 0.6130868542489344\n",
      "maxFeat, maxDepth, R-sqrd--> 19 8 0.6026917862079274\n"
     ]
    }
   ],
   "source": [
    "for maxf in range(35,18,-1):\n",
    "    for maxd in range(22,7,-1):\n",
    "        tmc_tree = DecisionTreeRegressor(max_depth=maxd,max_features=maxf)\n",
    "        tmc_tree.fit(X_train,Y_train)\n",
    "        print(\"maxFeat, maxDepth, R-sqrd-->\",maxf,maxd,r2_score(Y_test, tmc_tree.predict(X_test)))"
   ]
  },
  {
   "cell_type": "markdown",
   "metadata": {},
   "source": [
    "#### From the above DecisionTreeRegressor iterations, the below parameters gives the max R-Sqrd value of 62.5%"
   ]
  },
  {
   "cell_type": "markdown",
   "metadata": {},
   "source": [
    "- maxFeat, maxDepth, R-sqrd--> 20 -  12  - 0.6253643360147177"
   ]
  },
  {
   "cell_type": "markdown",
   "metadata": {},
   "source": [
    "#### Modelling with randomised RandomForestRegressor"
   ]
  },
  {
   "cell_type": "code",
   "execution_count": 195,
   "metadata": {},
   "outputs": [],
   "source": [
    "X_train, X_test, Y_train, Y_test = train_test_split(tmc_sel_feat4, tmctarget4, test_size = 0.3,\\\n",
    "                                                    random_state=212)"
   ]
  },
  {
   "cell_type": "code",
   "execution_count": 197,
   "metadata": {},
   "outputs": [
    {
     "name": "stdout",
     "output_type": "stream",
     "text": [
      "{'max_depth': [1, 23, 45],\n",
      " 'max_features': ['auto', 'sqrt'],\n",
      " 'min_samples_split': [5, 10],\n",
      " 'n_estimators': [20, 65, 110, 155, 200]}\n"
     ]
    }
   ],
   "source": [
    "#Randomised search\n",
    "\n",
    "from sklearn.model_selection import RandomizedSearchCV\n",
    "from pprint import pprint\n",
    "\n",
    "n_estimators = [int(x) for x in np.linspace(start = 20, stop = 200, num = 5)]\n",
    "max_features = ['auto', 'sqrt']\n",
    "max_depth = [int(x) for x in np.linspace(1, 45, num = 3)]\n",
    "min_samples_split = [5, 10]\n",
    "\n",
    "random_grid = {'n_estimators': n_estimators,\n",
    "               'max_features': max_features,\n",
    "               'max_depth': max_depth,\n",
    "               'min_samples_split': min_samples_split}\n",
    "\n",
    "pprint(random_grid)"
   ]
  },
  {
   "cell_type": "code",
   "execution_count": 196,
   "metadata": {},
   "outputs": [
    {
     "data": {
      "text/plain": [
       "((52916, 35), (52916,))"
      ]
     },
     "execution_count": 196,
     "metadata": {},
     "output_type": "execute_result"
    }
   ],
   "source": [
    "tmc_sel_feat4.shape,tmctarget4.shape"
   ]
  },
  {
   "cell_type": "code",
   "execution_count": null,
   "metadata": {},
   "outputs": [],
   "source": []
  },
  {
   "cell_type": "code",
   "execution_count": 198,
   "metadata": {},
   "outputs": [
    {
     "name": "stdout",
     "output_type": "stream",
     "text": [
      "Fitting 10 folds for each of 10 candidates, totalling 100 fits\n"
     ]
    },
    {
     "name": "stderr",
     "output_type": "stream",
     "text": [
      "[Parallel(n_jobs=-1)]: Using backend LokyBackend with 8 concurrent workers.\n",
      "[Parallel(n_jobs=-1)]: Done  25 tasks      | elapsed:   31.2s\n",
      "[Parallel(n_jobs=-1)]: Done 100 out of 100 | elapsed:  2.8min finished\n"
     ]
    },
    {
     "data": {
      "text/plain": [
       "RandomizedSearchCV(cv=10, error_score='raise-deprecating',\n",
       "          estimator=RandomForestRegressor(bootstrap=True, criterion='mse', max_depth=None,\n",
       "           max_features='auto', max_leaf_nodes=None,\n",
       "           min_impurity_decrease=0.0, min_impurity_split=None,\n",
       "           min_samples_leaf=1, min_samples_split=2,\n",
       "           min_weight_fraction_leaf=0.0, n_estimators=10, n_jobs=None,\n",
       "           oob_score=False, random_state=212, verbose=0, warm_start=False),\n",
       "          fit_params=None, iid='warn', n_iter=10, n_jobs=-1,\n",
       "          param_distributions={'n_estimators': [20, 65, 110, 155, 200], 'max_features': ['auto', 'sqrt'], 'max_depth': [1, 23, 45], 'min_samples_split': [5, 10]},\n",
       "          pre_dispatch='2*n_jobs', random_state=42, refit=True,\n",
       "          return_train_score='warn', scoring='neg_mean_squared_error',\n",
       "          verbose=2)"
      ]
     },
     "execution_count": 198,
     "metadata": {},
     "output_type": "execute_result"
    }
   ],
   "source": [
    "rf_random = RandomizedSearchCV(estimator = rfmodel, param_distributions = random_grid, n_iter = 10, cv = 10, verbose=2, random_state=42, n_jobs = -1, scoring='neg_mean_squared_error')\n",
    "rf_random.fit(X_train, Y_train)"
   ]
  },
  {
   "cell_type": "code",
   "execution_count": 199,
   "metadata": {},
   "outputs": [
    {
     "name": "stdout",
     "output_type": "stream",
     "text": [
      "8.786582629447814 {'n_estimators': 20, 'min_samples_split': 5, 'max_features': 'auto', 'max_depth': 1}\n",
      "8.786582629447814 {'n_estimators': 20, 'min_samples_split': 10, 'max_features': 'auto', 'max_depth': 1}\n",
      "7.055178425125187 {'n_estimators': 65, 'min_samples_split': 10, 'max_features': 'sqrt', 'max_depth': 23}\n",
      "7.269459571853742 {'n_estimators': 20, 'min_samples_split': 10, 'max_features': 'auto', 'max_depth': 45}\n",
      "11.061564813202668 {'n_estimators': 155, 'min_samples_split': 5, 'max_features': 'sqrt', 'max_depth': 1}\n",
      "7.4345595780030775 {'n_estimators': 200, 'min_samples_split': 5, 'max_features': 'sqrt', 'max_depth': 45}\n",
      "7.142750693694418 {'n_estimators': 155, 'min_samples_split': 5, 'max_features': 'sqrt', 'max_depth': 23}\n",
      "7.232150417989564 {'n_estimators': 155, 'min_samples_split': 10, 'max_features': 'auto', 'max_depth': 45}\n",
      "10.95681853599202 {'n_estimators': 110, 'min_samples_split': 5, 'max_features': 'sqrt', 'max_depth': 1}\n",
      "7.204431416546596 {'n_estimators': 110, 'min_samples_split': 10, 'max_features': 'sqrt', 'max_depth': 45}\n"
     ]
    }
   ],
   "source": [
    "cvres2 = rf_random.cv_results_\n",
    "for mean_score, params in zip(cvres2[\"mean_test_score\"], cvres2[\"params\"]):\n",
    "    print(np.sqrt(-mean_score), params)"
   ]
  },
  {
   "cell_type": "code",
   "execution_count": 200,
   "metadata": {},
   "outputs": [
    {
     "data": {
      "text/plain": [
       "RandomForestRegressor(bootstrap=True, criterion='mse', max_depth=23,\n",
       "           max_features='sqrt', max_leaf_nodes=None,\n",
       "           min_impurity_decrease=0.0, min_impurity_split=None,\n",
       "           min_samples_leaf=1, min_samples_split=10,\n",
       "           min_weight_fraction_leaf=0.0, n_estimators=65, n_jobs=None,\n",
       "           oob_score=False, random_state=212, verbose=0, warm_start=False)"
      ]
     },
     "execution_count": 200,
     "metadata": {},
     "output_type": "execute_result"
    }
   ],
   "source": [
    "rf_random.best_estimator_"
   ]
  },
  {
   "cell_type": "code",
   "execution_count": 201,
   "metadata": {},
   "outputs": [
    {
     "data": {
      "text/plain": [
       "{'n_estimators': 65,\n",
       " 'min_samples_split': 10,\n",
       " 'max_features': 'sqrt',\n",
       " 'max_depth': 23}"
      ]
     },
     "execution_count": 201,
     "metadata": {},
     "output_type": "execute_result"
    }
   ],
   "source": [
    "rf_random.best_params_"
   ]
  },
  {
   "cell_type": "code",
   "execution_count": 202,
   "metadata": {},
   "outputs": [
    {
     "name": "stdout",
     "output_type": "stream",
     "text": [
      "The best model from the randomized search has an accuracy of 86.52 %\n"
     ]
    }
   ],
   "source": [
    "random_best= rf_random.best_estimator_.predict(X_train)\n",
    "errors = abs(random_best - Y_train)\n",
    "\n",
    "mape = np.mean(100 * (errors / Y_train))\n",
    "accuracy = 100 - mape    \n",
    "print('The best model from the randomized search has an accuracy of', round(accuracy, 2),'%')"
   ]
  },
  {
   "cell_type": "code",
   "execution_count": 203,
   "metadata": {},
   "outputs": [
    {
     "name": "stdout",
     "output_type": "stream",
     "text": [
      "The best model from the randomized search has a RMSE of 6.3\n"
     ]
    }
   ],
   "source": [
    "final_mse = mean_squared_error(Y_train, random_best)\n",
    "final_rmse = np.sqrt(final_mse)\n",
    "print('The best model from the randomized search has a RMSE of', round(final_rmse, 2))"
   ]
  },
  {
   "cell_type": "markdown",
   "metadata": {},
   "source": [
    "#### Feature Importance"
   ]
  },
  {
   "cell_type": "code",
   "execution_count": 204,
   "metadata": {},
   "outputs": [
    {
     "name": "stdout",
     "output_type": "stream",
     "text": [
      "    importance                          feature\n",
      "0     0.616246                   Full_Price_Ind\n",
      "1     0.072474                      Total_Units\n",
      "2     0.055480                    season_spring\n",
      "3     0.025260                      season_fall\n",
      "4     0.022662                   Dsubclass_1240\n",
      "5     0.020089                   Dsubclass_1051\n",
      "6     0.018680                   Dsubclass_1052\n",
      "7     0.018159                   Dsubclass_1242\n",
      "8     0.017738                   Dsubclass_1220\n",
      "9     0.013095                   Dsubclass_1042\n",
      "10    0.012033                    season_winter\n",
      "11    0.011847                   Dsubclass_1050\n",
      "12    0.009087                   Dsubclass_1020\n",
      "13    0.008404                   Dsubclass_1241\n",
      "14    0.008393                   Dsubclass_1251\n",
      "15    0.008075                   Dsubclass_1031\n",
      "16    0.006435                         State_TX\n",
      "17    0.005675                   Dsubclass_1041\n",
      "18    0.005237                         State_CA\n",
      "19    0.004694          Store_Type_Outlet Strip\n",
      "20    0.004397                   Dsubclass_1021\n",
      "21    0.004205                   Dsubclass_1230\n",
      "22    0.004024           Store_Type_Power Strip\n",
      "23    0.004002           Store_Type_Strip Store\n",
      "24    0.003691                   Dsubclass_1040\n",
      "25    0.003468                    Dsubclass_125\n",
      "26    0.003453                         State_FL\n",
      "27    0.002961                   Dsubclass_1232\n",
      "28    0.002748                   Dsubclass_1221\n",
      "29    0.002505                   Dsubclass_1030\n",
      "30    0.002028                   Dsubclass_1231\n",
      "31    0.001485                   Dsubclass_1032\n",
      "32    0.000919         Store_Type_Regional Mall\n",
      "33    0.000247                         State_AZ\n",
      "34    0.000103  Store_Type_Tourist Outlet Strip\n"
     ]
    }
   ],
   "source": [
    "importances = rf_random.best_estimator_.feature_importances_\n",
    "X = tmc_sel_feat4\n",
    "feature_list = list(X.columns)\n",
    "feature_importance= sorted(zip(importances, feature_list), reverse=True)\n",
    "df = pd.DataFrame(feature_importance, columns=['importance', 'feature'])\n",
    "importance= list(df['importance'])\n",
    "feature= list(df['feature'])\n",
    "print(df)"
   ]
  },
  {
   "cell_type": "code",
   "execution_count": 205,
   "metadata": {},
   "outputs": [
    {
     "data": {
      "text/plain": [
       "Text(0.5,1,'Variable Importances')"
      ]
     },
     "execution_count": 205,
     "metadata": {},
     "output_type": "execute_result"
    },
    {
     "data": {
      "image/png": "[encoded data removed]",
      "text/plain": [
       "<Figure size 1080x720 with 1 Axes>"
      ]
     },
     "metadata": {
      "needs_background": "light"
     },
     "output_type": "display_data"
    }
   ],
   "source": [
    "plt.style.use('bmh')\n",
    "x_values = list(range(len(feature_importance)))\n",
    "plt.figure(figsize=(15,10))\n",
    "plt.bar(x_values, importance, orientation = 'vertical')\n",
    "plt.xticks(x_values, feature, rotation='vertical')\n",
    "plt.ylabel('Importance'); plt.xlabel('Variable'); plt.title('Variable Importances')"
   ]
  },
  {
   "cell_type": "code",
   "execution_count": 206,
   "metadata": {},
   "outputs": [
    {
     "name": "stdout",
     "output_type": "stream",
     "text": [
      "The final RMSE on the test set is 7.08\n"
     ]
    }
   ],
   "source": [
    "final_model = rf_random.best_estimator_\n",
    "final_pred = final_model.predict(X_test)\n",
    "final_mse = mean_squared_error(Y_test, final_pred)\n",
    "final_rmse = np.sqrt(final_mse)\n",
    "print('The final RMSE on the test set is', round(final_rmse, 2))"
   ]
  },
  {
   "cell_type": "code",
   "execution_count": 207,
   "metadata": {},
   "outputs": [
    {
     "name": "stdout",
     "output_type": "stream",
     "text": [
      "The best model achieves on the test set an accuracy of 85.07 %\n"
     ]
    }
   ],
   "source": [
    "errors = abs(final_pred - Y_test)\n",
    "mape = np.mean(100 * (errors / Y_test))\n",
    "accuracy = 100 - mape    \n",
    "print('The best model achieves on the test set an accuracy of', round(accuracy, 2),'%')"
   ]
  }
 ],
 "metadata": {
  "kernelspec": {
   "display_name": "Python 3",
   "language": "python",
   "name": "python3"
  },
  "language_info": {
   "codemirror_mode": {
    "name": "ipython",
    "version": 3
   },
   "file_extension": ".py",
   "mimetype": "text/x-python",
   "name": "python",
   "nbconvert_exporter": "python",
   "pygments_lexer": "ipython3",
   "version": "3.7.0"
  }
 },
 "nbformat": 4,
 "nbformat_minor": 2
}
