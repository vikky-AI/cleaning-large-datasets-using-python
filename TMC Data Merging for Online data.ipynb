{
 "cells": [
  {
   "cell_type": "markdown",
   "metadata": {},
   "source": [
    "# Cleaned Data set merge code\n",
    "\n",
    "This file merges previously cleaned data sets, and creates the master file for analysis."
   ]
  },
  {
   "cell_type": "markdown",
   "metadata": {},
   "source": [
    "## Imports"
   ]
  },
  {
   "cell_type": "code",
   "execution_count": 1,
   "metadata": {},
   "outputs": [],
   "source": [
    "import pandas as pd\n",
    "import seaborn as sn\n",
    "import pandas_profiling as pp\n",
    "import numpy as np\n",
    "from matplotlib import pyplot as pl\n",
    "%matplotlib tk"
   ]
  },
  {
   "cell_type": "code",
   "execution_count": 2,
   "metadata": {},
   "outputs": [],
   "source": [
    "product1 = pd.read_csv(\"cleaned_products.csv\")\n",
    "transact1 = pd.read_csv(\"cleaned_online_transaction.csv\")"
   ]
  },
  {
   "cell_type": "markdown",
   "metadata": {},
   "source": [
    "### Index was promoted as a column into the CSV files and needs to be dropped"
   ]
  },
  {
   "cell_type": "code",
   "execution_count": 3,
   "metadata": {},
   "outputs": [
    {
     "data": {
      "text/html": [
       "<div>\n",
       "<style scoped>\n",
       "    .dataframe tbody tr th:only-of-type {\n",
       "        vertical-align: middle;\n",
       "    }\n",
       "\n",
       "    .dataframe tbody tr th {\n",
       "        vertical-align: top;\n",
       "    }\n",
       "\n",
       "    .dataframe thead th {\n",
       "        text-align: right;\n",
       "    }\n",
       "</style>\n",
       "<table border=\"1\" class=\"dataframe\">\n",
       "  <thead>\n",
       "    <tr style=\"text-align: right;\">\n",
       "      <th></th>\n",
       "      <th>Unnamed: 0</th>\n",
       "      <th>DAY_DT</th>\n",
       "      <th>LOC_IDNT</th>\n",
       "      <th>DBSKU</th>\n",
       "      <th>ONLINE_FLAG</th>\n",
       "      <th>FULL_PRICE_IND</th>\n",
       "      <th>TOTAL_SALES</th>\n",
       "      <th>TOTAL_UNITS</th>\n",
       "      <th>TOTAL_SALES_PRFT</th>\n",
       "      <th>TOTAL_COST</th>\n",
       "      <th>UNIT_SALES_PRICE</th>\n",
       "    </tr>\n",
       "  </thead>\n",
       "  <tbody>\n",
       "    <tr>\n",
       "      <th>0</th>\n",
       "      <td>460415</td>\n",
       "      <td>2015-08-11</td>\n",
       "      <td>4150</td>\n",
       "      <td>2105437.0</td>\n",
       "      <td>1</td>\n",
       "      <td>1</td>\n",
       "      <td>307.51</td>\n",
       "      <td>6.0</td>\n",
       "      <td>191.17</td>\n",
       "      <td>116.34</td>\n",
       "      <td>51.251667</td>\n",
       "    </tr>\n",
       "  </tbody>\n",
       "</table>\n",
       "</div>"
      ],
      "text/plain": [
       "   Unnamed: 0      DAY_DT  LOC_IDNT      DBSKU  ONLINE_FLAG  FULL_PRICE_IND  \\\n",
       "0      460415  2015-08-11      4150  2105437.0            1               1   \n",
       "\n",
       "   TOTAL_SALES  TOTAL_UNITS  TOTAL_SALES_PRFT  TOTAL_COST  UNIT_SALES_PRICE  \n",
       "0       307.51          6.0            191.17      116.34         51.251667  "
      ]
     },
     "execution_count": 3,
     "metadata": {},
     "output_type": "execute_result"
    }
   ],
   "source": [
    "transact1.head(1)"
   ]
  },
  {
   "cell_type": "code",
   "execution_count": 5,
   "metadata": {},
   "outputs": [
    {
     "data": {
      "text/html": [
       "<div>\n",
       "<style scoped>\n",
       "    .dataframe tbody tr th:only-of-type {\n",
       "        vertical-align: middle;\n",
       "    }\n",
       "\n",
       "    .dataframe tbody tr th {\n",
       "        vertical-align: top;\n",
       "    }\n",
       "\n",
       "    .dataframe thead th {\n",
       "        text-align: right;\n",
       "    }\n",
       "</style>\n",
       "<table border=\"1\" class=\"dataframe\">\n",
       "  <thead>\n",
       "    <tr style=\"text-align: right;\">\n",
       "      <th></th>\n",
       "      <th>Unnamed: 0</th>\n",
       "      <th>DBSKU</th>\n",
       "      <th>DEPARTMENT</th>\n",
       "      <th>CLASS</th>\n",
       "      <th>SUBCLASS</th>\n",
       "      <th>SUBCLASS_NAME</th>\n",
       "      <th>DSUBCLASS</th>\n",
       "    </tr>\n",
       "  </thead>\n",
       "  <tbody>\n",
       "    <tr>\n",
       "      <th>0</th>\n",
       "      <td>0</td>\n",
       "      <td>2182204.0</td>\n",
       "      <td>12</td>\n",
       "      <td>3</td>\n",
       "      <td>32</td>\n",
       "      <td>Sub Class 1</td>\n",
       "      <td>1232</td>\n",
       "    </tr>\n",
       "  </tbody>\n",
       "</table>\n",
       "</div>"
      ],
      "text/plain": [
       "   Unnamed: 0      DBSKU  DEPARTMENT  CLASS  SUBCLASS SUBCLASS_NAME  DSUBCLASS\n",
       "0           0  2182204.0          12      3        32   Sub Class 1       1232"
      ]
     },
     "execution_count": 5,
     "metadata": {},
     "output_type": "execute_result"
    }
   ],
   "source": [
    "product1.head(1)"
   ]
  },
  {
   "cell_type": "markdown",
   "metadata": {},
   "source": [
    "#### Drop Headers"
   ]
  },
  {
   "cell_type": "code",
   "execution_count": 6,
   "metadata": {},
   "outputs": [],
   "source": [
    "transact1=transact1.drop('Unnamed: 0',axis=1)"
   ]
  },
  {
   "cell_type": "code",
   "execution_count": 7,
   "metadata": {},
   "outputs": [],
   "source": [
    "product1=product1.drop('Unnamed: 0',axis=1)"
   ]
  },
  {
   "cell_type": "markdown",
   "metadata": {},
   "source": [
    "## Merge Transaction and Store data"
   ]
  },
  {
   "cell_type": "code",
   "execution_count": 9,
   "metadata": {},
   "outputs": [
    {
     "data": {
      "text/plain": [
       "DAY_DT              0\n",
       "LOC_IDNT            0\n",
       "DBSKU               0\n",
       "ONLINE_FLAG         0\n",
       "FULL_PRICE_IND      0\n",
       "TOTAL_SALES         0\n",
       "TOTAL_UNITS         0\n",
       "TOTAL_SALES_PRFT    0\n",
       "TOTAL_COST          0\n",
       "UNIT_SALES_PRICE    0\n",
       "dtype: int64"
      ]
     },
     "execution_count": 9,
     "metadata": {},
     "output_type": "execute_result"
    }
   ],
   "source": [
    "transact1.isnull().sum()"
   ]
  },
  {
   "cell_type": "code",
   "execution_count": 10,
   "metadata": {},
   "outputs": [
    {
     "data": {
      "text/plain": [
       "(329116, 10)"
      ]
     },
     "execution_count": 10,
     "metadata": {},
     "output_type": "execute_result"
    }
   ],
   "source": [
    "transact1.shape"
   ]
  },
  {
   "cell_type": "code",
   "execution_count": 21,
   "metadata": {},
   "outputs": [],
   "source": [
    "transact2=transact2.dropna()"
   ]
  },
  {
   "cell_type": "markdown",
   "metadata": {},
   "source": [
    "### Visualize new joined data set, start identifying anomalies if any"
   ]
  },
  {
   "cell_type": "code",
   "execution_count": 51,
   "metadata": {},
   "outputs": [
    {
     "data": {
      "text/plain": [
       "(12596097, 14)"
      ]
     },
     "execution_count": 51,
     "metadata": {},
     "output_type": "execute_result"
    }
   ],
   "source": [
    "transact2.shape"
   ]
  },
  {
   "cell_type": "code",
   "execution_count": 13,
   "metadata": {},
   "outputs": [
    {
     "data": {
      "text/plain": [
       "array([[<matplotlib.axes._subplots.AxesSubplot object at 0x000002181C5D57B8>,\n",
       "        <matplotlib.axes._subplots.AxesSubplot object at 0x000002181CA3CBE0>,\n",
       "        <matplotlib.axes._subplots.AxesSubplot object at 0x000002181CA61B70>],\n",
       "       [<matplotlib.axes._subplots.AxesSubplot object at 0x000002181CA91208>,\n",
       "        <matplotlib.axes._subplots.AxesSubplot object at 0x000002181CAB9898>,\n",
       "        <matplotlib.axes._subplots.AxesSubplot object at 0x000002181CAB98D0>],\n",
       "       [<matplotlib.axes._subplots.AxesSubplot object at 0x000002181E2F05F8>,\n",
       "        <matplotlib.axes._subplots.AxesSubplot object at 0x000002181E317C88>,\n",
       "        <matplotlib.axes._subplots.AxesSubplot object at 0x000002181E348358>]],\n",
       "      dtype=object)"
      ]
     },
     "execution_count": 13,
     "metadata": {},
     "output_type": "execute_result"
    },
    {
     "data": {
      "image/png": "[encoded data removed]",
      "text/plain": [
       "<Figure size 432x288 with 9 Axes>"
      ]
     },
     "metadata": {
      "needs_background": "light"
     },
     "output_type": "display_data"
    }
   ],
   "source": [
    "transact1.hist(bins=35)"
   ]
  },
  {
   "cell_type": "code",
   "execution_count": 56,
   "metadata": {},
   "outputs": [],
   "source": [
    "#pp.ProfileReport(transact1).to_file(outputfile=\"./OnlineTransactionsReport.html\")"
   ]
  },
  {
   "cell_type": "markdown",
   "metadata": {},
   "source": [
    "#### This join looks acceptable on an initial analysis basis, we proceed to introduce product data to the dataset"
   ]
  },
  {
   "cell_type": "markdown",
   "metadata": {},
   "source": [
    "## Merge Transaction and Product data"
   ]
  },
  {
   "cell_type": "code",
   "execution_count": 14,
   "metadata": {},
   "outputs": [],
   "source": [
    "transact2=transact1.merge(product1,how='left',on=\"DBSKU\")"
   ]
  },
  {
   "cell_type": "code",
   "execution_count": 15,
   "metadata": {},
   "outputs": [
    {
     "data": {
      "text/plain": [
       "(329116, 15)"
      ]
     },
     "execution_count": 15,
     "metadata": {},
     "output_type": "execute_result"
    }
   ],
   "source": [
    "transact2.shape"
   ]
  },
  {
   "cell_type": "code",
   "execution_count": 17,
   "metadata": {},
   "outputs": [
    {
     "data": {
      "text/plain": [
       "DAY_DT              0\n",
       "LOC_IDNT            0\n",
       "DBSKU               0\n",
       "ONLINE_FLAG         0\n",
       "FULL_PRICE_IND      0\n",
       "TOTAL_SALES         0\n",
       "TOTAL_UNITS         0\n",
       "TOTAL_SALES_PRFT    0\n",
       "TOTAL_COST          0\n",
       "UNIT_SALES_PRICE    0\n",
       "DEPARTMENT          0\n",
       "CLASS               0\n",
       "SUBCLASS            0\n",
       "SUBCLASS_NAME       0\n",
       "DSUBCLASS           0\n",
       "dtype: int64"
      ]
     },
     "execution_count": 17,
     "metadata": {},
     "output_type": "execute_result"
    }
   ],
   "source": [
    "transact2.isnull().sum()"
   ]
  },
  {
   "cell_type": "code",
   "execution_count": 21,
   "metadata": {},
   "outputs": [
    {
     "data": {
      "text/html": [
       "<div>\n",
       "<style scoped>\n",
       "    .dataframe tbody tr th:only-of-type {\n",
       "        vertical-align: middle;\n",
       "    }\n",
       "\n",
       "    .dataframe tbody tr th {\n",
       "        vertical-align: top;\n",
       "    }\n",
       "\n",
       "    .dataframe thead th {\n",
       "        text-align: right;\n",
       "    }\n",
       "</style>\n",
       "<table border=\"1\" class=\"dataframe\">\n",
       "  <thead>\n",
       "    <tr style=\"text-align: right;\">\n",
       "      <th></th>\n",
       "      <th>DAY_DT</th>\n",
       "      <th>LOC_IDNT</th>\n",
       "      <th>DBSKU</th>\n",
       "      <th>ONLINE_FLAG</th>\n",
       "      <th>FULL_PRICE_IND</th>\n",
       "      <th>TOTAL_SALES</th>\n",
       "      <th>TOTAL_UNITS</th>\n",
       "      <th>TOTAL_SALES_PRFT</th>\n",
       "      <th>TOTAL_COST</th>\n",
       "      <th>UNIT_SALES_PRICE</th>\n",
       "      <th>DEPARTMENT</th>\n",
       "      <th>CLASS</th>\n",
       "      <th>SUBCLASS</th>\n",
       "      <th>SUBCLASS_NAME</th>\n",
       "      <th>DSUBCLASS</th>\n",
       "    </tr>\n",
       "  </thead>\n",
       "  <tbody>\n",
       "    <tr>\n",
       "      <th>0</th>\n",
       "      <td>2015-08-11</td>\n",
       "      <td>4150</td>\n",
       "      <td>2105437.0</td>\n",
       "      <td>1</td>\n",
       "      <td>1</td>\n",
       "      <td>307.51</td>\n",
       "      <td>6.0</td>\n",
       "      <td>191.17</td>\n",
       "      <td>116.34</td>\n",
       "      <td>51.251667</td>\n",
       "      <td>12</td>\n",
       "      <td>4</td>\n",
       "      <td>42</td>\n",
       "      <td>Sub Class 1</td>\n",
       "      <td>1242</td>\n",
       "    </tr>\n",
       "    <tr>\n",
       "      <th>1</th>\n",
       "      <td>2015-08-18</td>\n",
       "      <td>4150</td>\n",
       "      <td>307272.0</td>\n",
       "      <td>1</td>\n",
       "      <td>1</td>\n",
       "      <td>214.75</td>\n",
       "      <td>5.0</td>\n",
       "      <td>131.00</td>\n",
       "      <td>83.75</td>\n",
       "      <td>42.950000</td>\n",
       "      <td>10</td>\n",
       "      <td>4</td>\n",
       "      <td>41</td>\n",
       "      <td>Sub Class 2</td>\n",
       "      <td>1041</td>\n",
       "    </tr>\n",
       "    <tr>\n",
       "      <th>2</th>\n",
       "      <td>2015-08-04</td>\n",
       "      <td>4150</td>\n",
       "      <td>2995522.0</td>\n",
       "      <td>1</td>\n",
       "      <td>0</td>\n",
       "      <td>83.70</td>\n",
       "      <td>3.0</td>\n",
       "      <td>13.20</td>\n",
       "      <td>70.50</td>\n",
       "      <td>27.900000</td>\n",
       "      <td>12</td>\n",
       "      <td>2</td>\n",
       "      <td>20</td>\n",
       "      <td>Sub Class 4</td>\n",
       "      <td>1220</td>\n",
       "    </tr>\n",
       "    <tr>\n",
       "      <th>3</th>\n",
       "      <td>2015-08-17</td>\n",
       "      <td>4150</td>\n",
       "      <td>356840.0</td>\n",
       "      <td>1</td>\n",
       "      <td>1</td>\n",
       "      <td>100.00</td>\n",
       "      <td>1.0</td>\n",
       "      <td>72.00</td>\n",
       "      <td>28.00</td>\n",
       "      <td>100.000000</td>\n",
       "      <td>10</td>\n",
       "      <td>4</td>\n",
       "      <td>41</td>\n",
       "      <td>Sub Class 2</td>\n",
       "      <td>1041</td>\n",
       "    </tr>\n",
       "    <tr>\n",
       "      <th>4</th>\n",
       "      <td>2015-08-17</td>\n",
       "      <td>4150</td>\n",
       "      <td>434464.0</td>\n",
       "      <td>1</td>\n",
       "      <td>0</td>\n",
       "      <td>203.45</td>\n",
       "      <td>8.0</td>\n",
       "      <td>11.45</td>\n",
       "      <td>192.00</td>\n",
       "      <td>25.431250</td>\n",
       "      <td>10</td>\n",
       "      <td>4</td>\n",
       "      <td>41</td>\n",
       "      <td>Sub Class 2</td>\n",
       "      <td>1041</td>\n",
       "    </tr>\n",
       "  </tbody>\n",
       "</table>\n",
       "</div>"
      ],
      "text/plain": [
       "       DAY_DT  LOC_IDNT      DBSKU  ONLINE_FLAG  FULL_PRICE_IND  TOTAL_SALES  \\\n",
       "0  2015-08-11      4150  2105437.0            1               1       307.51   \n",
       "1  2015-08-18      4150   307272.0            1               1       214.75   \n",
       "2  2015-08-04      4150  2995522.0            1               0        83.70   \n",
       "3  2015-08-17      4150   356840.0            1               1       100.00   \n",
       "4  2015-08-17      4150   434464.0            1               0       203.45   \n",
       "\n",
       "   TOTAL_UNITS  TOTAL_SALES_PRFT  TOTAL_COST  UNIT_SALES_PRICE  DEPARTMENT  \\\n",
       "0          6.0            191.17      116.34         51.251667          12   \n",
       "1          5.0            131.00       83.75         42.950000          10   \n",
       "2          3.0             13.20       70.50         27.900000          12   \n",
       "3          1.0             72.00       28.00        100.000000          10   \n",
       "4          8.0             11.45      192.00         25.431250          10   \n",
       "\n",
       "   CLASS  SUBCLASS SUBCLASS_NAME  DSUBCLASS  \n",
       "0      4        42   Sub Class 1       1242  \n",
       "1      4        41   Sub Class 2       1041  \n",
       "2      2        20   Sub Class 4       1220  \n",
       "3      4        41   Sub Class 2       1041  \n",
       "4      4        41   Sub Class 2       1041  "
      ]
     },
     "execution_count": 21,
     "metadata": {},
     "output_type": "execute_result"
    }
   ],
   "source": [
    "transact2.head()"
   ]
  },
  {
   "cell_type": "code",
   "execution_count": 72,
   "metadata": {},
   "outputs": [],
   "source": [
    "#pp.ProfileReport(transact2).to_file(outputfile=\"./combinedOnlineDataset.html\")"
   ]
  },
  {
   "cell_type": "markdown",
   "metadata": {},
   "source": [
    "### Output to CSV"
   ]
  },
  {
   "cell_type": "code",
   "execution_count": 22,
   "metadata": {},
   "outputs": [],
   "source": [
    "transact2.to_csv('tmc_online_data.csv',index=False)"
   ]
  },
  {
   "cell_type": "code",
   "execution_count": null,
   "metadata": {},
   "outputs": [],
   "source": []
  }
 ],
 "metadata": {
  "kernelspec": {
   "display_name": "Python 3",
   "language": "python",
   "name": "python3"
  },
  "language_info": {
   "codemirror_mode": {
    "name": "ipython",
    "version": 3
   },
   "file_extension": ".py",
   "mimetype": "text/x-python",
   "name": "python",
   "nbconvert_exporter": "python",
   "pygments_lexer": "ipython3",
   "version": "3.7.0"
  }
 },
 "nbformat": 4,
 "nbformat_minor": 2
}
