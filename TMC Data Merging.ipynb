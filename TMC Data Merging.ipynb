{
 "cells": [
  {
   "cell_type": "markdown",
   "metadata": {},
   "source": [
    "# Cleaned Data set merge code\n",
    "\n",
    "This file merges previously cleaned data sets, and creates the master file for analysis."
   ]
  },
  {
   "cell_type": "markdown",
   "metadata": {},
   "source": [
    "## Imports"
   ]
  },
  {
   "cell_type": "code",
   "execution_count": 55,
   "metadata": {},
   "outputs": [],
   "source": [
    "import pandas as pd\n",
    "import seaborn as sn\n",
    "import pandas_profiling as pp\n",
    "import numpy as np\n",
    "from matplotlib import pyplot as pl\n",
    "%matplotlib tk"
   ]
  },
  {
   "cell_type": "code",
   "execution_count": 10,
   "metadata": {},
   "outputs": [],
   "source": [
    "product1 = pd.read_csv(\"cleaned_products.csv\")\n",
    "store1 = pd.read_csv(\"cleaned_store.csv\")\n",
    "transact1 = pd.read_csv(\"cleaned_transaction.csv\")"
   ]
  },
  {
   "cell_type": "markdown",
   "metadata": {},
   "source": [
    "### Index was promoted as a column into the CSV files and needs to be dropped"
   ]
  },
  {
   "cell_type": "code",
   "execution_count": 18,
   "metadata": {},
   "outputs": [
    {
     "data": {
      "text/html": [
       "<div>\n",
       "<style scoped>\n",
       "    .dataframe tbody tr th:only-of-type {\n",
       "        vertical-align: middle;\n",
       "    }\n",
       "\n",
       "    .dataframe tbody tr th {\n",
       "        vertical-align: top;\n",
       "    }\n",
       "\n",
       "    .dataframe thead th {\n",
       "        text-align: right;\n",
       "    }\n",
       "</style>\n",
       "<table border=\"1\" class=\"dataframe\">\n",
       "  <thead>\n",
       "    <tr style=\"text-align: right;\">\n",
       "      <th></th>\n",
       "      <th>DAY_DT</th>\n",
       "      <th>LOC_IDNT</th>\n",
       "      <th>DBSKU</th>\n",
       "      <th>FULL_PRICE_IND</th>\n",
       "      <th>TOTAL_SALES</th>\n",
       "      <th>TOTAL_UNITS</th>\n",
       "      <th>TOTAL_SALES_PRFT</th>\n",
       "      <th>TOTAL_COST</th>\n",
       "      <th>UNIT_SALES_PRICE</th>\n",
       "    </tr>\n",
       "  </thead>\n",
       "  <tbody>\n",
       "    <tr>\n",
       "      <th>0</th>\n",
       "      <td>2015-09-26</td>\n",
       "      <td>1218</td>\n",
       "      <td>466896.0</td>\n",
       "      <td>0</td>\n",
       "      <td>16.8</td>\n",
       "      <td>1.0</td>\n",
       "      <td>1.3</td>\n",
       "      <td>15.5</td>\n",
       "      <td>16.8</td>\n",
       "    </tr>\n",
       "  </tbody>\n",
       "</table>\n",
       "</div>"
      ],
      "text/plain": [
       "       DAY_DT  LOC_IDNT     DBSKU  FULL_PRICE_IND  TOTAL_SALES  TOTAL_UNITS  \\\n",
       "0  2015-09-26      1218  466896.0               0         16.8          1.0   \n",
       "\n",
       "   TOTAL_SALES_PRFT  TOTAL_COST  UNIT_SALES_PRICE  \n",
       "0               1.3        15.5              16.8  "
      ]
     },
     "execution_count": 18,
     "metadata": {},
     "output_type": "execute_result"
    }
   ],
   "source": [
    "transact1.head(1)"
   ]
  },
  {
   "cell_type": "code",
   "execution_count": 16,
   "metadata": {},
   "outputs": [
    {
     "data": {
      "text/html": [
       "<div>\n",
       "<style scoped>\n",
       "    .dataframe tbody tr th:only-of-type {\n",
       "        vertical-align: middle;\n",
       "    }\n",
       "\n",
       "    .dataframe tbody tr th {\n",
       "        vertical-align: top;\n",
       "    }\n",
       "\n",
       "    .dataframe thead th {\n",
       "        text-align: right;\n",
       "    }\n",
       "</style>\n",
       "<table border=\"1\" class=\"dataframe\">\n",
       "  <thead>\n",
       "    <tr style=\"text-align: right;\">\n",
       "      <th></th>\n",
       "      <th>Unnamed: 0</th>\n",
       "      <th>LOC_IDNT</th>\n",
       "      <th>CITY</th>\n",
       "      <th>STATE</th>\n",
       "      <th>STORE_TYPE</th>\n",
       "      <th>POSTAL_CD</th>\n",
       "      <th>STORE_SIZE</th>\n",
       "    </tr>\n",
       "  </thead>\n",
       "  <tbody>\n",
       "    <tr>\n",
       "      <th>0</th>\n",
       "      <td>0</td>\n",
       "      <td>249</td>\n",
       "      <td>ST LOUIS</td>\n",
       "      <td>MO</td>\n",
       "      <td>Strip Store</td>\n",
       "      <td>63119</td>\n",
       "      <td>3963.0</td>\n",
       "    </tr>\n",
       "  </tbody>\n",
       "</table>\n",
       "</div>"
      ],
      "text/plain": [
       "   Unnamed: 0  LOC_IDNT             CITY STATE   STORE_TYPE  POSTAL_CD  \\\n",
       "0           0       249  ST LOUIS           MO  Strip Store      63119   \n",
       "\n",
       "   STORE_SIZE  \n",
       "0      3963.0  "
      ]
     },
     "execution_count": 16,
     "metadata": {},
     "output_type": "execute_result"
    }
   ],
   "source": [
    "store1.head(1)"
   ]
  },
  {
   "cell_type": "code",
   "execution_count": 17,
   "metadata": {},
   "outputs": [
    {
     "data": {
      "text/html": [
       "<div>\n",
       "<style scoped>\n",
       "    .dataframe tbody tr th:only-of-type {\n",
       "        vertical-align: middle;\n",
       "    }\n",
       "\n",
       "    .dataframe tbody tr th {\n",
       "        vertical-align: top;\n",
       "    }\n",
       "\n",
       "    .dataframe thead th {\n",
       "        text-align: right;\n",
       "    }\n",
       "</style>\n",
       "<table border=\"1\" class=\"dataframe\">\n",
       "  <thead>\n",
       "    <tr style=\"text-align: right;\">\n",
       "      <th></th>\n",
       "      <th>Unnamed: 0</th>\n",
       "      <th>DBSKU</th>\n",
       "      <th>DEPARTMENT</th>\n",
       "      <th>CLASS</th>\n",
       "      <th>SUBCLASS</th>\n",
       "      <th>SUBCLASS_NAME</th>\n",
       "      <th>DSUBCLASS</th>\n",
       "    </tr>\n",
       "  </thead>\n",
       "  <tbody>\n",
       "    <tr>\n",
       "      <th>0</th>\n",
       "      <td>0</td>\n",
       "      <td>2182204.0</td>\n",
       "      <td>12</td>\n",
       "      <td>3</td>\n",
       "      <td>32</td>\n",
       "      <td>1</td>\n",
       "      <td>1232</td>\n",
       "    </tr>\n",
       "  </tbody>\n",
       "</table>\n",
       "</div>"
      ],
      "text/plain": [
       "   Unnamed: 0      DBSKU  DEPARTMENT  CLASS  SUBCLASS  SUBCLASS_NAME  \\\n",
       "0           0  2182204.0          12      3        32              1   \n",
       "\n",
       "   DSUBCLASS  \n",
       "0       1232  "
      ]
     },
     "execution_count": 17,
     "metadata": {},
     "output_type": "execute_result"
    }
   ],
   "source": [
    "product1.head(1)"
   ]
  },
  {
   "cell_type": "markdown",
   "metadata": {},
   "source": [
    "#### Drop Headers"
   ]
  },
  {
   "cell_type": "code",
   "execution_count": null,
   "metadata": {},
   "outputs": [],
   "source": [
    "transact1=transact1.drop('Unnamed: 0',axis=1)"
   ]
  },
  {
   "cell_type": "code",
   "execution_count": 19,
   "metadata": {},
   "outputs": [],
   "source": [
    "store1=store1.drop('Unnamed: 0',axis=1)"
   ]
  },
  {
   "cell_type": "code",
   "execution_count": 20,
   "metadata": {},
   "outputs": [],
   "source": [
    "product1=product1.drop('Unnamed: 0',axis=1)"
   ]
  },
  {
   "cell_type": "markdown",
   "metadata": {},
   "source": [
    "## Merge Transaction and Store data"
   ]
  },
  {
   "cell_type": "code",
   "execution_count": 29,
   "metadata": {},
   "outputs": [],
   "source": []
  },
  {
   "cell_type": "code",
   "execution_count": 33,
   "metadata": {},
   "outputs": [],
   "source": [
    "transact2=transact1.merge(store1,how='left',on=\"LOC_IDNT\")"
   ]
  },
  {
   "cell_type": "code",
   "execution_count": 34,
   "metadata": {},
   "outputs": [
    {
     "data": {
      "text/plain": [
       "DAY_DT              0.00\n",
       "LOC_IDNT            0.00\n",
       "DBSKU               0.00\n",
       "FULL_PRICE_IND      0.00\n",
       "TOTAL_SALES         0.00\n",
       "TOTAL_UNITS         0.00\n",
       "TOTAL_SALES_PRFT    0.00\n",
       "TOTAL_COST          0.00\n",
       "UNIT_SALES_PRICE    0.00\n",
       "CITY                0.92\n",
       "STATE               0.92\n",
       "STORE_TYPE          0.92\n",
       "POSTAL_CD           0.92\n",
       "STORE_SIZE          0.92\n",
       "dtype: float64"
      ]
     },
     "execution_count": 34,
     "metadata": {},
     "output_type": "execute_result"
    }
   ],
   "source": [
    "round(100*(transact2.isnull().sum()/len(transact2.index)), 2)"
   ]
  },
  {
   "cell_type": "code",
   "execution_count": 36,
   "metadata": {},
   "outputs": [
    {
     "data": {
      "text/plain": [
       "DAY_DT                   0\n",
       "LOC_IDNT                 0\n",
       "DBSKU                    0\n",
       "FULL_PRICE_IND           0\n",
       "TOTAL_SALES              0\n",
       "TOTAL_UNITS              0\n",
       "TOTAL_SALES_PRFT         0\n",
       "TOTAL_COST               0\n",
       "UNIT_SALES_PRICE         0\n",
       "CITY                117416\n",
       "STATE               117416\n",
       "STORE_TYPE          117416\n",
       "POSTAL_CD           117416\n",
       "STORE_SIZE          117416\n",
       "dtype: int64"
      ]
     },
     "execution_count": 36,
     "metadata": {},
     "output_type": "execute_result"
    }
   ],
   "source": [
    "transact2.isnull().sum()"
   ]
  },
  {
   "cell_type": "code",
   "execution_count": 38,
   "metadata": {},
   "outputs": [
    {
     "data": {
      "text/plain": [
       "(12713513, 14)"
      ]
     },
     "execution_count": 38,
     "metadata": {},
     "output_type": "execute_result"
    }
   ],
   "source": [
    "transact2.shape"
   ]
  },
  {
   "cell_type": "code",
   "execution_count": 43,
   "metadata": {},
   "outputs": [
    {
     "data": {
      "text/html": [
       "<div>\n",
       "<style scoped>\n",
       "    .dataframe tbody tr th:only-of-type {\n",
       "        vertical-align: middle;\n",
       "    }\n",
       "\n",
       "    .dataframe tbody tr th {\n",
       "        vertical-align: top;\n",
       "    }\n",
       "\n",
       "    .dataframe thead th {\n",
       "        text-align: right;\n",
       "    }\n",
       "</style>\n",
       "<table border=\"1\" class=\"dataframe\">\n",
       "  <thead>\n",
       "    <tr style=\"text-align: right;\">\n",
       "      <th></th>\n",
       "      <th>DAY_DT</th>\n",
       "      <th>LOC_IDNT</th>\n",
       "      <th>DBSKU</th>\n",
       "      <th>FULL_PRICE_IND</th>\n",
       "      <th>TOTAL_SALES</th>\n",
       "      <th>TOTAL_UNITS</th>\n",
       "      <th>TOTAL_SALES_PRFT</th>\n",
       "      <th>TOTAL_COST</th>\n",
       "      <th>UNIT_SALES_PRICE</th>\n",
       "      <th>CITY</th>\n",
       "      <th>STATE</th>\n",
       "      <th>STORE_TYPE</th>\n",
       "      <th>POSTAL_CD</th>\n",
       "      <th>STORE_SIZE</th>\n",
       "    </tr>\n",
       "  </thead>\n",
       "  <tbody>\n",
       "    <tr>\n",
       "      <th>584</th>\n",
       "      <td>2015-08-29</td>\n",
       "      <td>2865</td>\n",
       "      <td>2989343.0</td>\n",
       "      <td>0</td>\n",
       "      <td>13.89</td>\n",
       "      <td>1.0</td>\n",
       "      <td>-8.83</td>\n",
       "      <td>22.72</td>\n",
       "      <td>13.89</td>\n",
       "      <td>NaN</td>\n",
       "      <td>NaN</td>\n",
       "      <td>NaN</td>\n",
       "      <td>NaN</td>\n",
       "      <td>NaN</td>\n",
       "    </tr>\n",
       "    <tr>\n",
       "      <th>585</th>\n",
       "      <td>2015-09-03</td>\n",
       "      <td>2865</td>\n",
       "      <td>2100693.0</td>\n",
       "      <td>0</td>\n",
       "      <td>44.80</td>\n",
       "      <td>1.0</td>\n",
       "      <td>24.80</td>\n",
       "      <td>20.00</td>\n",
       "      <td>44.80</td>\n",
       "      <td>NaN</td>\n",
       "      <td>NaN</td>\n",
       "      <td>NaN</td>\n",
       "      <td>NaN</td>\n",
       "      <td>NaN</td>\n",
       "    </tr>\n",
       "    <tr>\n",
       "      <th>588</th>\n",
       "      <td>2015-08-20</td>\n",
       "      <td>2865</td>\n",
       "      <td>2105411.0</td>\n",
       "      <td>0</td>\n",
       "      <td>52.80</td>\n",
       "      <td>1.0</td>\n",
       "      <td>32.85</td>\n",
       "      <td>19.95</td>\n",
       "      <td>52.80</td>\n",
       "      <td>NaN</td>\n",
       "      <td>NaN</td>\n",
       "      <td>NaN</td>\n",
       "      <td>NaN</td>\n",
       "      <td>NaN</td>\n",
       "    </tr>\n",
       "    <tr>\n",
       "      <th>589</th>\n",
       "      <td>2015-09-10</td>\n",
       "      <td>2865</td>\n",
       "      <td>2111260.0</td>\n",
       "      <td>1</td>\n",
       "      <td>56.50</td>\n",
       "      <td>1.0</td>\n",
       "      <td>35.50</td>\n",
       "      <td>21.00</td>\n",
       "      <td>56.50</td>\n",
       "      <td>NaN</td>\n",
       "      <td>NaN</td>\n",
       "      <td>NaN</td>\n",
       "      <td>NaN</td>\n",
       "      <td>NaN</td>\n",
       "    </tr>\n",
       "    <tr>\n",
       "      <th>596</th>\n",
       "      <td>2015-08-19</td>\n",
       "      <td>2887</td>\n",
       "      <td>2984039.0</td>\n",
       "      <td>0</td>\n",
       "      <td>20.30</td>\n",
       "      <td>1.0</td>\n",
       "      <td>-1.70</td>\n",
       "      <td>22.00</td>\n",
       "      <td>20.30</td>\n",
       "      <td>NaN</td>\n",
       "      <td>NaN</td>\n",
       "      <td>NaN</td>\n",
       "      <td>NaN</td>\n",
       "      <td>NaN</td>\n",
       "    </tr>\n",
       "  </tbody>\n",
       "</table>\n",
       "</div>"
      ],
      "text/plain": [
       "         DAY_DT  LOC_IDNT      DBSKU  FULL_PRICE_IND  TOTAL_SALES  \\\n",
       "584  2015-08-29      2865  2989343.0               0        13.89   \n",
       "585  2015-09-03      2865  2100693.0               0        44.80   \n",
       "588  2015-08-20      2865  2105411.0               0        52.80   \n",
       "589  2015-09-10      2865  2111260.0               1        56.50   \n",
       "596  2015-08-19      2887  2984039.0               0        20.30   \n",
       "\n",
       "     TOTAL_UNITS  TOTAL_SALES_PRFT  TOTAL_COST  UNIT_SALES_PRICE CITY STATE  \\\n",
       "584          1.0             -8.83       22.72             13.89  NaN   NaN   \n",
       "585          1.0             24.80       20.00             44.80  NaN   NaN   \n",
       "588          1.0             32.85       19.95             52.80  NaN   NaN   \n",
       "589          1.0             35.50       21.00             56.50  NaN   NaN   \n",
       "596          1.0             -1.70       22.00             20.30  NaN   NaN   \n",
       "\n",
       "    STORE_TYPE  POSTAL_CD  STORE_SIZE  \n",
       "584        NaN        NaN         NaN  \n",
       "585        NaN        NaN         NaN  \n",
       "588        NaN        NaN         NaN  \n",
       "589        NaN        NaN         NaN  \n",
       "596        NaN        NaN         NaN  "
      ]
     },
     "execution_count": 43,
     "metadata": {},
     "output_type": "execute_result"
    }
   ],
   "source": [
    "transact2[transact2[\"CITY\"].isnull()].head()"
   ]
  },
  {
   "cell_type": "code",
   "execution_count": 44,
   "metadata": {},
   "outputs": [],
   "source": [
    "#transact2[transact2[\"CITY\"].isnull()].to_csv(\"missingstores.csv\")"
   ]
  },
  {
   "cell_type": "code",
   "execution_count": 45,
   "metadata": {},
   "outputs": [
    {
     "data": {
      "text/plain": [
       "DAY_DT              1075\n",
       "LOC_IDNT              17\n",
       "DBSKU               1883\n",
       "FULL_PRICE_IND         2\n",
       "TOTAL_SALES         6704\n",
       "TOTAL_UNITS            8\n",
       "TOTAL_SALES_PRFT    9723\n",
       "TOTAL_COST          1877\n",
       "UNIT_SALES_PRICE    6127\n",
       "CITY                   0\n",
       "STATE                  0\n",
       "STORE_TYPE             0\n",
       "POSTAL_CD              0\n",
       "STORE_SIZE             0\n",
       "dtype: int64"
      ]
     },
     "execution_count": 45,
     "metadata": {},
     "output_type": "execute_result"
    }
   ],
   "source": [
    "transact2[transact2[\"CITY\"].isnull()].nunique()"
   ]
  },
  {
   "cell_type": "markdown",
   "metadata": {},
   "source": [
    "### After analysis of NA values we see that these occurred on stores with size =1 or NA/0\n",
    "\n",
    "We will drop these values"
   ]
  },
  {
   "cell_type": "code",
   "execution_count": 48,
   "metadata": {},
   "outputs": [
    {
     "data": {
      "text/plain": [
       "(12713513, 14)"
      ]
     },
     "execution_count": 48,
     "metadata": {},
     "output_type": "execute_result"
    }
   ],
   "source": [
    "transact2.shape"
   ]
  },
  {
   "cell_type": "code",
   "execution_count": 49,
   "metadata": {},
   "outputs": [],
   "source": [
    "transact2=transact2.dropna()"
   ]
  },
  {
   "cell_type": "markdown",
   "metadata": {},
   "source": [
    "### Visualize new joined data set, start identifying anomalies if any"
   ]
  },
  {
   "cell_type": "code",
   "execution_count": 51,
   "metadata": {},
   "outputs": [
    {
     "data": {
      "text/plain": [
       "(12596097, 14)"
      ]
     },
     "execution_count": 51,
     "metadata": {},
     "output_type": "execute_result"
    }
   ],
   "source": [
    "transact2.shape"
   ]
  },
  {
   "cell_type": "code",
   "execution_count": 57,
   "metadata": {},
   "outputs": [
    {
     "data": {
      "text/plain": [
       "array([[<matplotlib.axes._subplots.AxesSubplot object at 0x000001C659922EF0>,\n",
       "        <matplotlib.axes._subplots.AxesSubplot object at 0x000001C6445176A0>,\n",
       "        <matplotlib.axes._subplots.AxesSubplot object at 0x000001C643D95048>],\n",
       "       [<matplotlib.axes._subplots.AxesSubplot object at 0x000001C643DB99B0>,\n",
       "        <matplotlib.axes._subplots.AxesSubplot object at 0x000001C643DE6358>,\n",
       "        <matplotlib.axes._subplots.AxesSubplot object at 0x000001C643E0BCC0>],\n",
       "       [<matplotlib.axes._subplots.AxesSubplot object at 0x000001C643E3B668>,\n",
       "        <matplotlib.axes._subplots.AxesSubplot object at 0x000001C643E60FD0>,\n",
       "        <matplotlib.axes._subplots.AxesSubplot object at 0x000001C643E69080>],\n",
       "       [<matplotlib.axes._subplots.AxesSubplot object at 0x000001C643EBA320>,\n",
       "        <matplotlib.axes._subplots.AxesSubplot object at 0x000001C6444A1C88>,\n",
       "        <matplotlib.axes._subplots.AxesSubplot object at 0x000001C64453D630>]],\n",
       "      dtype=object)"
      ]
     },
     "execution_count": 57,
     "metadata": {},
     "output_type": "execute_result"
    }
   ],
   "source": [
    "transact2.hist(bins=35)"
   ]
  },
  {
   "cell_type": "code",
   "execution_count": 56,
   "metadata": {},
   "outputs": [],
   "source": [
    "pp.ProfileReport(transact2).to_file(outputfile=\"./transact2.html\")"
   ]
  },
  {
   "cell_type": "markdown",
   "metadata": {},
   "source": [
    "#### This join looks acceptable on an initial analysis basis, we proceed to introduce product data to the dataset"
   ]
  },
  {
   "cell_type": "markdown",
   "metadata": {},
   "source": [
    "## Merge Transaction and Product data"
   ]
  },
  {
   "cell_type": "code",
   "execution_count": null,
   "metadata": {},
   "outputs": [],
   "source": []
  },
  {
   "cell_type": "code",
   "execution_count": 58,
   "metadata": {},
   "outputs": [],
   "source": [
    "transact2=transact2.merge(product1,how='left',on=\"DBSKU\")"
   ]
  },
  {
   "cell_type": "code",
   "execution_count": 59,
   "metadata": {},
   "outputs": [
    {
     "data": {
      "text/plain": [
       "(12596097, 19)"
      ]
     },
     "execution_count": 59,
     "metadata": {},
     "output_type": "execute_result"
    }
   ],
   "source": [
    "transact2.shape"
   ]
  },
  {
   "cell_type": "code",
   "execution_count": 60,
   "metadata": {},
   "outputs": [
    {
     "data": {
      "text/plain": [
       "DAY_DT              0.00\n",
       "LOC_IDNT            0.00\n",
       "DBSKU               0.00\n",
       "FULL_PRICE_IND      0.00\n",
       "TOTAL_SALES         0.00\n",
       "TOTAL_UNITS         0.00\n",
       "TOTAL_SALES_PRFT    0.00\n",
       "TOTAL_COST          0.00\n",
       "UNIT_SALES_PRICE    0.00\n",
       "CITY                0.00\n",
       "STATE               0.00\n",
       "STORE_TYPE          0.00\n",
       "POSTAL_CD           0.00\n",
       "STORE_SIZE          0.00\n",
       "DEPARTMENT          0.05\n",
       "CLASS               0.05\n",
       "SUBCLASS            0.05\n",
       "SUBCLASS_NAME       0.05\n",
       "DSUBCLASS           0.05\n",
       "dtype: float64"
      ]
     },
     "execution_count": 60,
     "metadata": {},
     "output_type": "execute_result"
    }
   ],
   "source": [
    "round(100*(transact2.isnull().sum()/len(transact2.index)), 2)"
   ]
  },
  {
   "cell_type": "code",
   "execution_count": 61,
   "metadata": {},
   "outputs": [
    {
     "data": {
      "text/plain": [
       "DAY_DT                 0\n",
       "LOC_IDNT               0\n",
       "DBSKU                  0\n",
       "FULL_PRICE_IND         0\n",
       "TOTAL_SALES            0\n",
       "TOTAL_UNITS            0\n",
       "TOTAL_SALES_PRFT       0\n",
       "TOTAL_COST             0\n",
       "UNIT_SALES_PRICE       0\n",
       "CITY                   0\n",
       "STATE                  0\n",
       "STORE_TYPE             0\n",
       "POSTAL_CD              0\n",
       "STORE_SIZE             0\n",
       "DEPARTMENT          6466\n",
       "CLASS               6466\n",
       "SUBCLASS            6466\n",
       "SUBCLASS_NAME       6466\n",
       "DSUBCLASS           6466\n",
       "dtype: int64"
      ]
     },
     "execution_count": 61,
     "metadata": {},
     "output_type": "execute_result"
    }
   ],
   "source": [
    "transact2.isnull().sum()"
   ]
  },
  {
   "cell_type": "markdown",
   "metadata": {},
   "source": [
    "#### Analyze NA values"
   ]
  },
  {
   "cell_type": "code",
   "execution_count": 62,
   "metadata": {},
   "outputs": [
    {
     "data": {
      "text/plain": [
       "DAY_DT               825\n",
       "LOC_IDNT             767\n",
       "DBSKU                  4\n",
       "FULL_PRICE_IND         1\n",
       "TOTAL_SALES         1772\n",
       "TOTAL_UNITS           17\n",
       "TOTAL_SALES_PRFT    2269\n",
       "TOTAL_COST           104\n",
       "UNIT_SALES_PRICE    1607\n",
       "CITY                 707\n",
       "STATE                 48\n",
       "STORE_TYPE            12\n",
       "POSTAL_CD            754\n",
       "STORE_SIZE           631\n",
       "DEPARTMENT             0\n",
       "CLASS                  0\n",
       "SUBCLASS               0\n",
       "SUBCLASS_NAME          0\n",
       "DSUBCLASS              0\n",
       "dtype: int64"
      ]
     },
     "execution_count": 62,
     "metadata": {},
     "output_type": "execute_result"
    }
   ],
   "source": [
    "transact2[transact2[\"DEPARTMENT\"].isnull()].nunique()"
   ]
  },
  {
   "cell_type": "code",
   "execution_count": 68,
   "metadata": {},
   "outputs": [
    {
     "data": {
      "text/html": [
       "<div>\n",
       "<style scoped>\n",
       "    .dataframe tbody tr th:only-of-type {\n",
       "        vertical-align: middle;\n",
       "    }\n",
       "\n",
       "    .dataframe tbody tr th {\n",
       "        vertical-align: top;\n",
       "    }\n",
       "\n",
       "    .dataframe thead th {\n",
       "        text-align: right;\n",
       "    }\n",
       "</style>\n",
       "<table border=\"1\" class=\"dataframe\">\n",
       "  <thead>\n",
       "    <tr style=\"text-align: right;\">\n",
       "      <th></th>\n",
       "      <th>DAY_DT</th>\n",
       "      <th>LOC_IDNT</th>\n",
       "      <th>DBSKU</th>\n",
       "      <th>FULL_PRICE_IND</th>\n",
       "      <th>TOTAL_SALES</th>\n",
       "      <th>TOTAL_UNITS</th>\n",
       "      <th>TOTAL_SALES_PRFT</th>\n",
       "      <th>TOTAL_COST</th>\n",
       "      <th>UNIT_SALES_PRICE</th>\n",
       "      <th>CITY</th>\n",
       "      <th>STATE</th>\n",
       "      <th>STORE_TYPE</th>\n",
       "      <th>POSTAL_CD</th>\n",
       "      <th>STORE_SIZE</th>\n",
       "      <th>DEPARTMENT</th>\n",
       "      <th>CLASS</th>\n",
       "      <th>SUBCLASS</th>\n",
       "      <th>SUBCLASS_NAME</th>\n",
       "      <th>DSUBCLASS</th>\n",
       "    </tr>\n",
       "  </thead>\n",
       "  <tbody>\n",
       "    <tr>\n",
       "      <th>3968</th>\n",
       "      <td>2015-10-10</td>\n",
       "      <td>1025</td>\n",
       "      <td>2339580.0</td>\n",
       "      <td>0</td>\n",
       "      <td>27.00</td>\n",
       "      <td>1.0</td>\n",
       "      <td>5.73</td>\n",
       "      <td>21.27</td>\n",
       "      <td>27.00</td>\n",
       "      <td>QUINCY</td>\n",
       "      <td>IL</td>\n",
       "      <td>Regional Mall</td>\n",
       "      <td>62301.0</td>\n",
       "      <td>3275.0</td>\n",
       "      <td>NaN</td>\n",
       "      <td>NaN</td>\n",
       "      <td>NaN</td>\n",
       "      <td>NaN</td>\n",
       "      <td>NaN</td>\n",
       "    </tr>\n",
       "    <tr>\n",
       "      <th>4999</th>\n",
       "      <td>2015-08-21</td>\n",
       "      <td>1220</td>\n",
       "      <td>848861.0</td>\n",
       "      <td>0</td>\n",
       "      <td>23.00</td>\n",
       "      <td>1.0</td>\n",
       "      <td>2.94</td>\n",
       "      <td>20.06</td>\n",
       "      <td>23.00</td>\n",
       "      <td>CASPER</td>\n",
       "      <td>WY</td>\n",
       "      <td>Power Strip</td>\n",
       "      <td>82609.0</td>\n",
       "      <td>2754.0</td>\n",
       "      <td>NaN</td>\n",
       "      <td>NaN</td>\n",
       "      <td>NaN</td>\n",
       "      <td>NaN</td>\n",
       "      <td>NaN</td>\n",
       "    </tr>\n",
       "    <tr>\n",
       "      <th>15232</th>\n",
       "      <td>2015-10-26</td>\n",
       "      <td>665</td>\n",
       "      <td>143271.0</td>\n",
       "      <td>0</td>\n",
       "      <td>19.20</td>\n",
       "      <td>1.0</td>\n",
       "      <td>-8.57</td>\n",
       "      <td>27.77</td>\n",
       "      <td>19.20</td>\n",
       "      <td>HAMDEN</td>\n",
       "      <td>CT</td>\n",
       "      <td>Strip Store</td>\n",
       "      <td>6514.0</td>\n",
       "      <td>3708.0</td>\n",
       "      <td>NaN</td>\n",
       "      <td>NaN</td>\n",
       "      <td>NaN</td>\n",
       "      <td>NaN</td>\n",
       "      <td>NaN</td>\n",
       "    </tr>\n",
       "    <tr>\n",
       "      <th>16348</th>\n",
       "      <td>2015-10-18</td>\n",
       "      <td>1061</td>\n",
       "      <td>2641068.0</td>\n",
       "      <td>0</td>\n",
       "      <td>24.99</td>\n",
       "      <td>1.0</td>\n",
       "      <td>4.79</td>\n",
       "      <td>20.20</td>\n",
       "      <td>24.99</td>\n",
       "      <td>ORLANDO</td>\n",
       "      <td>FL</td>\n",
       "      <td>Outlet Mall</td>\n",
       "      <td>32819.0</td>\n",
       "      <td>3170.0</td>\n",
       "      <td>NaN</td>\n",
       "      <td>NaN</td>\n",
       "      <td>NaN</td>\n",
       "      <td>NaN</td>\n",
       "      <td>NaN</td>\n",
       "    </tr>\n",
       "    <tr>\n",
       "      <th>19093</th>\n",
       "      <td>2015-08-03</td>\n",
       "      <td>9</td>\n",
       "      <td>143271.0</td>\n",
       "      <td>0</td>\n",
       "      <td>11.02</td>\n",
       "      <td>1.0</td>\n",
       "      <td>-16.75</td>\n",
       "      <td>27.77</td>\n",
       "      <td>11.02</td>\n",
       "      <td>AVON</td>\n",
       "      <td>MA</td>\n",
       "      <td>Strip Store</td>\n",
       "      <td>2322.0</td>\n",
       "      <td>3798.0</td>\n",
       "      <td>NaN</td>\n",
       "      <td>NaN</td>\n",
       "      <td>NaN</td>\n",
       "      <td>NaN</td>\n",
       "      <td>NaN</td>\n",
       "    </tr>\n",
       "  </tbody>\n",
       "</table>\n",
       "</div>"
      ],
      "text/plain": [
       "           DAY_DT  LOC_IDNT      DBSKU  FULL_PRICE_IND  TOTAL_SALES  \\\n",
       "3968   2015-10-10      1025  2339580.0               0        27.00   \n",
       "4999   2015-08-21      1220   848861.0               0        23.00   \n",
       "15232  2015-10-26       665   143271.0               0        19.20   \n",
       "16348  2015-10-18      1061  2641068.0               0        24.99   \n",
       "19093  2015-08-03         9   143271.0               0        11.02   \n",
       "\n",
       "       TOTAL_UNITS  TOTAL_SALES_PRFT  TOTAL_COST  UNIT_SALES_PRICE  \\\n",
       "3968           1.0              5.73       21.27             27.00   \n",
       "4999           1.0              2.94       20.06             23.00   \n",
       "15232          1.0             -8.57       27.77             19.20   \n",
       "16348          1.0              4.79       20.20             24.99   \n",
       "19093          1.0            -16.75       27.77             11.02   \n",
       "\n",
       "                  CITY STATE     STORE_TYPE  POSTAL_CD  STORE_SIZE  \\\n",
       "3968   QUINCY             IL  Regional Mall    62301.0      3275.0   \n",
       "4999            CASPER    WY    Power Strip    82609.0      2754.0   \n",
       "15232  HAMDEN             CT    Strip Store     6514.0      3708.0   \n",
       "16348  ORLANDO            FL    Outlet Mall    32819.0      3170.0   \n",
       "19093  AVON               MA    Strip Store     2322.0      3798.0   \n",
       "\n",
       "       DEPARTMENT  CLASS  SUBCLASS  SUBCLASS_NAME  DSUBCLASS  \n",
       "3968          NaN    NaN       NaN            NaN        NaN  \n",
       "4999          NaN    NaN       NaN            NaN        NaN  \n",
       "15232         NaN    NaN       NaN            NaN        NaN  \n",
       "16348         NaN    NaN       NaN            NaN        NaN  \n",
       "19093         NaN    NaN       NaN            NaN        NaN  "
      ]
     },
     "execution_count": 68,
     "metadata": {},
     "output_type": "execute_result"
    }
   ],
   "source": [
    "transact2[transact2[\"DEPARTMENT\"].isnull()].head()"
   ]
  },
  {
   "cell_type": "markdown",
   "metadata": {},
   "source": [
    "#### We see that these missing values arise due to SKUs which are part of a test class, and have been removed from the product data set, and can be removed safely"
   ]
  },
  {
   "cell_type": "code",
   "execution_count": 69,
   "metadata": {},
   "outputs": [],
   "source": [
    "transact2=transact2.dropna()"
   ]
  },
  {
   "cell_type": "code",
   "execution_count": 70,
   "metadata": {},
   "outputs": [
    {
     "data": {
      "text/plain": [
       "(12589631, 19)"
      ]
     },
     "execution_count": 70,
     "metadata": {},
     "output_type": "execute_result"
    }
   ],
   "source": [
    "transact2.shape"
   ]
  },
  {
   "cell_type": "code",
   "execution_count": 71,
   "metadata": {},
   "outputs": [
    {
     "data": {
      "text/html": [
       "<div>\n",
       "<style scoped>\n",
       "    .dataframe tbody tr th:only-of-type {\n",
       "        vertical-align: middle;\n",
       "    }\n",
       "\n",
       "    .dataframe tbody tr th {\n",
       "        vertical-align: top;\n",
       "    }\n",
       "\n",
       "    .dataframe thead th {\n",
       "        text-align: right;\n",
       "    }\n",
       "</style>\n",
       "<table border=\"1\" class=\"dataframe\">\n",
       "  <thead>\n",
       "    <tr style=\"text-align: right;\">\n",
       "      <th></th>\n",
       "      <th>DAY_DT</th>\n",
       "      <th>LOC_IDNT</th>\n",
       "      <th>DBSKU</th>\n",
       "      <th>FULL_PRICE_IND</th>\n",
       "      <th>TOTAL_SALES</th>\n",
       "      <th>TOTAL_UNITS</th>\n",
       "      <th>TOTAL_SALES_PRFT</th>\n",
       "      <th>TOTAL_COST</th>\n",
       "      <th>UNIT_SALES_PRICE</th>\n",
       "      <th>CITY</th>\n",
       "      <th>STATE</th>\n",
       "      <th>STORE_TYPE</th>\n",
       "      <th>POSTAL_CD</th>\n",
       "      <th>STORE_SIZE</th>\n",
       "      <th>DEPARTMENT</th>\n",
       "      <th>CLASS</th>\n",
       "      <th>SUBCLASS</th>\n",
       "      <th>SUBCLASS_NAME</th>\n",
       "      <th>DSUBCLASS</th>\n",
       "    </tr>\n",
       "  </thead>\n",
       "  <tbody>\n",
       "    <tr>\n",
       "      <th>0</th>\n",
       "      <td>2015-09-26</td>\n",
       "      <td>1218</td>\n",
       "      <td>466896.0</td>\n",
       "      <td>0</td>\n",
       "      <td>16.80</td>\n",
       "      <td>1.0</td>\n",
       "      <td>1.3000</td>\n",
       "      <td>15.5000</td>\n",
       "      <td>16.80</td>\n",
       "      <td>COLUMBIA</td>\n",
       "      <td>SC</td>\n",
       "      <td>Lifestyle Center</td>\n",
       "      <td>29229.0</td>\n",
       "      <td>3050.0</td>\n",
       "      <td>10.0</td>\n",
       "      <td>3.0</td>\n",
       "      <td>31.0</td>\n",
       "      <td>2.0</td>\n",
       "      <td>1031.0</td>\n",
       "    </tr>\n",
       "    <tr>\n",
       "      <th>1</th>\n",
       "      <td>2015-08-02</td>\n",
       "      <td>1218</td>\n",
       "      <td>412445.0</td>\n",
       "      <td>0</td>\n",
       "      <td>29.99</td>\n",
       "      <td>1.0</td>\n",
       "      <td>12.9900</td>\n",
       "      <td>17.0000</td>\n",
       "      <td>29.99</td>\n",
       "      <td>COLUMBIA</td>\n",
       "      <td>SC</td>\n",
       "      <td>Lifestyle Center</td>\n",
       "      <td>29229.0</td>\n",
       "      <td>3050.0</td>\n",
       "      <td>10.0</td>\n",
       "      <td>2.0</td>\n",
       "      <td>21.0</td>\n",
       "      <td>2.0</td>\n",
       "      <td>1021.0</td>\n",
       "    </tr>\n",
       "    <tr>\n",
       "      <th>2</th>\n",
       "      <td>2015-10-21</td>\n",
       "      <td>1218</td>\n",
       "      <td>491738.0</td>\n",
       "      <td>1</td>\n",
       "      <td>44.00</td>\n",
       "      <td>1.0</td>\n",
       "      <td>28.2500</td>\n",
       "      <td>15.7500</td>\n",
       "      <td>44.00</td>\n",
       "      <td>COLUMBIA</td>\n",
       "      <td>SC</td>\n",
       "      <td>Lifestyle Center</td>\n",
       "      <td>29229.0</td>\n",
       "      <td>3050.0</td>\n",
       "      <td>10.0</td>\n",
       "      <td>5.0</td>\n",
       "      <td>50.0</td>\n",
       "      <td>3.0</td>\n",
       "      <td>1050.0</td>\n",
       "    </tr>\n",
       "    <tr>\n",
       "      <th>3</th>\n",
       "      <td>2015-08-02</td>\n",
       "      <td>1218</td>\n",
       "      <td>414979.0</td>\n",
       "      <td>0</td>\n",
       "      <td>24.00</td>\n",
       "      <td>1.0</td>\n",
       "      <td>6.9936</td>\n",
       "      <td>17.0064</td>\n",
       "      <td>24.00</td>\n",
       "      <td>COLUMBIA</td>\n",
       "      <td>SC</td>\n",
       "      <td>Lifestyle Center</td>\n",
       "      <td>29229.0</td>\n",
       "      <td>3050.0</td>\n",
       "      <td>10.0</td>\n",
       "      <td>3.0</td>\n",
       "      <td>32.0</td>\n",
       "      <td>1.0</td>\n",
       "      <td>1032.0</td>\n",
       "    </tr>\n",
       "    <tr>\n",
       "      <th>4</th>\n",
       "      <td>2015-07-26</td>\n",
       "      <td>1218</td>\n",
       "      <td>458372.0</td>\n",
       "      <td>1</td>\n",
       "      <td>48.00</td>\n",
       "      <td>1.0</td>\n",
       "      <td>30.0000</td>\n",
       "      <td>18.0000</td>\n",
       "      <td>48.00</td>\n",
       "      <td>COLUMBIA</td>\n",
       "      <td>SC</td>\n",
       "      <td>Lifestyle Center</td>\n",
       "      <td>29229.0</td>\n",
       "      <td>3050.0</td>\n",
       "      <td>10.0</td>\n",
       "      <td>3.0</td>\n",
       "      <td>32.0</td>\n",
       "      <td>1.0</td>\n",
       "      <td>1032.0</td>\n",
       "    </tr>\n",
       "  </tbody>\n",
       "</table>\n",
       "</div>"
      ],
      "text/plain": [
       "       DAY_DT  LOC_IDNT     DBSKU  FULL_PRICE_IND  TOTAL_SALES  TOTAL_UNITS  \\\n",
       "0  2015-09-26      1218  466896.0               0        16.80          1.0   \n",
       "1  2015-08-02      1218  412445.0               0        29.99          1.0   \n",
       "2  2015-10-21      1218  491738.0               1        44.00          1.0   \n",
       "3  2015-08-02      1218  414979.0               0        24.00          1.0   \n",
       "4  2015-07-26      1218  458372.0               1        48.00          1.0   \n",
       "\n",
       "   TOTAL_SALES_PRFT  TOTAL_COST  UNIT_SALES_PRICE      CITY STATE  \\\n",
       "0            1.3000     15.5000             16.80  COLUMBIA    SC   \n",
       "1           12.9900     17.0000             29.99  COLUMBIA    SC   \n",
       "2           28.2500     15.7500             44.00  COLUMBIA    SC   \n",
       "3            6.9936     17.0064             24.00  COLUMBIA    SC   \n",
       "4           30.0000     18.0000             48.00  COLUMBIA    SC   \n",
       "\n",
       "         STORE_TYPE  POSTAL_CD  STORE_SIZE  DEPARTMENT  CLASS  SUBCLASS  \\\n",
       "0  Lifestyle Center    29229.0      3050.0        10.0    3.0      31.0   \n",
       "1  Lifestyle Center    29229.0      3050.0        10.0    2.0      21.0   \n",
       "2  Lifestyle Center    29229.0      3050.0        10.0    5.0      50.0   \n",
       "3  Lifestyle Center    29229.0      3050.0        10.0    3.0      32.0   \n",
       "4  Lifestyle Center    29229.0      3050.0        10.0    3.0      32.0   \n",
       "\n",
       "   SUBCLASS_NAME  DSUBCLASS  \n",
       "0            2.0     1031.0  \n",
       "1            2.0     1021.0  \n",
       "2            3.0     1050.0  \n",
       "3            1.0     1032.0  \n",
       "4            1.0     1032.0  "
      ]
     },
     "execution_count": 71,
     "metadata": {},
     "output_type": "execute_result"
    }
   ],
   "source": [
    "transact2.head()"
   ]
  },
  {
   "cell_type": "code",
   "execution_count": 72,
   "metadata": {},
   "outputs": [],
   "source": [
    "pp.ProfileReport(transact2).to_file(outputfile=\"./combined_dataset.html\")"
   ]
  },
  {
   "cell_type": "markdown",
   "metadata": {},
   "source": [
    "### Output to CSV"
   ]
  },
  {
   "cell_type": "code",
   "execution_count": 73,
   "metadata": {},
   "outputs": [],
   "source": [
    "transact2.to_csv('tmc_final_data.csv',index=False)"
   ]
  },
  {
   "cell_type": "code",
   "execution_count": null,
   "metadata": {},
   "outputs": [],
   "source": []
  }
 ],
 "metadata": {
  "kernelspec": {
   "display_name": "Python 3",
   "language": "python",
   "name": "python3"
  },
  "language_info": {
   "codemirror_mode": {
    "name": "ipython",
    "version": 3
   },
   "file_extension": ".py",
   "mimetype": "text/x-python",
   "name": "python",
   "nbconvert_exporter": "python",
   "pygments_lexer": "ipython3",
   "version": "3.7.0"
  }
 },
 "nbformat": 4,
 "nbformat_minor": 2
}
