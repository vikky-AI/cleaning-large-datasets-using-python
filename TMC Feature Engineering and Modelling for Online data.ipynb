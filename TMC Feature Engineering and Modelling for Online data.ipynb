{
 "cells": [
  {
   "cell_type": "markdown",
   "metadata": {},
   "source": [
    "# Feature Engineering on the Cleaned Online Data Set"
   ]
  },
  {
   "cell_type": "code",
   "execution_count": 1,
   "metadata": {},
   "outputs": [],
   "source": [
    "import numpy as np\n",
    "import pandas as pd\n",
    "import matplotlib.pyplot as plt\n",
    "%matplotlib inline"
   ]
  },
  {
   "cell_type": "markdown",
   "metadata": {},
   "source": [
    "#### Reading the cleaned online dataset"
   ]
  },
  {
   "cell_type": "code",
   "execution_count": 2,
   "metadata": {},
   "outputs": [],
   "source": [
    "tmc_onlinedata = pd.read_csv(\"tmc_online_data.csv\")"
   ]
  },
  {
   "cell_type": "code",
   "execution_count": 3,
   "metadata": {},
   "outputs": [
    {
     "data": {
      "text/html": [
       "<div>\n",
       "<style scoped>\n",
       "    .dataframe tbody tr th:only-of-type {\n",
       "        vertical-align: middle;\n",
       "    }\n",
       "\n",
       "    .dataframe tbody tr th {\n",
       "        vertical-align: top;\n",
       "    }\n",
       "\n",
       "    .dataframe thead th {\n",
       "        text-align: right;\n",
       "    }\n",
       "</style>\n",
       "<table border=\"1\" class=\"dataframe\">\n",
       "  <thead>\n",
       "    <tr style=\"text-align: right;\">\n",
       "      <th></th>\n",
       "      <th>DAY_DT</th>\n",
       "      <th>LOC_IDNT</th>\n",
       "      <th>DBSKU</th>\n",
       "      <th>ONLINE_FLAG</th>\n",
       "      <th>FULL_PRICE_IND</th>\n",
       "      <th>TOTAL_SALES</th>\n",
       "      <th>TOTAL_UNITS</th>\n",
       "      <th>TOTAL_SALES_PRFT</th>\n",
       "      <th>TOTAL_COST</th>\n",
       "      <th>UNIT_SALES_PRICE</th>\n",
       "      <th>DEPARTMENT</th>\n",
       "      <th>CLASS</th>\n",
       "      <th>SUBCLASS</th>\n",
       "      <th>SUBCLASS_NAME</th>\n",
       "      <th>DSUBCLASS</th>\n",
       "    </tr>\n",
       "  </thead>\n",
       "  <tbody>\n",
       "    <tr>\n",
       "      <th>0</th>\n",
       "      <td>2015-08-11</td>\n",
       "      <td>4150</td>\n",
       "      <td>2105437.0</td>\n",
       "      <td>1</td>\n",
       "      <td>1</td>\n",
       "      <td>307.51</td>\n",
       "      <td>6.0</td>\n",
       "      <td>191.17</td>\n",
       "      <td>116.34</td>\n",
       "      <td>51.251667</td>\n",
       "      <td>12</td>\n",
       "      <td>4</td>\n",
       "      <td>42</td>\n",
       "      <td>Sub Class 1</td>\n",
       "      <td>1242</td>\n",
       "    </tr>\n",
       "    <tr>\n",
       "      <th>1</th>\n",
       "      <td>2015-08-18</td>\n",
       "      <td>4150</td>\n",
       "      <td>307272.0</td>\n",
       "      <td>1</td>\n",
       "      <td>1</td>\n",
       "      <td>214.75</td>\n",
       "      <td>5.0</td>\n",
       "      <td>131.00</td>\n",
       "      <td>83.75</td>\n",
       "      <td>42.950000</td>\n",
       "      <td>10</td>\n",
       "      <td>4</td>\n",
       "      <td>41</td>\n",
       "      <td>Sub Class 2</td>\n",
       "      <td>1041</td>\n",
       "    </tr>\n",
       "    <tr>\n",
       "      <th>2</th>\n",
       "      <td>2015-08-04</td>\n",
       "      <td>4150</td>\n",
       "      <td>2995522.0</td>\n",
       "      <td>1</td>\n",
       "      <td>0</td>\n",
       "      <td>83.70</td>\n",
       "      <td>3.0</td>\n",
       "      <td>13.20</td>\n",
       "      <td>70.50</td>\n",
       "      <td>27.900000</td>\n",
       "      <td>12</td>\n",
       "      <td>2</td>\n",
       "      <td>20</td>\n",
       "      <td>Sub Class 4</td>\n",
       "      <td>1220</td>\n",
       "    </tr>\n",
       "    <tr>\n",
       "      <th>3</th>\n",
       "      <td>2015-08-17</td>\n",
       "      <td>4150</td>\n",
       "      <td>356840.0</td>\n",
       "      <td>1</td>\n",
       "      <td>1</td>\n",
       "      <td>100.00</td>\n",
       "      <td>1.0</td>\n",
       "      <td>72.00</td>\n",
       "      <td>28.00</td>\n",
       "      <td>100.000000</td>\n",
       "      <td>10</td>\n",
       "      <td>4</td>\n",
       "      <td>41</td>\n",
       "      <td>Sub Class 2</td>\n",
       "      <td>1041</td>\n",
       "    </tr>\n",
       "    <tr>\n",
       "      <th>4</th>\n",
       "      <td>2015-08-17</td>\n",
       "      <td>4150</td>\n",
       "      <td>434464.0</td>\n",
       "      <td>1</td>\n",
       "      <td>0</td>\n",
       "      <td>203.45</td>\n",
       "      <td>8.0</td>\n",
       "      <td>11.45</td>\n",
       "      <td>192.00</td>\n",
       "      <td>25.431250</td>\n",
       "      <td>10</td>\n",
       "      <td>4</td>\n",
       "      <td>41</td>\n",
       "      <td>Sub Class 2</td>\n",
       "      <td>1041</td>\n",
       "    </tr>\n",
       "  </tbody>\n",
       "</table>\n",
       "</div>"
      ],
      "text/plain": [
       "       DAY_DT  LOC_IDNT      DBSKU  ONLINE_FLAG  FULL_PRICE_IND  TOTAL_SALES  \\\n",
       "0  2015-08-11      4150  2105437.0            1               1       307.51   \n",
       "1  2015-08-18      4150   307272.0            1               1       214.75   \n",
       "2  2015-08-04      4150  2995522.0            1               0        83.70   \n",
       "3  2015-08-17      4150   356840.0            1               1       100.00   \n",
       "4  2015-08-17      4150   434464.0            1               0       203.45   \n",
       "\n",
       "   TOTAL_UNITS  TOTAL_SALES_PRFT  TOTAL_COST  UNIT_SALES_PRICE  DEPARTMENT  \\\n",
       "0          6.0            191.17      116.34         51.251667          12   \n",
       "1          5.0            131.00       83.75         42.950000          10   \n",
       "2          3.0             13.20       70.50         27.900000          12   \n",
       "3          1.0             72.00       28.00        100.000000          10   \n",
       "4          8.0             11.45      192.00         25.431250          10   \n",
       "\n",
       "   CLASS  SUBCLASS SUBCLASS_NAME  DSUBCLASS  \n",
       "0      4        42   Sub Class 1       1242  \n",
       "1      4        41   Sub Class 2       1041  \n",
       "2      2        20   Sub Class 4       1220  \n",
       "3      4        41   Sub Class 2       1041  \n",
       "4      4        41   Sub Class 2       1041  "
      ]
     },
     "execution_count": 3,
     "metadata": {},
     "output_type": "execute_result"
    }
   ],
   "source": [
    "tmc_onlinedata.head()"
   ]
  },
  {
   "cell_type": "markdown",
   "metadata": {},
   "source": [
    "### Dropping the insignificant Variables and reasons\n",
    "- 'DEPARTMENT', 'SUBCLASS' are replaced with its equivalent \"DSUBCLASS\" and 'CLASS','SUBCLASS_NAME' are insignificant\n",
    "- 'LOC_IDNT' - not needed as these are online transactions\n",
    "- 'TOTAL_SALES_PRFT', 'TOTAL_COST', 'TOTAL_SALES' are replaced with a Derived Column 'UNIT_SALES_PRICE'\n",
    "- Since all the values of the column ONLINE_FLAG = 1, we can drop it"
   ]
  },
  {
   "cell_type": "code",
   "execution_count": 3,
   "metadata": {},
   "outputs": [],
   "source": [
    "tmc_onlinedata.drop(['DEPARTMENT','CLASS','SUBCLASS_NAME','SUBCLASS','LOC_IDNT','TOTAL_SALES_PRFT','TOTAL_COST',\n",
    "                    'TOTAL_SALES','ONLINE_FLAG'],axis=1,inplace=True)"
   ]
  },
  {
   "cell_type": "code",
   "execution_count": 10,
   "metadata": {},
   "outputs": [
    {
     "data": {
      "text/plain": [
       "DAY_DT               object\n",
       "DBSKU               float64\n",
       "FULL_PRICE_IND        int64\n",
       "TOTAL_UNITS         float64\n",
       "UNIT_SALES_PRICE    float64\n",
       "DSUBCLASS             int64\n",
       "dtype: object"
      ]
     },
     "execution_count": 10,
     "metadata": {},
     "output_type": "execute_result"
    }
   ],
   "source": [
    "tmc_onlinedata.dtypes"
   ]
  },
  {
   "cell_type": "markdown",
   "metadata": {},
   "source": [
    "#### Downcasting datatypes to reduce the memory usage by the dataframe"
   ]
  },
  {
   "cell_type": "code",
   "execution_count": 4,
   "metadata": {},
   "outputs": [],
   "source": [
    "tmc_onlinedata['DSUBCLASS'] = tmc_onlinedata['DSUBCLASS'].astype(np.int16)\n",
    "tmc_onlinedata['FULL_PRICE_IND'] = tmc_onlinedata['FULL_PRICE_IND'].astype(np.int8)\n",
    "tmc_onlinedata['DBSKU'] = tmc_onlinedata['DBSKU'].astype(np.int32)\n",
    "tmc_onlinedata['TOTAL_UNITS'] = tmc_onlinedata['TOTAL_UNITS'].astype(np.int16)\n",
    "tmc_onlinedata['DAY_DT'] = pd.to_datetime(tmc_onlinedata['DAY_DT'])"
   ]
  },
  {
   "cell_type": "code",
   "execution_count": 5,
   "metadata": {},
   "outputs": [],
   "source": [
    "tmc_onlinedata.columns = tmc_onlinedata.columns.str.title()"
   ]
  },
  {
   "cell_type": "code",
   "execution_count": 6,
   "metadata": {},
   "outputs": [],
   "source": [
    "tmc_selected_group = tmc_onlinedata"
   ]
  },
  {
   "cell_type": "code",
   "execution_count": 16,
   "metadata": {},
   "outputs": [
    {
     "data": {
      "text/plain": [
       "(329116, 6)"
      ]
     },
     "execution_count": 16,
     "metadata": {},
     "output_type": "execute_result"
    }
   ],
   "source": [
    "tmc_selected_group.shape"
   ]
  },
  {
   "cell_type": "markdown",
   "metadata": {},
   "source": [
    "#### Converting the Day_Dt column's transaction Date value to Seasonal representing value for analysing seasonal sales"
   ]
  },
  {
   "cell_type": "code",
   "execution_count": 7,
   "metadata": {},
   "outputs": [],
   "source": [
    "tmc_selected_group['date'] = tmc_selected_group['Day_Dt']"
   ]
  },
  {
   "cell_type": "code",
   "execution_count": 8,
   "metadata": {},
   "outputs": [],
   "source": [
    "# calculate day of year\n",
    "tmc_selected_group['doy'] = tmc_selected_group['date'].dt.dayofyear\n",
    "# Create year\n",
    "tmc_selected_group['Year'] = tmc_selected_group['date'].dt.year\n",
    "\n",
    "#to divide by season it's better to use the day of the year instead of the months\n",
    "spring = range(80, 172)\n",
    "summer = range(172, 264)\n",
    "fall = range(264, 355)\n",
    "# winter = everything else\n",
    "\n",
    "date = []\n",
    "for i in tmc_selected_group['doy']:\n",
    "    if i in spring:\n",
    "        season = 'spring'\n",
    "    elif i in summer:\n",
    "        season = 'summer'\n",
    "    elif i in fall:\n",
    "        season = 'fall'\n",
    "    else:\n",
    "        season = 'winter'\n",
    "    date.append(season) \n",
    "    #add the resulting column to the dataframe (after transforming it as a Series)\n",
    "tmc_selected_group['season']= pd.Series(date)"
   ]
  },
  {
   "cell_type": "code",
   "execution_count": 19,
   "metadata": {
    "scrolled": true
   },
   "outputs": [
    {
     "data": {
      "text/html": [
       "<div>\n",
       "<style scoped>\n",
       "    .dataframe tbody tr th:only-of-type {\n",
       "        vertical-align: middle;\n",
       "    }\n",
       "\n",
       "    .dataframe tbody tr th {\n",
       "        vertical-align: top;\n",
       "    }\n",
       "\n",
       "    .dataframe thead th {\n",
       "        text-align: right;\n",
       "    }\n",
       "</style>\n",
       "<table border=\"1\" class=\"dataframe\">\n",
       "  <thead>\n",
       "    <tr style=\"text-align: right;\">\n",
       "      <th></th>\n",
       "      <th>Day_Dt</th>\n",
       "      <th>Dbsku</th>\n",
       "      <th>Full_Price_Ind</th>\n",
       "      <th>Total_Units</th>\n",
       "      <th>Unit_Sales_Price</th>\n",
       "      <th>Dsubclass</th>\n",
       "      <th>date</th>\n",
       "      <th>doy</th>\n",
       "      <th>Year</th>\n",
       "      <th>season</th>\n",
       "    </tr>\n",
       "  </thead>\n",
       "  <tbody>\n",
       "    <tr>\n",
       "      <th>0</th>\n",
       "      <td>2015-08-11</td>\n",
       "      <td>2105437</td>\n",
       "      <td>1</td>\n",
       "      <td>6</td>\n",
       "      <td>51.251667</td>\n",
       "      <td>1242</td>\n",
       "      <td>2015-08-11</td>\n",
       "      <td>223</td>\n",
       "      <td>2015</td>\n",
       "      <td>summer</td>\n",
       "    </tr>\n",
       "    <tr>\n",
       "      <th>1</th>\n",
       "      <td>2015-08-18</td>\n",
       "      <td>307272</td>\n",
       "      <td>1</td>\n",
       "      <td>5</td>\n",
       "      <td>42.950000</td>\n",
       "      <td>1041</td>\n",
       "      <td>2015-08-18</td>\n",
       "      <td>230</td>\n",
       "      <td>2015</td>\n",
       "      <td>summer</td>\n",
       "    </tr>\n",
       "    <tr>\n",
       "      <th>2</th>\n",
       "      <td>2015-08-04</td>\n",
       "      <td>2995522</td>\n",
       "      <td>0</td>\n",
       "      <td>3</td>\n",
       "      <td>27.900000</td>\n",
       "      <td>1220</td>\n",
       "      <td>2015-08-04</td>\n",
       "      <td>216</td>\n",
       "      <td>2015</td>\n",
       "      <td>summer</td>\n",
       "    </tr>\n",
       "    <tr>\n",
       "      <th>3</th>\n",
       "      <td>2015-08-17</td>\n",
       "      <td>356840</td>\n",
       "      <td>1</td>\n",
       "      <td>1</td>\n",
       "      <td>100.000000</td>\n",
       "      <td>1041</td>\n",
       "      <td>2015-08-17</td>\n",
       "      <td>229</td>\n",
       "      <td>2015</td>\n",
       "      <td>summer</td>\n",
       "    </tr>\n",
       "    <tr>\n",
       "      <th>4</th>\n",
       "      <td>2015-08-17</td>\n",
       "      <td>434464</td>\n",
       "      <td>0</td>\n",
       "      <td>8</td>\n",
       "      <td>25.431250</td>\n",
       "      <td>1041</td>\n",
       "      <td>2015-08-17</td>\n",
       "      <td>229</td>\n",
       "      <td>2015</td>\n",
       "      <td>summer</td>\n",
       "    </tr>\n",
       "  </tbody>\n",
       "</table>\n",
       "</div>"
      ],
      "text/plain": [
       "      Day_Dt    Dbsku  Full_Price_Ind  Total_Units  Unit_Sales_Price  \\\n",
       "0 2015-08-11  2105437               1            6         51.251667   \n",
       "1 2015-08-18   307272               1            5         42.950000   \n",
       "2 2015-08-04  2995522               0            3         27.900000   \n",
       "3 2015-08-17   356840               1            1        100.000000   \n",
       "4 2015-08-17   434464               0            8         25.431250   \n",
       "\n",
       "   Dsubclass       date  doy  Year  season  \n",
       "0       1242 2015-08-11  223  2015  summer  \n",
       "1       1041 2015-08-18  230  2015  summer  \n",
       "2       1220 2015-08-04  216  2015  summer  \n",
       "3       1041 2015-08-17  229  2015  summer  \n",
       "4       1041 2015-08-17  229  2015  summer  "
      ]
     },
     "execution_count": 19,
     "metadata": {},
     "output_type": "execute_result"
    }
   ],
   "source": [
    "tmc_selected_group.head()"
   ]
  },
  {
   "cell_type": "markdown",
   "metadata": {},
   "source": [
    "Dropping the Day_Dt column and other intermediate columns"
   ]
  },
  {
   "cell_type": "code",
   "execution_count": 9,
   "metadata": {},
   "outputs": [],
   "source": [
    "tmc_selected_group.drop(['Day_Dt','date','Year','doy'],axis=1,inplace=True)"
   ]
  },
  {
   "cell_type": "markdown",
   "metadata": {},
   "source": [
    "Converting the season variable into Category type"
   ]
  },
  {
   "cell_type": "code",
   "execution_count": 10,
   "metadata": {},
   "outputs": [],
   "source": [
    "tmc_selected_group['season'] = tmc_selected_group['season'].astype('category')"
   ]
  },
  {
   "cell_type": "code",
   "execution_count": 11,
   "metadata": {
    "scrolled": false
   },
   "outputs": [
    {
     "data": {
      "text/html": [
       "<div>\n",
       "<style scoped>\n",
       "    .dataframe tbody tr th:only-of-type {\n",
       "        vertical-align: middle;\n",
       "    }\n",
       "\n",
       "    .dataframe tbody tr th {\n",
       "        vertical-align: top;\n",
       "    }\n",
       "\n",
       "    .dataframe thead th {\n",
       "        text-align: right;\n",
       "    }\n",
       "</style>\n",
       "<table border=\"1\" class=\"dataframe\">\n",
       "  <thead>\n",
       "    <tr style=\"text-align: right;\">\n",
       "      <th></th>\n",
       "      <th>Dbsku</th>\n",
       "      <th>Full_Price_Ind</th>\n",
       "      <th>Total_Units</th>\n",
       "      <th>Unit_Sales_Price</th>\n",
       "      <th>Dsubclass</th>\n",
       "      <th>season</th>\n",
       "    </tr>\n",
       "  </thead>\n",
       "  <tbody>\n",
       "    <tr>\n",
       "      <th>0</th>\n",
       "      <td>2105437</td>\n",
       "      <td>1</td>\n",
       "      <td>6</td>\n",
       "      <td>51.251667</td>\n",
       "      <td>1242</td>\n",
       "      <td>summer</td>\n",
       "    </tr>\n",
       "    <tr>\n",
       "      <th>1</th>\n",
       "      <td>307272</td>\n",
       "      <td>1</td>\n",
       "      <td>5</td>\n",
       "      <td>42.950000</td>\n",
       "      <td>1041</td>\n",
       "      <td>summer</td>\n",
       "    </tr>\n",
       "    <tr>\n",
       "      <th>2</th>\n",
       "      <td>2995522</td>\n",
       "      <td>0</td>\n",
       "      <td>3</td>\n",
       "      <td>27.900000</td>\n",
       "      <td>1220</td>\n",
       "      <td>summer</td>\n",
       "    </tr>\n",
       "    <tr>\n",
       "      <th>3</th>\n",
       "      <td>356840</td>\n",
       "      <td>1</td>\n",
       "      <td>1</td>\n",
       "      <td>100.000000</td>\n",
       "      <td>1041</td>\n",
       "      <td>summer</td>\n",
       "    </tr>\n",
       "    <tr>\n",
       "      <th>4</th>\n",
       "      <td>434464</td>\n",
       "      <td>0</td>\n",
       "      <td>8</td>\n",
       "      <td>25.431250</td>\n",
       "      <td>1041</td>\n",
       "      <td>summer</td>\n",
       "    </tr>\n",
       "  </tbody>\n",
       "</table>\n",
       "</div>"
      ],
      "text/plain": [
       "     Dbsku  Full_Price_Ind  Total_Units  Unit_Sales_Price  Dsubclass  season\n",
       "0  2105437               1            6         51.251667       1242  summer\n",
       "1   307272               1            5         42.950000       1041  summer\n",
       "2  2995522               0            3         27.900000       1220  summer\n",
       "3   356840               1            1        100.000000       1041  summer\n",
       "4   434464               0            8         25.431250       1041  summer"
      ]
     },
     "execution_count": 11,
     "metadata": {},
     "output_type": "execute_result"
    }
   ],
   "source": [
    "tmc_selected_group.head()"
   ]
  },
  {
   "cell_type": "markdown",
   "metadata": {},
   "source": [
    "#### Rounding the Unit_Sales_Price upto 2 decimal places"
   ]
  },
  {
   "cell_type": "code",
   "execution_count": 12,
   "metadata": {},
   "outputs": [],
   "source": [
    "tmc_selected_group['Unit_Sales_Price'] = round(tmc_selected_group['Unit_Sales_Price'],2)"
   ]
  },
  {
   "cell_type": "code",
   "execution_count": 13,
   "metadata": {},
   "outputs": [
    {
     "data": {
      "text/plain": [
       "(329116, 6)"
      ]
     },
     "execution_count": 13,
     "metadata": {},
     "output_type": "execute_result"
    }
   ],
   "source": [
    "tmc_selected_group.shape"
   ]
  },
  {
   "cell_type": "markdown",
   "metadata": {},
   "source": [
    "#### In order not to have duplicates of similar type of transactions, grouping the data based on all necessary columns by summing up the Total_Units Sold"
   ]
  },
  {
   "cell_type": "code",
   "execution_count": 14,
   "metadata": {},
   "outputs": [],
   "source": [
    "tmc_group = tmc_selected_group.groupby(['Dbsku','Dsubclass','Unit_Sales_Price','season','Full_Price_Ind'])['Total_Units'].sum().reset_index()"
   ]
  },
  {
   "cell_type": "code",
   "execution_count": 15,
   "metadata": {},
   "outputs": [
    {
     "data": {
      "text/plain": [
       "(229384, 6)"
      ]
     },
     "execution_count": 15,
     "metadata": {},
     "output_type": "execute_result"
    }
   ],
   "source": [
    "tmc_group.shape"
   ]
  },
  {
   "cell_type": "code",
   "execution_count": 16,
   "metadata": {},
   "outputs": [
    {
     "data": {
      "text/html": [
       "<div>\n",
       "<style scoped>\n",
       "    .dataframe tbody tr th:only-of-type {\n",
       "        vertical-align: middle;\n",
       "    }\n",
       "\n",
       "    .dataframe tbody tr th {\n",
       "        vertical-align: top;\n",
       "    }\n",
       "\n",
       "    .dataframe thead th {\n",
       "        text-align: right;\n",
       "    }\n",
       "</style>\n",
       "<table border=\"1\" class=\"dataframe\">\n",
       "  <thead>\n",
       "    <tr style=\"text-align: right;\">\n",
       "      <th></th>\n",
       "      <th>Dbsku</th>\n",
       "      <th>Dsubclass</th>\n",
       "      <th>Unit_Sales_Price</th>\n",
       "      <th>season</th>\n",
       "      <th>Full_Price_Ind</th>\n",
       "      <th>Total_Units</th>\n",
       "    </tr>\n",
       "  </thead>\n",
       "  <tbody>\n",
       "    <tr>\n",
       "      <th>0</th>\n",
       "      <td>104398</td>\n",
       "      <td>1031</td>\n",
       "      <td>19.29</td>\n",
       "      <td>winter</td>\n",
       "      <td>0</td>\n",
       "      <td>1</td>\n",
       "    </tr>\n",
       "    <tr>\n",
       "      <th>1</th>\n",
       "      <td>108456</td>\n",
       "      <td>1021</td>\n",
       "      <td>19.27</td>\n",
       "      <td>winter</td>\n",
       "      <td>0</td>\n",
       "      <td>1</td>\n",
       "    </tr>\n",
       "    <tr>\n",
       "      <th>2</th>\n",
       "      <td>108571</td>\n",
       "      <td>106</td>\n",
       "      <td>10.49</td>\n",
       "      <td>summer</td>\n",
       "      <td>0</td>\n",
       "      <td>1</td>\n",
       "    </tr>\n",
       "    <tr>\n",
       "      <th>3</th>\n",
       "      <td>108597</td>\n",
       "      <td>106</td>\n",
       "      <td>38.50</td>\n",
       "      <td>winter</td>\n",
       "      <td>0</td>\n",
       "      <td>1</td>\n",
       "    </tr>\n",
       "    <tr>\n",
       "      <th>4</th>\n",
       "      <td>114041</td>\n",
       "      <td>1021</td>\n",
       "      <td>16.94</td>\n",
       "      <td>winter</td>\n",
       "      <td>0</td>\n",
       "      <td>1</td>\n",
       "    </tr>\n",
       "  </tbody>\n",
       "</table>\n",
       "</div>"
      ],
      "text/plain": [
       "    Dbsku  Dsubclass  Unit_Sales_Price  season  Full_Price_Ind  Total_Units\n",
       "0  104398       1031             19.29  winter               0            1\n",
       "1  108456       1021             19.27  winter               0            1\n",
       "2  108571        106             10.49  summer               0            1\n",
       "3  108597        106             38.50  winter               0            1\n",
       "4  114041       1021             16.94  winter               0            1"
      ]
     },
     "execution_count": 16,
     "metadata": {},
     "output_type": "execute_result"
    }
   ],
   "source": [
    "tmc_group.head()"
   ]
  },
  {
   "cell_type": "markdown",
   "metadata": {},
   "source": [
    "#### Creating Dummies for Dsubclass, season"
   ]
  },
  {
   "cell_type": "code",
   "execution_count": 17,
   "metadata": {},
   "outputs": [],
   "source": [
    "tmc_maindata = pd.get_dummies(tmc_group, columns= ['Dsubclass', 'season'])"
   ]
  },
  {
   "cell_type": "markdown",
   "metadata": {},
   "source": [
    "#### By considering Dummy Variable Trap, dropping one dummy variable for each of (Season, Dsubclass)"
   ]
  },
  {
   "cell_type": "code",
   "execution_count": 18,
   "metadata": {},
   "outputs": [],
   "source": [
    "tmc_maindata.drop(['Dsubclass_1252','season_summer'], axis=1, inplace=True)"
   ]
  },
  {
   "cell_type": "markdown",
   "metadata": {},
   "source": [
    "#### Considering Unit_Sales_Price as the target variable where we are going to predict the price "
   ]
  },
  {
   "cell_type": "code",
   "execution_count": 19,
   "metadata": {},
   "outputs": [],
   "source": [
    "tmctarget =tmc_maindata['Unit_Sales_Price']"
   ]
  },
  {
   "cell_type": "code",
   "execution_count": 20,
   "metadata": {},
   "outputs": [],
   "source": [
    "tmc_maindata.drop(['Dbsku','Unit_Sales_Price'],axis=1,inplace=True)"
   ]
  },
  {
   "cell_type": "code",
   "execution_count": 21,
   "metadata": {
    "scrolled": false
   },
   "outputs": [
    {
     "data": {
      "text/plain": [
       "((229384, 30), (229384,))"
      ]
     },
     "execution_count": 21,
     "metadata": {},
     "output_type": "execute_result"
    }
   ],
   "source": [
    "tmc_maindata.shape,tmctarget.shape"
   ]
  },
  {
   "cell_type": "code",
   "execution_count": 22,
   "metadata": {
    "scrolled": true
   },
   "outputs": [
    {
     "data": {
      "text/plain": [
       "<matplotlib.axes._subplots.AxesSubplot at 0x2286d422438>"
      ]
     },
     "execution_count": 22,
     "metadata": {},
     "output_type": "execute_result"
    },
    {
     "data": {
      "image/png": "[encoded data removed]",
      "text/plain": [
       "<Figure size 432x288 with 1 Axes>"
      ]
     },
     "metadata": {
      "needs_background": "light"
     },
     "output_type": "display_data"
    }
   ],
   "source": [
    "tmc_group['season'].value_counts().plot(kind='bar')"
   ]
  },
  {
   "cell_type": "code",
   "execution_count": 23,
   "metadata": {},
   "outputs": [
    {
     "data": {
      "text/plain": [
       "<matplotlib.axes._subplots.AxesSubplot at 0x22800a999b0>"
      ]
     },
     "execution_count": 23,
     "metadata": {},
     "output_type": "execute_result"
    },
    {
     "data": {
      "image/png": "[encoded data removed]",
      "text/plain": [
       "<Figure size 432x288 with 1 Axes>"
      ]
     },
     "metadata": {
      "needs_background": "light"
     },
     "output_type": "display_data"
    }
   ],
   "source": [
    "tmc_group['Dsubclass'].value_counts().plot(kind='bar')"
   ]
  },
  {
   "cell_type": "markdown",
   "metadata": {},
   "source": [
    "#### Plot b/w price and quantity"
   ]
  },
  {
   "cell_type": "code",
   "execution_count": 46,
   "metadata": {},
   "outputs": [
    {
     "data": {
      "image/png": "[encoded data removed]",
      "text/plain": [
       "<Figure size 432x288 with 1 Axes>"
      ]
     },
     "metadata": {
      "needs_background": "light"
     },
     "output_type": "display_data"
    }
   ],
   "source": [
    "x = tmc_maindata['Total_Units']\n",
    "y = tmctarget\n",
    "plt.scatter(x, y, alpha=0.5)\n",
    "plt.xlabel('Quantity')\n",
    "plt.ylabel('Price')\n",
    "plt.show()"
   ]
  },
  {
   "cell_type": "code",
   "execution_count": 59,
   "metadata": {},
   "outputs": [
    {
     "data": {
      "text/plain": [
       "(229384, 30)"
      ]
     },
     "execution_count": 59,
     "metadata": {},
     "output_type": "execute_result"
    }
   ],
   "source": [
    "tmc_maindata.shape"
   ]
  },
  {
   "cell_type": "markdown",
   "metadata": {},
   "source": [
    "###### Feature Selection using Random Forest which can give best features for modelling"
   ]
  },
  {
   "cell_type": "code",
   "execution_count": 60,
   "metadata": {},
   "outputs": [],
   "source": [
    "from sklearn.ensemble import RandomForestRegressor\n",
    "rfm = RandomForestRegressor(random_state=212)"
   ]
  },
  {
   "cell_type": "code",
   "execution_count": 61,
   "metadata": {},
   "outputs": [
    {
     "name": "stderr",
     "output_type": "stream",
     "text": [
      "C:\\Users\\ajayi\\AppData\\Local\\Continuum\\anaconda3\\lib\\site-packages\\sklearn\\ensemble\\forest.py:246: FutureWarning: The default value of n_estimators will change from 10 in version 0.20 to 100 in 0.22.\n",
      "  \"10 in version 0.20 to 100 in 0.22.\", FutureWarning)\n"
     ]
    },
    {
     "data": {
      "text/plain": [
       "RandomForestRegressor(bootstrap=True, criterion='mse', max_depth=None,\n",
       "           max_features='auto', max_leaf_nodes=None,\n",
       "           min_impurity_decrease=0.0, min_impurity_split=None,\n",
       "           min_samples_leaf=1, min_samples_split=2,\n",
       "           min_weight_fraction_leaf=0.0, n_estimators=10, n_jobs=None,\n",
       "           oob_score=False, random_state=212, verbose=0, warm_start=False)"
      ]
     },
     "execution_count": 61,
     "metadata": {},
     "output_type": "execute_result"
    }
   ],
   "source": [
    "rfm.fit(tmc_maindata,tmctarget)"
   ]
  },
  {
   "cell_type": "code",
   "execution_count": 62,
   "metadata": {},
   "outputs": [
    {
     "data": {
      "text/plain": [
       "[(0.6136735814723474, 'Full_Price_Ind'),\n",
       " (0.08785955248825042, 'Dsubclass_1241'),\n",
       " (0.078369954788538, 'Dsubclass_1041'),\n",
       " (0.05061901802476341, 'Total_Units'),\n",
       " (0.02469549084661909, 'season_spring'),\n",
       " (0.023524019821260577, 'Dsubclass_1240'),\n",
       " (0.01639328844559328, 'Dsubclass_1242'),\n",
       " (0.014734323365431828, 'Dsubclass_1220'),\n",
       " (0.009950118915449587, 'Dsubclass_1042'),\n",
       " (0.009713736338609079, 'Dsubclass_1040'),\n",
       " (0.007392836291751234, 'Dsubclass_1230'),\n",
       " (0.0070579874877822425, 'season_winter'),\n",
       " (0.006790866327822405, 'Dsubclass_1052'),\n",
       " (0.006238742207569112, 'Dsubclass_1232'),\n",
       " (0.0055620276076732535, 'season_fall'),\n",
       " (0.005333298220318693, 'Dsubclass_125'),\n",
       " (0.005099802323908718, 'Dsubclass_1051'),\n",
       " (0.004557059630625111, 'Dsubclass_1221'),\n",
       " (0.0033677347498824047, 'Dsubclass_1020'),\n",
       " (0.002968345562607612, 'Dsubclass_1050'),\n",
       " (0.002605021657145428, 'Dsubclass_126'),\n",
       " (0.002414056142274962, 'Dsubclass_1251'),\n",
       " (0.0021226200508619314, 'Dsubclass_1031'),\n",
       " (0.0015182162305595885, 'Dsubclass_1030'),\n",
       " (0.0013713289137097502, 'Dsubclass_1231'),\n",
       " (0.001283539163324163, 'Dsubclass_105'),\n",
       " (0.0012831196009183768, 'Dsubclass_1021'),\n",
       " (0.001218505098090997, 'Dsubclass_1250'),\n",
       " (0.0012135500869612098, 'Dsubclass_106'),\n",
       " (0.0010682581393500444, 'Dsubclass_1032')]"
      ]
     },
     "execution_count": 62,
     "metadata": {},
     "output_type": "execute_result"
    }
   ],
   "source": [
    "feature_list = []\n",
    "for name, score in zip(tmc_maindata.columns, rfm.feature_importances_):\n",
    "    feature_list.append((score, name))\n",
    "sorted(feature_list, reverse=True)"
   ]
  },
  {
   "cell_type": "code",
   "execution_count": 64,
   "metadata": {
    "scrolled": true
   },
   "outputs": [
    {
     "name": "stdout",
     "output_type": "stream",
     "text": [
      "Current size: [12.0, 15.0]\n"
     ]
    },
    {
     "data": {
      "image/png": "[encoded data removed]",
      "text/plain": [
       "<Figure size 864x1080 with 1 Axes>"
      ]
     },
     "metadata": {
      "needs_background": "light"
     },
     "output_type": "display_data"
    }
   ],
   "source": [
    "features = tmc_maindata.columns\n",
    "importances = rfm.feature_importances_\n",
    "indices = np.argsort(importances)[-50:]  # top 50 features\n",
    "plt.title('Feature Importances')\n",
    "plt.barh(range(len(indices)), importances[indices], color='b', align='center',)\n",
    "plt.yticks(range(len(indices)), [features[i] for i in indices])\n",
    "plt.xlabel('Relative Importance')\n",
    "fig_size = plt.rcParams[\"figure.figsize\"]\n",
    "print(\"Current size:\", fig_size)\n",
    "fig_size[0] = 12\n",
    "fig_size[1] = 15\n",
    "plt.rcParams[\"figure.figsize\"] = fig_size"
   ]
  },
  {
   "cell_type": "code",
   "execution_count": 65,
   "metadata": {},
   "outputs": [
    {
     "data": {
      "text/plain": [
       "Index(['Full_Price_Ind', 'Total_Units', 'Dsubclass_105', 'Dsubclass_106',\n",
       "       'Dsubclass_125', 'Dsubclass_126', 'Dsubclass_1020', 'Dsubclass_1021',\n",
       "       'Dsubclass_1030', 'Dsubclass_1031', 'Dsubclass_1032', 'Dsubclass_1040',\n",
       "       'Dsubclass_1041', 'Dsubclass_1042', 'Dsubclass_1050', 'Dsubclass_1051',\n",
       "       'Dsubclass_1052', 'Dsubclass_1220', 'Dsubclass_1221', 'Dsubclass_1230',\n",
       "       'Dsubclass_1231', 'Dsubclass_1232', 'Dsubclass_1240', 'Dsubclass_1241',\n",
       "       'Dsubclass_1242', 'Dsubclass_1250', 'Dsubclass_1251', 'season_fall',\n",
       "       'season_spring', 'season_winter'],\n",
       "      dtype='object')"
      ]
     },
     "execution_count": 65,
     "metadata": {},
     "output_type": "execute_result"
    }
   ],
   "source": [
    "tmc_maindata.columns"
   ]
  },
  {
   "cell_type": "markdown",
   "metadata": {},
   "source": [
    "#### Considering all features for modelling"
   ]
  },
  {
   "cell_type": "code",
   "execution_count": 66,
   "metadata": {},
   "outputs": [],
   "source": [
    "tmc_sel_feat = tmc_maindata[['Full_Price_Ind', 'Total_Units', 'Dsubclass_105', 'Dsubclass_106',\n",
    "       'Dsubclass_125', 'Dsubclass_126', 'Dsubclass_1020', 'Dsubclass_1021',\n",
    "       'Dsubclass_1030', 'Dsubclass_1031', 'Dsubclass_1032', 'Dsubclass_1040',\n",
    "       'Dsubclass_1041', 'Dsubclass_1042', 'Dsubclass_1050', 'Dsubclass_1051',\n",
    "       'Dsubclass_1052', 'Dsubclass_1220', 'Dsubclass_1221', 'Dsubclass_1230',\n",
    "       'Dsubclass_1231', 'Dsubclass_1232', 'Dsubclass_1240', 'Dsubclass_1241',\n",
    "       'Dsubclass_1242', 'Dsubclass_1250', 'Dsubclass_1251', 'season_fall',\n",
    "       'season_spring', 'season_winter']]"
   ]
  },
  {
   "cell_type": "markdown",
   "metadata": {},
   "source": [
    "- Correlation Between few Xs and target variable 'Unit_Sales_Price'"
   ]
  },
  {
   "cell_type": "code",
   "execution_count": 67,
   "metadata": {
    "scrolled": true
   },
   "outputs": [
    {
     "name": "stdout",
     "output_type": "stream",
     "text": [
      " For Full_Price_Ind vs y ---> PointbiserialrResult(correlation=0.5945231691774283, pvalue=0.0)\n",
      " For season_spring Store vs y ---> PointbiserialrResult(correlation=0.08520095215473449, pvalue=0.0)\n",
      " For Total_Units vs y ---> PointbiserialrResult(correlation=-0.08408160643301683, pvalue=0.0)\n",
      " For Dsubclass_125 vs y ---> PointbiserialrResult(correlation=0.019822739523488987, pvalue=2.2064758898635197e-21)\n",
      " For Dsubclass_126 vs y ---> PointbiserialrResult(correlation=-0.0005811951813708883, pvalue=0.7807387729261397)\n",
      " For season_fall vs y ---> PointbiserialrResult(correlation=-0.009069376865985336, pvalue=1.400661118080438e-05)\n",
      " For Dsubclass_1020 vs y ---> PointbiserialrResult(correlation=-0.1436822530330195, pvalue=0.0)\n",
      " For season_winter vs y ---> PointbiserialrResult(correlation=-0.04805294813259728, pvalue=2.4622497196686614e-117)\n",
      " For Dsubclass_1242 vs y ---> PointbiserialrResult(correlation=0.0804609893590801, pvalue=0.0)\n"
     ]
    }
   ],
   "source": [
    "from scipy import stats\n",
    "print(\" For Full_Price_Ind vs y --->\",stats.pointbiserialr(tmc_sel_feat['Full_Price_Ind'], tmctarget))\n",
    "print(\" For season_spring Store vs y --->\",stats.pointbiserialr(tmc_sel_feat['season_spring'], tmctarget))\n",
    "print(\" For Total_Units vs y --->\",stats.pointbiserialr(tmc_sel_feat['Total_Units'], tmctarget))\n",
    "print(\" For Dsubclass_125 vs y --->\",stats.pointbiserialr(tmc_sel_feat['Dsubclass_125'], tmctarget))\n",
    "print(\" For Dsubclass_126 vs y --->\",stats.pointbiserialr(tmc_sel_feat['Dsubclass_126'], tmctarget))\n",
    "print(\" For season_fall vs y --->\",stats.pointbiserialr(tmc_sel_feat['season_fall'], tmctarget))\n",
    "print(\" For Dsubclass_1020 vs y --->\",stats.pointbiserialr(tmc_sel_feat['Dsubclass_1020'], tmctarget))\n",
    "print(\" For season_winter vs y --->\",stats.pointbiserialr(tmc_sel_feat['season_winter'], tmctarget))\n",
    "print(\" For Dsubclass_1242 vs y --->\",stats.pointbiserialr(tmc_sel_feat['Dsubclass_1242'], tmctarget))"
   ]
  },
  {
   "cell_type": "markdown",
   "metadata": {},
   "source": [
    "#### Splitting the Dataset and training the dataset using OLS, Linear, Ridge, Lasso Regressions"
   ]
  },
  {
   "cell_type": "code",
   "execution_count": 68,
   "metadata": {},
   "outputs": [],
   "source": [
    "from sklearn import model_selection\n",
    "from sklearn.model_selection import KFold\n",
    "from sklearn.model_selection import train_test_split\n",
    "import statsmodels.api as sm\n",
    "from sklearn.linear_model import LinearRegression\n",
    "from sklearn.metrics import mean_absolute_error,mean_squared_error, r2_score\n",
    "from sklearn.linear_model import Lasso\n",
    "from sklearn.linear_model import Ridge"
   ]
  },
  {
   "cell_type": "markdown",
   "metadata": {},
   "source": [
    "#### Applying OLS Model on the dataset"
   ]
  },
  {
   "cell_type": "code",
   "execution_count": 69,
   "metadata": {
    "scrolled": true
   },
   "outputs": [
    {
     "name": "stderr",
     "output_type": "stream",
     "text": [
      "C:\\Users\\ajayi\\AppData\\Local\\Continuum\\anaconda3\\lib\\site-packages\\numpy\\core\\fromnumeric.py:2389: FutureWarning: Method .ptp is deprecated and will be removed in a future version. Use numpy.ptp instead.\n",
      "  return ptp(axis=axis, out=out, **kwargs)\n"
     ]
    },
    {
     "data": {
      "text/html": [
       "<table class=\"simpletable\">\n",
       "<caption>OLS Regression Results</caption>\n",
       "<tr>\n",
       "  <th>Dep. Variable:</th>    <td>Unit_Sales_Price</td> <th>  R-squared:         </th>  <td>   0.508</td>  \n",
       "</tr>\n",
       "<tr>\n",
       "  <th>Model:</th>                   <td>OLS</td>       <th>  Adj. R-squared:    </th>  <td>   0.508</td>  \n",
       "</tr>\n",
       "<tr>\n",
       "  <th>Method:</th>             <td>Least Squares</td>  <th>  F-statistic:       </th>  <td>   5530.</td>  \n",
       "</tr>\n",
       "<tr>\n",
       "  <th>Date:</th>             <td>Thu, 09 May 2019</td> <th>  Prob (F-statistic):</th>   <td>  0.00</td>   \n",
       "</tr>\n",
       "<tr>\n",
       "  <th>Time:</th>                 <td>06:32:07</td>     <th>  Log-Likelihood:    </th> <td>-5.9729e+05</td>\n",
       "</tr>\n",
       "<tr>\n",
       "  <th>No. Observations:</th>      <td>160568</td>      <th>  AIC:               </th>  <td>1.195e+06</td> \n",
       "</tr>\n",
       "<tr>\n",
       "  <th>Df Residuals:</th>          <td>160537</td>      <th>  BIC:               </th>  <td>1.195e+06</td> \n",
       "</tr>\n",
       "<tr>\n",
       "  <th>Df Model:</th>              <td>    30</td>      <th>                     </th>      <td> </td>     \n",
       "</tr>\n",
       "<tr>\n",
       "  <th>Covariance Type:</th>      <td>nonrobust</td>    <th>                     </th>      <td> </td>     \n",
       "</tr>\n",
       "</table>\n",
       "<table class=\"simpletable\">\n",
       "<tr>\n",
       "         <td></td>           <th>coef</th>     <th>std err</th>      <th>t</th>      <th>P>|t|</th>  <th>[0.025</th>    <th>0.975]</th>  \n",
       "</tr>\n",
       "<tr>\n",
       "  <th>const</th>          <td>   17.1946</td> <td>    0.368</td> <td>   46.720</td> <td> 0.000</td> <td>   16.473</td> <td>   17.916</td>\n",
       "</tr>\n",
       "<tr>\n",
       "  <th>Full_Price_Ind</th> <td>   17.9908</td> <td>    0.053</td> <td>  338.838</td> <td> 0.000</td> <td>   17.887</td> <td>   18.095</td>\n",
       "</tr>\n",
       "<tr>\n",
       "  <th>Total_Units</th>    <td>   -0.0982</td> <td>    0.003</td> <td>  -37.268</td> <td> 0.000</td> <td>   -0.103</td> <td>   -0.093</td>\n",
       "</tr>\n",
       "<tr>\n",
       "  <th>Dsubclass_105</th>  <td>    7.4156</td> <td>    0.394</td> <td>   18.811</td> <td> 0.000</td> <td>    6.643</td> <td>    8.188</td>\n",
       "</tr>\n",
       "<tr>\n",
       "  <th>Dsubclass_106</th>  <td>    6.2718</td> <td>    0.386</td> <td>   16.251</td> <td> 0.000</td> <td>    5.515</td> <td>    7.028</td>\n",
       "</tr>\n",
       "<tr>\n",
       "  <th>Dsubclass_125</th>  <td>   11.7243</td> <td>    0.415</td> <td>   28.264</td> <td> 0.000</td> <td>   10.911</td> <td>   12.537</td>\n",
       "</tr>\n",
       "<tr>\n",
       "  <th>Dsubclass_126</th>  <td>    9.8159</td> <td>    0.417</td> <td>   23.565</td> <td> 0.000</td> <td>    9.000</td> <td>   10.632</td>\n",
       "</tr>\n",
       "<tr>\n",
       "  <th>Dsubclass_1020</th> <td>    6.7115</td> <td>    0.367</td> <td>   18.276</td> <td> 0.000</td> <td>    5.992</td> <td>    7.431</td>\n",
       "</tr>\n",
       "<tr>\n",
       "  <th>Dsubclass_1021</th> <td>    8.3175</td> <td>    0.380</td> <td>   21.894</td> <td> 0.000</td> <td>    7.573</td> <td>    9.062</td>\n",
       "</tr>\n",
       "<tr>\n",
       "  <th>Dsubclass_1030</th> <td>    5.9855</td> <td>    0.400</td> <td>   14.952</td> <td> 0.000</td> <td>    5.201</td> <td>    6.770</td>\n",
       "</tr>\n",
       "<tr>\n",
       "  <th>Dsubclass_1031</th> <td>    5.4527</td> <td>    0.386</td> <td>   14.119</td> <td> 0.000</td> <td>    4.696</td> <td>    6.210</td>\n",
       "</tr>\n",
       "<tr>\n",
       "  <th>Dsubclass_1032</th> <td>    8.6236</td> <td>    0.387</td> <td>   22.272</td> <td> 0.000</td> <td>    7.865</td> <td>    9.382</td>\n",
       "</tr>\n",
       "<tr>\n",
       "  <th>Dsubclass_1040</th> <td>   11.3821</td> <td>    0.378</td> <td>   30.108</td> <td> 0.000</td> <td>   10.641</td> <td>   12.123</td>\n",
       "</tr>\n",
       "<tr>\n",
       "  <th>Dsubclass_1041</th> <td>   21.0154</td> <td>    0.378</td> <td>   55.565</td> <td> 0.000</td> <td>   20.274</td> <td>   21.757</td>\n",
       "</tr>\n",
       "<tr>\n",
       "  <th>Dsubclass_1042</th> <td>   11.7656</td> <td>    0.383</td> <td>   30.727</td> <td> 0.000</td> <td>   11.015</td> <td>   12.516</td>\n",
       "</tr>\n",
       "<tr>\n",
       "  <th>Dsubclass_1050</th> <td>    3.0882</td> <td>    0.392</td> <td>    7.870</td> <td> 0.000</td> <td>    2.319</td> <td>    3.857</td>\n",
       "</tr>\n",
       "<tr>\n",
       "  <th>Dsubclass_1051</th> <td>   -1.2007</td> <td>    0.438</td> <td>   -2.742</td> <td> 0.006</td> <td>   -2.059</td> <td>   -0.342</td>\n",
       "</tr>\n",
       "<tr>\n",
       "  <th>Dsubclass_1052</th> <td>   -5.0691</td> <td>    0.500</td> <td>  -10.140</td> <td> 0.000</td> <td>   -6.049</td> <td>   -4.089</td>\n",
       "</tr>\n",
       "<tr>\n",
       "  <th>Dsubclass_1220</th> <td>   11.8580</td> <td>    0.371</td> <td>   31.988</td> <td> 0.000</td> <td>   11.131</td> <td>   12.585</td>\n",
       "</tr>\n",
       "<tr>\n",
       "  <th>Dsubclass_1221</th> <td>   13.9610</td> <td>    0.427</td> <td>   32.713</td> <td> 0.000</td> <td>   13.125</td> <td>   14.797</td>\n",
       "</tr>\n",
       "<tr>\n",
       "  <th>Dsubclass_1230</th> <td>   11.9453</td> <td>    0.394</td> <td>   30.338</td> <td> 0.000</td> <td>   11.174</td> <td>   12.717</td>\n",
       "</tr>\n",
       "<tr>\n",
       "  <th>Dsubclass_1231</th> <td>    9.9842</td> <td>    0.404</td> <td>   24.701</td> <td> 0.000</td> <td>    9.192</td> <td>   10.776</td>\n",
       "</tr>\n",
       "<tr>\n",
       "  <th>Dsubclass_1232</th> <td>   13.7301</td> <td>    0.414</td> <td>   33.178</td> <td> 0.000</td> <td>   12.919</td> <td>   14.541</td>\n",
       "</tr>\n",
       "<tr>\n",
       "  <th>Dsubclass_1240</th> <td>   16.5867</td> <td>    0.384</td> <td>   43.185</td> <td> 0.000</td> <td>   15.834</td> <td>   17.340</td>\n",
       "</tr>\n",
       "<tr>\n",
       "  <th>Dsubclass_1241</th> <td>   26.6776</td> <td>    0.389</td> <td>   68.662</td> <td> 0.000</td> <td>   25.916</td> <td>   27.439</td>\n",
       "</tr>\n",
       "<tr>\n",
       "  <th>Dsubclass_1242</th> <td>   17.1156</td> <td>    0.399</td> <td>   42.897</td> <td> 0.000</td> <td>   16.334</td> <td>   17.898</td>\n",
       "</tr>\n",
       "<tr>\n",
       "  <th>Dsubclass_1250</th> <td>    6.8380</td> <td>    0.395</td> <td>   17.329</td> <td> 0.000</td> <td>    6.065</td> <td>    7.611</td>\n",
       "</tr>\n",
       "<tr>\n",
       "  <th>Dsubclass_1251</th> <td>    1.1773</td> <td>    0.450</td> <td>    2.617</td> <td> 0.009</td> <td>    0.296</td> <td>    2.059</td>\n",
       "</tr>\n",
       "<tr>\n",
       "  <th>season_fall</th>    <td>   -0.2016</td> <td>    0.075</td> <td>   -2.685</td> <td> 0.007</td> <td>   -0.349</td> <td>   -0.054</td>\n",
       "</tr>\n",
       "<tr>\n",
       "  <th>season_spring</th>  <td>   -0.5856</td> <td>    0.069</td> <td>   -8.449</td> <td> 0.000</td> <td>   -0.721</td> <td>   -0.450</td>\n",
       "</tr>\n",
       "<tr>\n",
       "  <th>season_winter</th>  <td>   -1.0549</td> <td>    0.075</td> <td>  -14.065</td> <td> 0.000</td> <td>   -1.202</td> <td>   -0.908</td>\n",
       "</tr>\n",
       "</table>\n",
       "<table class=\"simpletable\">\n",
       "<tr>\n",
       "  <th>Omnibus:</th>       <td>58745.428</td> <th>  Durbin-Watson:     </th>  <td>   2.002</td> \n",
       "</tr>\n",
       "<tr>\n",
       "  <th>Prob(Omnibus):</th>  <td> 0.000</td>   <th>  Jarque-Bera (JB):  </th> <td>518214.560</td>\n",
       "</tr>\n",
       "<tr>\n",
       "  <th>Skew:</th>           <td> 1.516</td>   <th>  Prob(JB):          </th>  <td>    0.00</td> \n",
       "</tr>\n",
       "<tr>\n",
       "  <th>Kurtosis:</th>       <td>11.262</td>   <th>  Cond. No.          </th>  <td>    924.</td> \n",
       "</tr>\n",
       "</table><br/><br/>Warnings:<br/>[1] Standard Errors assume that the covariance matrix of the errors is correctly specified."
      ],
      "text/plain": [
       "<class 'statsmodels.iolib.summary.Summary'>\n",
       "\"\"\"\n",
       "                            OLS Regression Results                            \n",
       "==============================================================================\n",
       "Dep. Variable:       Unit_Sales_Price   R-squared:                       0.508\n",
       "Model:                            OLS   Adj. R-squared:                  0.508\n",
       "Method:                 Least Squares   F-statistic:                     5530.\n",
       "Date:                Thu, 09 May 2019   Prob (F-statistic):               0.00\n",
       "Time:                        06:32:07   Log-Likelihood:            -5.9729e+05\n",
       "No. Observations:              160568   AIC:                         1.195e+06\n",
       "Df Residuals:                  160537   BIC:                         1.195e+06\n",
       "Df Model:                          30                                         \n",
       "Covariance Type:            nonrobust                                         \n",
       "==================================================================================\n",
       "                     coef    std err          t      P>|t|      [0.025      0.975]\n",
       "----------------------------------------------------------------------------------\n",
       "const             17.1946      0.368     46.720      0.000      16.473      17.916\n",
       "Full_Price_Ind    17.9908      0.053    338.838      0.000      17.887      18.095\n",
       "Total_Units       -0.0982      0.003    -37.268      0.000      -0.103      -0.093\n",
       "Dsubclass_105      7.4156      0.394     18.811      0.000       6.643       8.188\n",
       "Dsubclass_106      6.2718      0.386     16.251      0.000       5.515       7.028\n",
       "Dsubclass_125     11.7243      0.415     28.264      0.000      10.911      12.537\n",
       "Dsubclass_126      9.8159      0.417     23.565      0.000       9.000      10.632\n",
       "Dsubclass_1020     6.7115      0.367     18.276      0.000       5.992       7.431\n",
       "Dsubclass_1021     8.3175      0.380     21.894      0.000       7.573       9.062\n",
       "Dsubclass_1030     5.9855      0.400     14.952      0.000       5.201       6.770\n",
       "Dsubclass_1031     5.4527      0.386     14.119      0.000       4.696       6.210\n",
       "Dsubclass_1032     8.6236      0.387     22.272      0.000       7.865       9.382\n",
       "Dsubclass_1040    11.3821      0.378     30.108      0.000      10.641      12.123\n",
       "Dsubclass_1041    21.0154      0.378     55.565      0.000      20.274      21.757\n",
       "Dsubclass_1042    11.7656      0.383     30.727      0.000      11.015      12.516\n",
       "Dsubclass_1050     3.0882      0.392      7.870      0.000       2.319       3.857\n",
       "Dsubclass_1051    -1.2007      0.438     -2.742      0.006      -2.059      -0.342\n",
       "Dsubclass_1052    -5.0691      0.500    -10.140      0.000      -6.049      -4.089\n",
       "Dsubclass_1220    11.8580      0.371     31.988      0.000      11.131      12.585\n",
       "Dsubclass_1221    13.9610      0.427     32.713      0.000      13.125      14.797\n",
       "Dsubclass_1230    11.9453      0.394     30.338      0.000      11.174      12.717\n",
       "Dsubclass_1231     9.9842      0.404     24.701      0.000       9.192      10.776\n",
       "Dsubclass_1232    13.7301      0.414     33.178      0.000      12.919      14.541\n",
       "Dsubclass_1240    16.5867      0.384     43.185      0.000      15.834      17.340\n",
       "Dsubclass_1241    26.6776      0.389     68.662      0.000      25.916      27.439\n",
       "Dsubclass_1242    17.1156      0.399     42.897      0.000      16.334      17.898\n",
       "Dsubclass_1250     6.8380      0.395     17.329      0.000       6.065       7.611\n",
       "Dsubclass_1251     1.1773      0.450      2.617      0.009       0.296       2.059\n",
       "season_fall       -0.2016      0.075     -2.685      0.007      -0.349      -0.054\n",
       "season_spring     -0.5856      0.069     -8.449      0.000      -0.721      -0.450\n",
       "season_winter     -1.0549      0.075    -14.065      0.000      -1.202      -0.908\n",
       "==============================================================================\n",
       "Omnibus:                    58745.428   Durbin-Watson:                   2.002\n",
       "Prob(Omnibus):                  0.000   Jarque-Bera (JB):           518214.560\n",
       "Skew:                           1.516   Prob(JB):                         0.00\n",
       "Kurtosis:                      11.262   Cond. No.                         924.\n",
       "==============================================================================\n",
       "\n",
       "Warnings:\n",
       "[1] Standard Errors assume that the covariance matrix of the errors is correctly specified.\n",
       "\"\"\""
      ]
     },
     "execution_count": 69,
     "metadata": {},
     "output_type": "execute_result"
    }
   ],
   "source": [
    "X_train, X_test, Y_train, Y_test = train_test_split(tmc_sel_feat, tmctarget, test_size = 0.3,\\\n",
    "                                                    random_state=212)\n",
    "X_train = sm.add_constant(X_train)\n",
    "lm = sm.OLS(Y_train, X_train).fit()\n",
    "lm.summary()"
   ]
  },
  {
   "cell_type": "markdown",
   "metadata": {},
   "source": [
    "#### Removing variables 1 by 1 based on least priority (as per randomforest), applying OLS and observing the Adjusted R-Squared"
   ]
  },
  {
   "cell_type": "code",
   "execution_count": 110,
   "metadata": {},
   "outputs": [],
   "source": [
    "tmc_sel_feat_temp = tmc_maindata[['Full_Price_Ind', 'Total_Units', \n",
    "       'Dsubclass_125',  'Dsubclass_1020', \n",
    "         'Dsubclass_1032', 'Dsubclass_1040',\n",
    "       'Dsubclass_1041', 'Dsubclass_1042',  'Dsubclass_1051',\n",
    "       'Dsubclass_1052', 'Dsubclass_1220', 'Dsubclass_1221', 'Dsubclass_1230',\n",
    "        'Dsubclass_1240', 'Dsubclass_1241',\n",
    "       'Dsubclass_1242',   'season_fall',\n",
    "       'season_spring', 'season_winter']]"
   ]
  },
  {
   "cell_type": "code",
   "execution_count": 111,
   "metadata": {
    "scrolled": true
   },
   "outputs": [
    {
     "name": "stderr",
     "output_type": "stream",
     "text": [
      "C:\\Users\\ajayi\\AppData\\Local\\Continuum\\anaconda3\\lib\\site-packages\\numpy\\core\\fromnumeric.py:2389: FutureWarning: Method .ptp is deprecated and will be removed in a future version. Use numpy.ptp instead.\n",
      "  return ptp(axis=axis, out=out, **kwargs)\n"
     ]
    },
    {
     "data": {
      "text/html": [
       "<table class=\"simpletable\">\n",
       "<caption>OLS Regression Results</caption>\n",
       "<tr>\n",
       "  <th>Dep. Variable:</th>    <td>Unit_Sales_Price</td> <th>  R-squared:         </th>  <td>   0.497</td>  \n",
       "</tr>\n",
       "<tr>\n",
       "  <th>Model:</th>                   <td>OLS</td>       <th>  Adj. R-squared:    </th>  <td>   0.497</td>  \n",
       "</tr>\n",
       "<tr>\n",
       "  <th>Method:</th>             <td>Least Squares</td>  <th>  F-statistic:       </th>  <td>   8362.</td>  \n",
       "</tr>\n",
       "<tr>\n",
       "  <th>Date:</th>             <td>Thu, 09 May 2019</td> <th>  Prob (F-statistic):</th>   <td>  0.00</td>   \n",
       "</tr>\n",
       "<tr>\n",
       "  <th>Time:</th>                 <td>06:43:36</td>     <th>  Log-Likelihood:    </th> <td>-5.9904e+05</td>\n",
       "</tr>\n",
       "<tr>\n",
       "  <th>No. Observations:</th>      <td>160568</td>      <th>  AIC:               </th>  <td>1.198e+06</td> \n",
       "</tr>\n",
       "<tr>\n",
       "  <th>Df Residuals:</th>          <td>160548</td>      <th>  BIC:               </th>  <td>1.198e+06</td> \n",
       "</tr>\n",
       "<tr>\n",
       "  <th>Df Model:</th>              <td>    19</td>      <th>                     </th>      <td> </td>     \n",
       "</tr>\n",
       "<tr>\n",
       "  <th>Covariance Type:</th>      <td>nonrobust</td>    <th>                     </th>      <td> </td>     \n",
       "</tr>\n",
       "</table>\n",
       "<table class=\"simpletable\">\n",
       "<tr>\n",
       "         <td></td>           <th>coef</th>     <th>std err</th>      <th>t</th>      <th>P>|t|</th>  <th>[0.025</th>    <th>0.975]</th>  \n",
       "</tr>\n",
       "<tr>\n",
       "  <th>const</th>          <td>   24.1440</td> <td>    0.075</td> <td>  321.581</td> <td> 0.000</td> <td>   23.997</td> <td>   24.291</td>\n",
       "</tr>\n",
       "<tr>\n",
       "  <th>Full_Price_Ind</th> <td>   17.8879</td> <td>    0.054</td> <td>  334.234</td> <td> 0.000</td> <td>   17.783</td> <td>   17.993</td>\n",
       "</tr>\n",
       "<tr>\n",
       "  <th>Total_Units</th>    <td>   -0.0958</td> <td>    0.003</td> <td>  -36.027</td> <td> 0.000</td> <td>   -0.101</td> <td>   -0.091</td>\n",
       "</tr>\n",
       "<tr>\n",
       "  <th>Dsubclass_125</th>  <td>    4.7547</td> <td>    0.207</td> <td>   22.997</td> <td> 0.000</td> <td>    4.350</td> <td>    5.160</td>\n",
       "</tr>\n",
       "<tr>\n",
       "  <th>Dsubclass_1020</th> <td>   -0.2119</td> <td>    0.070</td> <td>   -3.009</td> <td> 0.003</td> <td>   -0.350</td> <td>   -0.074</td>\n",
       "</tr>\n",
       "<tr>\n",
       "  <th>Dsubclass_1032</th> <td>    1.6867</td> <td>    0.142</td> <td>   11.841</td> <td> 0.000</td> <td>    1.408</td> <td>    1.966</td>\n",
       "</tr>\n",
       "<tr>\n",
       "  <th>Dsubclass_1040</th> <td>    4.4627</td> <td>    0.115</td> <td>   38.803</td> <td> 0.000</td> <td>    4.237</td> <td>    4.688</td>\n",
       "</tr>\n",
       "<tr>\n",
       "  <th>Dsubclass_1041</th> <td>   14.0997</td> <td>    0.116</td> <td>  121.903</td> <td> 0.000</td> <td>   13.873</td> <td>   14.326</td>\n",
       "</tr>\n",
       "<tr>\n",
       "  <th>Dsubclass_1042</th> <td>    4.8544</td> <td>    0.131</td> <td>   37.185</td> <td> 0.000</td> <td>    4.599</td> <td>    5.110</td>\n",
       "</tr>\n",
       "<tr>\n",
       "  <th>Dsubclass_1051</th> <td>   -8.0867</td> <td>    0.252</td> <td>  -32.133</td> <td> 0.000</td> <td>   -8.580</td> <td>   -7.593</td>\n",
       "</tr>\n",
       "<tr>\n",
       "  <th>Dsubclass_1052</th> <td>  -11.9603</td> <td>    0.350</td> <td>  -34.139</td> <td> 0.000</td> <td>  -12.647</td> <td>  -11.274</td>\n",
       "</tr>\n",
       "<tr>\n",
       "  <th>Dsubclass_1220</th> <td>    4.9342</td> <td>    0.087</td> <td>   56.668</td> <td> 0.000</td> <td>    4.764</td> <td>    5.105</td>\n",
       "</tr>\n",
       "<tr>\n",
       "  <th>Dsubclass_1221</th> <td>    7.0132</td> <td>    0.231</td> <td>   30.420</td> <td> 0.000</td> <td>    6.561</td> <td>    7.465</td>\n",
       "</tr>\n",
       "<tr>\n",
       "  <th>Dsubclass_1230</th> <td>    5.0092</td> <td>    0.160</td> <td>   31.375</td> <td> 0.000</td> <td>    4.696</td> <td>    5.322</td>\n",
       "</tr>\n",
       "<tr>\n",
       "  <th>Dsubclass_1240</th> <td>    9.6753</td> <td>    0.134</td> <td>   72.214</td> <td> 0.000</td> <td>    9.413</td> <td>    9.938</td>\n",
       "</tr>\n",
       "<tr>\n",
       "  <th>Dsubclass_1241</th> <td>   19.7672</td> <td>    0.147</td> <td>  134.797</td> <td> 0.000</td> <td>   19.480</td> <td>   20.055</td>\n",
       "</tr>\n",
       "<tr>\n",
       "  <th>Dsubclass_1242</th> <td>   10.2001</td> <td>    0.173</td> <td>   59.009</td> <td> 0.000</td> <td>    9.861</td> <td>   10.539</td>\n",
       "</tr>\n",
       "<tr>\n",
       "  <th>season_fall</th>    <td>   -0.2967</td> <td>    0.076</td> <td>   -3.919</td> <td> 0.000</td> <td>   -0.445</td> <td>   -0.148</td>\n",
       "</tr>\n",
       "<tr>\n",
       "  <th>season_spring</th>  <td>   -0.4459</td> <td>    0.070</td> <td>   -6.379</td> <td> 0.000</td> <td>   -0.583</td> <td>   -0.309</td>\n",
       "</tr>\n",
       "<tr>\n",
       "  <th>season_winter</th>  <td>   -1.0591</td> <td>    0.076</td> <td>  -13.982</td> <td> 0.000</td> <td>   -1.208</td> <td>   -0.911</td>\n",
       "</tr>\n",
       "</table>\n",
       "<table class=\"simpletable\">\n",
       "<tr>\n",
       "  <th>Omnibus:</th>       <td>57081.758</td> <th>  Durbin-Watson:     </th>  <td>   2.004</td> \n",
       "</tr>\n",
       "<tr>\n",
       "  <th>Prob(Omnibus):</th>  <td> 0.000</td>   <th>  Jarque-Bera (JB):  </th> <td>471587.928</td>\n",
       "</tr>\n",
       "<tr>\n",
       "  <th>Skew:</th>           <td> 1.485</td>   <th>  Prob(JB):          </th>  <td>    0.00</td> \n",
       "</tr>\n",
       "<tr>\n",
       "  <th>Kurtosis:</th>       <td>10.853</td>   <th>  Cond. No.          </th>  <td>    173.</td> \n",
       "</tr>\n",
       "</table><br/><br/>Warnings:<br/>[1] Standard Errors assume that the covariance matrix of the errors is correctly specified."
      ],
      "text/plain": [
       "<class 'statsmodels.iolib.summary.Summary'>\n",
       "\"\"\"\n",
       "                            OLS Regression Results                            \n",
       "==============================================================================\n",
       "Dep. Variable:       Unit_Sales_Price   R-squared:                       0.497\n",
       "Model:                            OLS   Adj. R-squared:                  0.497\n",
       "Method:                 Least Squares   F-statistic:                     8362.\n",
       "Date:                Thu, 09 May 2019   Prob (F-statistic):               0.00\n",
       "Time:                        06:43:36   Log-Likelihood:            -5.9904e+05\n",
       "No. Observations:              160568   AIC:                         1.198e+06\n",
       "Df Residuals:                  160548   BIC:                         1.198e+06\n",
       "Df Model:                          19                                         \n",
       "Covariance Type:            nonrobust                                         \n",
       "==================================================================================\n",
       "                     coef    std err          t      P>|t|      [0.025      0.975]\n",
       "----------------------------------------------------------------------------------\n",
       "const             24.1440      0.075    321.581      0.000      23.997      24.291\n",
       "Full_Price_Ind    17.8879      0.054    334.234      0.000      17.783      17.993\n",
       "Total_Units       -0.0958      0.003    -36.027      0.000      -0.101      -0.091\n",
       "Dsubclass_125      4.7547      0.207     22.997      0.000       4.350       5.160\n",
       "Dsubclass_1020    -0.2119      0.070     -3.009      0.003      -0.350      -0.074\n",
       "Dsubclass_1032     1.6867      0.142     11.841      0.000       1.408       1.966\n",
       "Dsubclass_1040     4.4627      0.115     38.803      0.000       4.237       4.688\n",
       "Dsubclass_1041    14.0997      0.116    121.903      0.000      13.873      14.326\n",
       "Dsubclass_1042     4.8544      0.131     37.185      0.000       4.599       5.110\n",
       "Dsubclass_1051    -8.0867      0.252    -32.133      0.000      -8.580      -7.593\n",
       "Dsubclass_1052   -11.9603      0.350    -34.139      0.000     -12.647     -11.274\n",
       "Dsubclass_1220     4.9342      0.087     56.668      0.000       4.764       5.105\n",
       "Dsubclass_1221     7.0132      0.231     30.420      0.000       6.561       7.465\n",
       "Dsubclass_1230     5.0092      0.160     31.375      0.000       4.696       5.322\n",
       "Dsubclass_1240     9.6753      0.134     72.214      0.000       9.413       9.938\n",
       "Dsubclass_1241    19.7672      0.147    134.797      0.000      19.480      20.055\n",
       "Dsubclass_1242    10.2001      0.173     59.009      0.000       9.861      10.539\n",
       "season_fall       -0.2967      0.076     -3.919      0.000      -0.445      -0.148\n",
       "season_spring     -0.4459      0.070     -6.379      0.000      -0.583      -0.309\n",
       "season_winter     -1.0591      0.076    -13.982      0.000      -1.208      -0.911\n",
       "==============================================================================\n",
       "Omnibus:                    57081.758   Durbin-Watson:                   2.004\n",
       "Prob(Omnibus):                  0.000   Jarque-Bera (JB):           471587.928\n",
       "Skew:                           1.485   Prob(JB):                         0.00\n",
       "Kurtosis:                      10.853   Cond. No.                         173.\n",
       "==============================================================================\n",
       "\n",
       "Warnings:\n",
       "[1] Standard Errors assume that the covariance matrix of the errors is correctly specified.\n",
       "\"\"\""
      ]
     },
     "execution_count": 111,
     "metadata": {},
     "output_type": "execute_result"
    }
   ],
   "source": [
    "X_train, X_test, Y_train, Y_test = train_test_split(tmc_sel_feat_temp, tmctarget, test_size = 0.3,\\\n",
    "                                                    random_state=212)\n",
    "X_train = sm.add_constant(X_train)\n",
    "lm = sm.OLS(Y_train, X_train).fit()\n",
    "lm.summary()"
   ]
  },
  {
   "cell_type": "markdown",
   "metadata": {},
   "source": [
    "#### The accuracy has been decreased from 50.8 to 49.7 when we removed variable 1 by 1 and do the modelling"
   ]
  },
  {
   "cell_type": "markdown",
   "metadata": {},
   "source": [
    "#### Applying the Linear, Ridge, Lasso Regressions"
   ]
  },
  {
   "cell_type": "code",
   "execution_count": 72,
   "metadata": {},
   "outputs": [],
   "source": [
    "X_train, X_test, Y_train, Y_test = train_test_split(tmc_sel_feat, tmctarget, test_size = 0.3,\\\n",
    "                                                    random_state=212)"
   ]
  },
  {
   "cell_type": "code",
   "execution_count": 73,
   "metadata": {},
   "outputs": [],
   "source": [
    "models = []\n",
    "models.append(('Linear Regression', LinearRegression()))\n",
    "models.append(('Ridge Regression with Low Alpha', Ridge(alpha=0.01)))\n",
    "models.append(('Ridge Regression with High Alpha', Ridge(alpha=100)))\n",
    "models.append(('Lasso Regression', Lasso()))\n",
    "models.append(('Lasso Regression with low Aplha', Lasso(alpha=0.01, max_iter=10e5)))\n",
    "models.append(('Lasso Regression with Lower Alpha', Lasso(alpha=0.0001, max_iter=10e5)))"
   ]
  },
  {
   "cell_type": "code",
   "execution_count": 74,
   "metadata": {},
   "outputs": [
    {
     "name": "stdout",
     "output_type": "stream",
     "text": [
      "-- Applying --> Linear Regression\n",
      "Train Score -  0.5082111505462297\n",
      "Test Score -  0.5060750396711939\n",
      "R-Squared -  0.5060750396711939\n",
      "No. of features used: 30\n",
      "-- Applying --> Ridge Regression with Low Alpha\n",
      "Train Score -  0.5082111503069153\n",
      "Test Score -  0.5060750588612613\n",
      "R-Squared -  0.5060750588612613\n",
      "No. of features used: 30\n",
      "-- Applying --> Ridge Regression with High Alpha\n",
      "Train Score -  0.5068070729707927\n",
      "Test Score -  0.50468499122417\n",
      "R-Squared -  0.50468499122417\n",
      "No. of features used: 30\n",
      "-- Applying --> Lasso Regression\n",
      "Train Score -  0.3383148051757492\n",
      "Test Score -  0.3362044727893719\n",
      "R-Squared -  0.3362044727893718\n",
      "No. of features used: 2\n",
      "-- Applying --> Lasso Regression with low Aplha\n",
      "Train Score -  0.5059881851556465\n",
      "Test Score -  0.5037948502030316\n",
      "R-Squared -  0.5037948502030316\n",
      "No. of features used: 28\n",
      "-- Applying --> Lasso Regression with Lower Alpha\n",
      "Train Score -  0.5082064271184703\n",
      "Test Score -  0.5060722054467877\n",
      "R-Squared -  0.5060722054467877\n",
      "No. of features used: 30\n"
     ]
    }
   ],
   "source": [
    "for name, model in models:\n",
    "    print(\"-- Applying -->\",name)\n",
    "    rgn = model\n",
    "    rgn.fit(X_train,Y_train)\n",
    "    print(\"Train Score - \",rgn.score(X_train, Y_train))\n",
    "    print(\"Test Score - \",rgn.score(X_test, Y_test))\n",
    "    print(\"R-Squared - \",r2_score(Y_test,rgn.predict(X_test)))\n",
    "    print(\"No. of features used:\", np.sum(rgn.coef_!=0))"
   ]
  },
  {
   "cell_type": "markdown",
   "metadata": {},
   "source": [
    "#### Finding out the reason for such very low accuracy of 50.8% by analysing the distribution of data w.r.to \"Total_Units\""
   ]
  },
  {
   "cell_type": "code",
   "execution_count": 75,
   "metadata": {},
   "outputs": [
    {
     "data": {
      "text/plain": [
       "397"
      ]
     },
     "execution_count": 75,
     "metadata": {},
     "output_type": "execute_result"
    }
   ],
   "source": [
    "tmc_group['Total_Units'].max()"
   ]
  },
  {
   "cell_type": "code",
   "execution_count": 76,
   "metadata": {},
   "outputs": [
    {
     "data": {
      "text/plain": [
       "(24709, 6)"
      ]
     },
     "execution_count": 76,
     "metadata": {},
     "output_type": "execute_result"
    }
   ],
   "source": [
    "tmc_group[tmc_group['Total_Units']==1].shape"
   ]
  },
  {
   "cell_type": "code",
   "execution_count": 77,
   "metadata": {},
   "outputs": [
    {
     "data": {
      "text/plain": [
       "(204675, 6)"
      ]
     },
     "execution_count": 77,
     "metadata": {},
     "output_type": "execute_result"
    }
   ],
   "source": [
    "tmc_group[tmc_group['Total_Units']!=1].shape"
   ]
  },
  {
   "cell_type": "markdown",
   "metadata": {},
   "source": [
    "#### Finding out no. of transactions group by 'Total_Units'"
   ]
  },
  {
   "cell_type": "code",
   "execution_count": 78,
   "metadata": {},
   "outputs": [],
   "source": [
    "tmc_units = tmc_group[tmc_group['Total_Units']>1]"
   ]
  },
  {
   "cell_type": "code",
   "execution_count": 79,
   "metadata": {},
   "outputs": [
    {
     "data": {
      "text/plain": [
       "(204675, 6)"
      ]
     },
     "execution_count": 79,
     "metadata": {},
     "output_type": "execute_result"
    }
   ],
   "source": [
    "tmc_units.shape"
   ]
  },
  {
   "cell_type": "code",
   "execution_count": 80,
   "metadata": {},
   "outputs": [],
   "source": [
    "tmc_units = tmc_units.groupby(['Total_Units'])['Dbsku'].count().reset_index()\n",
    "tmc_units.rename(columns={'Dbsku':'Transactions count'},inplace=True)"
   ]
  },
  {
   "cell_type": "code",
   "execution_count": 81,
   "metadata": {},
   "outputs": [
    {
     "data": {
      "text/html": [
       "<div>\n",
       "<style scoped>\n",
       "    .dataframe tbody tr th:only-of-type {\n",
       "        vertical-align: middle;\n",
       "    }\n",
       "\n",
       "    .dataframe tbody tr th {\n",
       "        vertical-align: top;\n",
       "    }\n",
       "\n",
       "    .dataframe thead th {\n",
       "        text-align: right;\n",
       "    }\n",
       "</style>\n",
       "<table border=\"1\" class=\"dataframe\">\n",
       "  <thead>\n",
       "    <tr style=\"text-align: right;\">\n",
       "      <th></th>\n",
       "      <th>Total_Units</th>\n",
       "      <th>Transactions count</th>\n",
       "    </tr>\n",
       "  </thead>\n",
       "  <tbody>\n",
       "    <tr>\n",
       "      <th>0</th>\n",
       "      <td>2</td>\n",
       "      <td>26911</td>\n",
       "    </tr>\n",
       "    <tr>\n",
       "      <th>1</th>\n",
       "      <td>3</td>\n",
       "      <td>26574</td>\n",
       "    </tr>\n",
       "    <tr>\n",
       "      <th>2</th>\n",
       "      <td>4</td>\n",
       "      <td>23106</td>\n",
       "    </tr>\n",
       "    <tr>\n",
       "      <th>3</th>\n",
       "      <td>5</td>\n",
       "      <td>19598</td>\n",
       "    </tr>\n",
       "    <tr>\n",
       "      <th>4</th>\n",
       "      <td>6</td>\n",
       "      <td>16660</td>\n",
       "    </tr>\n",
       "    <tr>\n",
       "      <th>5</th>\n",
       "      <td>7</td>\n",
       "      <td>13500</td>\n",
       "    </tr>\n",
       "    <tr>\n",
       "      <th>6</th>\n",
       "      <td>8</td>\n",
       "      <td>11387</td>\n",
       "    </tr>\n",
       "    <tr>\n",
       "      <th>7</th>\n",
       "      <td>9</td>\n",
       "      <td>9384</td>\n",
       "    </tr>\n",
       "    <tr>\n",
       "      <th>8</th>\n",
       "      <td>10</td>\n",
       "      <td>8048</td>\n",
       "    </tr>\n",
       "    <tr>\n",
       "      <th>9</th>\n",
       "      <td>11</td>\n",
       "      <td>6293</td>\n",
       "    </tr>\n",
       "  </tbody>\n",
       "</table>\n",
       "</div>"
      ],
      "text/plain": [
       "   Total_Units  Transactions count\n",
       "0            2               26911\n",
       "1            3               26574\n",
       "2            4               23106\n",
       "3            5               19598\n",
       "4            6               16660\n",
       "5            7               13500\n",
       "6            8               11387\n",
       "7            9                9384\n",
       "8           10                8048\n",
       "9           11                6293"
      ]
     },
     "execution_count": 81,
     "metadata": {},
     "output_type": "execute_result"
    }
   ],
   "source": [
    "tmc_units.head(10)"
   ]
  },
  {
   "cell_type": "markdown",
   "metadata": {},
   "source": [
    "#### Almost 10% of the transactions have the Total_Units = 1, that means NO Variance in the Total_Units column which will obviously affect the model accuracy\n",
    "#### Also, the majority of the data is distributed Total_Units = [1 to 5], due to this, the accuracy of the model is being at 50.8%. Therefore, considering only the transactions with Total_Units > 5 and try to rebuild the model"
   ]
  },
  {
   "cell_type": "code",
   "execution_count": 24,
   "metadata": {},
   "outputs": [],
   "source": [
    "tmc_maindata2 = tmc_group[tmc_group['Total_Units']>5]"
   ]
  },
  {
   "cell_type": "code",
   "execution_count": 25,
   "metadata": {},
   "outputs": [
    {
     "data": {
      "text/plain": [
       "(108486, 6)"
      ]
     },
     "execution_count": 25,
     "metadata": {},
     "output_type": "execute_result"
    }
   ],
   "source": [
    "tmc_maindata2.shape"
   ]
  },
  {
   "cell_type": "code",
   "execution_count": 26,
   "metadata": {},
   "outputs": [
    {
     "data": {
      "image/png": "[encoded data removed]",
      "text/plain": [
       "<Figure size 432x288 with 1 Axes>"
      ]
     },
     "metadata": {
      "needs_background": "light"
     },
     "output_type": "display_data"
    }
   ],
   "source": [
    "x = tmc_maindata2['Total_Units']\n",
    "y = tmc_maindata2['Unit_Sales_Price']\n",
    "plt.scatter(x, y, alpha=0.5)\n",
    "plt.xlabel('Quantity')\n",
    "plt.ylabel('Price')\n",
    "plt.show()"
   ]
  },
  {
   "cell_type": "code",
   "execution_count": 86,
   "metadata": {},
   "outputs": [
    {
     "data": {
      "text/html": [
       "<div>\n",
       "<style scoped>\n",
       "    .dataframe tbody tr th:only-of-type {\n",
       "        vertical-align: middle;\n",
       "    }\n",
       "\n",
       "    .dataframe tbody tr th {\n",
       "        vertical-align: top;\n",
       "    }\n",
       "\n",
       "    .dataframe thead th {\n",
       "        text-align: right;\n",
       "    }\n",
       "</style>\n",
       "<table border=\"1\" class=\"dataframe\">\n",
       "  <thead>\n",
       "    <tr style=\"text-align: right;\">\n",
       "      <th></th>\n",
       "      <th>Dbsku</th>\n",
       "      <th>Dsubclass</th>\n",
       "      <th>Unit_Sales_Price</th>\n",
       "      <th>season</th>\n",
       "      <th>Full_Price_Ind</th>\n",
       "      <th>Total_Units</th>\n",
       "    </tr>\n",
       "  </thead>\n",
       "  <tbody>\n",
       "    <tr>\n",
       "      <th>12</th>\n",
       "      <td>159137</td>\n",
       "      <td>1051</td>\n",
       "      <td>20.00</td>\n",
       "      <td>fall</td>\n",
       "      <td>1</td>\n",
       "      <td>6</td>\n",
       "    </tr>\n",
       "    <tr>\n",
       "      <th>18</th>\n",
       "      <td>159137</td>\n",
       "      <td>1051</td>\n",
       "      <td>24.00</td>\n",
       "      <td>fall</td>\n",
       "      <td>1</td>\n",
       "      <td>24</td>\n",
       "    </tr>\n",
       "    <tr>\n",
       "      <th>22</th>\n",
       "      <td>159137</td>\n",
       "      <td>1051</td>\n",
       "      <td>25.00</td>\n",
       "      <td>fall</td>\n",
       "      <td>1</td>\n",
       "      <td>6</td>\n",
       "    </tr>\n",
       "    <tr>\n",
       "      <th>29</th>\n",
       "      <td>159137</td>\n",
       "      <td>1051</td>\n",
       "      <td>27.87</td>\n",
       "      <td>spring</td>\n",
       "      <td>1</td>\n",
       "      <td>6</td>\n",
       "    </tr>\n",
       "    <tr>\n",
       "      <th>30</th>\n",
       "      <td>159137</td>\n",
       "      <td>1051</td>\n",
       "      <td>28.00</td>\n",
       "      <td>fall</td>\n",
       "      <td>1</td>\n",
       "      <td>18</td>\n",
       "    </tr>\n",
       "  </tbody>\n",
       "</table>\n",
       "</div>"
      ],
      "text/plain": [
       "     Dbsku  Dsubclass  Unit_Sales_Price  season  Full_Price_Ind  Total_Units\n",
       "12  159137       1051             20.00    fall               1            6\n",
       "18  159137       1051             24.00    fall               1           24\n",
       "22  159137       1051             25.00    fall               1            6\n",
       "29  159137       1051             27.87  spring               1            6\n",
       "30  159137       1051             28.00    fall               1           18"
      ]
     },
     "execution_count": 86,
     "metadata": {},
     "output_type": "execute_result"
    }
   ],
   "source": [
    "tmc_maindata2.head()"
   ]
  },
  {
   "cell_type": "code",
   "execution_count": 87,
   "metadata": {},
   "outputs": [],
   "source": [
    "tmc_maindata2 = pd.get_dummies(tmc_maindata2, columns= ['Dsubclass', 'season'])\n",
    "tmc_maindata2.drop(['Dsubclass_1252','season_summer'], axis=1, inplace=True)\n",
    "tmctarget2 =tmc_maindata2['Unit_Sales_Price']\n",
    "tmc_maindata2.drop(['Dbsku','Unit_Sales_Price'],axis=1,inplace=True)"
   ]
  },
  {
   "cell_type": "markdown",
   "metadata": {},
   "source": [
    "#### Considering top 43 features (as per RandomForest Selection of Features) for modelling (half of the total features available)"
   ]
  },
  {
   "cell_type": "markdown",
   "metadata": {},
   "source": [
    "#### Rebuilding the model"
   ]
  },
  {
   "cell_type": "code",
   "execution_count": 113,
   "metadata": {},
   "outputs": [],
   "source": [
    "tmc_sel_feat2 = tmc_maindata2[['Full_Price_Ind', 'Total_Units', 'Dsubclass_105', 'Dsubclass_106',\n",
    "       'Dsubclass_125', 'Dsubclass_126', 'Dsubclass_1020', 'Dsubclass_1021',\n",
    "       'Dsubclass_1030', 'Dsubclass_1031', 'Dsubclass_1032', 'Dsubclass_1040',\n",
    "       'Dsubclass_1041', 'Dsubclass_1042', 'Dsubclass_1050', 'Dsubclass_1051',\n",
    "       'Dsubclass_1052', 'Dsubclass_1220', 'Dsubclass_1221', 'Dsubclass_1230',\n",
    "       'Dsubclass_1231', 'Dsubclass_1232', 'Dsubclass_1240', 'Dsubclass_1241',\n",
    "       'Dsubclass_1242', 'Dsubclass_1250', 'Dsubclass_1251', 'season_fall',\n",
    "       'season_spring', 'season_winter']]"
   ]
  },
  {
   "cell_type": "markdown",
   "metadata": {},
   "source": [
    "- Correlation Between few Xs and target variable 'Unit_Sales_Price'"
   ]
  },
  {
   "cell_type": "code",
   "execution_count": 114,
   "metadata": {},
   "outputs": [
    {
     "name": "stdout",
     "output_type": "stream",
     "text": [
      " For Full_Price_Ind vs y ---> PointbiserialrResult(correlation=0.6287762692096022, pvalue=0.0)\n",
      " For season_spring Store vs y ---> PointbiserialrResult(correlation=0.10893384173717292, pvalue=1.3609382373188334e-283)\n",
      " For Total_Units vs y ---> PointbiserialrResult(correlation=-0.15877325526825387, pvalue=0.0)\n",
      " For season_winter Store vs y ---> PointbiserialrResult(correlation=-0.08602994537092915, pvalue=2.8297185619758497e-177)\n",
      " For season_fall Store vs y ---> PointbiserialrResult(correlation=0.016521629403761114, pvalue=5.266409350867791e-08)\n",
      " For Dsubclass_1020 vs y ---> PointbiserialrResult(correlation=-0.14992933293438587, pvalue=0.0)\n",
      " For Dsubclass_105 vs y ---> PointbiserialrResult(correlation=-0.02756216071442246, pvalue=1.0874677619118609e-19)\n",
      " For Dsubclass_1031 vs y ---> PointbiserialrResult(correlation=-0.0853242517132292, pvalue=2.1133599468715915e-174)\n"
     ]
    }
   ],
   "source": [
    "from scipy import stats\n",
    "print(\" For Full_Price_Ind vs y --->\",stats.pointbiserialr(tmc_sel_feat2['Full_Price_Ind'], tmctarget2))\n",
    "print(\" For season_spring Store vs y --->\",stats.pointbiserialr(tmc_sel_feat2['season_spring'], tmctarget2))\n",
    "print(\" For Total_Units vs y --->\",stats.pointbiserialr(tmc_sel_feat2['Total_Units'], tmctarget2))\n",
    "print(\" For season_winter Store vs y --->\",stats.pointbiserialr(tmc_sel_feat2['season_winter'], tmctarget2))\n",
    "print(\" For season_fall Store vs y --->\",stats.pointbiserialr(tmc_sel_feat2['season_fall'], tmctarget2))\n",
    "print(\" For Dsubclass_1020 vs y --->\",stats.pointbiserialr(tmc_sel_feat2['Dsubclass_1020'], tmctarget2))\n",
    "print(\" For Dsubclass_105 vs y --->\",stats.pointbiserialr(tmc_sel_feat2['Dsubclass_105'], tmctarget2))\n",
    "print(\" For Dsubclass_1031 vs y --->\",stats.pointbiserialr(tmc_sel_feat2['Dsubclass_1031'], tmctarget2))"
   ]
  },
  {
   "cell_type": "code",
   "execution_count": 115,
   "metadata": {},
   "outputs": [
    {
     "data": {
      "text/plain": [
       "(108486, 30)"
      ]
     },
     "execution_count": 115,
     "metadata": {},
     "output_type": "execute_result"
    }
   ],
   "source": [
    "tmc_sel_feat2.shape"
   ]
  },
  {
   "cell_type": "code",
   "execution_count": 116,
   "metadata": {},
   "outputs": [],
   "source": [
    "X_train, X_test, Y_train, Y_test = train_test_split(tmc_sel_feat2, tmctarget2, test_size = 0.3,\\\n",
    "                                                    random_state=212)"
   ]
  },
  {
   "cell_type": "code",
   "execution_count": 117,
   "metadata": {},
   "outputs": [
    {
     "data": {
      "text/plain": [
       "(75940, 30)"
      ]
     },
     "execution_count": 117,
     "metadata": {},
     "output_type": "execute_result"
    }
   ],
   "source": [
    "X_train.shape"
   ]
  },
  {
   "cell_type": "code",
   "execution_count": 118,
   "metadata": {},
   "outputs": [
    {
     "name": "stderr",
     "output_type": "stream",
     "text": [
      "C:\\Users\\ajayi\\AppData\\Local\\Continuum\\anaconda3\\lib\\site-packages\\numpy\\core\\fromnumeric.py:2389: FutureWarning: Method .ptp is deprecated and will be removed in a future version. Use numpy.ptp instead.\n",
      "  return ptp(axis=axis, out=out, **kwargs)\n"
     ]
    },
    {
     "data": {
      "text/html": [
       "<table class=\"simpletable\">\n",
       "<caption>OLS Regression Results</caption>\n",
       "<tr>\n",
       "  <th>Dep. Variable:</th>    <td>Unit_Sales_Price</td> <th>  R-squared:         </th>  <td>   0.538</td>  \n",
       "</tr>\n",
       "<tr>\n",
       "  <th>Model:</th>                   <td>OLS</td>       <th>  Adj. R-squared:    </th>  <td>   0.538</td>  \n",
       "</tr>\n",
       "<tr>\n",
       "  <th>Method:</th>             <td>Least Squares</td>  <th>  F-statistic:       </th>  <td>   2946.</td>  \n",
       "</tr>\n",
       "<tr>\n",
       "  <th>Date:</th>             <td>Thu, 09 May 2019</td> <th>  Prob (F-statistic):</th>   <td>  0.00</td>   \n",
       "</tr>\n",
       "<tr>\n",
       "  <th>Time:</th>                 <td>06:45:59</td>     <th>  Log-Likelihood:    </th> <td>-2.7318e+05</td>\n",
       "</tr>\n",
       "<tr>\n",
       "  <th>No. Observations:</th>      <td> 75940</td>      <th>  AIC:               </th>  <td>5.464e+05</td> \n",
       "</tr>\n",
       "<tr>\n",
       "  <th>Df Residuals:</th>          <td> 75909</td>      <th>  BIC:               </th>  <td>5.467e+05</td> \n",
       "</tr>\n",
       "<tr>\n",
       "  <th>Df Model:</th>              <td>    30</td>      <th>                     </th>      <td> </td>     \n",
       "</tr>\n",
       "<tr>\n",
       "  <th>Covariance Type:</th>      <td>nonrobust</td>    <th>                     </th>      <td> </td>     \n",
       "</tr>\n",
       "</table>\n",
       "<table class=\"simpletable\">\n",
       "<tr>\n",
       "         <td></td>           <th>coef</th>     <th>std err</th>      <th>t</th>      <th>P>|t|</th>  <th>[0.025</th>    <th>0.975]</th>  \n",
       "</tr>\n",
       "<tr>\n",
       "  <th>const</th>          <td>   18.3376</td> <td>    0.561</td> <td>   32.661</td> <td> 0.000</td> <td>   17.237</td> <td>   19.438</td>\n",
       "</tr>\n",
       "<tr>\n",
       "  <th>Full_Price_Ind</th> <td>   17.2460</td> <td>    0.070</td> <td>  247.166</td> <td> 0.000</td> <td>   17.109</td> <td>   17.383</td>\n",
       "</tr>\n",
       "<tr>\n",
       "  <th>Total_Units</th>    <td>   -0.1109</td> <td>    0.003</td> <td>  -39.300</td> <td> 0.000</td> <td>   -0.116</td> <td>   -0.105</td>\n",
       "</tr>\n",
       "<tr>\n",
       "  <th>Dsubclass_105</th>  <td>    7.1920</td> <td>    0.588</td> <td>   12.231</td> <td> 0.000</td> <td>    6.040</td> <td>    8.345</td>\n",
       "</tr>\n",
       "<tr>\n",
       "  <th>Dsubclass_106</th>  <td>    6.0463</td> <td>    0.579</td> <td>   10.446</td> <td> 0.000</td> <td>    4.912</td> <td>    7.181</td>\n",
       "</tr>\n",
       "<tr>\n",
       "  <th>Dsubclass_125</th>  <td>   11.9924</td> <td>    0.609</td> <td>   19.691</td> <td> 0.000</td> <td>   10.799</td> <td>   13.186</td>\n",
       "</tr>\n",
       "<tr>\n",
       "  <th>Dsubclass_126</th>  <td>    9.6056</td> <td>    0.612</td> <td>   15.704</td> <td> 0.000</td> <td>    8.407</td> <td>   10.804</td>\n",
       "</tr>\n",
       "<tr>\n",
       "  <th>Dsubclass_1020</th> <td>    6.2022</td> <td>    0.559</td> <td>   11.087</td> <td> 0.000</td> <td>    5.106</td> <td>    7.299</td>\n",
       "</tr>\n",
       "<tr>\n",
       "  <th>Dsubclass_1021</th> <td>    8.2708</td> <td>    0.574</td> <td>   14.398</td> <td> 0.000</td> <td>    7.145</td> <td>    9.397</td>\n",
       "</tr>\n",
       "<tr>\n",
       "  <th>Dsubclass_1030</th> <td>    6.0363</td> <td>    0.593</td> <td>   10.181</td> <td> 0.000</td> <td>    4.874</td> <td>    7.198</td>\n",
       "</tr>\n",
       "<tr>\n",
       "  <th>Dsubclass_1031</th> <td>    5.2532</td> <td>    0.578</td> <td>    9.083</td> <td> 0.000</td> <td>    4.120</td> <td>    6.387</td>\n",
       "</tr>\n",
       "<tr>\n",
       "  <th>Dsubclass_1032</th> <td>    8.4812</td> <td>    0.581</td> <td>   14.600</td> <td> 0.000</td> <td>    7.343</td> <td>    9.620</td>\n",
       "</tr>\n",
       "<tr>\n",
       "  <th>Dsubclass_1040</th> <td>   10.5824</td> <td>    0.571</td> <td>   18.535</td> <td> 0.000</td> <td>    9.463</td> <td>   11.701</td>\n",
       "</tr>\n",
       "<tr>\n",
       "  <th>Dsubclass_1041</th> <td>   18.6606</td> <td>    0.574</td> <td>   32.514</td> <td> 0.000</td> <td>   17.536</td> <td>   19.786</td>\n",
       "</tr>\n",
       "<tr>\n",
       "  <th>Dsubclass_1042</th> <td>   11.4072</td> <td>    0.575</td> <td>   19.825</td> <td> 0.000</td> <td>   10.279</td> <td>   12.535</td>\n",
       "</tr>\n",
       "<tr>\n",
       "  <th>Dsubclass_1050</th> <td>    2.6251</td> <td>    0.593</td> <td>    4.425</td> <td> 0.000</td> <td>    1.462</td> <td>    3.788</td>\n",
       "</tr>\n",
       "<tr>\n",
       "  <th>Dsubclass_1051</th> <td>   -0.9759</td> <td>    0.643</td> <td>   -1.519</td> <td> 0.129</td> <td>   -2.235</td> <td>    0.283</td>\n",
       "</tr>\n",
       "<tr>\n",
       "  <th>Dsubclass_1052</th> <td>   -5.7042</td> <td>    0.738</td> <td>   -7.726</td> <td> 0.000</td> <td>   -7.151</td> <td>   -4.257</td>\n",
       "</tr>\n",
       "<tr>\n",
       "  <th>Dsubclass_1220</th> <td>   11.4515</td> <td>    0.563</td> <td>   20.344</td> <td> 0.000</td> <td>   10.348</td> <td>   12.555</td>\n",
       "</tr>\n",
       "<tr>\n",
       "  <th>Dsubclass_1221</th> <td>   13.8194</td> <td>    0.631</td> <td>   21.895</td> <td> 0.000</td> <td>   12.582</td> <td>   15.056</td>\n",
       "</tr>\n",
       "<tr>\n",
       "  <th>Dsubclass_1230</th> <td>   11.8240</td> <td>    0.586</td> <td>   20.171</td> <td> 0.000</td> <td>   10.675</td> <td>   12.973</td>\n",
       "</tr>\n",
       "<tr>\n",
       "  <th>Dsubclass_1231</th> <td>   10.1597</td> <td>    0.597</td> <td>   17.024</td> <td> 0.000</td> <td>    8.990</td> <td>   11.329</td>\n",
       "</tr>\n",
       "<tr>\n",
       "  <th>Dsubclass_1232</th> <td>   13.5050</td> <td>    0.607</td> <td>   22.232</td> <td> 0.000</td> <td>   12.314</td> <td>   14.696</td>\n",
       "</tr>\n",
       "<tr>\n",
       "  <th>Dsubclass_1240</th> <td>   16.0907</td> <td>    0.576</td> <td>   27.925</td> <td> 0.000</td> <td>   14.961</td> <td>   17.220</td>\n",
       "</tr>\n",
       "<tr>\n",
       "  <th>Dsubclass_1241</th> <td>   22.9090</td> <td>    0.589</td> <td>   38.893</td> <td> 0.000</td> <td>   21.754</td> <td>   24.063</td>\n",
       "</tr>\n",
       "<tr>\n",
       "  <th>Dsubclass_1242</th> <td>   16.5226</td> <td>    0.593</td> <td>   27.868</td> <td> 0.000</td> <td>   15.361</td> <td>   17.685</td>\n",
       "</tr>\n",
       "<tr>\n",
       "  <th>Dsubclass_1250</th> <td>    6.3521</td> <td>    0.600</td> <td>   10.586</td> <td> 0.000</td> <td>    5.176</td> <td>    7.528</td>\n",
       "</tr>\n",
       "<tr>\n",
       "  <th>Dsubclass_1251</th> <td>    1.6254</td> <td>    0.668</td> <td>    2.433</td> <td> 0.015</td> <td>    0.316</td> <td>    2.935</td>\n",
       "</tr>\n",
       "<tr>\n",
       "  <th>season_fall</th>    <td>    0.1147</td> <td>    0.098</td> <td>    1.172</td> <td> 0.241</td> <td>   -0.077</td> <td>    0.306</td>\n",
       "</tr>\n",
       "<tr>\n",
       "  <th>season_spring</th>  <td>   -0.5022</td> <td>    0.089</td> <td>   -5.640</td> <td> 0.000</td> <td>   -0.677</td> <td>   -0.328</td>\n",
       "</tr>\n",
       "<tr>\n",
       "  <th>season_winter</th>  <td>   -1.1958</td> <td>    0.098</td> <td>  -12.181</td> <td> 0.000</td> <td>   -1.388</td> <td>   -1.003</td>\n",
       "</tr>\n",
       "</table>\n",
       "<table class=\"simpletable\">\n",
       "<tr>\n",
       "  <th>Omnibus:</th>       <td>34470.769</td> <th>  Durbin-Watson:     </th>  <td>   2.005</td> \n",
       "</tr>\n",
       "<tr>\n",
       "  <th>Prob(Omnibus):</th>  <td> 0.000</td>   <th>  Jarque-Bera (JB):  </th> <td>468936.392</td>\n",
       "</tr>\n",
       "<tr>\n",
       "  <th>Skew:</th>           <td> 1.828</td>   <th>  Prob(JB):          </th>  <td>    0.00</td> \n",
       "</tr>\n",
       "<tr>\n",
       "  <th>Kurtosis:</th>       <td>14.612</td>   <th>  Cond. No.          </th>  <td>1.57e+03</td> \n",
       "</tr>\n",
       "</table><br/><br/>Warnings:<br/>[1] Standard Errors assume that the covariance matrix of the errors is correctly specified.<br/>[2] The condition number is large, 1.57e+03. This might indicate that there are<br/>strong multicollinearity or other numerical problems."
      ],
      "text/plain": [
       "<class 'statsmodels.iolib.summary.Summary'>\n",
       "\"\"\"\n",
       "                            OLS Regression Results                            \n",
       "==============================================================================\n",
       "Dep. Variable:       Unit_Sales_Price   R-squared:                       0.538\n",
       "Model:                            OLS   Adj. R-squared:                  0.538\n",
       "Method:                 Least Squares   F-statistic:                     2946.\n",
       "Date:                Thu, 09 May 2019   Prob (F-statistic):               0.00\n",
       "Time:                        06:45:59   Log-Likelihood:            -2.7318e+05\n",
       "No. Observations:               75940   AIC:                         5.464e+05\n",
       "Df Residuals:                   75909   BIC:                         5.467e+05\n",
       "Df Model:                          30                                         \n",
       "Covariance Type:            nonrobust                                         \n",
       "==================================================================================\n",
       "                     coef    std err          t      P>|t|      [0.025      0.975]\n",
       "----------------------------------------------------------------------------------\n",
       "const             18.3376      0.561     32.661      0.000      17.237      19.438\n",
       "Full_Price_Ind    17.2460      0.070    247.166      0.000      17.109      17.383\n",
       "Total_Units       -0.1109      0.003    -39.300      0.000      -0.116      -0.105\n",
       "Dsubclass_105      7.1920      0.588     12.231      0.000       6.040       8.345\n",
       "Dsubclass_106      6.0463      0.579     10.446      0.000       4.912       7.181\n",
       "Dsubclass_125     11.9924      0.609     19.691      0.000      10.799      13.186\n",
       "Dsubclass_126      9.6056      0.612     15.704      0.000       8.407      10.804\n",
       "Dsubclass_1020     6.2022      0.559     11.087      0.000       5.106       7.299\n",
       "Dsubclass_1021     8.2708      0.574     14.398      0.000       7.145       9.397\n",
       "Dsubclass_1030     6.0363      0.593     10.181      0.000       4.874       7.198\n",
       "Dsubclass_1031     5.2532      0.578      9.083      0.000       4.120       6.387\n",
       "Dsubclass_1032     8.4812      0.581     14.600      0.000       7.343       9.620\n",
       "Dsubclass_1040    10.5824      0.571     18.535      0.000       9.463      11.701\n",
       "Dsubclass_1041    18.6606      0.574     32.514      0.000      17.536      19.786\n",
       "Dsubclass_1042    11.4072      0.575     19.825      0.000      10.279      12.535\n",
       "Dsubclass_1050     2.6251      0.593      4.425      0.000       1.462       3.788\n",
       "Dsubclass_1051    -0.9759      0.643     -1.519      0.129      -2.235       0.283\n",
       "Dsubclass_1052    -5.7042      0.738     -7.726      0.000      -7.151      -4.257\n",
       "Dsubclass_1220    11.4515      0.563     20.344      0.000      10.348      12.555\n",
       "Dsubclass_1221    13.8194      0.631     21.895      0.000      12.582      15.056\n",
       "Dsubclass_1230    11.8240      0.586     20.171      0.000      10.675      12.973\n",
       "Dsubclass_1231    10.1597      0.597     17.024      0.000       8.990      11.329\n",
       "Dsubclass_1232    13.5050      0.607     22.232      0.000      12.314      14.696\n",
       "Dsubclass_1240    16.0907      0.576     27.925      0.000      14.961      17.220\n",
       "Dsubclass_1241    22.9090      0.589     38.893      0.000      21.754      24.063\n",
       "Dsubclass_1242    16.5226      0.593     27.868      0.000      15.361      17.685\n",
       "Dsubclass_1250     6.3521      0.600     10.586      0.000       5.176       7.528\n",
       "Dsubclass_1251     1.6254      0.668      2.433      0.015       0.316       2.935\n",
       "season_fall        0.1147      0.098      1.172      0.241      -0.077       0.306\n",
       "season_spring     -0.5022      0.089     -5.640      0.000      -0.677      -0.328\n",
       "season_winter     -1.1958      0.098    -12.181      0.000      -1.388      -1.003\n",
       "==============================================================================\n",
       "Omnibus:                    34470.769   Durbin-Watson:                   2.005\n",
       "Prob(Omnibus):                  0.000   Jarque-Bera (JB):           468936.392\n",
       "Skew:                           1.828   Prob(JB):                         0.00\n",
       "Kurtosis:                      14.612   Cond. No.                     1.57e+03\n",
       "==============================================================================\n",
       "\n",
       "Warnings:\n",
       "[1] Standard Errors assume that the covariance matrix of the errors is correctly specified.\n",
       "[2] The condition number is large, 1.57e+03. This might indicate that there are\n",
       "strong multicollinearity or other numerical problems.\n",
       "\"\"\""
      ]
     },
     "execution_count": 118,
     "metadata": {},
     "output_type": "execute_result"
    }
   ],
   "source": [
    "X_train = sm.add_constant(X_train)\n",
    "lm_2 = sm.OLS(Y_train, X_train).fit()\n",
    "lm_2.summary()"
   ]
  },
  {
   "cell_type": "markdown",
   "metadata": {},
   "source": [
    "#### Rebuilding the Model by dropping the features with p-val > 0.05 from the above OLS summary"
   ]
  },
  {
   "cell_type": "code",
   "execution_count": 119,
   "metadata": {},
   "outputs": [],
   "source": [
    "tmc_sel_feat2 = tmc_sel_feat2.drop(['season_fall','Dsubclass_1051'],axis=1)"
   ]
  },
  {
   "cell_type": "code",
   "execution_count": 120,
   "metadata": {},
   "outputs": [
    {
     "data": {
      "text/plain": [
       "(108486, 28)"
      ]
     },
     "execution_count": 120,
     "metadata": {},
     "output_type": "execute_result"
    }
   ],
   "source": [
    "tmc_sel_feat2.shape"
   ]
  },
  {
   "cell_type": "code",
   "execution_count": 121,
   "metadata": {},
   "outputs": [],
   "source": [
    "X_train, X_test, Y_train, Y_test = train_test_split(tmc_sel_feat2, tmctarget2, test_size = 0.3,\\\n",
    "                                                    random_state=212)"
   ]
  },
  {
   "cell_type": "code",
   "execution_count": 122,
   "metadata": {
    "scrolled": false
   },
   "outputs": [
    {
     "name": "stderr",
     "output_type": "stream",
     "text": [
      "C:\\Users\\ajayi\\AppData\\Local\\Continuum\\anaconda3\\lib\\site-packages\\numpy\\core\\fromnumeric.py:2389: FutureWarning: Method .ptp is deprecated and will be removed in a future version. Use numpy.ptp instead.\n",
      "  return ptp(axis=axis, out=out, **kwargs)\n"
     ]
    },
    {
     "data": {
      "text/html": [
       "<table class=\"simpletable\">\n",
       "<caption>OLS Regression Results</caption>\n",
       "<tr>\n",
       "  <th>Dep. Variable:</th>    <td>Unit_Sales_Price</td> <th>  R-squared:         </th>  <td>   0.538</td>  \n",
       "</tr>\n",
       "<tr>\n",
       "  <th>Model:</th>                   <td>OLS</td>       <th>  Adj. R-squared:    </th>  <td>   0.538</td>  \n",
       "</tr>\n",
       "<tr>\n",
       "  <th>Method:</th>             <td>Least Squares</td>  <th>  F-statistic:       </th>  <td>   3156.</td>  \n",
       "</tr>\n",
       "<tr>\n",
       "  <th>Date:</th>             <td>Thu, 09 May 2019</td> <th>  Prob (F-statistic):</th>   <td>  0.00</td>   \n",
       "</tr>\n",
       "<tr>\n",
       "  <th>Time:</th>                 <td>06:47:08</td>     <th>  Log-Likelihood:    </th> <td>-2.7318e+05</td>\n",
       "</tr>\n",
       "<tr>\n",
       "  <th>No. Observations:</th>      <td> 75940</td>      <th>  AIC:               </th>  <td>5.464e+05</td> \n",
       "</tr>\n",
       "<tr>\n",
       "  <th>Df Residuals:</th>          <td> 75911</td>      <th>  BIC:               </th>  <td>5.467e+05</td> \n",
       "</tr>\n",
       "<tr>\n",
       "  <th>Df Model:</th>              <td>    28</td>      <th>                     </th>      <td> </td>     \n",
       "</tr>\n",
       "<tr>\n",
       "  <th>Covariance Type:</th>      <td>nonrobust</td>    <th>                     </th>      <td> </td>     \n",
       "</tr>\n",
       "</table>\n",
       "<table class=\"simpletable\">\n",
       "<tr>\n",
       "         <td></td>           <th>coef</th>     <th>std err</th>      <th>t</th>      <th>P>|t|</th>  <th>[0.025</th>    <th>0.975]</th>  \n",
       "</tr>\n",
       "<tr>\n",
       "  <th>const</th>          <td>   17.6730</td> <td>    0.288</td> <td>   61.320</td> <td> 0.000</td> <td>   17.108</td> <td>   18.238</td>\n",
       "</tr>\n",
       "<tr>\n",
       "  <th>Full_Price_Ind</th> <td>   17.2476</td> <td>    0.070</td> <td>  247.445</td> <td> 0.000</td> <td>   17.111</td> <td>   17.384</td>\n",
       "</tr>\n",
       "<tr>\n",
       "  <th>Total_Units</th>    <td>   -0.1110</td> <td>    0.003</td> <td>  -39.374</td> <td> 0.000</td> <td>   -0.117</td> <td>   -0.105</td>\n",
       "</tr>\n",
       "<tr>\n",
       "  <th>Dsubclass_105</th>  <td>    7.8988</td> <td>    0.339</td> <td>   23.281</td> <td> 0.000</td> <td>    7.234</td> <td>    8.564</td>\n",
       "</tr>\n",
       "<tr>\n",
       "  <th>Dsubclass_106</th>  <td>    6.7587</td> <td>    0.323</td> <td>   20.904</td> <td> 0.000</td> <td>    6.125</td> <td>    7.392</td>\n",
       "</tr>\n",
       "<tr>\n",
       "  <th>Dsubclass_125</th>  <td>   12.7001</td> <td>    0.375</td> <td>   33.906</td> <td> 0.000</td> <td>   11.966</td> <td>   13.434</td>\n",
       "</tr>\n",
       "<tr>\n",
       "  <th>Dsubclass_126</th>  <td>   10.3200</td> <td>    0.379</td> <td>   27.227</td> <td> 0.000</td> <td>    9.577</td> <td>   11.063</td>\n",
       "</tr>\n",
       "<tr>\n",
       "  <th>Dsubclass_1020</th> <td>    6.9269</td> <td>    0.287</td> <td>   24.120</td> <td> 0.000</td> <td>    6.364</td> <td>    7.490</td>\n",
       "</tr>\n",
       "<tr>\n",
       "  <th>Dsubclass_1021</th> <td>    8.9856</td> <td>    0.316</td> <td>   28.472</td> <td> 0.000</td> <td>    8.367</td> <td>    9.604</td>\n",
       "</tr>\n",
       "<tr>\n",
       "  <th>Dsubclass_1030</th> <td>    6.7586</td> <td>    0.348</td> <td>   19.420</td> <td> 0.000</td> <td>    6.076</td> <td>    7.441</td>\n",
       "</tr>\n",
       "<tr>\n",
       "  <th>Dsubclass_1031</th> <td>    5.9678</td> <td>    0.323</td> <td>   18.497</td> <td> 0.000</td> <td>    5.335</td> <td>    6.600</td>\n",
       "</tr>\n",
       "<tr>\n",
       "  <th>Dsubclass_1032</th> <td>    9.1979</td> <td>    0.327</td> <td>   28.118</td> <td> 0.000</td> <td>    8.557</td> <td>    9.839</td>\n",
       "</tr>\n",
       "<tr>\n",
       "  <th>Dsubclass_1040</th> <td>   11.3042</td> <td>    0.309</td> <td>   36.594</td> <td> 0.000</td> <td>   10.699</td> <td>   11.910</td>\n",
       "</tr>\n",
       "<tr>\n",
       "  <th>Dsubclass_1041</th> <td>   19.3874</td> <td>    0.314</td> <td>   61.645</td> <td> 0.000</td> <td>   18.771</td> <td>   20.004</td>\n",
       "</tr>\n",
       "<tr>\n",
       "  <th>Dsubclass_1042</th> <td>   12.1308</td> <td>    0.317</td> <td>   38.267</td> <td> 0.000</td> <td>   11.509</td> <td>   12.752</td>\n",
       "</tr>\n",
       "<tr>\n",
       "  <th>Dsubclass_1050</th> <td>    3.3544</td> <td>    0.348</td> <td>    9.628</td> <td> 0.000</td> <td>    2.672</td> <td>    4.037</td>\n",
       "</tr>\n",
       "<tr>\n",
       "  <th>Dsubclass_1052</th> <td>   -4.9749</td> <td>    0.561</td> <td>   -8.873</td> <td> 0.000</td> <td>   -6.074</td> <td>   -3.876</td>\n",
       "</tr>\n",
       "<tr>\n",
       "  <th>Dsubclass_1220</th> <td>   12.1740</td> <td>    0.294</td> <td>   41.410</td> <td> 0.000</td> <td>   11.598</td> <td>   12.750</td>\n",
       "</tr>\n",
       "<tr>\n",
       "  <th>Dsubclass_1221</th> <td>   14.5319</td> <td>    0.410</td> <td>   35.448</td> <td> 0.000</td> <td>   13.728</td> <td>   15.335</td>\n",
       "</tr>\n",
       "<tr>\n",
       "  <th>Dsubclass_1230</th> <td>   12.5453</td> <td>    0.336</td> <td>   37.284</td> <td> 0.000</td> <td>   11.886</td> <td>   13.205</td>\n",
       "</tr>\n",
       "<tr>\n",
       "  <th>Dsubclass_1231</th> <td>   10.8758</td> <td>    0.355</td> <td>   30.672</td> <td> 0.000</td> <td>   10.181</td> <td>   11.571</td>\n",
       "</tr>\n",
       "<tr>\n",
       "  <th>Dsubclass_1232</th> <td>   14.2247</td> <td>    0.372</td> <td>   38.212</td> <td> 0.000</td> <td>   13.495</td> <td>   14.954</td>\n",
       "</tr>\n",
       "<tr>\n",
       "  <th>Dsubclass_1240</th> <td>   16.8154</td> <td>    0.319</td> <td>   52.779</td> <td> 0.000</td> <td>   16.191</td> <td>   17.440</td>\n",
       "</tr>\n",
       "<tr>\n",
       "  <th>Dsubclass_1241</th> <td>   23.6359</td> <td>    0.341</td> <td>   69.257</td> <td> 0.000</td> <td>   22.967</td> <td>   24.305</td>\n",
       "</tr>\n",
       "<tr>\n",
       "  <th>Dsubclass_1242</th> <td>   17.2458</td> <td>    0.348</td> <td>   49.572</td> <td> 0.000</td> <td>   16.564</td> <td>   17.928</td>\n",
       "</tr>\n",
       "<tr>\n",
       "  <th>Dsubclass_1250</th> <td>    7.0812</td> <td>    0.360</td> <td>   19.674</td> <td> 0.000</td> <td>    6.376</td> <td>    7.787</td>\n",
       "</tr>\n",
       "<tr>\n",
       "  <th>Dsubclass_1251</th> <td>    2.3509</td> <td>    0.464</td> <td>    5.061</td> <td> 0.000</td> <td>    1.441</td> <td>    3.261</td>\n",
       "</tr>\n",
       "<tr>\n",
       "  <th>season_spring</th>  <td>   -0.5575</td> <td>    0.075</td> <td>   -7.412</td> <td> 0.000</td> <td>   -0.705</td> <td>   -0.410</td>\n",
       "</tr>\n",
       "<tr>\n",
       "  <th>season_winter</th>  <td>   -1.2512</td> <td>    0.085</td> <td>  -14.654</td> <td> 0.000</td> <td>   -1.419</td> <td>   -1.084</td>\n",
       "</tr>\n",
       "</table>\n",
       "<table class=\"simpletable\">\n",
       "<tr>\n",
       "  <th>Omnibus:</th>       <td>34473.285</td> <th>  Durbin-Watson:     </th>  <td>   2.005</td> \n",
       "</tr>\n",
       "<tr>\n",
       "  <th>Prob(Omnibus):</th>  <td> 0.000</td>   <th>  Jarque-Bera (JB):  </th> <td>468870.045</td>\n",
       "</tr>\n",
       "<tr>\n",
       "  <th>Skew:</th>           <td> 1.829</td>   <th>  Prob(JB):          </th>  <td>    0.00</td> \n",
       "</tr>\n",
       "<tr>\n",
       "  <th>Kurtosis:</th>       <td>14.611</td>   <th>  Cond. No.          </th>  <td>    780.</td> \n",
       "</tr>\n",
       "</table><br/><br/>Warnings:<br/>[1] Standard Errors assume that the covariance matrix of the errors is correctly specified."
      ],
      "text/plain": [
       "<class 'statsmodels.iolib.summary.Summary'>\n",
       "\"\"\"\n",
       "                            OLS Regression Results                            \n",
       "==============================================================================\n",
       "Dep. Variable:       Unit_Sales_Price   R-squared:                       0.538\n",
       "Model:                            OLS   Adj. R-squared:                  0.538\n",
       "Method:                 Least Squares   F-statistic:                     3156.\n",
       "Date:                Thu, 09 May 2019   Prob (F-statistic):               0.00\n",
       "Time:                        06:47:08   Log-Likelihood:            -2.7318e+05\n",
       "No. Observations:               75940   AIC:                         5.464e+05\n",
       "Df Residuals:                   75911   BIC:                         5.467e+05\n",
       "Df Model:                          28                                         \n",
       "Covariance Type:            nonrobust                                         \n",
       "==================================================================================\n",
       "                     coef    std err          t      P>|t|      [0.025      0.975]\n",
       "----------------------------------------------------------------------------------\n",
       "const             17.6730      0.288     61.320      0.000      17.108      18.238\n",
       "Full_Price_Ind    17.2476      0.070    247.445      0.000      17.111      17.384\n",
       "Total_Units       -0.1110      0.003    -39.374      0.000      -0.117      -0.105\n",
       "Dsubclass_105      7.8988      0.339     23.281      0.000       7.234       8.564\n",
       "Dsubclass_106      6.7587      0.323     20.904      0.000       6.125       7.392\n",
       "Dsubclass_125     12.7001      0.375     33.906      0.000      11.966      13.434\n",
       "Dsubclass_126     10.3200      0.379     27.227      0.000       9.577      11.063\n",
       "Dsubclass_1020     6.9269      0.287     24.120      0.000       6.364       7.490\n",
       "Dsubclass_1021     8.9856      0.316     28.472      0.000       8.367       9.604\n",
       "Dsubclass_1030     6.7586      0.348     19.420      0.000       6.076       7.441\n",
       "Dsubclass_1031     5.9678      0.323     18.497      0.000       5.335       6.600\n",
       "Dsubclass_1032     9.1979      0.327     28.118      0.000       8.557       9.839\n",
       "Dsubclass_1040    11.3042      0.309     36.594      0.000      10.699      11.910\n",
       "Dsubclass_1041    19.3874      0.314     61.645      0.000      18.771      20.004\n",
       "Dsubclass_1042    12.1308      0.317     38.267      0.000      11.509      12.752\n",
       "Dsubclass_1050     3.3544      0.348      9.628      0.000       2.672       4.037\n",
       "Dsubclass_1052    -4.9749      0.561     -8.873      0.000      -6.074      -3.876\n",
       "Dsubclass_1220    12.1740      0.294     41.410      0.000      11.598      12.750\n",
       "Dsubclass_1221    14.5319      0.410     35.448      0.000      13.728      15.335\n",
       "Dsubclass_1230    12.5453      0.336     37.284      0.000      11.886      13.205\n",
       "Dsubclass_1231    10.8758      0.355     30.672      0.000      10.181      11.571\n",
       "Dsubclass_1232    14.2247      0.372     38.212      0.000      13.495      14.954\n",
       "Dsubclass_1240    16.8154      0.319     52.779      0.000      16.191      17.440\n",
       "Dsubclass_1241    23.6359      0.341     69.257      0.000      22.967      24.305\n",
       "Dsubclass_1242    17.2458      0.348     49.572      0.000      16.564      17.928\n",
       "Dsubclass_1250     7.0812      0.360     19.674      0.000       6.376       7.787\n",
       "Dsubclass_1251     2.3509      0.464      5.061      0.000       1.441       3.261\n",
       "season_spring     -0.5575      0.075     -7.412      0.000      -0.705      -0.410\n",
       "season_winter     -1.2512      0.085    -14.654      0.000      -1.419      -1.084\n",
       "==============================================================================\n",
       "Omnibus:                    34473.285   Durbin-Watson:                   2.005\n",
       "Prob(Omnibus):                  0.000   Jarque-Bera (JB):           468870.045\n",
       "Skew:                           1.829   Prob(JB):                         0.00\n",
       "Kurtosis:                      14.611   Cond. No.                         780.\n",
       "==============================================================================\n",
       "\n",
       "Warnings:\n",
       "[1] Standard Errors assume that the covariance matrix of the errors is correctly specified.\n",
       "\"\"\""
      ]
     },
     "execution_count": 122,
     "metadata": {},
     "output_type": "execute_result"
    }
   ],
   "source": [
    "X_train = sm.add_constant(X_train)\n",
    "lm_3 = sm.OLS(Y_train, X_train).fit()\n",
    "lm_3.summary()"
   ]
  },
  {
   "cell_type": "markdown",
   "metadata": {},
   "source": [
    "#### Even by dropping the high p-val features, the model accuracy is still 53.8% and didn't improve, so modelling using Ridge and Lasso"
   ]
  },
  {
   "cell_type": "code",
   "execution_count": 123,
   "metadata": {},
   "outputs": [],
   "source": [
    "from sklearn.linear_model import RidgeCV, LassoCV"
   ]
  },
  {
   "cell_type": "markdown",
   "metadata": {},
   "source": [
    "#### We'll generate an array of alpha values ranging from very big to very small, essentially covering the full range of scenarios from the null model containing only the intercept, to the least squares fit:"
   ]
  },
  {
   "cell_type": "code",
   "execution_count": 124,
   "metadata": {
    "scrolled": false
   },
   "outputs": [
    {
     "data": {
      "text/plain": [
       "array([5.00000000e+09, 3.78231664e+09, 2.86118383e+09, 2.16438064e+09,\n",
       "       1.63727458e+09, 1.23853818e+09, 9.36908711e+08, 7.08737081e+08,\n",
       "       5.36133611e+08, 4.05565415e+08, 3.06795364e+08, 2.32079442e+08,\n",
       "       1.75559587e+08, 1.32804389e+08, 1.00461650e+08, 7.59955541e+07,\n",
       "       5.74878498e+07, 4.34874501e+07, 3.28966612e+07, 2.48851178e+07,\n",
       "       1.88246790e+07, 1.42401793e+07, 1.07721735e+07, 8.14875417e+06,\n",
       "       6.16423370e+06, 4.66301673e+06, 3.52740116e+06, 2.66834962e+06,\n",
       "       2.01850863e+06, 1.52692775e+06, 1.15506485e+06, 8.73764200e+05,\n",
       "       6.60970574e+05, 5.00000000e+05, 3.78231664e+05, 2.86118383e+05,\n",
       "       2.16438064e+05, 1.63727458e+05, 1.23853818e+05, 9.36908711e+04,\n",
       "       7.08737081e+04, 5.36133611e+04, 4.05565415e+04, 3.06795364e+04,\n",
       "       2.32079442e+04, 1.75559587e+04, 1.32804389e+04, 1.00461650e+04,\n",
       "       7.59955541e+03, 5.74878498e+03, 4.34874501e+03, 3.28966612e+03,\n",
       "       2.48851178e+03, 1.88246790e+03, 1.42401793e+03, 1.07721735e+03,\n",
       "       8.14875417e+02, 6.16423370e+02, 4.66301673e+02, 3.52740116e+02,\n",
       "       2.66834962e+02, 2.01850863e+02, 1.52692775e+02, 1.15506485e+02,\n",
       "       8.73764200e+01, 6.60970574e+01, 5.00000000e+01, 3.78231664e+01,\n",
       "       2.86118383e+01, 2.16438064e+01, 1.63727458e+01, 1.23853818e+01,\n",
       "       9.36908711e+00, 7.08737081e+00, 5.36133611e+00, 4.05565415e+00,\n",
       "       3.06795364e+00, 2.32079442e+00, 1.75559587e+00, 1.32804389e+00,\n",
       "       1.00461650e+00, 7.59955541e-01, 5.74878498e-01, 4.34874501e-01,\n",
       "       3.28966612e-01, 2.48851178e-01, 1.88246790e-01, 1.42401793e-01,\n",
       "       1.07721735e-01, 8.14875417e-02, 6.16423370e-02, 4.66301673e-02,\n",
       "       3.52740116e-02, 2.66834962e-02, 2.01850863e-02, 1.52692775e-02,\n",
       "       1.15506485e-02, 8.73764200e-03, 6.60970574e-03, 5.00000000e-03])"
      ]
     },
     "execution_count": 124,
     "metadata": {},
     "output_type": "execute_result"
    }
   ],
   "source": [
    "alphas = 10**np.linspace(10,-2,100)*0.5\n",
    "alphas"
   ]
  },
  {
   "cell_type": "code",
   "execution_count": 125,
   "metadata": {},
   "outputs": [],
   "source": [
    "X_train, X_test, Y_train, Y_test = train_test_split(tmc_sel_feat2, tmctarget2, test_size = 0.3,\\\n",
    "                                                    random_state=212)"
   ]
  },
  {
   "cell_type": "code",
   "execution_count": 126,
   "metadata": {},
   "outputs": [
    {
     "data": {
      "text/plain": [
       "(100, 28)"
      ]
     },
     "execution_count": 126,
     "metadata": {},
     "output_type": "execute_result"
    }
   ],
   "source": [
    "ridge = Ridge(normalize = True)\n",
    "coefs = []\n",
    "\n",
    "for a in alphas:\n",
    "    ridge.set_params(alpha = a)\n",
    "    ridge.fit(X_train,Y_train)\n",
    "    coefs.append(ridge.coef_)\n",
    "    \n",
    "np.shape(coefs)"
   ]
  },
  {
   "cell_type": "markdown",
   "metadata": {},
   "source": [
    "#### We expect the coefficient estimates to be much smaller in terms of  l2 norm when a large value of alpha is used as compared to when a small value of alpha is used and is explained in the below plot"
   ]
  },
  {
   "cell_type": "code",
   "execution_count": 127,
   "metadata": {},
   "outputs": [
    {
     "data": {
      "text/plain": [
       "Text(0,0.5,'weights')"
      ]
     },
     "execution_count": 127,
     "metadata": {},
     "output_type": "execute_result"
    },
    {
     "data": {
      "image/png": "[encoded data removed]",
      "text/plain": [
       "<Figure size 864x1080 with 1 Axes>"
      ]
     },
     "metadata": {
      "needs_background": "light"
     },
     "output_type": "display_data"
    }
   ],
   "source": [
    "ax = plt.gca()\n",
    "ax.plot(alphas, coefs)\n",
    "ax.set_xscale('log')\n",
    "plt.axis('tight')\n",
    "plt.xlabel('alpha')\n",
    "plt.ylabel('weights')"
   ]
  },
  {
   "cell_type": "markdown",
   "metadata": {},
   "source": [
    "#### Now we fit a ridge regression model on the training set, and evaluate its score, MSE on the test set, using  λ=1 :"
   ]
  },
  {
   "cell_type": "markdown",
   "metadata": {},
   "source": [
    "#### Instead of arbitrarily choosing alpha value, it would be better to use cross-validation to choose the tuning parameter alpha using the cross-validated ridge regression function, RidgeCV()"
   ]
  },
  {
   "cell_type": "code",
   "execution_count": 128,
   "metadata": {},
   "outputs": [
    {
     "data": {
      "text/plain": [
       "0.005"
      ]
     },
     "execution_count": 128,
     "metadata": {},
     "output_type": "execute_result"
    }
   ],
   "source": [
    "ridgecv = RidgeCV(alphas = alphas, scoring = 'neg_mean_squared_error', normalize = True)\n",
    "ridgecv.fit(X_train, Y_train)\n",
    "ridgecv.alpha_"
   ]
  },
  {
   "cell_type": "markdown",
   "metadata": {},
   "source": [
    "#### Therefore, we see that the value of alpha that results in the smallest cross-validation error is 0.005 and now we use this alpha value for ridge and find out the scores"
   ]
  },
  {
   "cell_type": "code",
   "execution_count": 129,
   "metadata": {
    "scrolled": true
   },
   "outputs": [
    {
     "name": "stdout",
     "output_type": "stream",
     "text": [
      "Ridge regression train score : 0.5373406961950884\n",
      "Ridge regression test score : 0.5385664940153214\n",
      "No. of features used: 28\n",
      "R-Squared : 0.5385664940153214\n"
     ]
    }
   ],
   "source": [
    "ridge_after_cv = Ridge(alpha=ridgecv.alpha_,normalize = True)\n",
    "ridge_after_cv.fit(X_train,Y_train)\n",
    "ridge_after_cv_pred = ridge_after_cv.predict(X_test)\n",
    "print(\"Ridge regression train score :\",ridge_after_cv.score(X_train,Y_train))\n",
    "print(\"Ridge regression test score :\", ridge_after_cv.score(X_test, Y_test))\n",
    "print(\"No. of features used:\", np.sum(ridge_after_cv.coef_!=0))\n",
    "print(\"R-Squared :\",r2_score(Y_test, ridge_after_cv_pred))"
   ]
  },
  {
   "cell_type": "markdown",
   "metadata": {},
   "source": [
    "#### Coefficients of each independent variable after Ridge Regression with optimal alpha value are as below"
   ]
  },
  {
   "cell_type": "code",
   "execution_count": 130,
   "metadata": {},
   "outputs": [
    {
     "name": "stdout",
     "output_type": "stream",
     "text": [
      "Full_Price_Ind    17.128685\n",
      "Total_Units       -0.110594\n",
      "Dsubclass_105      5.172034\n",
      "Dsubclass_106      4.037690\n",
      "Dsubclass_125      9.948311\n",
      "Dsubclass_126      7.580098\n",
      "Dsubclass_1020     4.216541\n",
      "Dsubclass_1021     6.247736\n",
      "Dsubclass_1030     4.039051\n",
      "Dsubclass_1031     3.246740\n",
      "Dsubclass_1032     6.470385\n",
      "Dsubclass_1040     8.574298\n",
      "Dsubclass_1041    16.615398\n",
      "Dsubclass_1042     9.401085\n",
      "Dsubclass_1050     0.672962\n",
      "Dsubclass_1052    -7.604075\n",
      "Dsubclass_1220     9.436868\n",
      "Dsubclass_1221    11.759134\n",
      "Dsubclass_1230     9.798944\n",
      "Dsubclass_1231     8.131470\n",
      "Dsubclass_1232    11.472358\n",
      "Dsubclass_1240    14.057413\n",
      "Dsubclass_1241    20.842344\n",
      "Dsubclass_1242    14.484121\n",
      "Dsubclass_1250     4.372841\n",
      "Dsubclass_1251    -0.317179\n",
      "season_spring     -0.508533\n",
      "season_winter     -1.242397\n",
      "dtype: float64\n"
     ]
    }
   ],
   "source": [
    "print(pd.Series(ridge_after_cv.coef_, index = X_train.columns))"
   ]
  },
  {
   "cell_type": "markdown",
   "metadata": {},
   "source": [
    "#### Even with an ideal alpha we got from CV (0.05), the model score didn't improve so trying the Lasso"
   ]
  },
  {
   "cell_type": "code",
   "execution_count": 131,
   "metadata": {},
   "outputs": [
    {
     "data": {
      "text/plain": [
       "Text(0,0.5,'weights')"
      ]
     },
     "execution_count": 131,
     "metadata": {},
     "output_type": "execute_result"
    },
    {
     "data": {
      "image/png": "[encoded data removed]",
      "text/plain": [
       "<Figure size 864x1080 with 1 Axes>"
      ]
     },
     "metadata": {
      "needs_background": "light"
     },
     "output_type": "display_data"
    }
   ],
   "source": [
    "lasso = Lasso(max_iter = 10000, normalize = True)\n",
    "coefs = []\n",
    "\n",
    "for a in alphas:\n",
    "    lasso.set_params(alpha=a)\n",
    "    lasso.fit(X_train, Y_train)\n",
    "    coefs.append(lasso.coef_)\n",
    "    \n",
    "ax = plt.gca()\n",
    "ax.plot(alphas*2, coefs)\n",
    "ax.set_xscale('log')\n",
    "plt.axis('tight')\n",
    "plt.xlabel('alpha')\n",
    "plt.ylabel('weights')"
   ]
  },
  {
   "cell_type": "markdown",
   "metadata": {},
   "source": [
    "#### In the above graph also we can see that the coefficient estimates are approaching to zero as the alpha value increases"
   ]
  },
  {
   "cell_type": "markdown",
   "metadata": {},
   "source": [
    "#### Trying with some a sequential increase in alphas for Lasso"
   ]
  },
  {
   "cell_type": "code",
   "execution_count": 132,
   "metadata": {},
   "outputs": [],
   "source": [
    "X_train, X_test, Y_train, Y_test = train_test_split(tmc_sel_feat2, tmctarget2, test_size = 0.3,\\\n",
    "                                                    random_state=212)"
   ]
  },
  {
   "cell_type": "code",
   "execution_count": 133,
   "metadata": {},
   "outputs": [],
   "source": [
    "def frange(x, y, jump):\n",
    "  while x < y:\n",
    "    yield x\n",
    "    x += jump"
   ]
  },
  {
   "cell_type": "code",
   "execution_count": 134,
   "metadata": {
    "scrolled": false
   },
   "outputs": [
    {
     "name": "stdout",
     "output_type": "stream",
     "text": [
      "Lasso regression train score : 0.001 0.537701326263712\n",
      "Lasso regression test score : 0.001 0.538901370420076\n",
      "No. of features used: 0.001 28\n",
      "R-Squared : 0.538901370420076\n",
      "Lasso regression train score : 0.002 0.5371731525156285\n",
      "Lasso regression test score : 0.002 0.5383006560668575\n",
      "No. of features used: 0.002 28\n",
      "R-Squared : 0.5383006560668575\n",
      "Lasso regression train score : 0.003 0.536538561425588\n",
      "Lasso regression test score : 0.003 0.5376168178697263\n",
      "No. of features used: 0.003 28\n",
      "R-Squared : 0.5376168178697263\n",
      "Lasso regression train score : 0.004 0.5354586834661522\n",
      "Lasso regression test score : 0.004 0.5364563328642606\n",
      "No. of features used: 0.004 28\n",
      "R-Squared : 0.5364563328642606\n",
      "Lasso regression train score : 0.005 0.5348415668948904\n",
      "Lasso regression test score : 0.005 0.5357806637341969\n",
      "No. of features used: 0.005 28\n",
      "R-Squared : 0.5357806637341969\n",
      "Lasso regression train score : 0.006 0.5342008420255937\n",
      "Lasso regression test score : 0.006 0.5351212569112321\n",
      "No. of features used: 0.006 26\n",
      "R-Squared : 0.5351212569112321\n",
      "Lasso regression train score : 0.007 0.533951544855307\n",
      "Lasso regression test score : 0.007 0.534888924787561\n",
      "No. of features used: 0.007 25\n",
      "R-Squared : 0.534888924787561\n",
      "Lasso regression train score : 0.008 0.5337724389965033\n",
      "Lasso regression test score : 0.008 0.5347163677648599\n",
      "No. of features used: 0.008 24\n",
      "R-Squared : 0.5347163677648599\n",
      "Lasso regression train score : 0.009000000000000001 0.5336193961446092\n",
      "Lasso regression test score : 0.009000000000000001 0.5345651475547532\n",
      "No. of features used: 0.009000000000000001 24\n",
      "R-Squared : 0.5345651475547532\n"
     ]
    }
   ],
   "source": [
    "for alph in frange(0.001,0.010,0.001):\n",
    "    lasso1 = Lasso(alpha=alph, max_iter=10e5)\n",
    "    lasso1.fit(X_train,Y_train)\n",
    "    print(\"Lasso regression train score :\",alph,lasso1.score(X_train,Y_train))\n",
    "    print(\"Lasso regression test score :\",alph,lasso1.score(X_test, Y_test))\n",
    "    print(\"No. of features used:\",alph, np.sum(lasso1.coef_!=0))\n",
    "    print(\"R-Squared :\",r2_score(Y_test, lasso1.predict(X_test)))"
   ]
  },
  {
   "cell_type": "markdown",
   "metadata": {},
   "source": [
    "#### We can see that by the increase in alpha, the score decreases, now we perform 10-fold cross-validation to choose the best alpha, refit the model, and compute the associated test error:"
   ]
  },
  {
   "cell_type": "code",
   "execution_count": 135,
   "metadata": {},
   "outputs": [
    {
     "data": {
      "text/plain": [
       "2.9628066845935547e-05"
      ]
     },
     "execution_count": 135,
     "metadata": {},
     "output_type": "execute_result"
    }
   ],
   "source": [
    "lassocv = LassoCV(alphas = None, cv = 10, max_iter = 100000, normalize = True)\n",
    "lassocv.fit(X_train, Y_train)\n",
    "lassocv.alpha_"
   ]
  },
  {
   "cell_type": "code",
   "execution_count": 136,
   "metadata": {},
   "outputs": [
    {
     "name": "stdout",
     "output_type": "stream",
     "text": [
      "Lasso regression train score : 0.5374324418635827\n",
      "Lasso regression test score : 0.5385870189721103\n",
      "No. of features used: 28\n",
      "R-Squared : 0.5385870189721103\n"
     ]
    }
   ],
   "source": [
    "lasso.set_params(alpha=lassocv.alpha_)\n",
    "lasso.fit(X_train, Y_train)\n",
    "print(\"Lasso regression train score :\",lasso.score(X_train,Y_train))\n",
    "print(\"Lasso regression test score :\",lasso.score(X_test, Y_test))\n",
    "print(\"No. of features used:\", np.sum(lasso.coef_!=0))\n",
    "print(\"R-Squared :\",r2_score(Y_test, lasso.predict(X_test)))"
   ]
  },
  {
   "cell_type": "code",
   "execution_count": 137,
   "metadata": {},
   "outputs": [
    {
     "name": "stdout",
     "output_type": "stream",
     "text": [
      "Full_Price_Ind    17.198682\n",
      "Total_Units       -0.110193\n",
      "Dsubclass_105      5.350219\n",
      "Dsubclass_106      4.219980\n",
      "Dsubclass_125     10.134923\n",
      "Dsubclass_126      7.756580\n",
      "Dsubclass_1020     4.421090\n",
      "Dsubclass_1021     6.452427\n",
      "Dsubclass_1030     4.205935\n",
      "Dsubclass_1031     3.426806\n",
      "Dsubclass_1032     6.663178\n",
      "Dsubclass_1040     8.784971\n",
      "Dsubclass_1041    16.863186\n",
      "Dsubclass_1042     9.610828\n",
      "Dsubclass_1050     0.822328\n",
      "Dsubclass_1052    -7.325878\n",
      "Dsubclass_1220     9.660541\n",
      "Dsubclass_1221    11.954583\n",
      "Dsubclass_1230    10.002113\n",
      "Dsubclass_1231     8.318716\n",
      "Dsubclass_1232    11.668015\n",
      "Dsubclass_1240    14.291042\n",
      "Dsubclass_1241    21.100606\n",
      "Dsubclass_1242    14.705223\n",
      "Dsubclass_1250     4.543236\n",
      "Dsubclass_1251    -0.031659\n",
      "season_spring     -0.497437\n",
      "season_winter     -1.218470\n",
      "dtype: float64\n"
     ]
    }
   ],
   "source": [
    "print(pd.Series(lasso.coef_, index = X_train.columns))"
   ]
  },
  {
   "cell_type": "markdown",
   "metadata": {},
   "source": [
    "#### Here also even with an ideal alpha we got from CV (1.6026595927136046e-05), the model score didn't improve and the best score is from all models is 53.8%"
   ]
  },
  {
   "cell_type": "markdown",
   "metadata": {},
   "source": [
    "#### So, trying now with DecisionTreeRegressor"
   ]
  },
  {
   "cell_type": "code",
   "execution_count": 138,
   "metadata": {},
   "outputs": [],
   "source": [
    "from sklearn.tree import DecisionTreeRegressor"
   ]
  },
  {
   "cell_type": "code",
   "execution_count": 139,
   "metadata": {},
   "outputs": [],
   "source": [
    "X_train, X_test, Y_train, Y_test = train_test_split(tmc_sel_feat2, tmctarget2, test_size = 0.3,\\\n",
    "                                                    random_state=212)"
   ]
  },
  {
   "cell_type": "code",
   "execution_count": 147,
   "metadata": {},
   "outputs": [
    {
     "data": {
      "text/plain": [
       "DecisionTreeRegressor(criterion='mse', max_depth=13, max_features=28,\n",
       "           max_leaf_nodes=None, min_impurity_decrease=0.0,\n",
       "           min_impurity_split=None, min_samples_leaf=1,\n",
       "           min_samples_split=2, min_weight_fraction_leaf=0.0,\n",
       "           presort=False, random_state=None, splitter='best')"
      ]
     },
     "execution_count": 147,
     "metadata": {},
     "output_type": "execute_result"
    }
   ],
   "source": [
    "tmc_tree = DecisionTreeRegressor(max_depth=13,max_features=28)\n",
    "tmc_tree.fit(X_train,Y_train)"
   ]
  },
  {
   "cell_type": "code",
   "execution_count": 148,
   "metadata": {},
   "outputs": [],
   "source": [
    "tmc_tree_pred = tmc_tree.predict(X_test)"
   ]
  },
  {
   "cell_type": "code",
   "execution_count": 149,
   "metadata": {},
   "outputs": [
    {
     "data": {
      "text/plain": [
       "0.5416555830672951"
      ]
     },
     "execution_count": 149,
     "metadata": {},
     "output_type": "execute_result"
    }
   ],
   "source": [
    "r2_score(Y_test, tmc_tree_pred)"
   ]
  },
  {
   "cell_type": "markdown",
   "metadata": {},
   "source": [
    "#### By Simply giving some random hyper parameters of (max_depth=13,max_features=28) for DecisionTreeRegressor, the accuracy score is 54.1% which is slightly morethan all Regression models"
   ]
  },
  {
   "cell_type": "markdown",
   "metadata": {},
   "source": [
    "#### Now finding out the best hyper parameters in order to get max accuracy from the model"
   ]
  },
  {
   "cell_type": "code",
   "execution_count": 150,
   "metadata": {
    "scrolled": true
   },
   "outputs": [
    {
     "name": "stdout",
     "output_type": "stream",
     "text": [
      "maxFeat, maxDepth, R-sqrd--> 28 15 0.5452760104311669\n",
      "maxFeat, maxDepth, R-sqrd--> 28 14 0.5432692115889568\n",
      "maxFeat, maxDepth, R-sqrd--> 28 13 0.5416555830672951\n",
      "maxFeat, maxDepth, R-sqrd--> 28 12 0.540361403978477\n",
      "maxFeat, maxDepth, R-sqrd--> 28 11 0.5380808425593935\n",
      "maxFeat, maxDepth, R-sqrd--> 28 10 0.5343653898700595\n",
      "maxFeat, maxDepth, R-sqrd--> 28 9 0.5307176516983709\n",
      "maxFeat, maxDepth, R-sqrd--> 27 15 0.5497995057540297\n",
      "maxFeat, maxDepth, R-sqrd--> 27 14 0.5433309335609884\n",
      "maxFeat, maxDepth, R-sqrd--> 27 13 0.5410498545594511\n",
      "maxFeat, maxDepth, R-sqrd--> 27 12 0.5400697947759844\n",
      "maxFeat, maxDepth, R-sqrd--> 27 11 0.5378075585458283\n",
      "maxFeat, maxDepth, R-sqrd--> 27 10 0.5346124897272704\n",
      "maxFeat, maxDepth, R-sqrd--> 27 9 0.5315972556559696\n",
      "maxFeat, maxDepth, R-sqrd--> 26 15 0.5454578417720767\n",
      "maxFeat, maxDepth, R-sqrd--> 26 14 0.5433032472852868\n",
      "maxFeat, maxDepth, R-sqrd--> 26 13 0.5447860983979704\n",
      "maxFeat, maxDepth, R-sqrd--> 26 12 0.5406493350768177\n",
      "maxFeat, maxDepth, R-sqrd--> 26 11 0.5379046933613013\n",
      "maxFeat, maxDepth, R-sqrd--> 26 10 0.5348673872543142\n",
      "maxFeat, maxDepth, R-sqrd--> 26 9 0.5312323702504032\n",
      "maxFeat, maxDepth, R-sqrd--> 25 15 0.5493338966578415\n",
      "maxFeat, maxDepth, R-sqrd--> 25 14 0.5453074298972502\n",
      "maxFeat, maxDepth, R-sqrd--> 25 13 0.5419581829974918\n",
      "maxFeat, maxDepth, R-sqrd--> 25 12 0.5396655482517948\n",
      "maxFeat, maxDepth, R-sqrd--> 25 11 0.5379264281521368\n",
      "maxFeat, maxDepth, R-sqrd--> 25 10 0.534218561010221\n",
      "maxFeat, maxDepth, R-sqrd--> 25 9 0.5306657670204342\n",
      "maxFeat, maxDepth, R-sqrd--> 24 15 0.5444836481270903\n",
      "maxFeat, maxDepth, R-sqrd--> 24 14 0.5433265211330929\n",
      "maxFeat, maxDepth, R-sqrd--> 24 13 0.5422750034362434\n",
      "maxFeat, maxDepth, R-sqrd--> 24 12 0.5405741817968032\n",
      "maxFeat, maxDepth, R-sqrd--> 24 11 0.5375789370941966\n",
      "maxFeat, maxDepth, R-sqrd--> 24 10 0.538719118438824\n",
      "maxFeat, maxDepth, R-sqrd--> 24 9 0.5331025316025347\n",
      "maxFeat, maxDepth, R-sqrd--> 23 15 0.5446509387068399\n",
      "maxFeat, maxDepth, R-sqrd--> 23 14 0.5441761834091561\n",
      "maxFeat, maxDepth, R-sqrd--> 23 13 0.5415905551761415\n",
      "maxFeat, maxDepth, R-sqrd--> 23 12 0.5400448374650115\n",
      "maxFeat, maxDepth, R-sqrd--> 23 11 0.5369750823730144\n",
      "maxFeat, maxDepth, R-sqrd--> 23 10 0.5347620129167481\n",
      "maxFeat, maxDepth, R-sqrd--> 23 9 0.5300587500838506\n",
      "maxFeat, maxDepth, R-sqrd--> 22 15 0.5458515280031659\n",
      "maxFeat, maxDepth, R-sqrd--> 22 14 0.5432817244625665\n",
      "maxFeat, maxDepth, R-sqrd--> 22 13 0.547569210218888\n",
      "maxFeat, maxDepth, R-sqrd--> 22 12 0.5412769622809437\n",
      "maxFeat, maxDepth, R-sqrd--> 22 11 0.5380872716015648\n",
      "maxFeat, maxDepth, R-sqrd--> 22 10 0.5356356429806585\n",
      "maxFeat, maxDepth, R-sqrd--> 22 9 0.5300250139514124\n"
     ]
    }
   ],
   "source": [
    "for maxf in range(28,21,-1):\n",
    "    for maxd in range(15,8,-1):\n",
    "        tmc_tree = DecisionTreeRegressor(max_depth=maxd,max_features=maxf)\n",
    "        tmc_tree.fit(X_train,Y_train)\n",
    "        print(\"maxFeat, maxDepth, R-sqrd-->\",maxf,maxd,r2_score(Y_test, tmc_tree.predict(X_test)))"
   ]
  },
  {
   "cell_type": "markdown",
   "metadata": {},
   "source": [
    "#### From the above DecisionTreeRegressor iterations, the below parameters gives the max R-Sqrd value"
   ]
  },
  {
   "cell_type": "markdown",
   "metadata": {},
   "source": [
    "- maxFeat, maxDepth, R-sqrd--> 27 -  15 - 0.5497995057540297"
   ]
  },
  {
   "cell_type": "markdown",
   "metadata": {},
   "source": [
    "#### Therefore considering this as the maximum accuracy (54.9) achieved for the data with Total_Units >5. Now, proceeding with the next steps"
   ]
  },
  {
   "cell_type": "markdown",
   "metadata": {},
   "source": [
    "#### Now considering the transactions with Total_Units > 10 and applying all the above models in the same way as above"
   ]
  },
  {
   "cell_type": "code",
   "execution_count": 153,
   "metadata": {},
   "outputs": [],
   "source": [
    "tmc_maindata3 = tmc_group[tmc_group['Total_Units']>10]"
   ]
  },
  {
   "cell_type": "code",
   "execution_count": 154,
   "metadata": {},
   "outputs": [
    {
     "data": {
      "text/plain": [
       "(49507, 6)"
      ]
     },
     "execution_count": 154,
     "metadata": {},
     "output_type": "execute_result"
    }
   ],
   "source": [
    "tmc_maindata3.shape"
   ]
  },
  {
   "cell_type": "code",
   "execution_count": 155,
   "metadata": {},
   "outputs": [],
   "source": [
    "tmc_maindata3 = pd.get_dummies(tmc_maindata3, columns= ['Dsubclass', 'season'])\n",
    "tmc_maindata3.drop(['Dsubclass_1252','season_summer'], axis=1, inplace=True)\n",
    "tmctarget3 =tmc_maindata3['Unit_Sales_Price']\n",
    "tmc_maindata3.drop(['Dbsku','Unit_Sales_Price'],axis=1,inplace=True)"
   ]
  },
  {
   "cell_type": "code",
   "execution_count": 156,
   "metadata": {},
   "outputs": [],
   "source": [
    "tmc_sel_feat3 = tmc_maindata3[['Full_Price_Ind', 'Total_Units', 'Dsubclass_105', 'Dsubclass_106',\n",
    "       'Dsubclass_125', 'Dsubclass_126', 'Dsubclass_1020', 'Dsubclass_1021',\n",
    "       'Dsubclass_1030', 'Dsubclass_1031', 'Dsubclass_1032', 'Dsubclass_1040',\n",
    "       'Dsubclass_1041', 'Dsubclass_1042', 'Dsubclass_1050', 'Dsubclass_1051',\n",
    "       'Dsubclass_1052', 'Dsubclass_1220', 'Dsubclass_1221', 'Dsubclass_1230',\n",
    "       'Dsubclass_1231', 'Dsubclass_1232', 'Dsubclass_1240', 'Dsubclass_1241',\n",
    "       'Dsubclass_1242', 'Dsubclass_1250', 'Dsubclass_1251', 'season_fall',\n",
    "       'season_spring', 'season_winter']]"
   ]
  },
  {
   "cell_type": "code",
   "execution_count": 157,
   "metadata": {},
   "outputs": [
    {
     "data": {
      "text/plain": [
       "((49507, 30), (49507,))"
      ]
     },
     "execution_count": 157,
     "metadata": {},
     "output_type": "execute_result"
    }
   ],
   "source": [
    "tmc_sel_feat3.shape,tmctarget3.shape"
   ]
  },
  {
   "cell_type": "markdown",
   "metadata": {},
   "source": [
    "- Plot b/w Price and Total_Units for this data"
   ]
  },
  {
   "cell_type": "code",
   "execution_count": 158,
   "metadata": {
    "scrolled": true
   },
   "outputs": [
    {
     "data": {
      "image/png": "[encoded data removed]",
      "text/plain": [
       "<Figure size 864x1080 with 1 Axes>"
      ]
     },
     "metadata": {
      "needs_background": "light"
     },
     "output_type": "display_data"
    }
   ],
   "source": [
    "x = tmc_maindata3['Total_Units']\n",
    "y = tmctarget3\n",
    "plt.scatter(x, y, alpha=0.5)\n",
    "plt.xlabel('Quantity')\n",
    "plt.ylabel('Price')\n",
    "plt.show()"
   ]
  },
  {
   "cell_type": "markdown",
   "metadata": {},
   "source": [
    "#### OLS"
   ]
  },
  {
   "cell_type": "code",
   "execution_count": 159,
   "metadata": {},
   "outputs": [
    {
     "name": "stderr",
     "output_type": "stream",
     "text": [
      "C:\\Users\\ajayi\\AppData\\Local\\Continuum\\anaconda3\\lib\\site-packages\\numpy\\core\\fromnumeric.py:2389: FutureWarning: Method .ptp is deprecated and will be removed in a future version. Use numpy.ptp instead.\n",
      "  return ptp(axis=axis, out=out, **kwargs)\n"
     ]
    },
    {
     "data": {
      "text/html": [
       "<table class=\"simpletable\">\n",
       "<caption>OLS Regression Results</caption>\n",
       "<tr>\n",
       "  <th>Dep. Variable:</th>    <td>Unit_Sales_Price</td> <th>  R-squared:         </th>  <td>   0.553</td>  \n",
       "</tr>\n",
       "<tr>\n",
       "  <th>Model:</th>                   <td>OLS</td>       <th>  Adj. R-squared:    </th>  <td>   0.553</td>  \n",
       "</tr>\n",
       "<tr>\n",
       "  <th>Method:</th>             <td>Least Squares</td>  <th>  F-statistic:       </th>  <td>   1428.</td>  \n",
       "</tr>\n",
       "<tr>\n",
       "  <th>Date:</th>             <td>Thu, 09 May 2019</td> <th>  Prob (F-statistic):</th>   <td>  0.00</td>   \n",
       "</tr>\n",
       "<tr>\n",
       "  <th>Time:</th>                 <td>06:57:03</td>     <th>  Log-Likelihood:    </th> <td>-1.2238e+05</td>\n",
       "</tr>\n",
       "<tr>\n",
       "  <th>No. Observations:</th>      <td> 34654</td>      <th>  AIC:               </th>  <td>2.448e+05</td> \n",
       "</tr>\n",
       "<tr>\n",
       "  <th>Df Residuals:</th>          <td> 34623</td>      <th>  BIC:               </th>  <td>2.451e+05</td> \n",
       "</tr>\n",
       "<tr>\n",
       "  <th>Df Model:</th>              <td>    30</td>      <th>                     </th>      <td> </td>     \n",
       "</tr>\n",
       "<tr>\n",
       "  <th>Covariance Type:</th>      <td>nonrobust</td>    <th>                     </th>      <td> </td>     \n",
       "</tr>\n",
       "</table>\n",
       "<table class=\"simpletable\">\n",
       "<tr>\n",
       "         <td></td>           <th>coef</th>     <th>std err</th>      <th>t</th>      <th>P>|t|</th>  <th>[0.025</th>    <th>0.975]</th>  \n",
       "</tr>\n",
       "<tr>\n",
       "  <th>const</th>          <td>   19.1024</td> <td>    0.933</td> <td>   20.469</td> <td> 0.000</td> <td>   17.273</td> <td>   20.932</td>\n",
       "</tr>\n",
       "<tr>\n",
       "  <th>Full_Price_Ind</th> <td>   16.8535</td> <td>    0.096</td> <td>  175.501</td> <td> 0.000</td> <td>   16.665</td> <td>   17.042</td>\n",
       "</tr>\n",
       "<tr>\n",
       "  <th>Total_Units</th>    <td>   -0.0864</td> <td>    0.003</td> <td>  -26.767</td> <td> 0.000</td> <td>   -0.093</td> <td>   -0.080</td>\n",
       "</tr>\n",
       "<tr>\n",
       "  <th>Dsubclass_105</th>  <td>    5.5294</td> <td>    0.962</td> <td>    5.747</td> <td> 0.000</td> <td>    3.643</td> <td>    7.415</td>\n",
       "</tr>\n",
       "<tr>\n",
       "  <th>Dsubclass_106</th>  <td>    4.8771</td> <td>    0.950</td> <td>    5.132</td> <td> 0.000</td> <td>    3.015</td> <td>    6.740</td>\n",
       "</tr>\n",
       "<tr>\n",
       "  <th>Dsubclass_125</th>  <td>   10.0223</td> <td>    0.986</td> <td>   10.169</td> <td> 0.000</td> <td>    8.091</td> <td>   11.954</td>\n",
       "</tr>\n",
       "<tr>\n",
       "  <th>Dsubclass_126</th>  <td>    7.6231</td> <td>    0.990</td> <td>    7.703</td> <td> 0.000</td> <td>    5.683</td> <td>    9.563</td>\n",
       "</tr>\n",
       "<tr>\n",
       "  <th>Dsubclass_1020</th> <td>    4.8673</td> <td>    0.929</td> <td>    5.237</td> <td> 0.000</td> <td>    3.046</td> <td>    6.689</td>\n",
       "</tr>\n",
       "<tr>\n",
       "  <th>Dsubclass_1021</th> <td>    7.1294</td> <td>    0.949</td> <td>    7.514</td> <td> 0.000</td> <td>    5.270</td> <td>    8.989</td>\n",
       "</tr>\n",
       "<tr>\n",
       "  <th>Dsubclass_1030</th> <td>    4.5931</td> <td>    0.963</td> <td>    4.771</td> <td> 0.000</td> <td>    2.706</td> <td>    6.480</td>\n",
       "</tr>\n",
       "<tr>\n",
       "  <th>Dsubclass_1031</th> <td>    4.0038</td> <td>    0.950</td> <td>    4.215</td> <td> 0.000</td> <td>    2.142</td> <td>    5.866</td>\n",
       "</tr>\n",
       "<tr>\n",
       "  <th>Dsubclass_1032</th> <td>    7.1402</td> <td>    0.955</td> <td>    7.475</td> <td> 0.000</td> <td>    5.268</td> <td>    9.012</td>\n",
       "</tr>\n",
       "<tr>\n",
       "  <th>Dsubclass_1040</th> <td>    8.5949</td> <td>    0.944</td> <td>    9.107</td> <td> 0.000</td> <td>    6.745</td> <td>   10.445</td>\n",
       "</tr>\n",
       "<tr>\n",
       "  <th>Dsubclass_1041</th> <td>   14.4748</td> <td>    0.948</td> <td>   15.276</td> <td> 0.000</td> <td>   12.618</td> <td>   16.332</td>\n",
       "</tr>\n",
       "<tr>\n",
       "  <th>Dsubclass_1042</th> <td>    9.7888</td> <td>    0.948</td> <td>   10.326</td> <td> 0.000</td> <td>    7.931</td> <td>   11.647</td>\n",
       "</tr>\n",
       "<tr>\n",
       "  <th>Dsubclass_1050</th> <td>    1.2486</td> <td>    0.977</td> <td>    1.278</td> <td> 0.201</td> <td>   -0.666</td> <td>    3.163</td>\n",
       "</tr>\n",
       "<tr>\n",
       "  <th>Dsubclass_1051</th> <td>   -1.7632</td> <td>    1.040</td> <td>   -1.696</td> <td> 0.090</td> <td>   -3.801</td> <td>    0.275</td>\n",
       "</tr>\n",
       "<tr>\n",
       "  <th>Dsubclass_1052</th> <td>   -5.8822</td> <td>    1.216</td> <td>   -4.838</td> <td> 0.000</td> <td>   -8.265</td> <td>   -3.499</td>\n",
       "</tr>\n",
       "<tr>\n",
       "  <th>Dsubclass_1220</th> <td>    9.7969</td> <td>    0.934</td> <td>   10.492</td> <td> 0.000</td> <td>    7.967</td> <td>   11.627</td>\n",
       "</tr>\n",
       "<tr>\n",
       "  <th>Dsubclass_1221</th> <td>   11.0101</td> <td>    1.024</td> <td>   10.747</td> <td> 0.000</td> <td>    9.002</td> <td>   13.018</td>\n",
       "</tr>\n",
       "<tr>\n",
       "  <th>Dsubclass_1230</th> <td>    9.8143</td> <td>    0.958</td> <td>   10.241</td> <td> 0.000</td> <td>    7.936</td> <td>   11.693</td>\n",
       "</tr>\n",
       "<tr>\n",
       "  <th>Dsubclass_1231</th> <td>    8.6936</td> <td>    0.967</td> <td>    8.993</td> <td> 0.000</td> <td>    6.799</td> <td>   10.589</td>\n",
       "</tr>\n",
       "<tr>\n",
       "  <th>Dsubclass_1232</th> <td>   11.2589</td> <td>    0.986</td> <td>   11.424</td> <td> 0.000</td> <td>    9.327</td> <td>   13.191</td>\n",
       "</tr>\n",
       "<tr>\n",
       "  <th>Dsubclass_1240</th> <td>   14.3166</td> <td>    0.949</td> <td>   15.092</td> <td> 0.000</td> <td>   12.457</td> <td>   16.176</td>\n",
       "</tr>\n",
       "<tr>\n",
       "  <th>Dsubclass_1241</th> <td>   18.9130</td> <td>    0.969</td> <td>   19.526</td> <td> 0.000</td> <td>   17.014</td> <td>   20.812</td>\n",
       "</tr>\n",
       "<tr>\n",
       "  <th>Dsubclass_1242</th> <td>   14.0369</td> <td>    0.967</td> <td>   14.510</td> <td> 0.000</td> <td>   12.141</td> <td>   15.933</td>\n",
       "</tr>\n",
       "<tr>\n",
       "  <th>Dsubclass_1250</th> <td>    4.7539</td> <td>    1.001</td> <td>    4.749</td> <td> 0.000</td> <td>    2.792</td> <td>    6.716</td>\n",
       "</tr>\n",
       "<tr>\n",
       "  <th>Dsubclass_1251</th> <td>    1.2693</td> <td>    1.076</td> <td>    1.179</td> <td> 0.238</td> <td>   -0.840</td> <td>    3.379</td>\n",
       "</tr>\n",
       "<tr>\n",
       "  <th>season_fall</th>    <td>    0.6546</td> <td>    0.139</td> <td>    4.703</td> <td> 0.000</td> <td>    0.382</td> <td>    0.927</td>\n",
       "</tr>\n",
       "<tr>\n",
       "  <th>season_spring</th>  <td>   -0.0084</td> <td>    0.124</td> <td>   -0.068</td> <td> 0.946</td> <td>   -0.251</td> <td>    0.234</td>\n",
       "</tr>\n",
       "<tr>\n",
       "  <th>season_winter</th>  <td>   -1.2516</td> <td>    0.136</td> <td>   -9.221</td> <td> 0.000</td> <td>   -1.518</td> <td>   -0.986</td>\n",
       "</tr>\n",
       "</table>\n",
       "<table class=\"simpletable\">\n",
       "<tr>\n",
       "  <th>Omnibus:</th>       <td>14681.393</td> <th>  Durbin-Watson:     </th>  <td>   2.013</td> \n",
       "</tr>\n",
       "<tr>\n",
       "  <th>Prob(Omnibus):</th>  <td> 0.000</td>   <th>  Jarque-Bera (JB):  </th> <td>209431.281</td>\n",
       "</tr>\n",
       "<tr>\n",
       "  <th>Skew:</th>           <td> 1.654</td>   <th>  Prob(JB):          </th>  <td>    0.00</td> \n",
       "</tr>\n",
       "<tr>\n",
       "  <th>Kurtosis:</th>       <td>14.580</td>   <th>  Cond. No.          </th>  <td>2.62e+03</td> \n",
       "</tr>\n",
       "</table><br/><br/>Warnings:<br/>[1] Standard Errors assume that the covariance matrix of the errors is correctly specified.<br/>[2] The condition number is large, 2.62e+03. This might indicate that there are<br/>strong multicollinearity or other numerical problems."
      ],
      "text/plain": [
       "<class 'statsmodels.iolib.summary.Summary'>\n",
       "\"\"\"\n",
       "                            OLS Regression Results                            \n",
       "==============================================================================\n",
       "Dep. Variable:       Unit_Sales_Price   R-squared:                       0.553\n",
       "Model:                            OLS   Adj. R-squared:                  0.553\n",
       "Method:                 Least Squares   F-statistic:                     1428.\n",
       "Date:                Thu, 09 May 2019   Prob (F-statistic):               0.00\n",
       "Time:                        06:57:03   Log-Likelihood:            -1.2238e+05\n",
       "No. Observations:               34654   AIC:                         2.448e+05\n",
       "Df Residuals:                   34623   BIC:                         2.451e+05\n",
       "Df Model:                          30                                         \n",
       "Covariance Type:            nonrobust                                         \n",
       "==================================================================================\n",
       "                     coef    std err          t      P>|t|      [0.025      0.975]\n",
       "----------------------------------------------------------------------------------\n",
       "const             19.1024      0.933     20.469      0.000      17.273      20.932\n",
       "Full_Price_Ind    16.8535      0.096    175.501      0.000      16.665      17.042\n",
       "Total_Units       -0.0864      0.003    -26.767      0.000      -0.093      -0.080\n",
       "Dsubclass_105      5.5294      0.962      5.747      0.000       3.643       7.415\n",
       "Dsubclass_106      4.8771      0.950      5.132      0.000       3.015       6.740\n",
       "Dsubclass_125     10.0223      0.986     10.169      0.000       8.091      11.954\n",
       "Dsubclass_126      7.6231      0.990      7.703      0.000       5.683       9.563\n",
       "Dsubclass_1020     4.8673      0.929      5.237      0.000       3.046       6.689\n",
       "Dsubclass_1021     7.1294      0.949      7.514      0.000       5.270       8.989\n",
       "Dsubclass_1030     4.5931      0.963      4.771      0.000       2.706       6.480\n",
       "Dsubclass_1031     4.0038      0.950      4.215      0.000       2.142       5.866\n",
       "Dsubclass_1032     7.1402      0.955      7.475      0.000       5.268       9.012\n",
       "Dsubclass_1040     8.5949      0.944      9.107      0.000       6.745      10.445\n",
       "Dsubclass_1041    14.4748      0.948     15.276      0.000      12.618      16.332\n",
       "Dsubclass_1042     9.7888      0.948     10.326      0.000       7.931      11.647\n",
       "Dsubclass_1050     1.2486      0.977      1.278      0.201      -0.666       3.163\n",
       "Dsubclass_1051    -1.7632      1.040     -1.696      0.090      -3.801       0.275\n",
       "Dsubclass_1052    -5.8822      1.216     -4.838      0.000      -8.265      -3.499\n",
       "Dsubclass_1220     9.7969      0.934     10.492      0.000       7.967      11.627\n",
       "Dsubclass_1221    11.0101      1.024     10.747      0.000       9.002      13.018\n",
       "Dsubclass_1230     9.8143      0.958     10.241      0.000       7.936      11.693\n",
       "Dsubclass_1231     8.6936      0.967      8.993      0.000       6.799      10.589\n",
       "Dsubclass_1232    11.2589      0.986     11.424      0.000       9.327      13.191\n",
       "Dsubclass_1240    14.3166      0.949     15.092      0.000      12.457      16.176\n",
       "Dsubclass_1241    18.9130      0.969     19.526      0.000      17.014      20.812\n",
       "Dsubclass_1242    14.0369      0.967     14.510      0.000      12.141      15.933\n",
       "Dsubclass_1250     4.7539      1.001      4.749      0.000       2.792       6.716\n",
       "Dsubclass_1251     1.2693      1.076      1.179      0.238      -0.840       3.379\n",
       "season_fall        0.6546      0.139      4.703      0.000       0.382       0.927\n",
       "season_spring     -0.0084      0.124     -0.068      0.946      -0.251       0.234\n",
       "season_winter     -1.2516      0.136     -9.221      0.000      -1.518      -0.986\n",
       "==============================================================================\n",
       "Omnibus:                    14681.393   Durbin-Watson:                   2.013\n",
       "Prob(Omnibus):                  0.000   Jarque-Bera (JB):           209431.281\n",
       "Skew:                           1.654   Prob(JB):                         0.00\n",
       "Kurtosis:                      14.580   Cond. No.                     2.62e+03\n",
       "==============================================================================\n",
       "\n",
       "Warnings:\n",
       "[1] Standard Errors assume that the covariance matrix of the errors is correctly specified.\n",
       "[2] The condition number is large, 2.62e+03. This might indicate that there are\n",
       "strong multicollinearity or other numerical problems.\n",
       "\"\"\""
      ]
     },
     "execution_count": 159,
     "metadata": {},
     "output_type": "execute_result"
    }
   ],
   "source": [
    "X_train, X_test, Y_train, Y_test = train_test_split(tmc_sel_feat3, tmctarget3, test_size = 0.3,\\\n",
    "                                                    random_state=212)\n",
    "X_train = sm.add_constant(X_train)\n",
    "lm_3 = sm.OLS(Y_train, X_train).fit()\n",
    "lm_3.summary()"
   ]
  },
  {
   "cell_type": "markdown",
   "metadata": {},
   "source": [
    "#### Applying Ridge and Lasso on the same"
   ]
  },
  {
   "cell_type": "code",
   "execution_count": 160,
   "metadata": {},
   "outputs": [],
   "source": [
    "X_train, X_test, Y_train, Y_test = train_test_split(tmc_sel_feat3, tmctarget3, test_size = 0.3,\\\n",
    "                                                    random_state=212)"
   ]
  },
  {
   "cell_type": "markdown",
   "metadata": {},
   "source": [
    "#### Instead of arbitrarily choosing alpha value, we use cross-validation to choose the tuning parameter alpha using the cross-validated ridge regression function, RidgeCV()"
   ]
  },
  {
   "cell_type": "code",
   "execution_count": 161,
   "metadata": {},
   "outputs": [
    {
     "data": {
      "text/plain": [
       "0.005"
      ]
     },
     "execution_count": 161,
     "metadata": {},
     "output_type": "execute_result"
    }
   ],
   "source": [
    "ridgecv = RidgeCV(alphas = alphas, scoring = 'neg_mean_squared_error', normalize = True)\n",
    "ridgecv.fit(X_train, Y_train)\n",
    "ridgecv.alpha_"
   ]
  },
  {
   "cell_type": "markdown",
   "metadata": {},
   "source": [
    "#### Therefore, we see that the value of alpha that results in the smallest cross-validation error is 0.005 and now we use this alpha value for ridge and find out the scores"
   ]
  },
  {
   "cell_type": "code",
   "execution_count": 162,
   "metadata": {},
   "outputs": [
    {
     "name": "stdout",
     "output_type": "stream",
     "text": [
      "Ridge regression train score : 0.5526761965030922\n",
      "Ridge regression test score : 0.5567505361511329\n",
      "No. of features used: 30\n",
      "R-Squared : 0.5567505361511329\n"
     ]
    }
   ],
   "source": [
    "ridge_after_cv = Ridge(alpha=ridgecv.alpha_,normalize = True)\n",
    "ridge_after_cv.fit(X_train,Y_train)\n",
    "ridge_after_cv_pred = ridge_after_cv.predict(X_test) \n",
    "print(\"Ridge regression train score :\",ridge_after_cv.score(X_train,Y_train))\n",
    "print(\"Ridge regression test score :\", ridge_after_cv.score(X_test, Y_test))\n",
    "print(\"No. of features used:\", np.sum(ridge_after_cv.coef_!=0))\n",
    "print(\"R-Squared :\",r2_score(Y_test, ridge_after_cv_pred))"
   ]
  },
  {
   "cell_type": "markdown",
   "metadata": {},
   "source": [
    "#### Coefficients of each independent variable after Ridge Regression with optimal alpha value are as below"
   ]
  },
  {
   "cell_type": "code",
   "execution_count": 163,
   "metadata": {},
   "outputs": [
    {
     "name": "stdout",
     "output_type": "stream",
     "text": [
      "Full_Price_Ind    16.758117\n",
      "Total_Units       -0.086418\n",
      "Dsubclass_105      0.237799\n",
      "Dsubclass_106     -0.416050\n",
      "Dsubclass_125      4.705488\n",
      "Dsubclass_126      2.309809\n",
      "Dsubclass_1020    -0.420981\n",
      "Dsubclass_1021     1.812086\n",
      "Dsubclass_1030    -0.695322\n",
      "Dsubclass_1031    -1.283788\n",
      "Dsubclass_1032     1.844538\n",
      "Dsubclass_1040     3.293371\n",
      "Dsubclass_1041     9.142274\n",
      "Dsubclass_1042     4.480685\n",
      "Dsubclass_1050    -4.013914\n",
      "Dsubclass_1051    -6.994707\n",
      "Dsubclass_1052   -11.093230\n",
      "Dsubclass_1220     4.484354\n",
      "Dsubclass_1221     5.675220\n",
      "Dsubclass_1230     4.500608\n",
      "Dsubclass_1231     3.380993\n",
      "Dsubclass_1232     5.937344\n",
      "Dsubclass_1240     8.983092\n",
      "Dsubclass_1241    13.555379\n",
      "Dsubclass_1242     8.705815\n",
      "Dsubclass_1250    -0.535522\n",
      "Dsubclass_1251    -3.983833\n",
      "season_fall        0.664819\n",
      "season_spring      0.029285\n",
      "season_winter     -1.245516\n",
      "dtype: float64\n"
     ]
    }
   ],
   "source": [
    "print(pd.Series(ridge_after_cv.coef_, index = X_train.columns))"
   ]
  },
  {
   "cell_type": "markdown",
   "metadata": {},
   "source": [
    "#### With an ideal alpha we got from CV (0.05), the model score improved from 55.3% to 55.6%, now trying the Lasso"
   ]
  },
  {
   "cell_type": "markdown",
   "metadata": {},
   "source": [
    "#### we perform 10-fold cross-validation to choose the best alpha, refit the model, and compute the associated test error:\n"
   ]
  },
  {
   "cell_type": "code",
   "execution_count": 164,
   "metadata": {},
   "outputs": [],
   "source": [
    "X_train, X_test, Y_train, Y_test = train_test_split(tmc_sel_feat3, tmctarget3, test_size = 0.3,\\\n",
    "                                                    random_state=212)"
   ]
  },
  {
   "cell_type": "code",
   "execution_count": 165,
   "metadata": {},
   "outputs": [
    {
     "data": {
      "text/plain": [
       "4.3882656565979527e-05"
      ]
     },
     "execution_count": 165,
     "metadata": {},
     "output_type": "execute_result"
    }
   ],
   "source": [
    "lasso = Lasso(max_iter = 10000, normalize = True)\n",
    "lassocv = LassoCV(alphas = None, cv = 10, max_iter = 100000, normalize = True)\n",
    "lassocv.fit(X_train, Y_train)\n",
    "lassocv.alpha_"
   ]
  },
  {
   "cell_type": "code",
   "execution_count": 166,
   "metadata": {},
   "outputs": [
    {
     "name": "stdout",
     "output_type": "stream",
     "text": [
      "Lasso regression train score : 0.5527102219676321\n",
      "Lasso regression test score : 0.5568008722840254\n",
      "No. of features used: 29\n",
      "mean_squared_error: 0.5568008722840254\n"
     ]
    }
   ],
   "source": [
    "lasso.set_params(alpha=lassocv.alpha_)\n",
    "lasso.fit(X_train, Y_train)\n",
    "print(\"Lasso regression train score :\",lasso.score(X_train,Y_train))\n",
    "print(\"Lasso regression test score :\",lasso.score(X_test, Y_test))\n",
    "print(\"No. of features used:\", np.sum(lasso.coef_!=0))\n",
    "print(\"mean_squared_error:\",r2_score(Y_test, lasso.predict(X_test)))"
   ]
  },
  {
   "cell_type": "markdown",
   "metadata": {},
   "source": [
    "#### Here the Lasso's accuracy is similar to Ridge's (55.6%). So, proceeding with DTreeRegressor"
   ]
  },
  {
   "cell_type": "code",
   "execution_count": 167,
   "metadata": {},
   "outputs": [],
   "source": [
    "X_train, X_test, Y_train, Y_test = train_test_split(tmc_sel_feat3, tmctarget3, test_size = 0.3,\\\n",
    "                                                    random_state=212)"
   ]
  },
  {
   "cell_type": "code",
   "execution_count": 169,
   "metadata": {},
   "outputs": [
    {
     "name": "stdout",
     "output_type": "stream",
     "text": [
      "maxFeat, maxDepth, R-sqrd--> 28 15 0.5632035303197067\n",
      "maxFeat, maxDepth, R-sqrd--> 28 14 0.5628969013567426\n",
      "maxFeat, maxDepth, R-sqrd--> 28 13 0.5637619426294291\n",
      "maxFeat, maxDepth, R-sqrd--> 28 12 0.5602514116463722\n",
      "maxFeat, maxDepth, R-sqrd--> 28 11 0.5589744548692668\n",
      "maxFeat, maxDepth, R-sqrd--> 28 10 0.556762329845391\n",
      "maxFeat, maxDepth, R-sqrd--> 28 9 0.5558226367044059\n",
      "maxFeat, maxDepth, R-sqrd--> 27 15 0.5641116904815682\n",
      "maxFeat, maxDepth, R-sqrd--> 27 14 0.5619891550028775\n",
      "maxFeat, maxDepth, R-sqrd--> 27 13 0.5616804397650879\n",
      "maxFeat, maxDepth, R-sqrd--> 27 12 0.5618689015810916\n",
      "maxFeat, maxDepth, R-sqrd--> 27 11 0.5597004099150125\n",
      "maxFeat, maxDepth, R-sqrd--> 27 10 0.5558892114123335\n",
      "maxFeat, maxDepth, R-sqrd--> 27 9 0.554421131323251\n",
      "maxFeat, maxDepth, R-sqrd--> 26 15 0.5613686408056713\n",
      "maxFeat, maxDepth, R-sqrd--> 26 14 0.5635510600701495\n",
      "maxFeat, maxDepth, R-sqrd--> 26 13 0.5620001949350841\n",
      "maxFeat, maxDepth, R-sqrd--> 26 12 0.5616382243671447\n",
      "maxFeat, maxDepth, R-sqrd--> 26 11 0.5599619983895948\n",
      "maxFeat, maxDepth, R-sqrd--> 26 10 0.5596935935243514\n",
      "maxFeat, maxDepth, R-sqrd--> 26 9 0.5527181446638648\n",
      "maxFeat, maxDepth, R-sqrd--> 25 15 0.5631193860777072\n",
      "maxFeat, maxDepth, R-sqrd--> 25 14 0.5672114509485384\n",
      "maxFeat, maxDepth, R-sqrd--> 25 13 0.5630378517766267\n",
      "maxFeat, maxDepth, R-sqrd--> 25 12 0.5614162062620665\n",
      "maxFeat, maxDepth, R-sqrd--> 25 11 0.5600998844558068\n",
      "maxFeat, maxDepth, R-sqrd--> 25 10 0.5607071585000198\n",
      "maxFeat, maxDepth, R-sqrd--> 25 9 0.5547039225343608\n",
      "maxFeat, maxDepth, R-sqrd--> 24 15 0.5652290564799067\n",
      "maxFeat, maxDepth, R-sqrd--> 24 14 0.5631561958549887\n",
      "maxFeat, maxDepth, R-sqrd--> 24 13 0.5636964312213091\n",
      "maxFeat, maxDepth, R-sqrd--> 24 12 0.5649850300063606\n",
      "maxFeat, maxDepth, R-sqrd--> 24 11 0.5654064564242931\n",
      "maxFeat, maxDepth, R-sqrd--> 24 10 0.5572782897832033\n",
      "maxFeat, maxDepth, R-sqrd--> 24 9 0.5534503952309142\n",
      "maxFeat, maxDepth, R-sqrd--> 23 15 0.5641363606997634\n",
      "maxFeat, maxDepth, R-sqrd--> 23 14 0.5635660794418933\n",
      "maxFeat, maxDepth, R-sqrd--> 23 13 0.5632876483460874\n",
      "maxFeat, maxDepth, R-sqrd--> 23 12 0.5600732830783611\n",
      "maxFeat, maxDepth, R-sqrd--> 23 11 0.5585765235839748\n",
      "maxFeat, maxDepth, R-sqrd--> 23 10 0.5545934226197653\n",
      "maxFeat, maxDepth, R-sqrd--> 23 9 0.5531001011207355\n",
      "maxFeat, maxDepth, R-sqrd--> 22 15 0.5634787551801542\n",
      "maxFeat, maxDepth, R-sqrd--> 22 14 0.5624790768427927\n",
      "maxFeat, maxDepth, R-sqrd--> 22 13 0.5631055960472915\n",
      "maxFeat, maxDepth, R-sqrd--> 22 12 0.562562587262303\n",
      "maxFeat, maxDepth, R-sqrd--> 22 11 0.5613766943817202\n",
      "maxFeat, maxDepth, R-sqrd--> 22 10 0.5558480160149002\n",
      "maxFeat, maxDepth, R-sqrd--> 22 9 0.5504744558414028\n"
     ]
    }
   ],
   "source": [
    "for maxf in range(28,21,-1):\n",
    "    for maxd in range(15,8,-1):\n",
    "        tmc_tree = DecisionTreeRegressor(max_depth=maxd,max_features=maxf)\n",
    "        tmc_tree.fit(X_train,Y_train)\n",
    "        print(\"maxFeat, maxDepth, R-sqrd-->\",maxf,maxd,r2_score(Y_test, tmc_tree.predict(X_test)))"
   ]
  },
  {
   "cell_type": "markdown",
   "metadata": {},
   "source": [
    "#### From the above DecisionTreeRegressor iterations, the below parameters gives the max R-Sqrd value"
   ]
  },
  {
   "cell_type": "markdown",
   "metadata": {},
   "source": [
    "- maxFeat, maxDepth, R-sqrd--> 25 - 14  - 0.5672114509485384"
   ]
  },
  {
   "cell_type": "markdown",
   "metadata": {},
   "source": [
    "#### Building Model using RandomForests"
   ]
  },
  {
   "cell_type": "code",
   "execution_count": 170,
   "metadata": {},
   "outputs": [
    {
     "name": "stderr",
     "output_type": "stream",
     "text": [
      "C:\\Users\\ajayi\\AppData\\Local\\Continuum\\anaconda3\\lib\\site-packages\\sklearn\\ensemble\\forest.py:246: FutureWarning: The default value of n_estimators will change from 10 in version 0.20 to 100 in 0.22.\n",
      "  \"10 in version 0.20 to 100 in 0.22.\", FutureWarning)\n"
     ]
    },
    {
     "data": {
      "text/plain": [
       "RandomForestRegressor(bootstrap=True, criterion='mse', max_depth=None,\n",
       "           max_features='auto', max_leaf_nodes=None,\n",
       "           min_impurity_decrease=0.0, min_impurity_split=None,\n",
       "           min_samples_leaf=1, min_samples_split=2,\n",
       "           min_weight_fraction_leaf=0.0, n_estimators=10, n_jobs=None,\n",
       "           oob_score=False, random_state=212, verbose=0, warm_start=False)"
      ]
     },
     "execution_count": 170,
     "metadata": {},
     "output_type": "execute_result"
    }
   ],
   "source": [
    "from sklearn.ensemble import RandomForestRegressor\n",
    "X_train, X_test, Y_train, Y_test = train_test_split(tmc_sel_feat3, tmctarget3, test_size = 0.3,\\\n",
    "                                                    random_state=212)\n",
    "rfmodel= RandomForestRegressor(random_state=212)\n",
    "rfmodel.fit(X_train, Y_train)"
   ]
  },
  {
   "cell_type": "code",
   "execution_count": 171,
   "metadata": {},
   "outputs": [
    {
     "name": "stdout",
     "output_type": "stream",
     "text": [
      "Train Score -  0.6536536992113849\n",
      "Test Score -  0.5648659693548335\n",
      "R-Squared -  0.5648659693548335\n"
     ]
    }
   ],
   "source": [
    "print(\"Train Score - \",rfmodel.score(X_train,Y_train))\n",
    "print(\"Test Score - \",rfmodel.score(X_test,Y_test))\n",
    "print(\"R-Squared - \",r2_score(Y_test, rfmodel.predict(X_test)))"
   ]
  },
  {
   "cell_type": "markdown",
   "metadata": {},
   "source": [
    "#### Even the RandomForests have given an R-Sqrd value of 56.4, where 56.7% being the top accuracy given by DTree at maxFeat(25) , maxDepth(14)"
   ]
  },
  {
   "cell_type": "markdown",
   "metadata": {},
   "source": [
    "#### Trying to apply RandomForestRegressor for different no. of estimators in order to findout whether the accuracy increases or not"
   ]
  },
  {
   "cell_type": "code",
   "execution_count": 172,
   "metadata": {},
   "outputs": [],
   "source": [
    "rfmodel2 = RandomForestRegressor(n_jobs=-1)"
   ]
  },
  {
   "cell_type": "code",
   "execution_count": 173,
   "metadata": {},
   "outputs": [],
   "source": [
    "X_train, X_test, Y_train, Y_test = train_test_split(tmc_sel_feat3, tmctarget3, test_size = 0.3,\\\n",
    "                                                    random_state=212)"
   ]
  },
  {
   "cell_type": "code",
   "execution_count": 174,
   "metadata": {},
   "outputs": [
    {
     "data": {
      "text/plain": [
       "[<matplotlib.lines.Line2D at 0x1448ccda7b8>]"
      ]
     },
     "execution_count": 174,
     "metadata": {},
     "output_type": "execute_result"
    },
    {
     "data": {
      "image/png": "[encoded data removed]",
      "text/plain": [
       "<Figure size 864x1080 with 1 Axes>"
      ]
     },
     "metadata": {
      "needs_background": "light"
     },
     "output_type": "display_data"
    }
   ],
   "source": [
    "estimators = np.arange(10, 200, 10)\n",
    "scores = []\n",
    "for n in estimators:\n",
    "    rfmodel2.set_params(n_estimators=n)\n",
    "    rfmodel2.fit(X_train, Y_train)\n",
    "    scores.append(rfmodel2.score(X_test, Y_test))\n",
    "plt.title(\"Effect of n_estimators\")\n",
    "plt.xlabel(\"n_estimator\")\n",
    "plt.ylabel(\"score\")\n",
    "plt.plot(estimators, scores)"
   ]
  },
  {
   "cell_type": "code",
   "execution_count": 175,
   "metadata": {},
   "outputs": [
    {
     "data": {
      "text/plain": [
       "[0.5686515242199812,\n",
       " 0.568559885739407,\n",
       " 0.5685531916691284,\n",
       " 0.5684395768512372,\n",
       " 0.5682994013575982,\n",
       " 0.5682396997152552,\n",
       " 0.5681921882266106,\n",
       " 0.568045291025516,\n",
       " 0.5680402930172535,\n",
       " 0.5679384251897039,\n",
       " 0.5678876591682424,\n",
       " 0.5676503678184843,\n",
       " 0.5676464729894859,\n",
       " 0.567261745685212,\n",
       " 0.5671623316386329,\n",
       " 0.5668096823026036,\n",
       " 0.5661290073481754,\n",
       " 0.5652578284549787,\n",
       " 0.5635254755689799]"
      ]
     },
     "execution_count": 175,
     "metadata": {},
     "output_type": "execute_result"
    }
   ],
   "source": [
    "sorted(scores, reverse=True)"
   ]
  },
  {
   "cell_type": "markdown",
   "metadata": {},
   "source": [
    "#### The maximum test set score achieved by trying the Random forest with 10 - 190 estimators is 56.8%"
   ]
  },
  {
   "cell_type": "markdown",
   "metadata": {},
   "source": [
    "#### Modellingwith randomised RandomForestRegressor"
   ]
  },
  {
   "cell_type": "code",
   "execution_count": 184,
   "metadata": {},
   "outputs": [],
   "source": [
    "X_train, X_test, Y_train, Y_test = train_test_split(tmc_sel_feat3, tmctarget3, test_size = 0.3,\\\n",
    "                                                    random_state=212)"
   ]
  },
  {
   "cell_type": "code",
   "execution_count": 185,
   "metadata": {},
   "outputs": [
    {
     "name": "stdout",
     "output_type": "stream",
     "text": [
      "{'max_depth': [1, 23, 45],\n",
      " 'max_features': ['auto', 'sqrt'],\n",
      " 'min_samples_split': [5, 10],\n",
      " 'n_estimators': [20, 65, 110, 155, 200]}\n"
     ]
    }
   ],
   "source": [
    "#Randomised search\n",
    "\n",
    "from sklearn.model_selection import RandomizedSearchCV\n",
    "from pprint import pprint\n",
    "\n",
    "n_estimators = [int(x) for x in np.linspace(start = 20, stop = 200, num = 5)]\n",
    "max_features = ['auto', 'sqrt']\n",
    "max_depth = [int(x) for x in np.linspace(1, 45, num = 3)]\n",
    "min_samples_split = [5, 10]\n",
    "\n",
    "random_grid = {'n_estimators': n_estimators,\n",
    "               'max_features': max_features,\n",
    "               'max_depth': max_depth,\n",
    "               'min_samples_split': min_samples_split}\n",
    "\n",
    "pprint(random_grid)"
   ]
  },
  {
   "cell_type": "code",
   "execution_count": 186,
   "metadata": {},
   "outputs": [
    {
     "name": "stdout",
     "output_type": "stream",
     "text": [
      "Fitting 10 folds for each of 10 candidates, totalling 100 fits\n"
     ]
    },
    {
     "name": "stderr",
     "output_type": "stream",
     "text": [
      "[Parallel(n_jobs=-1)]: Using backend LokyBackend with 8 concurrent workers.\n",
      "[Parallel(n_jobs=-1)]: Done  25 tasks      | elapsed:   11.6s\n",
      "[Parallel(n_jobs=-1)]: Done 100 out of 100 | elapsed:  1.9min finished\n"
     ]
    },
    {
     "data": {
      "text/plain": [
       "RandomizedSearchCV(cv=10, error_score='raise-deprecating',\n",
       "          estimator=RandomForestRegressor(bootstrap=True, criterion='mse', max_depth=None,\n",
       "           max_features='auto', max_leaf_nodes=None,\n",
       "           min_impurity_decrease=0.0, min_impurity_split=None,\n",
       "           min_samples_leaf=1, min_samples_split=2,\n",
       "           min_weight_fraction_leaf=0.0, n_estimators=10, n_jobs=None,\n",
       "           oob_score=False, random_state=212, verbose=0, warm_start=False),\n",
       "          fit_params=None, iid='warn', n_iter=10, n_jobs=-1,\n",
       "          param_distributions={'n_estimators': [20, 65, 110, 155, 200], 'max_features': ['auto', 'sqrt'], 'max_depth': [1, 23, 45], 'min_samples_split': [5, 10]},\n",
       "          pre_dispatch='2*n_jobs', random_state=42, refit=True,\n",
       "          return_train_score='warn', scoring='neg_mean_squared_error',\n",
       "          verbose=2)"
      ]
     },
     "execution_count": 186,
     "metadata": {},
     "output_type": "execute_result"
    }
   ],
   "source": [
    "rf_random = RandomizedSearchCV(estimator = rfmodel, param_distributions = random_grid, n_iter = 10, cv = 10, verbose=2, random_state=42, n_jobs = -1, scoring='neg_mean_squared_error')\n",
    "rf_random.fit(X_train, Y_train)"
   ]
  },
  {
   "cell_type": "code",
   "execution_count": 187,
   "metadata": {},
   "outputs": [
    {
     "name": "stdout",
     "output_type": "stream",
     "text": [
      "9.287357573581046 {'n_estimators': 20, 'min_samples_split': 5, 'max_features': 'auto', 'max_depth': 1}\n",
      "9.287357573581046 {'n_estimators': 20, 'min_samples_split': 10, 'max_features': 'auto', 'max_depth': 1}\n",
      "8.017886115760012 {'n_estimators': 65, 'min_samples_split': 10, 'max_features': 'sqrt', 'max_depth': 23}\n",
      "8.114749513499897 {'n_estimators': 20, 'min_samples_split': 10, 'max_features': 'auto', 'max_depth': 45}\n",
      "11.441120957584204 {'n_estimators': 155, 'min_samples_split': 5, 'max_features': 'sqrt', 'max_depth': 1}\n",
      "8.187181218654747 {'n_estimators': 200, 'min_samples_split': 5, 'max_features': 'sqrt', 'max_depth': 45}\n",
      "8.071243169783767 {'n_estimators': 155, 'min_samples_split': 5, 'max_features': 'sqrt', 'max_depth': 23}\n",
      "8.098537972325008 {'n_estimators': 155, 'min_samples_split': 10, 'max_features': 'auto', 'max_depth': 45}\n",
      "11.587006504027736 {'n_estimators': 110, 'min_samples_split': 5, 'max_features': 'sqrt', 'max_depth': 1}\n",
      "8.086704112372935 {'n_estimators': 110, 'min_samples_split': 10, 'max_features': 'sqrt', 'max_depth': 45}\n"
     ]
    }
   ],
   "source": [
    "cvres2 = rf_random.cv_results_\n",
    "for mean_score, params in zip(cvres2[\"mean_test_score\"], cvres2[\"params\"]):\n",
    "    print(np.sqrt(-mean_score), params)"
   ]
  },
  {
   "cell_type": "code",
   "execution_count": 188,
   "metadata": {},
   "outputs": [
    {
     "data": {
      "text/plain": [
       "RandomForestRegressor(bootstrap=True, criterion='mse', max_depth=23,\n",
       "           max_features='sqrt', max_leaf_nodes=None,\n",
       "           min_impurity_decrease=0.0, min_impurity_split=None,\n",
       "           min_samples_leaf=1, min_samples_split=10,\n",
       "           min_weight_fraction_leaf=0.0, n_estimators=65, n_jobs=None,\n",
       "           oob_score=False, random_state=212, verbose=0, warm_start=False)"
      ]
     },
     "execution_count": 188,
     "metadata": {},
     "output_type": "execute_result"
    }
   ],
   "source": [
    "rf_random.best_estimator_"
   ]
  },
  {
   "cell_type": "code",
   "execution_count": 189,
   "metadata": {},
   "outputs": [
    {
     "data": {
      "text/plain": [
       "{'n_estimators': 65,\n",
       " 'min_samples_split': 10,\n",
       " 'max_features': 'sqrt',\n",
       " 'max_depth': 23}"
      ]
     },
     "execution_count": 189,
     "metadata": {},
     "output_type": "execute_result"
    }
   ],
   "source": [
    "rf_random.best_params_"
   ]
  },
  {
   "cell_type": "code",
   "execution_count": 190,
   "metadata": {},
   "outputs": [
    {
     "name": "stdout",
     "output_type": "stream",
     "text": [
      "The best model from the randomized search has an accuracy of 82.86 %\n"
     ]
    }
   ],
   "source": [
    "random_best= rf_random.best_estimator_.predict(X_train)\n",
    "errors = abs(random_best - Y_train)\n",
    "\n",
    "mape = np.mean(100 * (errors / Y_train))\n",
    "accuracy = 100 - mape    \n",
    "print('The best model from the randomized search has an accuracy of', round(accuracy, 2),'%')"
   ]
  },
  {
   "cell_type": "code",
   "execution_count": 191,
   "metadata": {},
   "outputs": [
    {
     "name": "stdout",
     "output_type": "stream",
     "text": [
      "The best model from the randomized search has a RMSE of 7.44\n"
     ]
    }
   ],
   "source": [
    "final_mse = mean_squared_error(Y_train, random_best)\n",
    "final_rmse = np.sqrt(final_mse)\n",
    "print('The best model from the randomized search has a RMSE of', round(final_rmse, 2))"
   ]
  },
  {
   "cell_type": "markdown",
   "metadata": {},
   "source": [
    "#### Feature Importance"
   ]
  },
  {
   "cell_type": "code",
   "execution_count": 192,
   "metadata": {},
   "outputs": [
    {
     "name": "stdout",
     "output_type": "stream",
     "text": [
      "    importance         feature\n",
      "0     0.648874  Full_Price_Ind\n",
      "1     0.103900     Total_Units\n",
      "2     0.033348   season_spring\n",
      "3     0.032160  Dsubclass_1241\n",
      "4     0.023790  Dsubclass_1041\n",
      "5     0.021694  Dsubclass_1240\n",
      "6     0.021406  Dsubclass_1020\n",
      "7     0.015916   season_winter\n",
      "8     0.010641  Dsubclass_1242\n",
      "9     0.010325     season_fall\n",
      "10    0.008858  Dsubclass_1031\n",
      "11    0.008063  Dsubclass_1050\n",
      "12    0.007391  Dsubclass_1051\n",
      "13    0.006552  Dsubclass_1220\n",
      "14    0.005342  Dsubclass_1052\n",
      "15    0.004667   Dsubclass_106\n",
      "16    0.004331  Dsubclass_1042\n",
      "17    0.003736  Dsubclass_1021\n",
      "18    0.003642  Dsubclass_1230\n",
      "19    0.003166  Dsubclass_1030\n",
      "20    0.002903  Dsubclass_1040\n",
      "21    0.002719   Dsubclass_105\n",
      "22    0.002676  Dsubclass_1232\n",
      "23    0.002524  Dsubclass_1251\n",
      "24    0.002327   Dsubclass_125\n",
      "25    0.002300  Dsubclass_1231\n",
      "26    0.001930  Dsubclass_1221\n",
      "27    0.001898  Dsubclass_1250\n",
      "28    0.001563  Dsubclass_1032\n",
      "29    0.001358   Dsubclass_126\n"
     ]
    }
   ],
   "source": [
    "importances = rf_random.best_estimator_.feature_importances_\n",
    "X = tmc_sel_feat4\n",
    "feature_list = list(X.columns)\n",
    "feature_importance= sorted(zip(importances, feature_list), reverse=True)\n",
    "df = pd.DataFrame(feature_importance, columns=['importance', 'feature'])\n",
    "importance= list(df['importance'])\n",
    "feature= list(df['feature'])\n",
    "print(df)"
   ]
  },
  {
   "cell_type": "code",
   "execution_count": 193,
   "metadata": {},
   "outputs": [
    {
     "data": {
      "text/plain": [
       "Text(0.5,1,'Variable Importances')"
      ]
     },
     "execution_count": 193,
     "metadata": {},
     "output_type": "execute_result"
    },
    {
     "data": {
      "image/png": "[encoded data removed]",
      "text/plain": [
       "<Figure size 1080x720 with 1 Axes>"
      ]
     },
     "metadata": {
      "needs_background": "light"
     },
     "output_type": "display_data"
    }
   ],
   "source": [
    "plt.style.use('bmh')\n",
    "x_values = list(range(len(feature_importance)))\n",
    "plt.figure(figsize=(15,10))\n",
    "plt.bar(x_values, importance, orientation = 'vertical')\n",
    "plt.xticks(x_values, feature, rotation='vertical')\n",
    "plt.ylabel('Importance'); plt.xlabel('Variable'); plt.title('Variable Importances')"
   ]
  },
  {
   "cell_type": "code",
   "execution_count": 194,
   "metadata": {},
   "outputs": [
    {
     "name": "stdout",
     "output_type": "stream",
     "text": [
      "The final RMSE on the test set is 7.96\n"
     ]
    }
   ],
   "source": [
    "final_model = rf_random.best_estimator_\n",
    "final_pred = final_model.predict(X_test)\n",
    "final_mse = mean_squared_error(Y_test, final_pred)\n",
    "final_rmse = np.sqrt(final_mse)\n",
    "print('The final RMSE on the test set is', round(final_rmse, 2))"
   ]
  },
  {
   "cell_type": "code",
   "execution_count": 195,
   "metadata": {},
   "outputs": [
    {
     "name": "stdout",
     "output_type": "stream",
     "text": [
      "The best model achieves on the test set an accuracy of 81.36 %\n"
     ]
    }
   ],
   "source": [
    "errors = abs(final_pred - Y_test)\n",
    "mape = np.mean(100 * (errors / Y_test))\n",
    "accuracy = 100 - mape    \n",
    "print('The best model achieves on the test set an accuracy of', round(accuracy, 2),'%')"
   ]
  },
  {
   "cell_type": "code",
   "execution_count": null,
   "metadata": {},
   "outputs": [],
   "source": []
  }
 ],
 "metadata": {
  "kernelspec": {
   "display_name": "Python 3",
   "language": "python",
   "name": "python3"
  },
  "language_info": {
   "codemirror_mode": {
    "name": "ipython",
    "version": 3
   },
   "file_extension": ".py",
   "mimetype": "text/x-python",
   "name": "python",
   "nbconvert_exporter": "python",
   "pygments_lexer": "ipython3",
   "version": "3.7.0"
  }
 },
 "nbformat": 4,
 "nbformat_minor": 2
}
